{
  "nbformat": 4,
  "nbformat_minor": 0,
  "metadata": {
    "colab": {
      "provenance": [],
      "authorship_tag": "ABX9TyNA7NpPBds17PETFOj7NgOx",
      "include_colab_link": true
    },
    "kernelspec": {
      "name": "python3",
      "display_name": "Python 3"
    },
    "language_info": {
      "name": "python"
    }
  },
  "cells": [
    {
      "cell_type": "markdown",
      "metadata": {
        "id": "view-in-github",
        "colab_type": "text"
      },
      "source": [
        "<a href=\"https://colab.research.google.com/github/kareemullah123456789/big_data_advanced/blob/main/section_4_broadcast_canada.ipynb\" target=\"_parent\"><img src=\"https://colab.research.google.com/assets/colab-badge.svg\" alt=\"Open In Colab\"/></a>"
      ]
    },
    {
      "cell_type": "code",
      "source": [
        " from pyspark.sql import SparkSession\n",
        " import pyspark.sql.functions as F\n",
        " spark = SparkSession.builder.getOrCreate()"
      ],
      "metadata": {
        "id": "UxRzNaqILSHm"
      },
      "execution_count": 1,
      "outputs": []
    },
    {
      "cell_type": "code",
      "source": [
        "my_grocery_list = [\n",
        "    [\"Banana\", 2, 1.74],\n",
        "    [\"Apple\", 4, 2.04],\n",
        "    [\"Carrot\", 1, 1.09],\n",
        "    [\"Cake\", 1, 10.99],\n",
        " ]"
      ],
      "metadata": {
        "id": "MnmSJWI6LRsj"
      },
      "execution_count": 2,
      "outputs": []
    },
    {
      "cell_type": "code",
      "source": [
        "df_grocery_list = spark.createDataFrame(\n",
        "    my_grocery_list, [\"Item\", \"Quantity\", \"Price\"]\n",
        " )"
      ],
      "metadata": {
        "id": "WPkIjyrOLuU7"
      },
      "execution_count": 3,
      "outputs": []
    },
    {
      "cell_type": "code",
      "source": [
        "df_grocery_list.printSchema()"
      ],
      "metadata": {
        "colab": {
          "base_uri": "https://localhost:8080/"
        },
        "id": "stLHFNTcLuYU",
        "outputId": "2c4027de-7231-4a4b-9a68-54a2bd6e7e1b"
      },
      "execution_count": 4,
      "outputs": [
        {
          "output_type": "stream",
          "name": "stdout",
          "text": [
            "root\n",
            " |-- Item: string (nullable = true)\n",
            " |-- Quantity: long (nullable = true)\n",
            " |-- Price: double (nullable = true)\n",
            "\n"
          ]
        }
      ]
    },
    {
      "cell_type": "code",
      "source": [],
      "metadata": {
        "id": "XPHhYR3HLubP"
      },
      "execution_count": null,
      "outputs": []
    },
    {
      "cell_type": "code",
      "source": [],
      "metadata": {
        "id": "VjsDkJAyLudV"
      },
      "execution_count": null,
      "outputs": []
    },
    {
      "cell_type": "code",
      "execution_count": 5,
      "metadata": {
        "colab": {
          "base_uri": "https://localhost:8080/"
        },
        "id": "ezh3vlRLFKiE",
        "outputId": "6dc556ae-b3e8-47c3-dbb2-bb6dbc2d088c"
      },
      "outputs": [
        {
          "output_type": "stream",
          "name": "stdout",
          "text": [
            "Mounted at /content/drive\n"
          ]
        }
      ],
      "source": [
        "from google.colab import drive\n",
        "drive.mount('/content/drive')\n"
      ]
    },
    {
      "cell_type": "code",
      "source": [
        "!ls /content/drive/MyDrive/cde_data/broadcast_logs\n",
        "\n",
        "\n",
        "# Example: accessing a file\n",
        "#file_path = '/content/drive/MyDrive/cde_data/broadcast_logs/your_file.csv'\n"
      ],
      "metadata": {
        "colab": {
          "base_uri": "https://localhost:8080/"
        },
        "id": "MMg5ar73Fa7u",
        "outputId": "bbba53af-ce0f-4617-9117-4ca6754c6fbd"
      },
      "execution_count": 6,
      "outputs": [
        {
          "output_type": "stream",
          "name": "stdout",
          "text": [
            " BroadcastLogs_2018_Q3_M8_sample.CSV  'data dictionary.doc'\n",
            " Call_Signs.csv\t\t\t       ReferenceTables\n"
          ]
        }
      ]
    },
    {
      "cell_type": "code",
      "source": [
        "!ls /content/drive/MyDrive/cde_data/broadcast_logs"
      ],
      "metadata": {
        "colab": {
          "base_uri": "https://localhost:8080/"
        },
        "id": "0OoLX3w6IDVD",
        "outputId": "aeb97362-283f-402e-c75d-b124c686bf4d"
      },
      "execution_count": 18,
      "outputs": [
        {
          "output_type": "stream",
          "name": "stdout",
          "text": [
            " BroadcastLogs_2018_Q3_M8_sample.CSV  'data dictionary.doc'\n",
            " Call_Signs.csv\t\t\t       ReferenceTables\n"
          ]
        }
      ]
    },
    {
      "cell_type": "code",
      "source": [
        "\"\"\"Checkpoint code for the book Data Analysis with Python and PySpark, Chapter 4.\"\"\"\n",
        "\n",
        "import os\n",
        "from pyspark.sql import SparkSession\n",
        "import pyspark.sql.functions as F\n",
        "\n",
        "spark = SparkSession.builder.getOrCreate()\n",
        "\n",
        "DIRECTORY = \"/content/drive/MyDrive/cde_data/broadcast_logs\"\n",
        "logs = (\n",
        "    spark.read.csv(\n",
        "        os.path.join(DIRECTORY, \"BroadcastLogs_2018_Q3_M8_sample.CSV\"),\n",
        "        sep=\"|\",\n",
        "        header=True,\n",
        "        inferSchema=True,\n",
        "        timestampFormat=\"yyyy-MM-dd\",\n",
        "    )\n",
        "    .drop(\"BroadcastLogID\", \"SequenceNO\")\n",
        "    .withColumn(\n",
        "        \"duration_seconds\",\n",
        "        (\n",
        "            F.col(\"Duration\").substr(1, 2).cast(\"int\") * 60 * 60\n",
        "            + F.col(\"Duration\").substr(4, 2).cast(\"int\") * 60\n",
        "            + F.col(\"Duration\").substr(7, 2).cast(\"int\")\n",
        "        ),\n",
        "    )\n",
        ")\n",
        "\n",
        "logs.show()"
      ],
      "metadata": {
        "colab": {
          "base_uri": "https://localhost:8080/"
        },
        "id": "noyMI8EHFQil",
        "outputId": "2bbf9dc2-ff3c-434e-c9c2-058ce8cc9c38"
      },
      "execution_count": 7,
      "outputs": [
        {
          "output_type": "stream",
          "name": "stdout",
          "text": [
            "+------------+----------+-------------------+----------------------+----------+---------------+-----------------+----------------+---------------+------------------+--------------+--------------------+------------+----------------+----------------+------------+------------+--------------------+----------------+--------+--------------------+------------------+----------------------+-------------+---------+---------+---------+---------+----------------+\n",
            "|LogServiceID|   LogDate|AudienceTargetAgeID|AudienceTargetEthnicID|CategoryID|ClosedCaptionID|CountryOfOriginID|DubDramaCreditID|EthnicProgramID|ProductionSourceID|ProgramClassID|FilmClassificationID|ExhibitionID|        Duration|         EndTime|LogEntryDate|ProductionNO|        ProgramTitle|       StartTime|Subtitle|NetworkAffiliationID|SpecialAttentionID|BroadcastOriginPointID|CompositionID|Producer1|Producer2|Language1|Language2|duration_seconds|\n",
            "+------------+----------+-------------------+----------------------+----------+---------------+-----------------+----------------+---------------+------------------+--------------+--------------------+------------+----------------+----------------+------------+------------+--------------------+----------------+--------+--------------------+------------------+----------------------+-------------+---------+---------+---------+---------+----------------+\n",
            "|        3157|2018-08-01|                  4|                  NULL|        13|              3|                3|            NULL|           NULL|                10|            19|                NULL|           2|02:00:00.0000000|08:00:00.0000000|  2018-08-01|      A39082|   Newlywed and Dead|06:00:00.0000000|    NULL|                NULL|              NULL|                  NULL|         NULL|     NULL|     NULL|       94|     NULL|            7200|\n",
            "|        3157|2018-08-01|               NULL|                  NULL|      NULL|              1|             NULL|            NULL|           NULL|              NULL|            20|                NULL|        NULL|00:00:30.0000000|06:13:45.0000000|  2018-08-01|        NULL|15-SPECIALTY CHAN...|06:13:15.0000000|    NULL|                NULL|              NULL|                  NULL|         NULL|     NULL|     NULL|     NULL|     NULL|              30|\n",
            "|        3157|2018-08-01|               NULL|                  NULL|      NULL|              1|             NULL|            NULL|           NULL|              NULL|             3|                NULL|        NULL|00:00:15.0000000|06:14:00.0000000|  2018-08-01|        NULL|3-PROCTER & GAMBL...|06:13:45.0000000|    NULL|                NULL|              NULL|                  NULL|         NULL|     NULL|     NULL|     NULL|     NULL|              15|\n",
            "|        3157|2018-08-01|               NULL|                  NULL|      NULL|              1|             NULL|            NULL|           NULL|              NULL|             3|                NULL|        NULL|00:00:15.0000000|06:14:15.0000000|  2018-08-01|        NULL|12-CREDIT KARMA-B...|06:14:00.0000000|    NULL|                NULL|              NULL|                  NULL|         NULL|     NULL|     NULL|     NULL|     NULL|              15|\n",
            "|        3157|2018-08-01|               NULL|                  NULL|      NULL|              1|             NULL|            NULL|           NULL|              NULL|             3|                NULL|        NULL|00:00:15.0000000|06:14:30.0000000|  2018-08-01|        NULL|3-L'OREAL CANADA-...|06:14:15.0000000|    NULL|                NULL|              NULL|                  NULL|         NULL|     NULL|     NULL|     NULL|     NULL|              15|\n",
            "|        3157|2018-08-01|               NULL|                  NULL|      NULL|              1|             NULL|            NULL|           NULL|              NULL|             3|                NULL|        NULL|00:00:15.0000000|06:14:45.0000000|  2018-08-01|        NULL|11-YUM! BRANDS-Ch...|06:14:30.0000000|    NULL|                NULL|              NULL|                  NULL|         NULL|     NULL|     NULL|     NULL|     NULL|              15|\n",
            "|        3157|2018-08-01|               NULL|                  NULL|      NULL|              1|             NULL|            NULL|           NULL|              NULL|             3|                NULL|        NULL|00:00:30.0000000|06:15:16.0000000|  2018-08-01|        NULL|2-PIER 1 IMPORTS ...|06:14:46.0000000|    NULL|                NULL|              NULL|                  NULL|         NULL|     NULL|     NULL|     NULL|     NULL|              30|\n",
            "|        3157|2018-08-01|               NULL|                  NULL|      NULL|              1|             NULL|            NULL|           NULL|              NULL|             3|                NULL|        NULL|00:00:15.0000000|06:15:31.0000000|  2018-08-01|        NULL|3-HAVAS EDGE-Trav...|06:15:16.0000000|    NULL|                NULL|              NULL|                  NULL|         NULL|     NULL|     NULL|     NULL|     NULL|              15|\n",
            "|        3157|2018-08-01|               NULL|                  NULL|      NULL|              1|             NULL|            NULL|           NULL|              NULL|             3|                NULL|        NULL|00:00:15.0000000|06:15:46.0000000|  2018-08-01|        NULL|2-AUTOTRADER-Inte...|06:15:31.0000000|    NULL|                NULL|              NULL|                  NULL|         NULL|     NULL|     NULL|     NULL|     NULL|              15|\n",
            "|        3157|2018-08-01|               NULL|                  NULL|      NULL|              1|             NULL|            NULL|           NULL|              NULL|             3|                NULL|        NULL|00:00:15.0000000|06:16:01.0000000|  2018-08-01|        NULL|11-SLEEP COUNTRY ...|06:15:46.0000000|    NULL|                NULL|              NULL|                  NULL|         NULL|     NULL|     NULL|     NULL|     NULL|              15|\n",
            "|        3157|2018-08-01|               NULL|                  NULL|      NULL|              1|             NULL|            NULL|           NULL|              NULL|             3|                NULL|        NULL|00:00:15.0000000|06:16:16.0000000|  2018-08-01|        NULL|11-GENERAL MILLS ...|06:16:01.0000000|    NULL|                NULL|              NULL|                  NULL|         NULL|     NULL|     NULL|     NULL|     NULL|              15|\n",
            "|        3157|2018-08-01|               NULL|                  NULL|      NULL|              1|             NULL|            NULL|           NULL|              NULL|             3|                NULL|        NULL|00:00:30.0000000|06:16:46.0000000|  2018-08-01|        NULL|11-PROCTER & GAMB...|06:16:16.0000000|    NULL|                NULL|              NULL|                  NULL|         NULL|     NULL|     NULL|     NULL|     NULL|              30|\n",
            "|        3157|2018-08-01|               NULL|                  NULL|      NULL|              1|             NULL|            NULL|           NULL|              NULL|            20|                NULL|        NULL|00:00:30.0000000|06:25:56.0000000|  2018-08-01|        NULL|15-SPECIALTY CHAN...|06:25:26.0000000|    NULL|                NULL|              NULL|                  NULL|         NULL|     NULL|     NULL|     NULL|     NULL|              30|\n",
            "|        3157|2018-08-01|               NULL|                  NULL|      NULL|              1|             NULL|            NULL|           NULL|              NULL|             3|                NULL|        NULL|00:00:15.0000000|06:26:11.0000000|  2018-08-01|        NULL|11-PROCTER & GAMB...|06:25:56.0000000|    NULL|                NULL|              NULL|                  NULL|         NULL|     NULL|     NULL|     NULL|     NULL|              15|\n",
            "|        3157|2018-08-01|               NULL|                  NULL|      NULL|              1|             NULL|            NULL|           NULL|              NULL|             3|                NULL|        NULL|00:00:15.0000000|06:26:26.0000000|  2018-08-01|        NULL|11-LABATT BREWERI...|06:26:11.0000000|    NULL|                NULL|              NULL|                  NULL|         NULL|     NULL|     NULL|     NULL|     NULL|              15|\n",
            "|        3157|2018-08-01|               NULL|                  NULL|      NULL|              1|             NULL|            NULL|           NULL|              NULL|             3|                NULL|        NULL|00:00:15.0000000|06:26:41.0000000|  2018-08-01|        NULL|2-IKEA CANADA LTD...|06:26:26.0000000|    NULL|                NULL|              NULL|                  NULL|         NULL|     NULL|     NULL|     NULL|     NULL|              15|\n",
            "|        3157|2018-08-01|               NULL|                  NULL|      NULL|              1|             NULL|            NULL|           NULL|              NULL|             3|                NULL|        NULL|00:00:15.0000000|06:26:57.0000000|  2018-08-01|        NULL|11-WAL-MART CANAD...|06:26:42.0000000|    NULL|                NULL|              NULL|                  NULL|         NULL|     NULL|     NULL|     NULL|     NULL|              15|\n",
            "|        3157|2018-08-01|               NULL|                  NULL|      NULL|              1|             NULL|            NULL|           NULL|              NULL|             3|                NULL|        NULL|00:00:15.0000000|06:27:12.0000000|  2018-08-01|        NULL|2-AUTOTRADER-Inte...|06:26:57.0000000|    NULL|                NULL|              NULL|                  NULL|         NULL|     NULL|     NULL|     NULL|     NULL|              15|\n",
            "|        3157|2018-08-01|               NULL|                  NULL|      NULL|              1|             NULL|            NULL|           NULL|              NULL|             3|                NULL|        NULL|00:01:00.0000000|06:28:12.0000000|  2018-08-01|        NULL|12-COMWAVE TELECO...|06:27:12.0000000|    NULL|                NULL|              NULL|                  NULL|         NULL|     NULL|     NULL|     NULL|     NULL|              60|\n",
            "|        3157|2018-08-01|               NULL|                  NULL|      NULL|              1|             NULL|            NULL|           NULL|              NULL|             3|                NULL|        NULL|00:00:15.0000000|06:28:27.0000000|  2018-08-01|        NULL|11-L'OREAL CANADA...|06:28:12.0000000|    NULL|                NULL|              NULL|                  NULL|         NULL|     NULL|     NULL|     NULL|     NULL|              15|\n",
            "+------------+----------+-------------------+----------------------+----------+---------------+-----------------+----------------+---------------+------------------+--------------+--------------------+------------+----------------+----------------+------------+------------+--------------------+----------------+--------+--------------------+------------------+----------------------+-------------+---------+---------+---------+---------+----------------+\n",
            "only showing top 20 rows\n",
            "\n"
          ]
        }
      ]
    },
    {
      "cell_type": "code",
      "source": [
        "!ls /content/drive/MyDrive/cde_data/broadcast_logs"
      ],
      "metadata": {
        "colab": {
          "base_uri": "https://localhost:8080/"
        },
        "id": "YKGD7CcrIMPb",
        "outputId": "0ff9b25b-8436-4e07-dd74-497d3d60de49"
      },
      "execution_count": 20,
      "outputs": [
        {
          "output_type": "stream",
          "name": "stdout",
          "text": [
            " BroadcastLogs_2018_Q3_M8_sample.CSV  'data dictionary.doc'\n",
            " Call_Signs.csv\t\t\t       ReferenceTables\n"
          ]
        }
      ]
    },
    {
      "cell_type": "code",
      "source": [
        "#  commercials.py #############################################################\n",
        "#\n",
        "# This program computes the commercial ratio for each channel present in the\n",
        "# dataset.\n",
        "#\n",
        "###############################################################################\n",
        "\n",
        "import os\n",
        "\n",
        "import pyspark.sql.functions as F\n",
        "from pyspark.sql import SparkSession\n",
        "\n",
        "spark = SparkSession.builder.appName(\n",
        "    \"Getting the Canadian TV channels with the highest/lowest proportion of commercials.\"\n",
        ").getOrCreate()\n",
        "\n",
        "spark.sparkContext.setLogLevel(\"WARN\")\n",
        "\n",
        "###############################################################################\n",
        "# Reading all the relevant data sources\n",
        "###############################################################################\n",
        "\n",
        "DIRECTORY = \"/content/drive/MyDrive/cde_data/broadcast_logs\"\n",
        "\n",
        "logs = spark.read.csv(\n",
        "    os.path.join(DIRECTORY, \"BroadcastLogs_2018_Q3_M8_sample.CSV\"),\n",
        "    sep=\"|\",\n",
        "    header=True,\n",
        "    inferSchema=True,\n",
        ")\n",
        "logs.printSchema()\n"
      ],
      "metadata": {
        "colab": {
          "base_uri": "https://localhost:8080/"
        },
        "id": "UgghJIg0FQl_",
        "outputId": "918f2bcc-1c5d-457d-8d38-311f846e3aee"
      },
      "execution_count": 8,
      "outputs": [
        {
          "output_type": "stream",
          "name": "stdout",
          "text": [
            "root\n",
            " |-- BroadcastLogID: integer (nullable = true)\n",
            " |-- LogServiceID: integer (nullable = true)\n",
            " |-- LogDate: date (nullable = true)\n",
            " |-- SequenceNO: integer (nullable = true)\n",
            " |-- AudienceTargetAgeID: integer (nullable = true)\n",
            " |-- AudienceTargetEthnicID: integer (nullable = true)\n",
            " |-- CategoryID: integer (nullable = true)\n",
            " |-- ClosedCaptionID: integer (nullable = true)\n",
            " |-- CountryOfOriginID: integer (nullable = true)\n",
            " |-- DubDramaCreditID: integer (nullable = true)\n",
            " |-- EthnicProgramID: integer (nullable = true)\n",
            " |-- ProductionSourceID: integer (nullable = true)\n",
            " |-- ProgramClassID: integer (nullable = true)\n",
            " |-- FilmClassificationID: integer (nullable = true)\n",
            " |-- ExhibitionID: integer (nullable = true)\n",
            " |-- Duration: timestamp (nullable = true)\n",
            " |-- EndTime: timestamp (nullable = true)\n",
            " |-- LogEntryDate: date (nullable = true)\n",
            " |-- ProductionNO: string (nullable = true)\n",
            " |-- ProgramTitle: string (nullable = true)\n",
            " |-- StartTime: timestamp (nullable = true)\n",
            " |-- Subtitle: string (nullable = true)\n",
            " |-- NetworkAffiliationID: integer (nullable = true)\n",
            " |-- SpecialAttentionID: integer (nullable = true)\n",
            " |-- BroadcastOriginPointID: integer (nullable = true)\n",
            " |-- CompositionID: integer (nullable = true)\n",
            " |-- Producer1: string (nullable = true)\n",
            " |-- Producer2: string (nullable = true)\n",
            " |-- Language1: integer (nullable = true)\n",
            " |-- Language2: integer (nullable = true)\n",
            "\n"
          ]
        }
      ]
    },
    {
      "cell_type": "code",
      "source": [
        "log_identifier = spark.read.csv(\n",
        "    \"/content/drive/MyDrive/cde_data/broadcast_logs/ReferenceTables/LogIdentifier.csv\",\n",
        "    sep=\"|\",\n",
        "    header=True,\n",
        "    inferSchema=True,\n",
        ")\n",
        "\n",
        "log_identifier.show()"
      ],
      "metadata": {
        "colab": {
          "base_uri": "https://localhost:8080/"
        },
        "id": "RFM3V1tkJBtz",
        "outputId": "392ce98f-1650-4d5c-9687-7cc75b79bec2"
      },
      "execution_count": 9,
      "outputs": [
        {
          "output_type": "stream",
          "name": "stdout",
          "text": [
            "+---------------+------------+---------+\n",
            "|LogIdentifierID|LogServiceID|PrimaryFG|\n",
            "+---------------+------------+---------+\n",
            "|           13ST|        3157|        1|\n",
            "|         2000SM|        3466|        1|\n",
            "|           70SM|        3883|        1|\n",
            "|           80SM|        3590|        1|\n",
            "|           90SM|        3470|        1|\n",
            "|         9DAPTN|        3158|        1|\n",
            "|         9DCFCF|        3159|        1|\n",
            "|         9DCFRN|        3160|        1|\n",
            "|         9DCHRO|        3161|        1|\n",
            "|         9DCIVI|        3162|        1|\n",
            "|         9DCJCH|        3163|        1|\n",
            "|         9DCJOH|        3164|        1|\n",
            "|         9DCKCK|        3165|        1|\n",
            "|         9DCKCW|        3166|        1|\n",
            "|         9DCKVR|        3167|        1|\n",
            "|          9DCKY|        3168|        1|\n",
            "|         9DLEAF|        3169|        1|\n",
            "|          9DMC2|        3170|        1|\n",
            "|         9DMPIX|        3171|        1|\n",
            "|         9DMUCH|        3172|        1|\n",
            "+---------------+------------+---------+\n",
            "only showing top 20 rows\n",
            "\n"
          ]
        }
      ]
    },
    {
      "cell_type": "code",
      "source": [
        "cd_category = spark.read.csv(\n",
        "    \"/content/drive/MyDrive/cde_data/broadcast_logs/ReferenceTables/CD_Category.csv\",\n",
        "    sep=\"|\",\n",
        "    header=True,\n",
        "    inferSchema=True,\n",
        ").select(\n",
        "    \"CategoryID\",\n",
        "    \"CategoryCD\",\n",
        "    F.col(\"EnglishDescription\").alias(\"Category_Description\"),\n",
        ")\n",
        "\n",
        "cd_category.printSchema()"
      ],
      "metadata": {
        "colab": {
          "base_uri": "https://localhost:8080/"
        },
        "id": "co_fhST4JJe2",
        "outputId": "bf43cb5d-37af-44e9-e346-f43c4bb2701f"
      },
      "execution_count": 10,
      "outputs": [
        {
          "output_type": "stream",
          "name": "stdout",
          "text": [
            "root\n",
            " |-- CategoryID: integer (nullable = true)\n",
            " |-- CategoryCD: string (nullable = true)\n",
            " |-- Category_Description: string (nullable = true)\n",
            "\n"
          ]
        }
      ]
    },
    {
      "cell_type": "code",
      "source": [
        "cd_category.show()"
      ],
      "metadata": {
        "colab": {
          "base_uri": "https://localhost:8080/"
        },
        "id": "YqCpsv3mJL99",
        "outputId": "067f8f5a-6513-46fe-947d-9436565d7342"
      },
      "execution_count": 11,
      "outputs": [
        {
          "output_type": "stream",
          "name": "stdout",
          "text": [
            "+----------+----------+--------------------+\n",
            "|CategoryID|CategoryCD|Category_Description|\n",
            "+----------+----------+--------------------+\n",
            "|         1|       010|                NEWS|\n",
            "|         2|       02 |CANREC  ANALYSIS ...|\n",
            "|         3|       02A|ANALYSIS AND INTE...|\n",
            "|         4|       02B|LONG-FORM DOCUMEN...|\n",
            "|         5|       030|REPORTING & ACTUA...|\n",
            "|         6|       040|            RELIGION|\n",
            "|         7|       05A|    EDUCATION FORMAL|\n",
            "|         8|       05B|  EDUCATION INFORMAL|\n",
            "|         9|       06A|SPORTS - PROFESSI...|\n",
            "|        10|       06B|SPORTS - AMATEUR ...|\n",
            "|        11|       07A|ONGOING DRAMATIC ...|\n",
            "|        12|       07B|ONGOING COMEDY SE...|\n",
            "|        13|       07C|SPECIALS,MINI-SER...|\n",
            "|        14|       07D|DRAMA- FEATURE FILMS|\n",
            "|        15|       07E|     DRAMA- ANIMATED|\n",
            "|        16|       07F|PROGRAMS OF COMED...|\n",
            "|        17|       07G|               OTHER|\n",
            "|        18|       08A|       MUSIC - DANCE|\n",
            "|        19|       08B|MUSIC - DANCE - M...|\n",
            "|        20|       08C|MUSIC VIDEO PROGRAMS|\n",
            "+----------+----------+--------------------+\n",
            "only showing top 20 rows\n",
            "\n"
          ]
        }
      ]
    },
    {
      "cell_type": "code",
      "source": [
        "\n",
        "\n",
        "\n",
        "\n",
        "cd_program_class = spark.read.csv(\n",
        "    \"/content/drive/MyDrive/cde_data/broadcast_logs/ReferenceTables/CD_ProgramClass.csv\",\n",
        "    sep=\"|\",\n",
        "    header=True,\n",
        "    inferSchema=True,\n",
        ").select(\n",
        "    \"ProgramClassID\",\n",
        "    \"ProgramClassCD\",\n",
        "    F.col(\"EnglishDescription\").alias(\"ProgramClass_Description\"),\n",
        ")\n",
        "\n",
        "\n",
        "cd_program_class.show()"
      ],
      "metadata": {
        "colab": {
          "base_uri": "https://localhost:8080/"
        },
        "id": "MFNy8VErIr-M",
        "outputId": "22d0af53-07fa-41b8-e9b6-7995bd6627c7"
      },
      "execution_count": 12,
      "outputs": [
        {
          "output_type": "stream",
          "name": "stdout",
          "text": [
            "+--------------+--------------+------------------------+\n",
            "|ProgramClassID|ProgramClassCD|ProgramClass_Description|\n",
            "+--------------+--------------+------------------------+\n",
            "|             1|          AUT |           AUTOPROMOTION|\n",
            "|             2|          BAL |     BALANCE PROGRAMMING|\n",
            "|             3|          COM |      COMMERCIAL MESSAGE|\n",
            "|             4|          COR |             CORNERSTONE|\n",
            "|             5|          DOC |             DOCUMENTARY|\n",
            "|             6|          GIA |               GIVEAWAYS|\n",
            "|             7|          ID  |    NETWORK IDENTIFIC...|\n",
            "|             8|          INT |            INTERSTITIAL|\n",
            "|             9|          LOC |       LOCAL ADVERTISING|\n",
            "|            10|          MAG |        MAGAZINE PROGRAM|\n",
            "|            11|          MER |           MERCHANDISING|\n",
            "|            12|          MVC |        MUSIC VIDEO CLIP|\n",
            "|            13|          NRN |    No recognized nat...|\n",
            "|            14|          OFF |    SCHEDULED OFF AIR...|\n",
            "|            15|          OFT |    OFF AIR DUE TO TE...|\n",
            "|            16|          PCR |       PRODUCTION CREDIT|\n",
            "|            17|          PFS |    PROGRAM FIRST SEG...|\n",
            "|            18|          PGI |     PROGRAM INFOMERCIAL|\n",
            "|            19|          PGR |                 PROGRAM|\n",
            "|            20|          PRC |    PROMOTION OF UPCO...|\n",
            "+--------------+--------------+------------------------+\n",
            "only showing top 20 rows\n",
            "\n"
          ]
        }
      ]
    },
    {
      "cell_type": "code",
      "source": [
        "###############################################################################\n",
        "# Data processing\n",
        "###############################################################################\n",
        "\n",
        "logs = logs.drop(\"BroadcastLogID\", \"SequenceNO\")\n",
        "\n",
        "logs = logs.withColumn(\n",
        "    \"duration_seconds\",\n",
        "    (\n",
        "        F.col(\"Duration\").substr(1, 2).cast(\"int\") * 60 * 60\n",
        "        + F.col(\"Duration\").substr(4, 2).cast(\"int\") * 60\n",
        "        + F.col(\"Duration\").substr(7, 2).cast(\"int\")\n",
        "    ),\n",
        ")\n",
        "\n",
        "\n",
        "logs.show()"
      ],
      "metadata": {
        "colab": {
          "base_uri": "https://localhost:8080/"
        },
        "id": "Uzkc19klIsFT",
        "outputId": "8085b63f-59bc-4d44-9227-2c5f531a09a5"
      },
      "execution_count": 13,
      "outputs": [
        {
          "output_type": "stream",
          "name": "stdout",
          "text": [
            "+------------+----------+-------------------+----------------------+----------+---------------+-----------------+----------------+---------------+------------------+--------------+--------------------+------------+-------------------+-------------------+------------+------------+--------------------+-------------------+--------+--------------------+------------------+----------------------+-------------+---------+---------+---------+---------+----------------+\n",
            "|LogServiceID|   LogDate|AudienceTargetAgeID|AudienceTargetEthnicID|CategoryID|ClosedCaptionID|CountryOfOriginID|DubDramaCreditID|EthnicProgramID|ProductionSourceID|ProgramClassID|FilmClassificationID|ExhibitionID|           Duration|            EndTime|LogEntryDate|ProductionNO|        ProgramTitle|          StartTime|Subtitle|NetworkAffiliationID|SpecialAttentionID|BroadcastOriginPointID|CompositionID|Producer1|Producer2|Language1|Language2|duration_seconds|\n",
            "+------------+----------+-------------------+----------------------+----------+---------------+-----------------+----------------+---------------+------------------+--------------+--------------------+------------+-------------------+-------------------+------------+------------+--------------------+-------------------+--------+--------------------+------------------+----------------------+-------------+---------+---------+---------+---------+----------------+\n",
            "|        3157|2018-08-01|                  4|                  NULL|        13|              3|                3|            NULL|           NULL|                10|            19|                NULL|           2|2025-04-25 02:00:00|2025-04-25 08:00:00|  2018-08-01|      A39082|   Newlywed and Dead|2025-04-25 06:00:00|    NULL|                NULL|              NULL|                  NULL|         NULL|     NULL|     NULL|       94|     NULL|            NULL|\n",
            "|        3157|2018-08-01|               NULL|                  NULL|      NULL|              1|             NULL|            NULL|           NULL|              NULL|            20|                NULL|        NULL|2025-04-25 00:00:30|2025-04-25 06:13:45|  2018-08-01|        NULL|15-SPECIALTY CHAN...|2025-04-25 06:13:15|    NULL|                NULL|              NULL|                  NULL|         NULL|     NULL|     NULL|     NULL|     NULL|            NULL|\n",
            "|        3157|2018-08-01|               NULL|                  NULL|      NULL|              1|             NULL|            NULL|           NULL|              NULL|             3|                NULL|        NULL|2025-04-25 00:00:15|2025-04-25 06:14:00|  2018-08-01|        NULL|3-PROCTER & GAMBL...|2025-04-25 06:13:45|    NULL|                NULL|              NULL|                  NULL|         NULL|     NULL|     NULL|     NULL|     NULL|            NULL|\n",
            "|        3157|2018-08-01|               NULL|                  NULL|      NULL|              1|             NULL|            NULL|           NULL|              NULL|             3|                NULL|        NULL|2025-04-25 00:00:15|2025-04-25 06:14:15|  2018-08-01|        NULL|12-CREDIT KARMA-B...|2025-04-25 06:14:00|    NULL|                NULL|              NULL|                  NULL|         NULL|     NULL|     NULL|     NULL|     NULL|            NULL|\n",
            "|        3157|2018-08-01|               NULL|                  NULL|      NULL|              1|             NULL|            NULL|           NULL|              NULL|             3|                NULL|        NULL|2025-04-25 00:00:15|2025-04-25 06:14:30|  2018-08-01|        NULL|3-L'OREAL CANADA-...|2025-04-25 06:14:15|    NULL|                NULL|              NULL|                  NULL|         NULL|     NULL|     NULL|     NULL|     NULL|            NULL|\n",
            "|        3157|2018-08-01|               NULL|                  NULL|      NULL|              1|             NULL|            NULL|           NULL|              NULL|             3|                NULL|        NULL|2025-04-25 00:00:15|2025-04-25 06:14:45|  2018-08-01|        NULL|11-YUM! BRANDS-Ch...|2025-04-25 06:14:30|    NULL|                NULL|              NULL|                  NULL|         NULL|     NULL|     NULL|     NULL|     NULL|            NULL|\n",
            "|        3157|2018-08-01|               NULL|                  NULL|      NULL|              1|             NULL|            NULL|           NULL|              NULL|             3|                NULL|        NULL|2025-04-25 00:00:30|2025-04-25 06:15:16|  2018-08-01|        NULL|2-PIER 1 IMPORTS ...|2025-04-25 06:14:46|    NULL|                NULL|              NULL|                  NULL|         NULL|     NULL|     NULL|     NULL|     NULL|            NULL|\n",
            "|        3157|2018-08-01|               NULL|                  NULL|      NULL|              1|             NULL|            NULL|           NULL|              NULL|             3|                NULL|        NULL|2025-04-25 00:00:15|2025-04-25 06:15:31|  2018-08-01|        NULL|3-HAVAS EDGE-Trav...|2025-04-25 06:15:16|    NULL|                NULL|              NULL|                  NULL|         NULL|     NULL|     NULL|     NULL|     NULL|            NULL|\n",
            "|        3157|2018-08-01|               NULL|                  NULL|      NULL|              1|             NULL|            NULL|           NULL|              NULL|             3|                NULL|        NULL|2025-04-25 00:00:15|2025-04-25 06:15:46|  2018-08-01|        NULL|2-AUTOTRADER-Inte...|2025-04-25 06:15:31|    NULL|                NULL|              NULL|                  NULL|         NULL|     NULL|     NULL|     NULL|     NULL|            NULL|\n",
            "|        3157|2018-08-01|               NULL|                  NULL|      NULL|              1|             NULL|            NULL|           NULL|              NULL|             3|                NULL|        NULL|2025-04-25 00:00:15|2025-04-25 06:16:01|  2018-08-01|        NULL|11-SLEEP COUNTRY ...|2025-04-25 06:15:46|    NULL|                NULL|              NULL|                  NULL|         NULL|     NULL|     NULL|     NULL|     NULL|            NULL|\n",
            "|        3157|2018-08-01|               NULL|                  NULL|      NULL|              1|             NULL|            NULL|           NULL|              NULL|             3|                NULL|        NULL|2025-04-25 00:00:15|2025-04-25 06:16:16|  2018-08-01|        NULL|11-GENERAL MILLS ...|2025-04-25 06:16:01|    NULL|                NULL|              NULL|                  NULL|         NULL|     NULL|     NULL|     NULL|     NULL|            NULL|\n",
            "|        3157|2018-08-01|               NULL|                  NULL|      NULL|              1|             NULL|            NULL|           NULL|              NULL|             3|                NULL|        NULL|2025-04-25 00:00:30|2025-04-25 06:16:46|  2018-08-01|        NULL|11-PROCTER & GAMB...|2025-04-25 06:16:16|    NULL|                NULL|              NULL|                  NULL|         NULL|     NULL|     NULL|     NULL|     NULL|            NULL|\n",
            "|        3157|2018-08-01|               NULL|                  NULL|      NULL|              1|             NULL|            NULL|           NULL|              NULL|            20|                NULL|        NULL|2025-04-25 00:00:30|2025-04-25 06:25:56|  2018-08-01|        NULL|15-SPECIALTY CHAN...|2025-04-25 06:25:26|    NULL|                NULL|              NULL|                  NULL|         NULL|     NULL|     NULL|     NULL|     NULL|            NULL|\n",
            "|        3157|2018-08-01|               NULL|                  NULL|      NULL|              1|             NULL|            NULL|           NULL|              NULL|             3|                NULL|        NULL|2025-04-25 00:00:15|2025-04-25 06:26:11|  2018-08-01|        NULL|11-PROCTER & GAMB...|2025-04-25 06:25:56|    NULL|                NULL|              NULL|                  NULL|         NULL|     NULL|     NULL|     NULL|     NULL|            NULL|\n",
            "|        3157|2018-08-01|               NULL|                  NULL|      NULL|              1|             NULL|            NULL|           NULL|              NULL|             3|                NULL|        NULL|2025-04-25 00:00:15|2025-04-25 06:26:26|  2018-08-01|        NULL|11-LABATT BREWERI...|2025-04-25 06:26:11|    NULL|                NULL|              NULL|                  NULL|         NULL|     NULL|     NULL|     NULL|     NULL|            NULL|\n",
            "|        3157|2018-08-01|               NULL|                  NULL|      NULL|              1|             NULL|            NULL|           NULL|              NULL|             3|                NULL|        NULL|2025-04-25 00:00:15|2025-04-25 06:26:41|  2018-08-01|        NULL|2-IKEA CANADA LTD...|2025-04-25 06:26:26|    NULL|                NULL|              NULL|                  NULL|         NULL|     NULL|     NULL|     NULL|     NULL|            NULL|\n",
            "|        3157|2018-08-01|               NULL|                  NULL|      NULL|              1|             NULL|            NULL|           NULL|              NULL|             3|                NULL|        NULL|2025-04-25 00:00:15|2025-04-25 06:26:57|  2018-08-01|        NULL|11-WAL-MART CANAD...|2025-04-25 06:26:42|    NULL|                NULL|              NULL|                  NULL|         NULL|     NULL|     NULL|     NULL|     NULL|            NULL|\n",
            "|        3157|2018-08-01|               NULL|                  NULL|      NULL|              1|             NULL|            NULL|           NULL|              NULL|             3|                NULL|        NULL|2025-04-25 00:00:15|2025-04-25 06:27:12|  2018-08-01|        NULL|2-AUTOTRADER-Inte...|2025-04-25 06:26:57|    NULL|                NULL|              NULL|                  NULL|         NULL|     NULL|     NULL|     NULL|     NULL|            NULL|\n",
            "|        3157|2018-08-01|               NULL|                  NULL|      NULL|              1|             NULL|            NULL|           NULL|              NULL|             3|                NULL|        NULL|2025-04-25 00:01:00|2025-04-25 06:28:12|  2018-08-01|        NULL|12-COMWAVE TELECO...|2025-04-25 06:27:12|    NULL|                NULL|              NULL|                  NULL|         NULL|     NULL|     NULL|     NULL|     NULL|            NULL|\n",
            "|        3157|2018-08-01|               NULL|                  NULL|      NULL|              1|             NULL|            NULL|           NULL|              NULL|             3|                NULL|        NULL|2025-04-25 00:00:15|2025-04-25 06:28:27|  2018-08-01|        NULL|11-L'OREAL CANADA...|2025-04-25 06:28:12|    NULL|                NULL|              NULL|                  NULL|         NULL|     NULL|     NULL|     NULL|     NULL|            NULL|\n",
            "+------------+----------+-------------------+----------------------+----------+---------------+-----------------+----------------+---------------+------------------+--------------+--------------------+------------+-------------------+-------------------+------------+------------+--------------------+-------------------+--------+--------------------+------------------+----------------------+-------------+---------+---------+---------+---------+----------------+\n",
            "only showing top 20 rows\n",
            "\n"
          ]
        }
      ]
    },
    {
      "cell_type": "code",
      "source": [
        "log_identifier = log_identifier.where(F.col(\"PrimaryFG\") == 1)"
      ],
      "metadata": {
        "id": "0Df7qoECKVVT"
      },
      "execution_count": 14,
      "outputs": []
    },
    {
      "cell_type": "code",
      "source": [
        "log_identifier.show()"
      ],
      "metadata": {
        "colab": {
          "base_uri": "https://localhost:8080/"
        },
        "id": "OPy8fMGHKahD",
        "outputId": "bc882ea8-b084-430f-f68e-391bb6399d57"
      },
      "execution_count": 15,
      "outputs": [
        {
          "output_type": "stream",
          "name": "stdout",
          "text": [
            "+---------------+------------+---------+\n",
            "|LogIdentifierID|LogServiceID|PrimaryFG|\n",
            "+---------------+------------+---------+\n",
            "|           13ST|        3157|        1|\n",
            "|         2000SM|        3466|        1|\n",
            "|           70SM|        3883|        1|\n",
            "|           80SM|        3590|        1|\n",
            "|           90SM|        3470|        1|\n",
            "|         9DAPTN|        3158|        1|\n",
            "|         9DCFCF|        3159|        1|\n",
            "|         9DCFRN|        3160|        1|\n",
            "|         9DCHRO|        3161|        1|\n",
            "|         9DCIVI|        3162|        1|\n",
            "|         9DCJCH|        3163|        1|\n",
            "|         9DCJOH|        3164|        1|\n",
            "|         9DCKCK|        3165|        1|\n",
            "|         9DCKCW|        3166|        1|\n",
            "|         9DCKVR|        3167|        1|\n",
            "|          9DCKY|        3168|        1|\n",
            "|         9DLEAF|        3169|        1|\n",
            "|          9DMC2|        3170|        1|\n",
            "|         9DMPIX|        3171|        1|\n",
            "|         9DMUCH|        3172|        1|\n",
            "+---------------+------------+---------+\n",
            "only showing top 20 rows\n",
            "\n"
          ]
        }
      ]
    },
    {
      "cell_type": "code",
      "source": [
        "logs.show()"
      ],
      "metadata": {
        "colab": {
          "base_uri": "https://localhost:8080/"
        },
        "id": "0CKFh8pkKgCr",
        "outputId": "1989a6d7-6e5b-429e-f5be-777400d35b29"
      },
      "execution_count": 16,
      "outputs": [
        {
          "output_type": "stream",
          "name": "stdout",
          "text": [
            "+------------+----------+-------------------+----------------------+----------+---------------+-----------------+----------------+---------------+------------------+--------------+--------------------+------------+-------------------+-------------------+------------+------------+--------------------+-------------------+--------+--------------------+------------------+----------------------+-------------+---------+---------+---------+---------+----------------+\n",
            "|LogServiceID|   LogDate|AudienceTargetAgeID|AudienceTargetEthnicID|CategoryID|ClosedCaptionID|CountryOfOriginID|DubDramaCreditID|EthnicProgramID|ProductionSourceID|ProgramClassID|FilmClassificationID|ExhibitionID|           Duration|            EndTime|LogEntryDate|ProductionNO|        ProgramTitle|          StartTime|Subtitle|NetworkAffiliationID|SpecialAttentionID|BroadcastOriginPointID|CompositionID|Producer1|Producer2|Language1|Language2|duration_seconds|\n",
            "+------------+----------+-------------------+----------------------+----------+---------------+-----------------+----------------+---------------+------------------+--------------+--------------------+------------+-------------------+-------------------+------------+------------+--------------------+-------------------+--------+--------------------+------------------+----------------------+-------------+---------+---------+---------+---------+----------------+\n",
            "|        3157|2018-08-01|                  4|                  NULL|        13|              3|                3|            NULL|           NULL|                10|            19|                NULL|           2|2025-04-25 02:00:00|2025-04-25 08:00:00|  2018-08-01|      A39082|   Newlywed and Dead|2025-04-25 06:00:00|    NULL|                NULL|              NULL|                  NULL|         NULL|     NULL|     NULL|       94|     NULL|            NULL|\n",
            "|        3157|2018-08-01|               NULL|                  NULL|      NULL|              1|             NULL|            NULL|           NULL|              NULL|            20|                NULL|        NULL|2025-04-25 00:00:30|2025-04-25 06:13:45|  2018-08-01|        NULL|15-SPECIALTY CHAN...|2025-04-25 06:13:15|    NULL|                NULL|              NULL|                  NULL|         NULL|     NULL|     NULL|     NULL|     NULL|            NULL|\n",
            "|        3157|2018-08-01|               NULL|                  NULL|      NULL|              1|             NULL|            NULL|           NULL|              NULL|             3|                NULL|        NULL|2025-04-25 00:00:15|2025-04-25 06:14:00|  2018-08-01|        NULL|3-PROCTER & GAMBL...|2025-04-25 06:13:45|    NULL|                NULL|              NULL|                  NULL|         NULL|     NULL|     NULL|     NULL|     NULL|            NULL|\n",
            "|        3157|2018-08-01|               NULL|                  NULL|      NULL|              1|             NULL|            NULL|           NULL|              NULL|             3|                NULL|        NULL|2025-04-25 00:00:15|2025-04-25 06:14:15|  2018-08-01|        NULL|12-CREDIT KARMA-B...|2025-04-25 06:14:00|    NULL|                NULL|              NULL|                  NULL|         NULL|     NULL|     NULL|     NULL|     NULL|            NULL|\n",
            "|        3157|2018-08-01|               NULL|                  NULL|      NULL|              1|             NULL|            NULL|           NULL|              NULL|             3|                NULL|        NULL|2025-04-25 00:00:15|2025-04-25 06:14:30|  2018-08-01|        NULL|3-L'OREAL CANADA-...|2025-04-25 06:14:15|    NULL|                NULL|              NULL|                  NULL|         NULL|     NULL|     NULL|     NULL|     NULL|            NULL|\n",
            "|        3157|2018-08-01|               NULL|                  NULL|      NULL|              1|             NULL|            NULL|           NULL|              NULL|             3|                NULL|        NULL|2025-04-25 00:00:15|2025-04-25 06:14:45|  2018-08-01|        NULL|11-YUM! BRANDS-Ch...|2025-04-25 06:14:30|    NULL|                NULL|              NULL|                  NULL|         NULL|     NULL|     NULL|     NULL|     NULL|            NULL|\n",
            "|        3157|2018-08-01|               NULL|                  NULL|      NULL|              1|             NULL|            NULL|           NULL|              NULL|             3|                NULL|        NULL|2025-04-25 00:00:30|2025-04-25 06:15:16|  2018-08-01|        NULL|2-PIER 1 IMPORTS ...|2025-04-25 06:14:46|    NULL|                NULL|              NULL|                  NULL|         NULL|     NULL|     NULL|     NULL|     NULL|            NULL|\n",
            "|        3157|2018-08-01|               NULL|                  NULL|      NULL|              1|             NULL|            NULL|           NULL|              NULL|             3|                NULL|        NULL|2025-04-25 00:00:15|2025-04-25 06:15:31|  2018-08-01|        NULL|3-HAVAS EDGE-Trav...|2025-04-25 06:15:16|    NULL|                NULL|              NULL|                  NULL|         NULL|     NULL|     NULL|     NULL|     NULL|            NULL|\n",
            "|        3157|2018-08-01|               NULL|                  NULL|      NULL|              1|             NULL|            NULL|           NULL|              NULL|             3|                NULL|        NULL|2025-04-25 00:00:15|2025-04-25 06:15:46|  2018-08-01|        NULL|2-AUTOTRADER-Inte...|2025-04-25 06:15:31|    NULL|                NULL|              NULL|                  NULL|         NULL|     NULL|     NULL|     NULL|     NULL|            NULL|\n",
            "|        3157|2018-08-01|               NULL|                  NULL|      NULL|              1|             NULL|            NULL|           NULL|              NULL|             3|                NULL|        NULL|2025-04-25 00:00:15|2025-04-25 06:16:01|  2018-08-01|        NULL|11-SLEEP COUNTRY ...|2025-04-25 06:15:46|    NULL|                NULL|              NULL|                  NULL|         NULL|     NULL|     NULL|     NULL|     NULL|            NULL|\n",
            "|        3157|2018-08-01|               NULL|                  NULL|      NULL|              1|             NULL|            NULL|           NULL|              NULL|             3|                NULL|        NULL|2025-04-25 00:00:15|2025-04-25 06:16:16|  2018-08-01|        NULL|11-GENERAL MILLS ...|2025-04-25 06:16:01|    NULL|                NULL|              NULL|                  NULL|         NULL|     NULL|     NULL|     NULL|     NULL|            NULL|\n",
            "|        3157|2018-08-01|               NULL|                  NULL|      NULL|              1|             NULL|            NULL|           NULL|              NULL|             3|                NULL|        NULL|2025-04-25 00:00:30|2025-04-25 06:16:46|  2018-08-01|        NULL|11-PROCTER & GAMB...|2025-04-25 06:16:16|    NULL|                NULL|              NULL|                  NULL|         NULL|     NULL|     NULL|     NULL|     NULL|            NULL|\n",
            "|        3157|2018-08-01|               NULL|                  NULL|      NULL|              1|             NULL|            NULL|           NULL|              NULL|            20|                NULL|        NULL|2025-04-25 00:00:30|2025-04-25 06:25:56|  2018-08-01|        NULL|15-SPECIALTY CHAN...|2025-04-25 06:25:26|    NULL|                NULL|              NULL|                  NULL|         NULL|     NULL|     NULL|     NULL|     NULL|            NULL|\n",
            "|        3157|2018-08-01|               NULL|                  NULL|      NULL|              1|             NULL|            NULL|           NULL|              NULL|             3|                NULL|        NULL|2025-04-25 00:00:15|2025-04-25 06:26:11|  2018-08-01|        NULL|11-PROCTER & GAMB...|2025-04-25 06:25:56|    NULL|                NULL|              NULL|                  NULL|         NULL|     NULL|     NULL|     NULL|     NULL|            NULL|\n",
            "|        3157|2018-08-01|               NULL|                  NULL|      NULL|              1|             NULL|            NULL|           NULL|              NULL|             3|                NULL|        NULL|2025-04-25 00:00:15|2025-04-25 06:26:26|  2018-08-01|        NULL|11-LABATT BREWERI...|2025-04-25 06:26:11|    NULL|                NULL|              NULL|                  NULL|         NULL|     NULL|     NULL|     NULL|     NULL|            NULL|\n",
            "|        3157|2018-08-01|               NULL|                  NULL|      NULL|              1|             NULL|            NULL|           NULL|              NULL|             3|                NULL|        NULL|2025-04-25 00:00:15|2025-04-25 06:26:41|  2018-08-01|        NULL|2-IKEA CANADA LTD...|2025-04-25 06:26:26|    NULL|                NULL|              NULL|                  NULL|         NULL|     NULL|     NULL|     NULL|     NULL|            NULL|\n",
            "|        3157|2018-08-01|               NULL|                  NULL|      NULL|              1|             NULL|            NULL|           NULL|              NULL|             3|                NULL|        NULL|2025-04-25 00:00:15|2025-04-25 06:26:57|  2018-08-01|        NULL|11-WAL-MART CANAD...|2025-04-25 06:26:42|    NULL|                NULL|              NULL|                  NULL|         NULL|     NULL|     NULL|     NULL|     NULL|            NULL|\n",
            "|        3157|2018-08-01|               NULL|                  NULL|      NULL|              1|             NULL|            NULL|           NULL|              NULL|             3|                NULL|        NULL|2025-04-25 00:00:15|2025-04-25 06:27:12|  2018-08-01|        NULL|2-AUTOTRADER-Inte...|2025-04-25 06:26:57|    NULL|                NULL|              NULL|                  NULL|         NULL|     NULL|     NULL|     NULL|     NULL|            NULL|\n",
            "|        3157|2018-08-01|               NULL|                  NULL|      NULL|              1|             NULL|            NULL|           NULL|              NULL|             3|                NULL|        NULL|2025-04-25 00:01:00|2025-04-25 06:28:12|  2018-08-01|        NULL|12-COMWAVE TELECO...|2025-04-25 06:27:12|    NULL|                NULL|              NULL|                  NULL|         NULL|     NULL|     NULL|     NULL|     NULL|            NULL|\n",
            "|        3157|2018-08-01|               NULL|                  NULL|      NULL|              1|             NULL|            NULL|           NULL|              NULL|             3|                NULL|        NULL|2025-04-25 00:00:15|2025-04-25 06:28:27|  2018-08-01|        NULL|11-L'OREAL CANADA...|2025-04-25 06:28:12|    NULL|                NULL|              NULL|                  NULL|         NULL|     NULL|     NULL|     NULL|     NULL|            NULL|\n",
            "+------------+----------+-------------------+----------------------+----------+---------------+-----------------+----------------+---------------+------------------+--------------+--------------------+------------+-------------------+-------------------+------------+------------+--------------------+-------------------+--------+--------------------+------------------+----------------------+-------------+---------+---------+---------+---------+----------------+\n",
            "only showing top 20 rows\n",
            "\n"
          ]
        }
      ]
    },
    {
      "cell_type": "code",
      "source": [
        "\n",
        "\n",
        "logs_and_channels = logs.join(log_identifier, \"LogServiceID\")"
      ],
      "metadata": {
        "id": "1vgV_qjZKVlT"
      },
      "execution_count": 17,
      "outputs": []
    },
    {
      "cell_type": "code",
      "source": [
        "logs_and_channels.printSchema()"
      ],
      "metadata": {
        "colab": {
          "base_uri": "https://localhost:8080/"
        },
        "id": "X8wSwB7MKkJa",
        "outputId": "c710a9d7-e756-4f1b-f708-28380ef19a0e"
      },
      "execution_count": 18,
      "outputs": [
        {
          "output_type": "stream",
          "name": "stdout",
          "text": [
            "root\n",
            " |-- LogServiceID: integer (nullable = true)\n",
            " |-- LogDate: date (nullable = true)\n",
            " |-- AudienceTargetAgeID: integer (nullable = true)\n",
            " |-- AudienceTargetEthnicID: integer (nullable = true)\n",
            " |-- CategoryID: integer (nullable = true)\n",
            " |-- ClosedCaptionID: integer (nullable = true)\n",
            " |-- CountryOfOriginID: integer (nullable = true)\n",
            " |-- DubDramaCreditID: integer (nullable = true)\n",
            " |-- EthnicProgramID: integer (nullable = true)\n",
            " |-- ProductionSourceID: integer (nullable = true)\n",
            " |-- ProgramClassID: integer (nullable = true)\n",
            " |-- FilmClassificationID: integer (nullable = true)\n",
            " |-- ExhibitionID: integer (nullable = true)\n",
            " |-- Duration: timestamp (nullable = true)\n",
            " |-- EndTime: timestamp (nullable = true)\n",
            " |-- LogEntryDate: date (nullable = true)\n",
            " |-- ProductionNO: string (nullable = true)\n",
            " |-- ProgramTitle: string (nullable = true)\n",
            " |-- StartTime: timestamp (nullable = true)\n",
            " |-- Subtitle: string (nullable = true)\n",
            " |-- NetworkAffiliationID: integer (nullable = true)\n",
            " |-- SpecialAttentionID: integer (nullable = true)\n",
            " |-- BroadcastOriginPointID: integer (nullable = true)\n",
            " |-- CompositionID: integer (nullable = true)\n",
            " |-- Producer1: string (nullable = true)\n",
            " |-- Producer2: string (nullable = true)\n",
            " |-- Language1: integer (nullable = true)\n",
            " |-- Language2: integer (nullable = true)\n",
            " |-- duration_seconds: integer (nullable = true)\n",
            " |-- LogIdentifierID: string (nullable = true)\n",
            " |-- PrimaryFG: integer (nullable = true)\n",
            "\n"
          ]
        }
      ]
    },
    {
      "cell_type": "code",
      "source": [
        "full_log = logs_and_channels.join(cd_category, \"CategoryID\", how=\"left\").join(\n",
        "    cd_program_class, \"ProgramClassID\", how=\"left\"\n",
        ")\n",
        "\n",
        "full_log.show()"
      ],
      "metadata": {
        "colab": {
          "base_uri": "https://localhost:8080/"
        },
        "id": "KXnMpCMWKxUc",
        "outputId": "1355548c-946a-4f40-d0f4-33e5a02c83b3"
      },
      "execution_count": 19,
      "outputs": [
        {
          "output_type": "stream",
          "name": "stdout",
          "text": [
            "+--------------+----------+------------+----------+-------------------+----------------------+---------------+-----------------+----------------+---------------+------------------+--------------------+------------+-------------------+-------------------+------------+------------+--------------------+-------------------+--------+--------------------+------------------+----------------------+-------------+---------+---------+---------+---------+----------------+---------------+---------+----------+--------------------+--------------+------------------------+\n",
            "|ProgramClassID|CategoryID|LogServiceID|   LogDate|AudienceTargetAgeID|AudienceTargetEthnicID|ClosedCaptionID|CountryOfOriginID|DubDramaCreditID|EthnicProgramID|ProductionSourceID|FilmClassificationID|ExhibitionID|           Duration|            EndTime|LogEntryDate|ProductionNO|        ProgramTitle|          StartTime|Subtitle|NetworkAffiliationID|SpecialAttentionID|BroadcastOriginPointID|CompositionID|Producer1|Producer2|Language1|Language2|duration_seconds|LogIdentifierID|PrimaryFG|CategoryCD|Category_Description|ProgramClassCD|ProgramClass_Description|\n",
            "+--------------+----------+------------+----------+-------------------+----------------------+---------------+-----------------+----------------+---------------+------------------+--------------------+------------+-------------------+-------------------+------------+------------+--------------------+-------------------+--------+--------------------+------------------+----------------------+-------------+---------+---------+---------+---------+----------------+---------------+---------+----------+--------------------+--------------+------------------------+\n",
            "|            19|        13|        3157|2018-08-01|                  4|                  NULL|              3|                3|            NULL|           NULL|                10|                NULL|           2|2025-04-25 02:00:00|2025-04-25 08:00:00|  2018-08-01|      A39082|   Newlywed and Dead|2025-04-25 06:00:00|    NULL|                NULL|              NULL|                  NULL|         NULL|     NULL|     NULL|       94|     NULL|            NULL|           13ST|        1|       07C|SPECIALS,MINI-SER...|          PGR |                 PROGRAM|\n",
            "|            20|      NULL|        3157|2018-08-01|               NULL|                  NULL|              1|             NULL|            NULL|           NULL|              NULL|                NULL|        NULL|2025-04-25 00:00:30|2025-04-25 06:13:45|  2018-08-01|        NULL|15-SPECIALTY CHAN...|2025-04-25 06:13:15|    NULL|                NULL|              NULL|                  NULL|         NULL|     NULL|     NULL|     NULL|     NULL|            NULL|           13ST|        1|      NULL|                NULL|          PRC |    PROMOTION OF UPCO...|\n",
            "|             3|      NULL|        3157|2018-08-01|               NULL|                  NULL|              1|             NULL|            NULL|           NULL|              NULL|                NULL|        NULL|2025-04-25 00:00:15|2025-04-25 06:14:00|  2018-08-01|        NULL|3-PROCTER & GAMBL...|2025-04-25 06:13:45|    NULL|                NULL|              NULL|                  NULL|         NULL|     NULL|     NULL|     NULL|     NULL|            NULL|           13ST|        1|      NULL|                NULL|          COM |      COMMERCIAL MESSAGE|\n",
            "|             3|      NULL|        3157|2018-08-01|               NULL|                  NULL|              1|             NULL|            NULL|           NULL|              NULL|                NULL|        NULL|2025-04-25 00:00:15|2025-04-25 06:14:15|  2018-08-01|        NULL|12-CREDIT KARMA-B...|2025-04-25 06:14:00|    NULL|                NULL|              NULL|                  NULL|         NULL|     NULL|     NULL|     NULL|     NULL|            NULL|           13ST|        1|      NULL|                NULL|          COM |      COMMERCIAL MESSAGE|\n",
            "|             3|      NULL|        3157|2018-08-01|               NULL|                  NULL|              1|             NULL|            NULL|           NULL|              NULL|                NULL|        NULL|2025-04-25 00:00:15|2025-04-25 06:14:30|  2018-08-01|        NULL|3-L'OREAL CANADA-...|2025-04-25 06:14:15|    NULL|                NULL|              NULL|                  NULL|         NULL|     NULL|     NULL|     NULL|     NULL|            NULL|           13ST|        1|      NULL|                NULL|          COM |      COMMERCIAL MESSAGE|\n",
            "|             3|      NULL|        3157|2018-08-01|               NULL|                  NULL|              1|             NULL|            NULL|           NULL|              NULL|                NULL|        NULL|2025-04-25 00:00:15|2025-04-25 06:14:45|  2018-08-01|        NULL|11-YUM! BRANDS-Ch...|2025-04-25 06:14:30|    NULL|                NULL|              NULL|                  NULL|         NULL|     NULL|     NULL|     NULL|     NULL|            NULL|           13ST|        1|      NULL|                NULL|          COM |      COMMERCIAL MESSAGE|\n",
            "|             3|      NULL|        3157|2018-08-01|               NULL|                  NULL|              1|             NULL|            NULL|           NULL|              NULL|                NULL|        NULL|2025-04-25 00:00:30|2025-04-25 06:15:16|  2018-08-01|        NULL|2-PIER 1 IMPORTS ...|2025-04-25 06:14:46|    NULL|                NULL|              NULL|                  NULL|         NULL|     NULL|     NULL|     NULL|     NULL|            NULL|           13ST|        1|      NULL|                NULL|          COM |      COMMERCIAL MESSAGE|\n",
            "|             3|      NULL|        3157|2018-08-01|               NULL|                  NULL|              1|             NULL|            NULL|           NULL|              NULL|                NULL|        NULL|2025-04-25 00:00:15|2025-04-25 06:15:31|  2018-08-01|        NULL|3-HAVAS EDGE-Trav...|2025-04-25 06:15:16|    NULL|                NULL|              NULL|                  NULL|         NULL|     NULL|     NULL|     NULL|     NULL|            NULL|           13ST|        1|      NULL|                NULL|          COM |      COMMERCIAL MESSAGE|\n",
            "|             3|      NULL|        3157|2018-08-01|               NULL|                  NULL|              1|             NULL|            NULL|           NULL|              NULL|                NULL|        NULL|2025-04-25 00:00:15|2025-04-25 06:15:46|  2018-08-01|        NULL|2-AUTOTRADER-Inte...|2025-04-25 06:15:31|    NULL|                NULL|              NULL|                  NULL|         NULL|     NULL|     NULL|     NULL|     NULL|            NULL|           13ST|        1|      NULL|                NULL|          COM |      COMMERCIAL MESSAGE|\n",
            "|             3|      NULL|        3157|2018-08-01|               NULL|                  NULL|              1|             NULL|            NULL|           NULL|              NULL|                NULL|        NULL|2025-04-25 00:00:15|2025-04-25 06:16:01|  2018-08-01|        NULL|11-SLEEP COUNTRY ...|2025-04-25 06:15:46|    NULL|                NULL|              NULL|                  NULL|         NULL|     NULL|     NULL|     NULL|     NULL|            NULL|           13ST|        1|      NULL|                NULL|          COM |      COMMERCIAL MESSAGE|\n",
            "|             3|      NULL|        3157|2018-08-01|               NULL|                  NULL|              1|             NULL|            NULL|           NULL|              NULL|                NULL|        NULL|2025-04-25 00:00:15|2025-04-25 06:16:16|  2018-08-01|        NULL|11-GENERAL MILLS ...|2025-04-25 06:16:01|    NULL|                NULL|              NULL|                  NULL|         NULL|     NULL|     NULL|     NULL|     NULL|            NULL|           13ST|        1|      NULL|                NULL|          COM |      COMMERCIAL MESSAGE|\n",
            "|             3|      NULL|        3157|2018-08-01|               NULL|                  NULL|              1|             NULL|            NULL|           NULL|              NULL|                NULL|        NULL|2025-04-25 00:00:30|2025-04-25 06:16:46|  2018-08-01|        NULL|11-PROCTER & GAMB...|2025-04-25 06:16:16|    NULL|                NULL|              NULL|                  NULL|         NULL|     NULL|     NULL|     NULL|     NULL|            NULL|           13ST|        1|      NULL|                NULL|          COM |      COMMERCIAL MESSAGE|\n",
            "|            20|      NULL|        3157|2018-08-01|               NULL|                  NULL|              1|             NULL|            NULL|           NULL|              NULL|                NULL|        NULL|2025-04-25 00:00:30|2025-04-25 06:25:56|  2018-08-01|        NULL|15-SPECIALTY CHAN...|2025-04-25 06:25:26|    NULL|                NULL|              NULL|                  NULL|         NULL|     NULL|     NULL|     NULL|     NULL|            NULL|           13ST|        1|      NULL|                NULL|          PRC |    PROMOTION OF UPCO...|\n",
            "|             3|      NULL|        3157|2018-08-01|               NULL|                  NULL|              1|             NULL|            NULL|           NULL|              NULL|                NULL|        NULL|2025-04-25 00:00:15|2025-04-25 06:26:11|  2018-08-01|        NULL|11-PROCTER & GAMB...|2025-04-25 06:25:56|    NULL|                NULL|              NULL|                  NULL|         NULL|     NULL|     NULL|     NULL|     NULL|            NULL|           13ST|        1|      NULL|                NULL|          COM |      COMMERCIAL MESSAGE|\n",
            "|             3|      NULL|        3157|2018-08-01|               NULL|                  NULL|              1|             NULL|            NULL|           NULL|              NULL|                NULL|        NULL|2025-04-25 00:00:15|2025-04-25 06:26:26|  2018-08-01|        NULL|11-LABATT BREWERI...|2025-04-25 06:26:11|    NULL|                NULL|              NULL|                  NULL|         NULL|     NULL|     NULL|     NULL|     NULL|            NULL|           13ST|        1|      NULL|                NULL|          COM |      COMMERCIAL MESSAGE|\n",
            "|             3|      NULL|        3157|2018-08-01|               NULL|                  NULL|              1|             NULL|            NULL|           NULL|              NULL|                NULL|        NULL|2025-04-25 00:00:15|2025-04-25 06:26:41|  2018-08-01|        NULL|2-IKEA CANADA LTD...|2025-04-25 06:26:26|    NULL|                NULL|              NULL|                  NULL|         NULL|     NULL|     NULL|     NULL|     NULL|            NULL|           13ST|        1|      NULL|                NULL|          COM |      COMMERCIAL MESSAGE|\n",
            "|             3|      NULL|        3157|2018-08-01|               NULL|                  NULL|              1|             NULL|            NULL|           NULL|              NULL|                NULL|        NULL|2025-04-25 00:00:15|2025-04-25 06:26:57|  2018-08-01|        NULL|11-WAL-MART CANAD...|2025-04-25 06:26:42|    NULL|                NULL|              NULL|                  NULL|         NULL|     NULL|     NULL|     NULL|     NULL|            NULL|           13ST|        1|      NULL|                NULL|          COM |      COMMERCIAL MESSAGE|\n",
            "|             3|      NULL|        3157|2018-08-01|               NULL|                  NULL|              1|             NULL|            NULL|           NULL|              NULL|                NULL|        NULL|2025-04-25 00:00:15|2025-04-25 06:27:12|  2018-08-01|        NULL|2-AUTOTRADER-Inte...|2025-04-25 06:26:57|    NULL|                NULL|              NULL|                  NULL|         NULL|     NULL|     NULL|     NULL|     NULL|            NULL|           13ST|        1|      NULL|                NULL|          COM |      COMMERCIAL MESSAGE|\n",
            "|             3|      NULL|        3157|2018-08-01|               NULL|                  NULL|              1|             NULL|            NULL|           NULL|              NULL|                NULL|        NULL|2025-04-25 00:01:00|2025-04-25 06:28:12|  2018-08-01|        NULL|12-COMWAVE TELECO...|2025-04-25 06:27:12|    NULL|                NULL|              NULL|                  NULL|         NULL|     NULL|     NULL|     NULL|     NULL|            NULL|           13ST|        1|      NULL|                NULL|          COM |      COMMERCIAL MESSAGE|\n",
            "|             3|      NULL|        3157|2018-08-01|               NULL|                  NULL|              1|             NULL|            NULL|           NULL|              NULL|                NULL|        NULL|2025-04-25 00:00:15|2025-04-25 06:28:27|  2018-08-01|        NULL|11-L'OREAL CANADA...|2025-04-25 06:28:12|    NULL|                NULL|              NULL|                  NULL|         NULL|     NULL|     NULL|     NULL|     NULL|            NULL|           13ST|        1|      NULL|                NULL|          COM |      COMMERCIAL MESSAGE|\n",
            "+--------------+----------+------------+----------+-------------------+----------------------+---------------+-----------------+----------------+---------------+------------------+--------------------+------------+-------------------+-------------------+------------+------------+--------------------+-------------------+--------+--------------------+------------------+----------------------+-------------+---------+---------+---------+---------+----------------+---------------+---------+----------+--------------------+--------------+------------------------+\n",
            "only showing top 20 rows\n",
            "\n"
          ]
        }
      ]
    },
    {
      "cell_type": "code",
      "source": [
        "\n",
        "\n",
        "\n",
        "\n",
        "full_log.groupby(\"LogIdentifierID\").agg(\n",
        "    F.sum(\n",
        "        F.when(\n",
        "            F.trim(F.col(\"ProgramClassCD\")).isin(\n",
        "                [\"COM\", \"PRC\", \"PGI\", \"PRO\", \"LOC\", \"SPO\", \"MER\", \"SOL\"]\n",
        "            ),\n",
        "            F.col(\"duration_seconds\"),\n",
        "        ).otherwise(0)\n",
        "    ).alias(\"duration_commercial\"),\n",
        "    F.sum(\"duration_seconds\").alias(\"duration_total\"),\n",
        ").withColumn(\n",
        "    \"commercial_ratio\", F.col(\"duration_commercial\") / F.col(\"duration_total\")\n",
        ").orderBy(\n",
        "    \"commercial_ratio\", ascending=False\n",
        ").show(\n",
        "    1000, False\n",
        ")"
      ],
      "metadata": {
        "colab": {
          "base_uri": "https://localhost:8080/"
        },
        "id": "vzAT5seUH5Ns",
        "outputId": "e7108dc5-db62-4bb2-e403-594ea62b0941"
      },
      "execution_count": 20,
      "outputs": [
        {
          "output_type": "stream",
          "name": "stdout",
          "text": [
            "+---------------+-------------------+--------------+----------------+\n",
            "|LogIdentifierID|duration_commercial|duration_total|commercial_ratio|\n",
            "+---------------+-------------------+--------------+----------------+\n",
            "|CJCO           |0                  |NULL          |NULL            |\n",
            "|BRAVO          |0                  |NULL          |NULL            |\n",
            "|CFTF           |0                  |NULL          |NULL            |\n",
            "|CKCS           |0                  |NULL          |NULL            |\n",
            "|CJNT           |0                  |NULL          |NULL            |\n",
            "|CKES           |0                  |NULL          |NULL            |\n",
            "|CHBX           |0                  |NULL          |NULL            |\n",
            "|BBCKID         |0                  |NULL          |NULL            |\n",
            "|BOOK           |0                  |NULL          |NULL            |\n",
            "|CHAN           |0                  |NULL          |NULL            |\n",
            "|CEVASI         |0                  |NULL          |NULL            |\n",
            "|CMT            |0                  |NULL          |NULL            |\n",
            "|CIII           |0                  |NULL          |NULL            |\n",
            "|CFMT           |0                  |NULL          |NULL            |\n",
            "|CFGS           |0                  |NULL          |NULL            |\n",
            "|CBKT           |0                  |NULL          |NULL            |\n",
            "|CHEK           |0                  |NULL          |NULL            |\n",
            "|CFCF           |0                  |NULL          |NULL            |\n",
            "|CBXT           |0                  |NULL          |NULL            |\n",
            "|CIVM           |0                  |NULL          |NULL            |\n",
            "|CESS           |0                  |NULL          |NULL            |\n",
            "|CBHT           |0                  |NULL          |NULL            |\n",
            "|CICC           |0                  |NULL          |NULL            |\n",
            "|CFTM           |0                  |NULL          |NULL            |\n",
            "|CJOH           |0                  |NULL          |NULL            |\n",
            "|CBAFT          |0                  |NULL          |NULL            |\n",
            "|CFTV           |0                  |NULL          |NULL            |\n",
            "|CFCM           |0                  |NULL          |NULL            |\n",
            "|CKPG           |0                  |NULL          |NULL            |\n",
            "|CKVU           |0                  |NULL          |NULL            |\n",
            "|ATN9           |0                  |NULL          |NULL            |\n",
            "|CJPM           |0                  |NULL          |NULL            |\n",
            "|CKWS1          |0                  |NULL          |NULL            |\n",
            "|CFTU           |0                  |NULL          |NULL            |\n",
            "|CICA           |0                  |NULL          |NULL            |\n",
            "|MAKE           |0                  |NULL          |NULL            |\n",
            "|CITY           |0                  |NULL          |NULL            |\n",
            "|CFRS           |0                  |NULL          |NULL            |\n",
            "|CKY            |0                  |NULL          |NULL            |\n",
            "|13ST           |0                  |NULL          |NULL            |\n",
            "|CFRE           |0                  |NULL          |NULL            |\n",
            "|CJMT           |0                  |NULL          |NULL            |\n",
            "|BBCCND         |0                  |NULL          |NULL            |\n",
            "|CFKS           |0                  |NULL          |NULL            |\n",
            "|CJDC           |0                  |NULL          |NULL            |\n",
            "|CKVR           |0                  |NULL          |NULL            |\n",
            "|CKCK           |0                  |NULL          |NULL            |\n",
            "|CFPL           |0                  |NULL          |NULL            |\n",
            "|CJCB           |0                  |NULL          |NULL            |\n",
            "|OWN            |0                  |NULL          |NULL            |\n",
            "|CFTK           |0                  |NULL          |NULL            |\n",
            "|CITV           |0                  |NULL          |NULL            |\n",
            "|ANIMAL         |0                  |NULL          |NULL            |\n",
            "|ASN            |0                  |NULL          |NULL            |\n",
            "|CBMT           |0                  |NULL          |NULL            |\n",
            "|CKAL           |0                  |NULL          |NULL            |\n",
            "|CBUFT          |0                  |NULL          |NULL            |\n",
            "|CKND           |0                  |NULL          |NULL            |\n",
            "|ATN3           |0                  |NULL          |NULL            |\n",
            "|CFJP           |0                  |NULL          |NULL            |\n",
            "|VRAK           |0                  |NULL          |NULL            |\n",
            "|CBXFT          |0                  |NULL          |NULL            |\n",
            "|CFQC           |0                  |NULL          |NULL            |\n",
            "|CFKM           |0                  |NULL          |NULL            |\n",
            "|CBWT           |0                  |NULL          |NULL            |\n",
            "|CIMT           |0                  |NULL          |NULL            |\n",
            "|CIPA           |0                  |NULL          |NULL            |\n",
            "|CIHF           |0                  |NULL          |NULL            |\n",
            "|CFCN           |0                  |NULL          |NULL            |\n",
            "|CHFD           |0                  |NULL          |NULL            |\n",
            "|CBVT           |0                  |NULL          |NULL            |\n",
            "|CHMG           |0                  |NULL          |NULL            |\n",
            "|ARTV           |0                  |NULL          |NULL            |\n",
            "|CANALD         |0                  |NULL          |NULL            |\n",
            "|CKRT           |0                  |NULL          |NULL            |\n",
            "|CFER           |0                  |NULL          |NULL            |\n",
            "|GAME           |0                  |NULL          |NULL            |\n",
            "|ZT�L�          |0                  |NULL          |NULL            |\n",
            "|CBC            |0                  |NULL          |NULL            |\n",
            "|CITS           |0                  |NULL          |NULL            |\n",
            "|CBAT           |0                  |NULL          |NULL            |\n",
            "|CKLT           |0                  |NULL          |NULL            |\n",
            "|CIVI           |0                  |NULL          |NULL            |\n",
            "|COSMO          |0                  |NULL          |NULL            |\n",
            "|CKEM           |0                  |NULL          |NULL            |\n",
            "|ATN8           |0                  |NULL          |NULL            |\n",
            "|CKWS           |0                  |NULL          |NULL            |\n",
            "|CBNT           |0                  |NULL          |NULL            |\n",
            "|CHAT           |0                  |NULL          |NULL            |\n",
            "|CBUT           |0                  |NULL          |NULL            |\n",
            "|ABORIN         |0                  |NULL          |NULL            |\n",
            "|CKNO           |0                  |NULL          |NULL            |\n",
            "|ALLTV          |0                  |NULL          |NULL            |\n",
            "|CHMI           |0                  |NULL          |NULL            |\n",
            "|CJEO           |0                  |NULL          |NULL            |\n",
            "|CITO           |0                  |NULL          |NULL            |\n",
            "|BC1            |0                  |NULL          |NULL            |\n",
            "|CBLT           |0                  |NULL          |NULL            |\n",
            "|CFYK           |0                  |NULL          |NULL            |\n",
            "|CANALVIE       |0                  |NULL          |NULL            |\n",
            "|CJIL           |0                  |NULL          |NULL            |\n",
            "|ATN5           |0                  |NULL          |NULL            |\n",
            "|CIIT           |0                  |NULL          |NULL            |\n",
            "|CFCNL          |0                  |NULL          |NULL            |\n",
            "|CBFT           |0                  |NULL          |NULL            |\n",
            "|ATN6           |0                  |NULL          |NULL            |\n",
            "|CFRN6          |0                  |NULL          |NULL            |\n",
            "|CHAU           |0                  |NULL          |NULL            |\n",
            "|ATN2           |0                  |NULL          |NULL            |\n",
            "|ATN7           |0                  |NULL          |NULL            |\n",
            "|CFJC           |0                  |NULL          |NULL            |\n",
            "|CJCH           |0                  |NULL          |NULL            |\n",
            "|CHRO           |0                  |NULL          |NULL            |\n",
            "|CKCW           |0                  |NULL          |NULL            |\n",
            "|CFVS           |0                  |NULL          |NULL            |\n",
            "|CFTO           |0                  |NULL          |NULL            |\n",
            "|CKNY           |0                  |NULL          |NULL            |\n",
            "|CBRT           |0                  |NULL          |NULL            |\n",
            "|CHNU           |0                  |NULL          |NULL            |\n",
            "|CISA           |0                  |NULL          |NULL            |\n",
            "|CICI           |0                  |NULL          |NULL            |\n",
            "|CPOP           |0                  |NULL          |NULL            |\n",
            "|BLC            |0                  |NULL          |NULL            |\n",
            "|CICT           |0                  |NULL          |NULL            |\n",
            "|CKTM           |0                  |NULL          |NULL            |\n",
            "|CHLT           |0                  |NULL          |NULL            |\n",
            "|CBLFT          |0                  |NULL          |NULL            |\n",
            "|ABORIW         |0                  |NULL          |NULL            |\n",
            "|CITL           |0                  |NULL          |NULL            |\n",
            "|CKTV           |0                  |NULL          |NULL            |\n",
            "|CBKFT          |0                  |NULL          |NULL            |\n",
            "|CHEX02         |0                  |NULL          |NULL            |\n",
            "|CFSK           |0                  |NULL          |NULL            |\n",
            "|CBOT           |0                  |NULL          |NULL            |\n",
            "|CHBC           |0                  |NULL          |NULL            |\n",
            "|CHCH           |0                  |NULL          |NULL            |\n",
            "|CKMI           |0                  |NULL          |NULL            |\n",
            "|CFHD           |0                  |NULL          |NULL            |\n",
            "|CKSH           |0                  |NULL          |NULL            |\n",
            "|ASIDE          |0                  |NULL          |NULL            |\n",
            "|CBWFT          |0                  |NULL          |NULL            |\n",
            "|CHEX           |0                  |NULL          |NULL            |\n",
            "|CKPR           |0                  |NULL          |NULL            |\n",
            "|ATN1           |0                  |NULL          |NULL            |\n",
            "|CHNB2          |0                  |NULL          |NULL            |\n",
            "|CSCN           |0                  |NULL          |NULL            |\n",
            "|CFEM           |0                  |NULL          |NULL            |\n",
            "|COTT           |0                  |NULL          |NULL            |\n",
            "|ABORI          |0                  |NULL          |NULL            |\n",
            "|CBET           |0                  |NULL          |NULL            |\n",
            "|CJBRT          |0                  |NULL          |NULL            |\n",
            "|CHNM           |0                  |NULL          |NULL            |\n",
            "|CBOFT          |0                  |NULL          |NULL            |\n",
            "|CKSA           |0                  |NULL          |NULL            |\n",
            "|INVDIS         |0                  |NULL          |NULL            |\n",
            "|CHEM           |0                  |NULL          |NULL            |\n",
            "|CKCO           |0                  |NULL          |NULL            |\n",
            "|CHOT           |0                  |NULL          |NULL            |\n",
            "|CFRN           |0                  |NULL          |NULL            |\n",
            "|CFAP           |0                  |NULL          |NULL            |\n",
            "|CHWI           |0                  |NULL          |NULL            |\n",
            "|CIVT           |0                  |NULL          |NULL            |\n",
            "|CBCT           |0                  |NULL          |NULL            |\n",
            "|CJON           |0                  |NULL          |NULL            |\n",
            "|CHLF           |0                  |NULL          |NULL            |\n",
            "|TSN3           |0                  |NULL          |NULL            |\n",
            "|CASA           |0                  |NULL          |NULL            |\n",
            "|MOVIEP         |0                  |NULL          |NULL            |\n",
            "|RDSINF         |0                  |NULL          |NULL            |\n",
            "|SCSD01         |0                  |NULL          |NULL            |\n",
            "|SLVSC          |0                  |NULL          |NULL            |\n",
            "|TLNSP          |0                  |NULL          |NULL            |\n",
            "|ATN13          |0                  |NULL          |NULL            |\n",
            "|COOK           |0                  |NULL          |NULL            |\n",
            "|OMAB           |0                  |NULL          |NULL            |\n",
            "|SCSD04         |0                  |NULL          |NULL            |\n",
            "|ZEST           |0                  |NULL          |NULL            |\n",
            "|OMQC           |0                  |NULL          |NULL            |\n",
            "|TSN            |0                  |NULL          |NULL            |\n",
            "|OTN1           |0                  |NULL          |NULL            |\n",
            "|SATV           |0                  |NULL          |NULL            |\n",
            "|DIY            |0                  |NULL          |NULL            |\n",
            "|FTV            |0                  |NULL          |NULL            |\n",
            "|SCSD03         |0                  |NULL          |NULL            |\n",
            "|TOON           |0                  |NULL          |NULL            |\n",
            "|SKIN           |0                  |NULL          |NULL            |\n",
            "|OMBC           |0                  |NULL          |NULL            |\n",
            "|SHOW           |0                  |NULL          |NULL            |\n",
            "|SN2            |0                  |NULL          |NULL            |\n",
            "|LCN            |0                  |NULL          |NULL            |\n",
            "|SNWST          |0                  |NULL          |NULL            |\n",
            "|COMGLD         |0                  |NULL          |NULL            |\n",
            "|SNONE          |0                  |NULL          |NULL            |\n",
            "|TIMESN         |0                  |NULL          |NULL            |\n",
            "|MPIX2          |0                  |NULL          |NULL            |\n",
            "|TRESR          |0                  |NULL          |NULL            |\n",
            "|AMITV          |0                  |NULL          |NULL            |\n",
            "|TV5            |0                  |NULL          |NULL            |\n",
            "|ATN10          |0                  |NULL          |NULL            |\n",
            "|MMAX           |0                  |NULL          |NULL            |\n",
            "|OTN3           |0                  |NULL          |NULL            |\n",
            "|DOCS           |0                  |NULL          |NULL            |\n",
            "|TELENO         |0                  |NULL          |NULL            |\n",
            "|CAVE           |0                  |NULL          |NULL            |\n",
            "|OUTDR          |0                  |NULL          |NULL            |\n",
            "|TCC            |0                  |NULL          |NULL            |\n",
            "|ESPN           |0                  |NULL          |NULL            |\n",
            "|SPACE          |0                  |NULL          |NULL            |\n",
            "|2000SM         |0                  |NULL          |NULL            |\n",
            "|TMN3           |0                  |NULL          |NULL            |\n",
            "|PLAY           |0                  |NULL          |NULL            |\n",
            "|FYI            |0                  |NULL          |NULL            |\n",
            "|DSNYEN         |0                  |NULL          |NULL            |\n",
            "|EXP            |0                  |NULL          |NULL            |\n",
            "|RURAL          |0                  |NULL          |NULL            |\n",
            "|SAB            |0                  |NULL          |NULL            |\n",
            "|WFN            |0                  |NULL          |NULL            |\n",
            "|YOOP           |0                  |NULL          |NULL            |\n",
            "|PENT           |0                  |NULL          |NULL            |\n",
            "|BNN            |0                  |NULL          |NULL            |\n",
            "|V              |0                  |NULL          |NULL            |\n",
            "|TRV            |0                  |NULL          |NULL            |\n",
            "|WTN            |0                  |NULL          |NULL            |\n",
            "|FOOD           |0                  |NULL          |NULL            |\n",
            "|SPARK          |0                  |NULL          |NULL            |\n",
            "|CARTN          |0                  |NULL          |NULL            |\n",
            "|ATN11          |0                  |NULL          |NULL            |\n",
            "|FASH           |0                  |NULL          |NULL            |\n",
            "|TLTOON         |0                  |NULL          |NULL            |\n",
            "|unis           |0                  |NULL          |NULL            |\n",
            "|EURO           |0                  |NULL          |NULL            |\n",
            "|NGWILD         |0                  |NULL          |NULL            |\n",
            "|RAPT           |0                  |NULL          |NULL            |\n",
            "|ABORIH         |0                  |NULL          |NULL            |\n",
            "|SNPAC          |0                  |NULL          |NULL            |\n",
            "|OMON           |0                  |NULL          |NULL            |\n",
            "|YTV            |0                  |NULL          |NULL            |\n",
            "|INVST          |0                  |NULL          |NULL            |\n",
            "|FAMCHA         |0                  |NULL          |NULL            |\n",
            "|MAGINO         |0                  |NULL          |NULL            |\n",
            "|TMN1           |0                  |NULL          |NULL            |\n",
            "|CTVNC          |0                  |NULL          |NULL            |\n",
            "|MOICIE         |0                  |NULL          |NULL            |\n",
            "|DIVA           |0                  |NULL          |NULL            |\n",
            "|NINOS          |0                  |NULL          |NULL            |\n",
            "|CP24           |0                  |NULL          |NULL            |\n",
            "|ONEBMS         |0                  |NULL          |NULL            |\n",
            "|TTV            |0                  |NULL          |NULL            |\n",
            "|THTV           |0                  |NULL          |NULL            |\n",
            "|HGTV           |0                  |NULL          |NULL            |\n",
            "|MSET           |0                  |NULL          |NULL            |\n",
            "|IDNR           |0                  |NULL          |NULL            |\n",
            "|GUS            |0                  |NULL          |NULL            |\n",
            "|E!             |0                  |NULL          |NULL            |\n",
            "|DISSCI         |0                  |NULL          |NULL            |\n",
            "|TDC            |0                  |NULL          |NULL            |\n",
            "|SPTVA2         |0                  |NULL          |NULL            |\n",
            "|PRIDE          |0                  |NULL          |NULL            |\n",
            "|FIGHT          |0                  |NULL          |NULL            |\n",
            "|DSNYFR         |0                  |NULL          |NULL            |\n",
            "|LIFENT         |0                  |NULL          |NULL            |\n",
            "|TMN4           |0                  |NULL          |NULL            |\n",
            "|HISTORY        |0                  |NULL          |NULL            |\n",
            "|NATUR          |0                  |NULL          |NULL            |\n",
            "|RDS            |0                  |NULL          |NULL            |\n",
            "|FACHTV         |0                  |NULL          |NULL            |\n",
            "|DTOUR          |0                  |NULL          |NULL            |\n",
            "|NICK           |0                  |NULL          |NULL            |\n",
            "|SALT           |0                  |NULL          |NULL            |\n",
            "|SPRTVA         |0                  |NULL          |NULL            |\n",
            "|SCSD02         |0                  |NULL          |NULL            |\n",
            "|DSNYXD         |0                  |NULL          |NULL            |\n",
            "|NGCE           |0                  |NULL          |NULL            |\n",
            "|ZEETV          |0                  |NULL          |NULL            |\n",
            "|MUCHM          |0                  |NULL          |NULL            |\n",
            "|AMIFR          |0                  |NULL          |NULL            |\n",
            "|70SM           |0                  |NULL          |NULL            |\n",
            "|TSN1           |0                  |NULL          |NULL            |\n",
            "|90SM           |0                  |NULL          |NULL            |\n",
            "|CHISTO         |0                  |NULL          |NULL            |\n",
            "|SNEST          |0                  |NULL          |NULL            |\n",
            "|ATN14          |0                  |NULL          |NULL            |\n",
            "|TSN2           |0                  |NULL          |NULL            |\n",
            "|FNTSY          |0                  |NULL          |NULL            |\n",
            "|FACHV2         |0                  |NULL          |NULL            |\n",
            "|FAMJR          |0                  |NULL          |NULL            |\n",
            "|PRIS           |0                  |NULL          |NULL            |\n",
            "|TCN            |0                  |NULL          |NULL            |\n",
            "|MVOLA          |0                  |NULL          |NULL            |\n",
            "|NEWSW          |0                  |NULL          |NULL            |\n",
            "|SERIEP         |0                  |NULL          |NULL            |\n",
            "|TMN2           |0                  |NULL          |NULL            |\n",
            "|HPITV          |0                  |NULL          |NULL            |\n",
            "|SNONT          |0                  |NULL          |NULL            |\n",
            "|SE01           |0                  |NULL          |NULL            |\n",
            "|DEJA           |0                  |NULL          |NULL            |\n",
            "|TENCH2         |0                  |NULL          |NULL            |\n",
            "|CHRGD          |0                  |NULL          |NULL            |\n",
            "|VISION         |0                  |NULL          |NULL            |\n",
            "|LEAF           |0                  |NULL          |NULL            |\n",
            "|SN360          |0                  |NULL          |NULL            |\n",
            "|SE03           |0                  |NULL          |NULL            |\n",
            "|SE04           |0                  |NULL          |NULL            |\n",
            "|ZOOM           |0                  |NULL          |NULL            |\n",
            "|80SM           |0                  |NULL          |NULL            |\n",
            "|MPLU           |0                  |NULL          |NULL            |\n",
            "|DSNYJR         |0                  |NULL          |NULL            |\n",
            "|FPTV           |0                  |NULL          |NULL            |\n",
            "|RDI            |0                  |NULL          |NULL            |\n",
            "|SE02           |0                  |NULL          |NULL            |\n",
            "|SRC            |0                  |NULL          |NULL            |\n",
            "|MTV1           |0                  |NULL          |NULL            |\n",
            "|NEOCRI         |0                  |NULL          |NULL            |\n",
            "|WILD           |0                  |NULL          |NULL            |\n",
            "|TVADIK         |0                  |NULL          |NULL            |\n",
            "|FXC            |0                  |NULL          |NULL            |\n",
            "|FXX            |0                  |NULL          |NULL            |\n",
            "|DISVEL         |0                  |NULL          |NULL            |\n",
            "|TSN5           |0                  |NULL          |NULL            |\n",
            "|TANG           |0                  |NULL          |NULL            |\n",
            "|SMITH          |0                  |NULL          |NULL            |\n",
            "|RDS2           |0                  |NULL          |NULL            |\n",
            "|RAZER          |0                  |NULL          |NULL            |\n",
            "|BBCE           |0                  |NULL          |NULL            |\n",
            "+---------------+-------------------+--------------+----------------+\n",
            "\n"
          ]
        }
      ]
    },
    {
      "cell_type": "code",
      "source": [
        "import os\n",
        "from pyspark.sql import SparkSession\n",
        "\n",
        "# Initialize Spark Session\n",
        "spark = SparkSession.builder \\\n",
        "    .appName(\"Broadcast Logs\") \\\n",
        "    .getOrCreate()\n",
        "\n",
        "# Specify the file directory\n",
        "DIRECTORY = \"/content/drive/MyDrive/cde_data/broadcast_logs\"\n",
        "\n",
        "# Read the CSV file with the specified options\n",
        "logs = spark.read.csv(\n",
        "    os.path.join(DIRECTORY, \"BroadcastLogs_2018_Q3_M8_sample.CSV\"),\n",
        "    sep=\"|\",\n",
        "    header=True,\n",
        "    inferSchema=True,\n",
        "    timestampFormat=\"yyyy-MM-dd\"\n",
        ")\n",
        "\n",
        "# Show a few rows to confirm\n",
        "logs.show(5)\n"
      ],
      "metadata": {
        "colab": {
          "base_uri": "https://localhost:8080/"
        },
        "id": "vsPecE79LQHO",
        "outputId": "5e806e81-db15-403c-edbe-be053574feef"
      },
      "execution_count": 21,
      "outputs": [
        {
          "output_type": "stream",
          "name": "stdout",
          "text": [
            "+--------------+------------+----------+----------+-------------------+----------------------+----------+---------------+-----------------+----------------+---------------+------------------+--------------+--------------------+------------+----------------+----------------+------------+------------+--------------------+----------------+--------+--------------------+------------------+----------------------+-------------+---------+---------+---------+---------+\n",
            "|BroadcastLogID|LogServiceID|   LogDate|SequenceNO|AudienceTargetAgeID|AudienceTargetEthnicID|CategoryID|ClosedCaptionID|CountryOfOriginID|DubDramaCreditID|EthnicProgramID|ProductionSourceID|ProgramClassID|FilmClassificationID|ExhibitionID|        Duration|         EndTime|LogEntryDate|ProductionNO|        ProgramTitle|       StartTime|Subtitle|NetworkAffiliationID|SpecialAttentionID|BroadcastOriginPointID|CompositionID|Producer1|Producer2|Language1|Language2|\n",
            "+--------------+------------+----------+----------+-------------------+----------------------+----------+---------------+-----------------+----------------+---------------+------------------+--------------+--------------------+------------+----------------+----------------+------------+------------+--------------------+----------------+--------+--------------------+------------------+----------------------+-------------+---------+---------+---------+---------+\n",
            "|    1196192316|        3157|2018-08-01|         1|                  4|                  NULL|        13|              3|                3|            NULL|           NULL|                10|            19|                NULL|           2|02:00:00.0000000|08:00:00.0000000|  2018-08-01|      A39082|   Newlywed and Dead|06:00:00.0000000|    NULL|                NULL|              NULL|                  NULL|         NULL|     NULL|     NULL|       94|     NULL|\n",
            "|    1196192317|        3157|2018-08-01|         2|               NULL|                  NULL|      NULL|              1|             NULL|            NULL|           NULL|              NULL|            20|                NULL|        NULL|00:00:30.0000000|06:13:45.0000000|  2018-08-01|        NULL|15-SPECIALTY CHAN...|06:13:15.0000000|    NULL|                NULL|              NULL|                  NULL|         NULL|     NULL|     NULL|     NULL|     NULL|\n",
            "|    1196192318|        3157|2018-08-01|         3|               NULL|                  NULL|      NULL|              1|             NULL|            NULL|           NULL|              NULL|             3|                NULL|        NULL|00:00:15.0000000|06:14:00.0000000|  2018-08-01|        NULL|3-PROCTER & GAMBL...|06:13:45.0000000|    NULL|                NULL|              NULL|                  NULL|         NULL|     NULL|     NULL|     NULL|     NULL|\n",
            "|    1196192319|        3157|2018-08-01|         4|               NULL|                  NULL|      NULL|              1|             NULL|            NULL|           NULL|              NULL|             3|                NULL|        NULL|00:00:15.0000000|06:14:15.0000000|  2018-08-01|        NULL|12-CREDIT KARMA-B...|06:14:00.0000000|    NULL|                NULL|              NULL|                  NULL|         NULL|     NULL|     NULL|     NULL|     NULL|\n",
            "|    1196192320|        3157|2018-08-01|         5|               NULL|                  NULL|      NULL|              1|             NULL|            NULL|           NULL|              NULL|             3|                NULL|        NULL|00:00:15.0000000|06:14:30.0000000|  2018-08-01|        NULL|3-L'OREAL CANADA-...|06:14:15.0000000|    NULL|                NULL|              NULL|                  NULL|         NULL|     NULL|     NULL|     NULL|     NULL|\n",
            "+--------------+------------+----------+----------+-------------------+----------------------+----------+---------------+-----------------+----------------+---------------+------------------+--------------+--------------------+------------+----------------+----------------+------------+------------+--------------------+----------------+--------+--------------------+------------------+----------------------+-------------+---------+---------+---------+---------+\n",
            "only showing top 5 rows\n",
            "\n"
          ]
        }
      ]
    },
    {
      "cell_type": "code",
      "source": [
        " logs.printSchema()"
      ],
      "metadata": {
        "colab": {
          "base_uri": "https://localhost:8080/"
        },
        "id": "Pax9dGs2Iqi8",
        "outputId": "ac85ca74-8606-4347-b180-7f4248be2b4d"
      },
      "execution_count": 22,
      "outputs": [
        {
          "output_type": "stream",
          "name": "stdout",
          "text": [
            "root\n",
            " |-- BroadcastLogID: integer (nullable = true)\n",
            " |-- LogServiceID: integer (nullable = true)\n",
            " |-- LogDate: date (nullable = true)\n",
            " |-- SequenceNO: integer (nullable = true)\n",
            " |-- AudienceTargetAgeID: integer (nullable = true)\n",
            " |-- AudienceTargetEthnicID: integer (nullable = true)\n",
            " |-- CategoryID: integer (nullable = true)\n",
            " |-- ClosedCaptionID: integer (nullable = true)\n",
            " |-- CountryOfOriginID: integer (nullable = true)\n",
            " |-- DubDramaCreditID: integer (nullable = true)\n",
            " |-- EthnicProgramID: integer (nullable = true)\n",
            " |-- ProductionSourceID: integer (nullable = true)\n",
            " |-- ProgramClassID: integer (nullable = true)\n",
            " |-- FilmClassificationID: integer (nullable = true)\n",
            " |-- ExhibitionID: integer (nullable = true)\n",
            " |-- Duration: string (nullable = true)\n",
            " |-- EndTime: string (nullable = true)\n",
            " |-- LogEntryDate: date (nullable = true)\n",
            " |-- ProductionNO: string (nullable = true)\n",
            " |-- ProgramTitle: string (nullable = true)\n",
            " |-- StartTime: string (nullable = true)\n",
            " |-- Subtitle: string (nullable = true)\n",
            " |-- NetworkAffiliationID: integer (nullable = true)\n",
            " |-- SpecialAttentionID: integer (nullable = true)\n",
            " |-- BroadcastOriginPointID: integer (nullable = true)\n",
            " |-- CompositionID: integer (nullable = true)\n",
            " |-- Producer1: string (nullable = true)\n",
            " |-- Producer2: string (nullable = true)\n",
            " |-- Language1: integer (nullable = true)\n",
            " |-- Language2: integer (nullable = true)\n",
            "\n"
          ]
        }
      ]
    },
    {
      "cell_type": "code",
      "source": [
        " logs.select(\"BroadcastLogID\", \"LogServiceID\", \"LogDate\").show(5, False)"
      ],
      "metadata": {
        "colab": {
          "base_uri": "https://localhost:8080/"
        },
        "id": "8tHVoiFvH5XL",
        "outputId": "de3c5210-28ac-478f-996a-602dfb595f03"
      },
      "execution_count": 23,
      "outputs": [
        {
          "output_type": "stream",
          "name": "stdout",
          "text": [
            "+--------------+------------+----------+\n",
            "|BroadcastLogID|LogServiceID|LogDate   |\n",
            "+--------------+------------+----------+\n",
            "|1196192316    |3157        |2018-08-01|\n",
            "|1196192317    |3157        |2018-08-01|\n",
            "|1196192318    |3157        |2018-08-01|\n",
            "|1196192319    |3157        |2018-08-01|\n",
            "|1196192320    |3157        |2018-08-01|\n",
            "+--------------+------------+----------+\n",
            "only showing top 5 rows\n",
            "\n"
          ]
        }
      ]
    },
    {
      "cell_type": "code",
      "source": [
        "# Using the string to column conversion\n",
        "logs.select(\"BroadCastLogID\", \"LogServiceID\", \"LogDate\")"
      ],
      "metadata": {
        "colab": {
          "base_uri": "https://localhost:8080/"
        },
        "id": "dG6IBmxlyMF1",
        "outputId": "824402b6-f4ad-45cd-b6bf-119f752488d6"
      },
      "execution_count": 25,
      "outputs": [
        {
          "output_type": "execute_result",
          "data": {
            "text/plain": [
              "DataFrame[BroadCastLogID: int, LogServiceID: int, LogDate: date]"
            ]
          },
          "metadata": {},
          "execution_count": 25
        }
      ]
    },
    {
      "cell_type": "code",
      "source": [
        "logs.select(*[\"BroadCastLogID\", \"LogServiceID\", \"LogDate\"])"
      ],
      "metadata": {
        "colab": {
          "base_uri": "https://localhost:8080/"
        },
        "id": "m0lzOY0GySZZ",
        "outputId": "43321dce-ddf5-42ae-a614-8cdf9a8e87b7"
      },
      "execution_count": 26,
      "outputs": [
        {
          "output_type": "execute_result",
          "data": {
            "text/plain": [
              "DataFrame[BroadCastLogID: int, LogServiceID: int, LogDate: date]"
            ]
          },
          "metadata": {},
          "execution_count": 26
        }
      ]
    },
    {
      "cell_type": "code",
      "source": [
        " # Passing the column object explicitly\n",
        "logs.select(\n",
        "    F.col(\"BroadCastLogID\"), F.col(\"LogServiceID\"), F.col(\"LogDate\")\n",
        " )"
      ],
      "metadata": {
        "colab": {
          "base_uri": "https://localhost:8080/"
        },
        "id": "fFuSbH6GyV02",
        "outputId": "123df0cb-fb81-4b6d-f702-42c8e6901de5"
      },
      "execution_count": 27,
      "outputs": [
        {
          "output_type": "execute_result",
          "data": {
            "text/plain": [
              "DataFrame[BroadCastLogID: int, LogServiceID: int, LogDate: date]"
            ]
          },
          "metadata": {},
          "execution_count": 27
        }
      ]
    },
    {
      "cell_type": "code",
      "source": [
        "\n",
        "\n",
        "\n",
        "logs.select(\n",
        "    *[F.col(\"BroadCastLogID\"), F.col(\"LogServiceID\"), F.col(\"LogDate\")]\n",
        " )"
      ],
      "metadata": {
        "colab": {
          "base_uri": "https://localhost:8080/"
        },
        "id": "9Q2iyuwBH5db",
        "outputId": "36727f6a-e014-48c8-bcfc-3a5ba3c3ef97"
      },
      "execution_count": 28,
      "outputs": [
        {
          "output_type": "execute_result",
          "data": {
            "text/plain": [
              "DataFrame[BroadCastLogID: int, LogServiceID: int, LogDate: date]"
            ]
          },
          "metadata": {},
          "execution_count": 28
        }
      ]
    },
    {
      "cell_type": "code",
      "source": [
        "import numpy as np\n",
        "\n",
        "# Split columns into 3 roughly equal parts\n",
        "column_split = np.array_split(np.array(logs.columns), len(logs.columns) // 3)\n",
        "\n",
        "# Show first 5 rows of each split\n",
        "for x in column_split:\n",
        "    logs.select(*x).show(5, False)\n"
      ],
      "metadata": {
        "colab": {
          "base_uri": "https://localhost:8080/"
        },
        "id": "yd1yjjAryc8H",
        "outputId": "bd04438d-578f-47a6-ac71-1721be1bccb3"
      },
      "execution_count": 29,
      "outputs": [
        {
          "output_type": "stream",
          "name": "stdout",
          "text": [
            "+--------------+------------+----------+\n",
            "|BroadcastLogID|LogServiceID|LogDate   |\n",
            "+--------------+------------+----------+\n",
            "|1196192316    |3157        |2018-08-01|\n",
            "|1196192317    |3157        |2018-08-01|\n",
            "|1196192318    |3157        |2018-08-01|\n",
            "|1196192319    |3157        |2018-08-01|\n",
            "|1196192320    |3157        |2018-08-01|\n",
            "+--------------+------------+----------+\n",
            "only showing top 5 rows\n",
            "\n",
            "+----------+-------------------+----------------------+\n",
            "|SequenceNO|AudienceTargetAgeID|AudienceTargetEthnicID|\n",
            "+----------+-------------------+----------------------+\n",
            "|1         |4                  |NULL                  |\n",
            "|2         |NULL               |NULL                  |\n",
            "|3         |NULL               |NULL                  |\n",
            "|4         |NULL               |NULL                  |\n",
            "|5         |NULL               |NULL                  |\n",
            "+----------+-------------------+----------------------+\n",
            "only showing top 5 rows\n",
            "\n",
            "+----------+---------------+-----------------+\n",
            "|CategoryID|ClosedCaptionID|CountryOfOriginID|\n",
            "+----------+---------------+-----------------+\n",
            "|13        |3              |3                |\n",
            "|NULL      |1              |NULL             |\n",
            "|NULL      |1              |NULL             |\n",
            "|NULL      |1              |NULL             |\n",
            "|NULL      |1              |NULL             |\n",
            "+----------+---------------+-----------------+\n",
            "only showing top 5 rows\n",
            "\n",
            "+----------------+---------------+------------------+\n",
            "|DubDramaCreditID|EthnicProgramID|ProductionSourceID|\n",
            "+----------------+---------------+------------------+\n",
            "|NULL            |NULL           |10                |\n",
            "|NULL            |NULL           |NULL              |\n",
            "|NULL            |NULL           |NULL              |\n",
            "|NULL            |NULL           |NULL              |\n",
            "|NULL            |NULL           |NULL              |\n",
            "+----------------+---------------+------------------+\n",
            "only showing top 5 rows\n",
            "\n",
            "+--------------+--------------------+------------+\n",
            "|ProgramClassID|FilmClassificationID|ExhibitionID|\n",
            "+--------------+--------------------+------------+\n",
            "|19            |NULL                |2           |\n",
            "|20            |NULL                |NULL        |\n",
            "|3             |NULL                |NULL        |\n",
            "|3             |NULL                |NULL        |\n",
            "|3             |NULL                |NULL        |\n",
            "+--------------+--------------------+------------+\n",
            "only showing top 5 rows\n",
            "\n",
            "+----------------+----------------+------------+\n",
            "|Duration        |EndTime         |LogEntryDate|\n",
            "+----------------+----------------+------------+\n",
            "|02:00:00.0000000|08:00:00.0000000|2018-08-01  |\n",
            "|00:00:30.0000000|06:13:45.0000000|2018-08-01  |\n",
            "|00:00:15.0000000|06:14:00.0000000|2018-08-01  |\n",
            "|00:00:15.0000000|06:14:15.0000000|2018-08-01  |\n",
            "|00:00:15.0000000|06:14:30.0000000|2018-08-01  |\n",
            "+----------------+----------------+------------+\n",
            "only showing top 5 rows\n",
            "\n",
            "+------------+-------------------------------------------+----------------+\n",
            "|ProductionNO|ProgramTitle                               |StartTime       |\n",
            "+------------+-------------------------------------------+----------------+\n",
            "|A39082      |Newlywed and Dead                          |06:00:00.0000000|\n",
            "|NULL        |15-SPECIALTY CHANNELS-Canadian Generic     |06:13:15.0000000|\n",
            "|NULL        |3-PROCTER & GAMBLE INC-Anti-Perspirant 3rd |06:13:45.0000000|\n",
            "|NULL        |12-CREDIT KARMA-Bank/Credit Union/Trust 3rd|06:14:00.0000000|\n",
            "|NULL        |3-L'OREAL CANADA-Hair Products 3rd         |06:14:15.0000000|\n",
            "+------------+-------------------------------------------+----------------+\n",
            "only showing top 5 rows\n",
            "\n",
            "+--------+--------------------+------------------+\n",
            "|Subtitle|NetworkAffiliationID|SpecialAttentionID|\n",
            "+--------+--------------------+------------------+\n",
            "|NULL    |NULL                |NULL              |\n",
            "|NULL    |NULL                |NULL              |\n",
            "|NULL    |NULL                |NULL              |\n",
            "|NULL    |NULL                |NULL              |\n",
            "|NULL    |NULL                |NULL              |\n",
            "+--------+--------------------+------------------+\n",
            "only showing top 5 rows\n",
            "\n",
            "+----------------------+-------------+---------+\n",
            "|BroadcastOriginPointID|CompositionID|Producer1|\n",
            "+----------------------+-------------+---------+\n",
            "|NULL                  |NULL         |NULL     |\n",
            "|NULL                  |NULL         |NULL     |\n",
            "|NULL                  |NULL         |NULL     |\n",
            "|NULL                  |NULL         |NULL     |\n",
            "|NULL                  |NULL         |NULL     |\n",
            "+----------------------+-------------+---------+\n",
            "only showing top 5 rows\n",
            "\n",
            "+---------+---------+---------+\n",
            "|Producer2|Language1|Language2|\n",
            "+---------+---------+---------+\n",
            "|NULL     |94       |NULL     |\n",
            "|NULL     |NULL     |NULL     |\n",
            "|NULL     |NULL     |NULL     |\n",
            "|NULL     |NULL     |NULL     |\n",
            "|NULL     |NULL     |NULL     |\n",
            "+---------+---------+---------+\n",
            "only showing top 5 rows\n",
            "\n"
          ]
        }
      ]
    },
    {
      "cell_type": "code",
      "source": [
        " logs = logs.drop(\"BroadcastLogID\", \"SequenceNO\")"
      ],
      "metadata": {
        "id": "bhkptxS8InM6"
      },
      "execution_count": 30,
      "outputs": []
    },
    {
      "cell_type": "code",
      "source": [
        " print(\"BroadcastLogID\" in logs.columns)  # => False\n",
        " print(\"SequenceNo\" in logs.columns)  # => False"
      ],
      "metadata": {
        "colab": {
          "base_uri": "https://localhost:8080/"
        },
        "id": "cXQuQ1GwI3Lc",
        "outputId": "067b289a-9393-4cc5-96c9-e72dccbaebaa"
      },
      "execution_count": 31,
      "outputs": [
        {
          "output_type": "stream",
          "name": "stdout",
          "text": [
            "False\n",
            "False\n"
          ]
        }
      ]
    },
    {
      "cell_type": "code",
      "source": [
        "logs = logs.select(\n",
        "    *[x for x in logs.columns if x not in [\"BroadcastLogID\", \"SequenceNO\"]]\n",
        " )"
      ],
      "metadata": {
        "id": "OqzQ53DnI-6z"
      },
      "execution_count": 32,
      "outputs": []
    },
    {
      "cell_type": "code",
      "source": [],
      "metadata": {
        "id": "vUvL16XfJ288"
      },
      "execution_count": null,
      "outputs": []
    },
    {
      "cell_type": "code",
      "source": [
        "sample = spark.read.csv(\n",
        "    \"/content/drive/MyDrive/cde_data/sample_section_4/sample.csv\",\n",
        "    sep=\",\",\n",
        "    header=True,         # Use a boolean, not a list\n",
        "    quote='\"',           # Default quote character is a double-quote; adjust if needed\n",
        "    inferSchema=True     # Use a boolean, not a list\n",
        ")\n"
      ],
      "metadata": {
        "id": "A3zqdPxcJrbE"
      },
      "execution_count": 34,
      "outputs": []
    },
    {
      "cell_type": "code",
      "source": [
        "sample.show()"
      ],
      "metadata": {
        "colab": {
          "base_uri": "https://localhost:8080/"
        },
        "id": "eFmvOpBxJrd5",
        "outputId": "f35470a5-572e-4517-bc72-8452e6274669"
      },
      "execution_count": 35,
      "outputs": [
        {
          "output_type": "stream",
          "name": "stdout",
          "text": [
            "+--------+-----------+-----+\n",
            "|    Item|   Quantity|Price|\n",
            "+--------+-----------+-----+\n",
            "| $Banana|   organic$|  1.0|\n",
            "|    Pear|          7| 1.24|\n",
            "|   $Cake| chocolate$|  1.0|\n",
            "+--------+-----------+-----+\n",
            "\n"
          ]
        }
      ]
    },
    {
      "cell_type": "code",
      "source": [
        " sample.columns"
      ],
      "metadata": {
        "colab": {
          "base_uri": "https://localhost:8080/"
        },
        "id": "1GDlXPz2KP1L",
        "outputId": "6007cbd3-2446-42bd-d788-7942d5254b3f"
      },
      "execution_count": 37,
      "outputs": [
        {
          "output_type": "execute_result",
          "data": {
            "text/plain": [
              "['Item', 'Quantity', 'Price']"
            ]
          },
          "metadata": {},
          "execution_count": 37
        }
      ]
    },
    {
      "cell_type": "code",
      "source": [
        "   logs.select(F.col(\"Duration\")).show(5)"
      ],
      "metadata": {
        "colab": {
          "base_uri": "https://localhost:8080/"
        },
        "id": "LQOV6uU0KRhK",
        "outputId": "16d222bc-4681-47ac-eeb4-3688ad3ad876"
      },
      "execution_count": 38,
      "outputs": [
        {
          "output_type": "stream",
          "name": "stdout",
          "text": [
            "+----------------+\n",
            "|        Duration|\n",
            "+----------------+\n",
            "|02:00:00.0000000|\n",
            "|00:00:30.0000000|\n",
            "|00:00:15.0000000|\n",
            "|00:00:15.0000000|\n",
            "|00:00:15.0000000|\n",
            "+----------------+\n",
            "only showing top 5 rows\n",
            "\n"
          ]
        }
      ]
    },
    {
      "cell_type": "code",
      "source": [
        " print(logs.select(F.col(\"Duration\")).dtypes)"
      ],
      "metadata": {
        "colab": {
          "base_uri": "https://localhost:8080/"
        },
        "id": "w_DFyPsbKjXV",
        "outputId": "0f0458cf-0c45-4705-d471-c8f062caa7ca"
      },
      "execution_count": 39,
      "outputs": [
        {
          "output_type": "stream",
          "name": "stdout",
          "text": [
            "[('Duration', 'string')]\n"
          ]
        }
      ]
    },
    {
      "cell_type": "code",
      "source": [
        "import pyspark.sql.functions as F\n",
        "\n",
        "logs.select(\n",
        "    F.col(\"Duration\"),\n",
        "    F.col(\"Duration\").substr(1, 2).cast(\"int\").alias(\"dur_hours\"),\n",
        "    F.col(\"Duration\").substr(4, 2).cast(\"int\").alias(\"dur_minutes\"),\n",
        "    F.col(\"Duration\").substr(7, 2).cast(\"int\").alias(\"dur_seconds\")\n",
        ").distinct().show(5)\n"
      ],
      "metadata": {
        "colab": {
          "base_uri": "https://localhost:8080/"
        },
        "id": "sUmVrAD8Kjbr",
        "outputId": "77b53616-6e0f-4cf9-dbda-1a796ddfd42e"
      },
      "execution_count": 40,
      "outputs": [
        {
          "output_type": "stream",
          "name": "stdout",
          "text": [
            "+----------------+---------+-----------+-----------+\n",
            "|        Duration|dur_hours|dur_minutes|dur_seconds|\n",
            "+----------------+---------+-----------+-----------+\n",
            "|00:04:52.0000000|        0|          4|         52|\n",
            "|00:10:06.0000000|        0|         10|          6|\n",
            "|00:26:41.0000000|        0|         26|         41|\n",
            "|00:05:29.0000000|        0|          5|         29|\n",
            "|00:08:18.0000000|        0|          8|         18|\n",
            "+----------------+---------+-----------+-----------+\n",
            "only showing top 5 rows\n",
            "\n"
          ]
        }
      ]
    },
    {
      "cell_type": "code",
      "source": [
        "import pyspark.sql.functions as F\n",
        "\n",
        "logs.select(\n",
        "    F.col(\"Duration\"),\n",
        "    (\n",
        "        F.col(\"Duration\").substr(1, 2).cast(\"int\") * 60 * 60 +\n",
        "        F.col(\"Duration\").substr(4, 2).cast(\"int\") * 60 +\n",
        "        F.col(\"Duration\").substr(7, 2).cast(\"int\")\n",
        "    ).alias(\"Duration_seconds\")\n",
        ").distinct().show(5)\n"
      ],
      "metadata": {
        "colab": {
          "base_uri": "https://localhost:8080/"
        },
        "id": "k7uICdDTKjeY",
        "outputId": "4a65f1fb-b634-4b6c-d794-80e21442279a"
      },
      "execution_count": 41,
      "outputs": [
        {
          "output_type": "stream",
          "name": "stdout",
          "text": [
            "+----------------+----------------+\n",
            "|        Duration|Duration_seconds|\n",
            "+----------------+----------------+\n",
            "|01:59:30.0000000|            7170|\n",
            "|00:31:00.0000000|            1860|\n",
            "|00:28:08.0000000|            1688|\n",
            "|00:10:30.0000000|             630|\n",
            "|00:32:00.0000000|            1920|\n",
            "+----------------+----------------+\n",
            "only showing top 5 rows\n",
            "\n"
          ]
        }
      ]
    },
    {
      "cell_type": "code",
      "source": [
        " logs = logs.withColumn(\n",
        "    \"Duration_seconds\",\n",
        "    (\n",
        " F.col(\"Duration\").substr(1, 2).cast(\"int\") * 60 * 60\n",
        " + F.col(\"Duration\").substr(4, 2).cast(\"int\") * 60\n",
        " + F.col(\"Duration\").substr(7, 2).cast(\"int\")\n",
        "    ),\n",
        " )\n",
        "logs.printSchema()"
      ],
      "metadata": {
        "colab": {
          "base_uri": "https://localhost:8080/"
        },
        "id": "PTepJ41GLG99",
        "outputId": "c1b7fa06-e6a8-41e7-bace-18d57ada82ba"
      },
      "execution_count": 44,
      "outputs": [
        {
          "output_type": "stream",
          "name": "stdout",
          "text": [
            "root\n",
            " |-- LogServiceID: integer (nullable = true)\n",
            " |-- LogDate: date (nullable = true)\n",
            " |-- AudienceTargetAgeID: integer (nullable = true)\n",
            " |-- AudienceTargetEthnicID: integer (nullable = true)\n",
            " |-- CategoryID: integer (nullable = true)\n",
            " |-- ClosedCaptionID: integer (nullable = true)\n",
            " |-- CountryOfOriginID: integer (nullable = true)\n",
            " |-- DubDramaCreditID: integer (nullable = true)\n",
            " |-- EthnicProgramID: integer (nullable = true)\n",
            " |-- ProductionSourceID: integer (nullable = true)\n",
            " |-- ProgramClassID: integer (nullable = true)\n",
            " |-- FilmClassificationID: integer (nullable = true)\n",
            " |-- ExhibitionID: integer (nullable = true)\n",
            " |-- Duration: string (nullable = true)\n",
            " |-- EndTime: string (nullable = true)\n",
            " |-- LogEntryDate: date (nullable = true)\n",
            " |-- ProductionNO: string (nullable = true)\n",
            " |-- ProgramTitle: string (nullable = true)\n",
            " |-- StartTime: string (nullable = true)\n",
            " |-- Subtitle: string (nullable = true)\n",
            " |-- NetworkAffiliationID: integer (nullable = true)\n",
            " |-- SpecialAttentionID: integer (nullable = true)\n",
            " |-- BroadcastOriginPointID: integer (nullable = true)\n",
            " |-- CompositionID: integer (nullable = true)\n",
            " |-- Producer1: string (nullable = true)\n",
            " |-- Producer2: string (nullable = true)\n",
            " |-- Language1: integer (nullable = true)\n",
            " |-- Language2: integer (nullable = true)\n",
            " |-- Duration_seconds: integer (nullable = true)\n",
            "\n"
          ]
        }
      ]
    },
    {
      "cell_type": "code",
      "source": [],
      "metadata": {
        "colab": {
          "base_uri": "https://localhost:8080/"
        },
        "id": "Q7qmmqTjLHAv",
        "outputId": "c9bda7dc-a761-4cad-ddf0-b28539405971"
      },
      "execution_count": 43,
      "outputs": [
        {
          "output_type": "stream",
          "name": "stdout",
          "text": [
            "root\n",
            " |-- LogServiceID: integer (nullable = true)\n",
            " |-- LogDate: date (nullable = true)\n",
            " |-- AudienceTargetAgeID: integer (nullable = true)\n",
            " |-- AudienceTargetEthnicID: integer (nullable = true)\n",
            " |-- CategoryID: integer (nullable = true)\n",
            " |-- ClosedCaptionID: integer (nullable = true)\n",
            " |-- CountryOfOriginID: integer (nullable = true)\n",
            " |-- DubDramaCreditID: integer (nullable = true)\n",
            " |-- EthnicProgramID: integer (nullable = true)\n",
            " |-- ProductionSourceID: integer (nullable = true)\n",
            " |-- ProgramClassID: integer (nullable = true)\n",
            " |-- FilmClassificationID: integer (nullable = true)\n",
            " |-- ExhibitionID: integer (nullable = true)\n",
            " |-- Duration: string (nullable = true)\n",
            " |-- EndTime: string (nullable = true)\n",
            " |-- LogEntryDate: date (nullable = true)\n",
            " |-- ProductionNO: string (nullable = true)\n",
            " |-- ProgramTitle: string (nullable = true)\n",
            " |-- StartTime: string (nullable = true)\n",
            " |-- Subtitle: string (nullable = true)\n",
            " |-- NetworkAffiliationID: integer (nullable = true)\n",
            " |-- SpecialAttentionID: integer (nullable = true)\n",
            " |-- BroadcastOriginPointID: integer (nullable = true)\n",
            " |-- CompositionID: integer (nullable = true)\n",
            " |-- Producer1: string (nullable = true)\n",
            " |-- Producer2: string (nullable = true)\n",
            " |-- Language1: integer (nullable = true)\n",
            " |-- Language2: integer (nullable = true)\n",
            " |-- Duration_seconds: integer (nullable = true)\n",
            "\n"
          ]
        }
      ]
    },
    {
      "cell_type": "markdown",
      "source": [
        "![image.png](data:image/png;base64,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)"
      ],
      "metadata": {
        "id": "xvB_RvC5LxTT"
      }
    },
    {
      "cell_type": "code",
      "source": [
        " logs = logs.withColumnRenamed(\"Duration_seconds\", \"duration_seconds\")\n",
        " logs.printSchema()"
      ],
      "metadata": {
        "colab": {
          "base_uri": "https://localhost:8080/"
        },
        "id": "2D_dEwNrLHEx",
        "outputId": "611487de-80a6-439f-d2bb-0b9bffe45514"
      },
      "execution_count": 45,
      "outputs": [
        {
          "output_type": "stream",
          "name": "stdout",
          "text": [
            "root\n",
            " |-- LogServiceID: integer (nullable = true)\n",
            " |-- LogDate: date (nullable = true)\n",
            " |-- AudienceTargetAgeID: integer (nullable = true)\n",
            " |-- AudienceTargetEthnicID: integer (nullable = true)\n",
            " |-- CategoryID: integer (nullable = true)\n",
            " |-- ClosedCaptionID: integer (nullable = true)\n",
            " |-- CountryOfOriginID: integer (nullable = true)\n",
            " |-- DubDramaCreditID: integer (nullable = true)\n",
            " |-- EthnicProgramID: integer (nullable = true)\n",
            " |-- ProductionSourceID: integer (nullable = true)\n",
            " |-- ProgramClassID: integer (nullable = true)\n",
            " |-- FilmClassificationID: integer (nullable = true)\n",
            " |-- ExhibitionID: integer (nullable = true)\n",
            " |-- Duration: string (nullable = true)\n",
            " |-- EndTime: string (nullable = true)\n",
            " |-- LogEntryDate: date (nullable = true)\n",
            " |-- ProductionNO: string (nullable = true)\n",
            " |-- ProgramTitle: string (nullable = true)\n",
            " |-- StartTime: string (nullable = true)\n",
            " |-- Subtitle: string (nullable = true)\n",
            " |-- NetworkAffiliationID: integer (nullable = true)\n",
            " |-- SpecialAttentionID: integer (nullable = true)\n",
            " |-- BroadcastOriginPointID: integer (nullable = true)\n",
            " |-- CompositionID: integer (nullable = true)\n",
            " |-- Producer1: string (nullable = true)\n",
            " |-- Producer2: string (nullable = true)\n",
            " |-- Language1: integer (nullable = true)\n",
            " |-- Language2: integer (nullable = true)\n",
            " |-- duration_seconds: integer (nullable = true)\n",
            "\n"
          ]
        }
      ]
    },
    {
      "cell_type": "code",
      "source": [
        "logs.toDF(*[x.lower() for x in logs.columns]).printSchema()"
      ],
      "metadata": {
        "colab": {
          "base_uri": "https://localhost:8080/"
        },
        "id": "nQXp5AD8L9_j",
        "outputId": "601261f4-9e5d-4f51-b322-b4df43ab10fb"
      },
      "execution_count": 46,
      "outputs": [
        {
          "output_type": "stream",
          "name": "stdout",
          "text": [
            "root\n",
            " |-- logserviceid: integer (nullable = true)\n",
            " |-- logdate: date (nullable = true)\n",
            " |-- audiencetargetageid: integer (nullable = true)\n",
            " |-- audiencetargetethnicid: integer (nullable = true)\n",
            " |-- categoryid: integer (nullable = true)\n",
            " |-- closedcaptionid: integer (nullable = true)\n",
            " |-- countryoforiginid: integer (nullable = true)\n",
            " |-- dubdramacreditid: integer (nullable = true)\n",
            " |-- ethnicprogramid: integer (nullable = true)\n",
            " |-- productionsourceid: integer (nullable = true)\n",
            " |-- programclassid: integer (nullable = true)\n",
            " |-- filmclassificationid: integer (nullable = true)\n",
            " |-- exhibitionid: integer (nullable = true)\n",
            " |-- duration: string (nullable = true)\n",
            " |-- endtime: string (nullable = true)\n",
            " |-- logentrydate: date (nullable = true)\n",
            " |-- productionno: string (nullable = true)\n",
            " |-- programtitle: string (nullable = true)\n",
            " |-- starttime: string (nullable = true)\n",
            " |-- subtitle: string (nullable = true)\n",
            " |-- networkaffiliationid: integer (nullable = true)\n",
            " |-- specialattentionid: integer (nullable = true)\n",
            " |-- broadcastoriginpointid: integer (nullable = true)\n",
            " |-- compositionid: integer (nullable = true)\n",
            " |-- producer1: string (nullable = true)\n",
            " |-- producer2: string (nullable = true)\n",
            " |-- language1: integer (nullable = true)\n",
            " |-- language2: integer (nullable = true)\n",
            " |-- duration_seconds: integer (nullable = true)\n",
            "\n"
          ]
        }
      ]
    },
    {
      "cell_type": "code",
      "source": [
        " logs.select(sorted(logs.columns)).printSchema()"
      ],
      "metadata": {
        "colab": {
          "base_uri": "https://localhost:8080/"
        },
        "id": "sn_yxBQUL-Cq",
        "outputId": "a313d08a-2b0c-4cb3-edb5-56d4c698fb7f"
      },
      "execution_count": 47,
      "outputs": [
        {
          "output_type": "stream",
          "name": "stdout",
          "text": [
            "root\n",
            " |-- AudienceTargetAgeID: integer (nullable = true)\n",
            " |-- AudienceTargetEthnicID: integer (nullable = true)\n",
            " |-- BroadcastOriginPointID: integer (nullable = true)\n",
            " |-- CategoryID: integer (nullable = true)\n",
            " |-- ClosedCaptionID: integer (nullable = true)\n",
            " |-- CompositionID: integer (nullable = true)\n",
            " |-- CountryOfOriginID: integer (nullable = true)\n",
            " |-- DubDramaCreditID: integer (nullable = true)\n",
            " |-- Duration: string (nullable = true)\n",
            " |-- EndTime: string (nullable = true)\n",
            " |-- EthnicProgramID: integer (nullable = true)\n",
            " |-- ExhibitionID: integer (nullable = true)\n",
            " |-- FilmClassificationID: integer (nullable = true)\n",
            " |-- Language1: integer (nullable = true)\n",
            " |-- Language2: integer (nullable = true)\n",
            " |-- LogDate: date (nullable = true)\n",
            " |-- LogEntryDate: date (nullable = true)\n",
            " |-- LogServiceID: integer (nullable = true)\n",
            " |-- NetworkAffiliationID: integer (nullable = true)\n",
            " |-- Producer1: string (nullable = true)\n",
            " |-- Producer2: string (nullable = true)\n",
            " |-- ProductionNO: string (nullable = true)\n",
            " |-- ProductionSourceID: integer (nullable = true)\n",
            " |-- ProgramClassID: integer (nullable = true)\n",
            " |-- ProgramTitle: string (nullable = true)\n",
            " |-- SpecialAttentionID: integer (nullable = true)\n",
            " |-- StartTime: string (nullable = true)\n",
            " |-- Subtitle: string (nullable = true)\n",
            " |-- duration_seconds: integer (nullable = true)\n",
            "\n"
          ]
        }
      ]
    },
    {
      "cell_type": "code",
      "source": [
        "for i in logs.columns:\n",
        "    logs.describe(i).show()"
      ],
      "metadata": {
        "colab": {
          "base_uri": "https://localhost:8080/"
        },
        "id": "uzWwYPG-L-Fu",
        "outputId": "761bd152-7edc-418a-9d7b-f9dd3c529c77"
      },
      "execution_count": 48,
      "outputs": [
        {
          "output_type": "stream",
          "name": "stdout",
          "text": [
            "+-------+-----------------+\n",
            "|summary|     LogServiceID|\n",
            "+-------+-----------------+\n",
            "|  count|           238945|\n",
            "|   mean|3450.890284375065|\n",
            "| stddev| 199.506739625561|\n",
            "|    min|             3157|\n",
            "|    max|             3925|\n",
            "+-------+-----------------+\n",
            "\n",
            "+-------+\n",
            "|summary|\n",
            "+-------+\n",
            "|  count|\n",
            "|   mean|\n",
            "| stddev|\n",
            "|    min|\n",
            "|    max|\n",
            "+-------+\n",
            "\n",
            "+-------+-------------------+\n",
            "|summary|AudienceTargetAgeID|\n",
            "+-------+-------------------+\n",
            "|  count|              16112|\n",
            "|   mean| 3.4929245283018866|\n",
            "| stddev| 1.0415963394745127|\n",
            "|    min|                  1|\n",
            "|    max|                  4|\n",
            "+-------+-------------------+\n",
            "\n",
            "+-------+----------------------+\n",
            "|summary|AudienceTargetEthnicID|\n",
            "+-------+----------------------+\n",
            "|  count|                  1710|\n",
            "|   mean|    120.56432748538012|\n",
            "| stddev|     71.98694059436133|\n",
            "|    min|                     4|\n",
            "|    max|                   337|\n",
            "+-------+----------------------+\n",
            "\n",
            "+-------+------------------+\n",
            "|summary|        CategoryID|\n",
            "+-------+------------------+\n",
            "|  count|             25506|\n",
            "|   mean|18.485297577040697|\n",
            "| stddev|  9.65585225202083|\n",
            "|    min|                 1|\n",
            "|    max|                29|\n",
            "+-------+------------------+\n",
            "\n",
            "+-------+-------------------+\n",
            "|summary|    ClosedCaptionID|\n",
            "+-------+-------------------+\n",
            "|  count|             224117|\n",
            "|   mean| 1.0316174141185184|\n",
            "| stddev|0.24947032900378943|\n",
            "|    min|                  1|\n",
            "|    max|                  3|\n",
            "+-------+-------------------+\n",
            "\n",
            "+-------+------------------+\n",
            "|summary| CountryOfOriginID|\n",
            "+-------+------------------+\n",
            "|  count|             17822|\n",
            "|   mean|  4.06390977443609|\n",
            "| stddev|2.6159675821007293|\n",
            "|    min|                 2|\n",
            "|    max|                11|\n",
            "+-------+------------------+\n",
            "\n",
            "+-------+------------------+\n",
            "|summary|  DubDramaCreditID|\n",
            "+-------+------------------+\n",
            "|  count|               263|\n",
            "|   mean|5.1254752851711025|\n",
            "| stddev| 3.451329711438564|\n",
            "|    min|                 1|\n",
            "|    max|                10|\n",
            "+-------+------------------+\n",
            "\n",
            "+-------+------------------+\n",
            "|summary|   EthnicProgramID|\n",
            "+-------+------------------+\n",
            "|  count|              1895|\n",
            "|   mean| 4.316622691292876|\n",
            "| stddev|2.2966421456800274|\n",
            "|    min|                 1|\n",
            "|    max|                 6|\n",
            "+-------+------------------+\n",
            "\n",
            "+-------+------------------+\n",
            "|summary|ProductionSourceID|\n",
            "+-------+------------------+\n",
            "|  count|             16223|\n",
            "|   mean|11.193737286568453|\n",
            "| stddev| 6.079022239331333|\n",
            "|    min|                 1|\n",
            "|    max|                19|\n",
            "+-------+------------------+\n",
            "\n",
            "+-------+-----------------+\n",
            "|summary|   ProgramClassID|\n",
            "+-------+-----------------+\n",
            "|  count|           238945|\n",
            "|   mean| 8.49341061750612|\n",
            "| stddev|7.902116846905705|\n",
            "|    min|                3|\n",
            "|    max|               30|\n",
            "+-------+-----------------+\n",
            "\n",
            "+-------+--------------------+\n",
            "|summary|FilmClassificationID|\n",
            "+-------+--------------------+\n",
            "|  count|                1885|\n",
            "|   mean|   1.953315649867374|\n",
            "| stddev|  1.6420515263133848|\n",
            "|    min|                   1|\n",
            "|    max|                   8|\n",
            "+-------+--------------------+\n",
            "\n",
            "+-------+------------------+\n",
            "|summary|      ExhibitionID|\n",
            "+-------+------------------+\n",
            "|  count|              9263|\n",
            "|   mean|  4.52067364784627|\n",
            "| stddev|1.4418772626833427|\n",
            "|    min|                 1|\n",
            "|    max|                 8|\n",
            "+-------+------------------+\n",
            "\n",
            "+-------+----------------+\n",
            "|summary|        Duration|\n",
            "+-------+----------------+\n",
            "|  count|          236724|\n",
            "|   mean|            NULL|\n",
            "| stddev|            NULL|\n",
            "|    min|00:00:01.0000000|\n",
            "|    max|06:30:09.0000000|\n",
            "+-------+----------------+\n",
            "\n",
            "+-------+----------------+\n",
            "|summary|         EndTime|\n",
            "+-------+----------------+\n",
            "|  count|          169979|\n",
            "|   mean|            NULL|\n",
            "| stddev|            NULL|\n",
            "|    min|00:00:00.0000000|\n",
            "|    max|23:59:59.0000000|\n",
            "+-------+----------------+\n",
            "\n",
            "+-------+\n",
            "|summary|\n",
            "+-------+\n",
            "|  count|\n",
            "|   mean|\n",
            "| stddev|\n",
            "|    min|\n",
            "|    max|\n",
            "+-------+\n",
            "\n",
            "+-------+------------------+\n",
            "|summary|      ProductionNO|\n",
            "+-------+------------------+\n",
            "|  count|              3519|\n",
            "|   mean| 35710.61538461538|\n",
            "| stddev|3749.1340008607663|\n",
            "|    min|            030641|\n",
            "|    max|            c34183|\n",
            "+-------+------------------+\n",
            "\n",
            "+-------+------------------+\n",
            "|summary|      ProgramTitle|\n",
            "+-------+------------------+\n",
            "|  count|            238703|\n",
            "|   mean|            1999.0|\n",
            "| stddev|              NULL|\n",
            "|    min|  !NO 5PM A ID(:5)|\n",
            "|    max|�t� avec Jo�l 2/Un|\n",
            "+-------+------------------+\n",
            "\n",
            "+-------+----------------+\n",
            "|summary|       StartTime|\n",
            "+-------+----------------+\n",
            "|  count|          238945|\n",
            "|   mean|            NULL|\n",
            "| stddev|            NULL|\n",
            "|    min|00:00:00.0000000|\n",
            "|    max|23:59:59.0000000|\n",
            "+-------+----------------+\n",
            "\n",
            "+-------+--------------------+\n",
            "|summary|            Subtitle|\n",
            "+-------+--------------------+\n",
            "|  count|               15468|\n",
            "|   mean|   3463.573913043478|\n",
            "| stddev|  16251.272419144227|\n",
            "|    min|                #001|\n",
            "|    max|�tre dans le trou...|\n",
            "+-------+--------------------+\n",
            "\n",
            "+-------+--------------------+\n",
            "|summary|NetworkAffiliationID|\n",
            "+-------+--------------------+\n",
            "|  count|              108807|\n",
            "|   mean|   6.082200593711802|\n",
            "| stddev|  2.9908486752285115|\n",
            "|    min|                   1|\n",
            "|    max|                   9|\n",
            "+-------+--------------------+\n",
            "\n",
            "+-------+------------------+\n",
            "|summary|SpecialAttentionID|\n",
            "+-------+------------------+\n",
            "|  count|              2395|\n",
            "|   mean| 1.704384133611691|\n",
            "| stddev|0.5394635034869686|\n",
            "|    min|                 1|\n",
            "|    max|                 3|\n",
            "+-------+------------------+\n",
            "\n",
            "+-------+----------------------+\n",
            "|summary|BroadcastOriginPointID|\n",
            "+-------+----------------------+\n",
            "|  count|                  9978|\n",
            "|   mean|    2.1390058127881337|\n",
            "| stddev|    0.9323192037553306|\n",
            "|    min|                     1|\n",
            "|    max|                     3|\n",
            "+-------+----------------------+\n",
            "\n",
            "+-------+------------------+\n",
            "|summary|     CompositionID|\n",
            "+-------+------------------+\n",
            "|  count|              9978|\n",
            "|   mean|3.4141110442974543|\n",
            "| stddev|0.9338603403654618|\n",
            "|    min|                 1|\n",
            "|    max|                 4|\n",
            "+-------+------------------+\n",
            "\n",
            "+-------+---------+\n",
            "|summary|Producer1|\n",
            "+-------+---------+\n",
            "|  count|     2607|\n",
            "|   mean|     NULL|\n",
            "| stddev|     NULL|\n",
            "|    min|      AMI|\n",
            "|    max|   VISION|\n",
            "+-------+---------+\n",
            "\n",
            "+-------+---------+\n",
            "|summary|Producer2|\n",
            "+-------+---------+\n",
            "|  count|       38|\n",
            "|   mean|     NULL|\n",
            "| stddev|     NULL|\n",
            "|    min|    NEWSW|\n",
            "|    max|       QC|\n",
            "+-------+---------+\n",
            "\n",
            "+-------+------------------+\n",
            "|summary|         Language1|\n",
            "+-------+------------------+\n",
            "|  count|             12586|\n",
            "|   mean|101.75377403464167|\n",
            "| stddev| 45.68403685468214|\n",
            "|    min|                94|\n",
            "|    max|               437|\n",
            "+-------+------------------+\n",
            "\n",
            "+-------+------------------+\n",
            "|summary|         Language2|\n",
            "+-------+------------------+\n",
            "|  count|              2629|\n",
            "|   mean|175.49334347660707|\n",
            "| stddev| 86.03603792883942|\n",
            "|    min|                 3|\n",
            "|    max|               438|\n",
            "+-------+------------------+\n",
            "\n",
            "+-------+------------------+\n",
            "|summary|  duration_seconds|\n",
            "+-------+------------------+\n",
            "|  count|            236724|\n",
            "|   mean|124.30587942076004|\n",
            "| stddev|  573.774280759491|\n",
            "|    min|                 1|\n",
            "|    max|             23409|\n",
            "+-------+------------------+\n",
            "\n"
          ]
        }
      ]
    },
    {
      "cell_type": "code",
      "source": [
        "for i in logs.columns:\n",
        "    logs.select(i).summary().show()"
      ],
      "metadata": {
        "colab": {
          "base_uri": "https://localhost:8080/"
        },
        "id": "xCusnRxkMcwX",
        "outputId": "8ee91b11-8cb8-4f40-c358-34434984d7d7"
      },
      "execution_count": 49,
      "outputs": [
        {
          "output_type": "stream",
          "name": "stdout",
          "text": [
            "+-------+-----------------+\n",
            "|summary|     LogServiceID|\n",
            "+-------+-----------------+\n",
            "|  count|           238945|\n",
            "|   mean|3450.890284375065|\n",
            "| stddev| 199.506739625561|\n",
            "|    min|             3157|\n",
            "|    25%|             3287|\n",
            "|    50%|             3379|\n",
            "|    75%|             3627|\n",
            "|    max|             3925|\n",
            "+-------+-----------------+\n",
            "\n",
            "+-------+\n",
            "|summary|\n",
            "+-------+\n",
            "|  count|\n",
            "|   mean|\n",
            "| stddev|\n",
            "|    min|\n",
            "|    25%|\n",
            "|    50%|\n",
            "|    75%|\n",
            "|    max|\n",
            "+-------+\n",
            "\n",
            "+-------+-------------------+\n",
            "|summary|AudienceTargetAgeID|\n",
            "+-------+-------------------+\n",
            "|  count|              16112|\n",
            "|   mean| 3.4929245283018866|\n",
            "| stddev| 1.0415963394745127|\n",
            "|    min|                  1|\n",
            "|    25%|                  4|\n",
            "|    50%|                  4|\n",
            "|    75%|                  4|\n",
            "|    max|                  4|\n",
            "+-------+-------------------+\n",
            "\n",
            "+-------+----------------------+\n",
            "|summary|AudienceTargetEthnicID|\n",
            "+-------+----------------------+\n",
            "|  count|                  1710|\n",
            "|   mean|    120.56432748538012|\n",
            "| stddev|     71.98694059436133|\n",
            "|    min|                     4|\n",
            "|    25%|                    74|\n",
            "|    50%|                    95|\n",
            "|    75%|                   136|\n",
            "|    max|                   337|\n",
            "+-------+----------------------+\n",
            "\n",
            "+-------+------------------+\n",
            "|summary|        CategoryID|\n",
            "+-------+------------------+\n",
            "|  count|             25506|\n",
            "|   mean|18.485297577040697|\n",
            "| stddev|  9.65585225202083|\n",
            "|    min|                 1|\n",
            "|    25%|                11|\n",
            "|    50%|                24|\n",
            "|    75%|                26|\n",
            "|    max|                29|\n",
            "+-------+------------------+\n",
            "\n",
            "+-------+-------------------+\n",
            "|summary|    ClosedCaptionID|\n",
            "+-------+-------------------+\n",
            "|  count|             224117|\n",
            "|   mean| 1.0316174141185184|\n",
            "| stddev|0.24947032900378943|\n",
            "|    min|                  1|\n",
            "|    25%|                  1|\n",
            "|    50%|                  1|\n",
            "|    75%|                  1|\n",
            "|    max|                  3|\n",
            "+-------+-------------------+\n",
            "\n",
            "+-------+------------------+\n",
            "|summary| CountryOfOriginID|\n",
            "+-------+------------------+\n",
            "|  count|             17822|\n",
            "|   mean|  4.06390977443609|\n",
            "| stddev|2.6159675821007293|\n",
            "|    min|                 2|\n",
            "|    25%|                 2|\n",
            "|    50%|                 3|\n",
            "|    75%|                 5|\n",
            "|    max|                11|\n",
            "+-------+------------------+\n",
            "\n",
            "+-------+------------------+\n",
            "|summary|  DubDramaCreditID|\n",
            "+-------+------------------+\n",
            "|  count|               263|\n",
            "|   mean|5.1254752851711025|\n",
            "| stddev| 3.451329711438564|\n",
            "|    min|                 1|\n",
            "|    25%|                 2|\n",
            "|    50%|                 4|\n",
            "|    75%|                10|\n",
            "|    max|                10|\n",
            "+-------+------------------+\n",
            "\n",
            "+-------+------------------+\n",
            "|summary|   EthnicProgramID|\n",
            "+-------+------------------+\n",
            "|  count|              1895|\n",
            "|   mean| 4.316622691292876|\n",
            "| stddev|2.2966421456800274|\n",
            "|    min|                 1|\n",
            "|    25%|                 1|\n",
            "|    50%|                 6|\n",
            "|    75%|                 6|\n",
            "|    max|                 6|\n",
            "+-------+------------------+\n",
            "\n",
            "+-------+------------------+\n",
            "|summary|ProductionSourceID|\n",
            "+-------+------------------+\n",
            "|  count|             16223|\n",
            "|   mean|11.193737286568453|\n",
            "| stddev| 6.079022239331333|\n",
            "|    min|                 1|\n",
            "|    25%|                 7|\n",
            "|    50%|                12|\n",
            "|    75%|                16|\n",
            "|    max|                19|\n",
            "+-------+------------------+\n",
            "\n",
            "+-------+-----------------+\n",
            "|summary|   ProgramClassID|\n",
            "+-------+-----------------+\n",
            "|  count|           238945|\n",
            "|   mean| 8.49341061750612|\n",
            "| stddev|7.902116846905705|\n",
            "|    min|                3|\n",
            "|    25%|                3|\n",
            "|    50%|                3|\n",
            "|    75%|               19|\n",
            "|    max|               30|\n",
            "+-------+-----------------+\n",
            "\n",
            "+-------+--------------------+\n",
            "|summary|FilmClassificationID|\n",
            "+-------+--------------------+\n",
            "|  count|                1885|\n",
            "|   mean|   1.953315649867374|\n",
            "| stddev|  1.6420515263133848|\n",
            "|    min|                   1|\n",
            "|    25%|                   1|\n",
            "|    50%|                   1|\n",
            "|    75%|                   2|\n",
            "|    max|                   8|\n",
            "+-------+--------------------+\n",
            "\n",
            "+-------+------------------+\n",
            "|summary|      ExhibitionID|\n",
            "+-------+------------------+\n",
            "|  count|              9263|\n",
            "|   mean|  4.52067364784627|\n",
            "| stddev|1.4418772626833427|\n",
            "|    min|                 1|\n",
            "|    25%|                 4|\n",
            "|    50%|                 5|\n",
            "|    75%|                 5|\n",
            "|    max|                 8|\n",
            "+-------+------------------+\n",
            "\n",
            "+-------+----------------+\n",
            "|summary|        Duration|\n",
            "+-------+----------------+\n",
            "|  count|          236724|\n",
            "|   mean|            NULL|\n",
            "| stddev|            NULL|\n",
            "|    min|00:00:01.0000000|\n",
            "|    25%|            NULL|\n",
            "|    50%|            NULL|\n",
            "|    75%|            NULL|\n",
            "|    max|06:30:09.0000000|\n",
            "+-------+----------------+\n",
            "\n",
            "+-------+----------------+\n",
            "|summary|         EndTime|\n",
            "+-------+----------------+\n",
            "|  count|          169979|\n",
            "|   mean|            NULL|\n",
            "| stddev|            NULL|\n",
            "|    min|00:00:00.0000000|\n",
            "|    25%|            NULL|\n",
            "|    50%|            NULL|\n",
            "|    75%|            NULL|\n",
            "|    max|23:59:59.0000000|\n",
            "+-------+----------------+\n",
            "\n",
            "+-------+\n",
            "|summary|\n",
            "+-------+\n",
            "|  count|\n",
            "|   mean|\n",
            "| stddev|\n",
            "|    min|\n",
            "|    25%|\n",
            "|    50%|\n",
            "|    75%|\n",
            "|    max|\n",
            "+-------+\n",
            "\n",
            "+-------+------------------+\n",
            "|summary|      ProductionNO|\n",
            "+-------+------------------+\n",
            "|  count|              3519|\n",
            "|   mean| 35710.61538461538|\n",
            "| stddev|3749.1340008607663|\n",
            "|    min|            030641|\n",
            "|    25%|           32974.0|\n",
            "|    50%|           37775.0|\n",
            "|    75%|           37775.0|\n",
            "|    max|            c34183|\n",
            "+-------+------------------+\n",
            "\n",
            "+-------+------------------+\n",
            "|summary|      ProgramTitle|\n",
            "+-------+------------------+\n",
            "|  count|            238703|\n",
            "|   mean|            1999.0|\n",
            "| stddev|              NULL|\n",
            "|    min|  !NO 5PM A ID(:5)|\n",
            "|    25%|            1999.0|\n",
            "|    50%|            1999.0|\n",
            "|    75%|            1999.0|\n",
            "|    max|�t� avec Jo�l 2/Un|\n",
            "+-------+------------------+\n",
            "\n",
            "+-------+----------------+\n",
            "|summary|       StartTime|\n",
            "+-------+----------------+\n",
            "|  count|          238945|\n",
            "|   mean|            NULL|\n",
            "| stddev|            NULL|\n",
            "|    min|00:00:00.0000000|\n",
            "|    25%|            NULL|\n",
            "|    50%|            NULL|\n",
            "|    75%|            NULL|\n",
            "|    max|23:59:59.0000000|\n",
            "+-------+----------------+\n",
            "\n",
            "+-------+--------------------+\n",
            "|summary|            Subtitle|\n",
            "+-------+--------------------+\n",
            "|  count|               15468|\n",
            "|   mean|   3463.573913043478|\n",
            "| stddev|  16251.272419144227|\n",
            "|    min|                #001|\n",
            "|    25%|                17.0|\n",
            "|    50%|               106.0|\n",
            "|    75%|              2014.0|\n",
            "|    max|�tre dans le trou...|\n",
            "+-------+--------------------+\n",
            "\n",
            "+-------+--------------------+\n",
            "|summary|NetworkAffiliationID|\n",
            "+-------+--------------------+\n",
            "|  count|              108807|\n",
            "|   mean|   6.082200593711802|\n",
            "| stddev|  2.9908486752285115|\n",
            "|    min|                   1|\n",
            "|    25%|                   5|\n",
            "|    50%|                   6|\n",
            "|    75%|                   9|\n",
            "|    max|                   9|\n",
            "+-------+--------------------+\n",
            "\n",
            "+-------+------------------+\n",
            "|summary|SpecialAttentionID|\n",
            "+-------+------------------+\n",
            "|  count|              2395|\n",
            "|   mean| 1.704384133611691|\n",
            "| stddev|0.5394635034869686|\n",
            "|    min|                 1|\n",
            "|    25%|                 1|\n",
            "|    50%|                 2|\n",
            "|    75%|                 2|\n",
            "|    max|                 3|\n",
            "+-------+------------------+\n",
            "\n",
            "+-------+----------------------+\n",
            "|summary|BroadcastOriginPointID|\n",
            "+-------+----------------------+\n",
            "|  count|                  9978|\n",
            "|   mean|    2.1390058127881337|\n",
            "| stddev|    0.9323192037553306|\n",
            "|    min|                     1|\n",
            "|    25%|                     1|\n",
            "|    50%|                     3|\n",
            "|    75%|                     3|\n",
            "|    max|                     3|\n",
            "+-------+----------------------+\n",
            "\n",
            "+-------+------------------+\n",
            "|summary|     CompositionID|\n",
            "+-------+------------------+\n",
            "|  count|              9978|\n",
            "|   mean|3.4141110442974543|\n",
            "| stddev|0.9338603403654618|\n",
            "|    min|                 1|\n",
            "|    25%|                 3|\n",
            "|    50%|                 4|\n",
            "|    75%|                 4|\n",
            "|    max|                 4|\n",
            "+-------+------------------+\n",
            "\n",
            "+-------+---------+\n",
            "|summary|Producer1|\n",
            "+-------+---------+\n",
            "|  count|     2607|\n",
            "|   mean|     NULL|\n",
            "| stddev|     NULL|\n",
            "|    min|      AMI|\n",
            "|    25%|     NULL|\n",
            "|    50%|     NULL|\n",
            "|    75%|     NULL|\n",
            "|    max|   VISION|\n",
            "+-------+---------+\n",
            "\n",
            "+-------+---------+\n",
            "|summary|Producer2|\n",
            "+-------+---------+\n",
            "|  count|       38|\n",
            "|   mean|     NULL|\n",
            "| stddev|     NULL|\n",
            "|    min|    NEWSW|\n",
            "|    25%|     NULL|\n",
            "|    50%|     NULL|\n",
            "|    75%|     NULL|\n",
            "|    max|       QC|\n",
            "+-------+---------+\n",
            "\n",
            "+-------+------------------+\n",
            "|summary|         Language1|\n",
            "+-------+------------------+\n",
            "|  count|             12586|\n",
            "|   mean|101.75377403464167|\n",
            "| stddev| 45.68403685468214|\n",
            "|    min|                94|\n",
            "|    25%|                94|\n",
            "|    50%|                94|\n",
            "|    75%|                94|\n",
            "|    max|               437|\n",
            "+-------+------------------+\n",
            "\n",
            "+-------+------------------+\n",
            "|summary|         Language2|\n",
            "+-------+------------------+\n",
            "|  count|              2629|\n",
            "|   mean|175.49334347660707|\n",
            "| stddev| 86.03603792883942|\n",
            "|    min|                 3|\n",
            "|    25%|               134|\n",
            "|    50%|               151|\n",
            "|    75%|               259|\n",
            "|    max|               438|\n",
            "+-------+------------------+\n",
            "\n",
            "+-------+------------------+\n",
            "|summary|  duration_seconds|\n",
            "+-------+------------------+\n",
            "|  count|            236724|\n",
            "|   mean|124.30587942076004|\n",
            "| stddev|  573.774280759491|\n",
            "|    min|                 1|\n",
            "|    25%|                15|\n",
            "|    50%|                15|\n",
            "|    75%|                30|\n",
            "|    max|             23409|\n",
            "+-------+------------------+\n",
            "\n"
          ]
        }
      ]
    },
    {
      "cell_type": "markdown",
      "source": [
        "\n",
        "\n",
        "---\n",
        "\n",
        "### 📝 PySpark CSV Handling and DataFrame Basics\n",
        "\n",
        "- **Reading Data:**\n",
        "  - PySpark uses the `SparkReader` object to read any kind of data into a DataFrame.\n",
        "  - The specialized `csv()` method of `SparkReader` is used to ingest CSV files.\n",
        "  - The **only required parameter** is the source location (file path).\n",
        "\n",
        "- **CSV Flexibility:**\n",
        "  - CSV format is very flexible.\n",
        "  - PySpark provides many optional parameters:\n",
        "    - `sep` (field delimiter)\n",
        "    - `lineSep` (record delimiter)\n",
        "    - `quote` (quotation character)\n",
        "  - These all have **sensible defaults**, but can be customized.\n",
        "\n",
        "- **Schema Inference:**\n",
        "  - Set `inferSchema=True` to allow PySpark to infer data types automatically.\n",
        "  - PySpark reads the file **twice**:\n",
        "    - Once to infer the schema.\n",
        "    - Once to actually load the data.\n",
        "\n",
        "- **DataFrame Structure:**\n",
        "  - Tabular data in PySpark is represented as a **column-major** structure.\n",
        "  - Each column has a **name** and a **type**.\n",
        "  - The concept of **rows** is less relevant compared to columns.\n",
        "\n",
        "- **Exploration and Column Handling:**\n",
        "  - Columns can be accessed like a Python list: `df.columns`.\n",
        "  - Common operations:\n",
        "    - `select()` → Select and reorder columns.\n",
        "    - `drop()` → Delete columns.\n",
        "    - `withColumn()` → Create or modify columns.\n",
        "    - `withColumnRenamed()` → Rename a single column.\n",
        "    - `toDF()` → Rename all columns at once.\n",
        "\n",
        "- **Data Summary:**\n",
        "  - Use `describe()` for fixed metrics: count, mean, stddev, min, max.\n",
        "  - Use `summary()` for more comprehensive statistics.\n",
        "\n",
        "---\n",
        "\n"
      ],
      "metadata": {
        "id": "Mx-XlX0nM_-f"
      }
    },
    {
      "cell_type": "code",
      "source": [],
      "metadata": {
        "id": "S0fzkQK5Mc5M"
      },
      "execution_count": null,
      "outputs": []
    }
  ]
}