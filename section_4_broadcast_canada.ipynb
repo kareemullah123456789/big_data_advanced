{
  "nbformat": 4,
  "nbformat_minor": 0,
  "metadata": {
    "colab": {
      "provenance": [],
      "authorship_tag": "ABX9TyMMRF1sp3bpYBHtxYRnQGMS",
      "include_colab_link": true
    },
    "kernelspec": {
      "name": "python3",
      "display_name": "Python 3"
    },
    "language_info": {
      "name": "python"
    }
  },
  "cells": [
    {
      "cell_type": "markdown",
      "metadata": {
        "id": "view-in-github",
        "colab_type": "text"
      },
      "source": [
        "<a href=\"https://colab.research.google.com/github/kareemullah123456789/big_data_advanced/blob/main/section_4_broadcast_canada.ipynb\" target=\"_parent\"><img src=\"https://colab.research.google.com/assets/colab-badge.svg\" alt=\"Open In Colab\"/></a>"
      ]
    },
    {
      "cell_type": "code",
      "execution_count": 1,
      "metadata": {
        "colab": {
          "base_uri": "https://localhost:8080/"
        },
        "id": "ezh3vlRLFKiE",
        "outputId": "dd5b63e3-b7e0-42c1-a097-b138b779d3a7"
      },
      "outputs": [
        {
          "output_type": "stream",
          "name": "stdout",
          "text": [
            "Mounted at /content/drive\n"
          ]
        }
      ],
      "source": [
        "from google.colab import drive\n",
        "drive.mount('/content/drive')\n"
      ]
    },
    {
      "cell_type": "code",
      "source": [
        "!ls /content/drive/MyDrive/cde_data/broadcast_logs\n",
        "\n",
        "\n",
        "# Example: accessing a file\n",
        "#file_path = '/content/drive/MyDrive/cde_data/broadcast_logs/your_file.csv'\n"
      ],
      "metadata": {
        "colab": {
          "base_uri": "https://localhost:8080/"
        },
        "id": "MMg5ar73Fa7u",
        "outputId": "431d276d-8662-4118-d4d9-d52a27d6d3ca"
      },
      "execution_count": 13,
      "outputs": [
        {
          "output_type": "stream",
          "name": "stdout",
          "text": [
            " BroadcastLogs_2018_Q3_M8_sample.CSV  'data dictionary.doc'\n",
            " Call_Signs.csv\t\t\t       ReferenceTables\n"
          ]
        }
      ]
    },
    {
      "cell_type": "code",
      "source": [
        "!ls /content/drive/MyDrive/cde_data/broadcast_logs"
      ],
      "metadata": {
        "colab": {
          "base_uri": "https://localhost:8080/"
        },
        "id": "0OoLX3w6IDVD",
        "outputId": "aeb97362-283f-402e-c75d-b124c686bf4d"
      },
      "execution_count": 18,
      "outputs": [
        {
          "output_type": "stream",
          "name": "stdout",
          "text": [
            " BroadcastLogs_2018_Q3_M8_sample.CSV  'data dictionary.doc'\n",
            " Call_Signs.csv\t\t\t       ReferenceTables\n"
          ]
        }
      ]
    },
    {
      "cell_type": "code",
      "source": [
        "\"\"\"Checkpoint code for the book Data Analysis with Python and PySpark, Chapter 4.\"\"\"\n",
        "\n",
        "import os\n",
        "from pyspark.sql import SparkSession\n",
        "import pyspark.sql.functions as F\n",
        "\n",
        "spark = SparkSession.builder.getOrCreate()\n",
        "\n",
        "DIRECTORY = \"/content/drive/MyDrive/cde_data/broadcast_logs\"\n",
        "logs = (\n",
        "    spark.read.csv(\n",
        "        os.path.join(DIRECTORY, \"BroadcastLogs_2018_Q3_M8_sample.CSV\"),\n",
        "        sep=\"|\",\n",
        "        header=True,\n",
        "        inferSchema=True,\n",
        "        timestampFormat=\"yyyy-MM-dd\",\n",
        "    )\n",
        "    .drop(\"BroadcastLogID\", \"SequenceNO\")\n",
        "    .withColumn(\n",
        "        \"duration_seconds\",\n",
        "        (\n",
        "            F.col(\"Duration\").substr(1, 2).cast(\"int\") * 60 * 60\n",
        "            + F.col(\"Duration\").substr(4, 2).cast(\"int\") * 60\n",
        "            + F.col(\"Duration\").substr(7, 2).cast(\"int\")\n",
        "        ),\n",
        "    )\n",
        ")\n",
        "\n",
        "logs.show()"
      ],
      "metadata": {
        "colab": {
          "base_uri": "https://localhost:8080/"
        },
        "id": "noyMI8EHFQil",
        "outputId": "de36cc17-9f25-4df7-c7e0-f1b738c18f19"
      },
      "execution_count": 28,
      "outputs": [
        {
          "output_type": "stream",
          "name": "stdout",
          "text": [
            "+------------+----------+-------------------+----------------------+----------+---------------+-----------------+----------------+---------------+------------------+--------------+--------------------+------------+----------------+----------------+------------+------------+--------------------+----------------+--------+--------------------+------------------+----------------------+-------------+---------+---------+---------+---------+----------------+\n",
            "|LogServiceID|   LogDate|AudienceTargetAgeID|AudienceTargetEthnicID|CategoryID|ClosedCaptionID|CountryOfOriginID|DubDramaCreditID|EthnicProgramID|ProductionSourceID|ProgramClassID|FilmClassificationID|ExhibitionID|        Duration|         EndTime|LogEntryDate|ProductionNO|        ProgramTitle|       StartTime|Subtitle|NetworkAffiliationID|SpecialAttentionID|BroadcastOriginPointID|CompositionID|Producer1|Producer2|Language1|Language2|duration_seconds|\n",
            "+------------+----------+-------------------+----------------------+----------+---------------+-----------------+----------------+---------------+------------------+--------------+--------------------+------------+----------------+----------------+------------+------------+--------------------+----------------+--------+--------------------+------------------+----------------------+-------------+---------+---------+---------+---------+----------------+\n",
            "|        3157|2018-08-01|                  4|                  NULL|        13|              3|                3|            NULL|           NULL|                10|            19|                NULL|           2|02:00:00.0000000|08:00:00.0000000|  2018-08-01|      A39082|   Newlywed and Dead|06:00:00.0000000|    NULL|                NULL|              NULL|                  NULL|         NULL|     NULL|     NULL|       94|     NULL|            7200|\n",
            "|        3157|2018-08-01|               NULL|                  NULL|      NULL|              1|             NULL|            NULL|           NULL|              NULL|            20|                NULL|        NULL|00:00:30.0000000|06:13:45.0000000|  2018-08-01|        NULL|15-SPECIALTY CHAN...|06:13:15.0000000|    NULL|                NULL|              NULL|                  NULL|         NULL|     NULL|     NULL|     NULL|     NULL|              30|\n",
            "|        3157|2018-08-01|               NULL|                  NULL|      NULL|              1|             NULL|            NULL|           NULL|              NULL|             3|                NULL|        NULL|00:00:15.0000000|06:14:00.0000000|  2018-08-01|        NULL|3-PROCTER & GAMBL...|06:13:45.0000000|    NULL|                NULL|              NULL|                  NULL|         NULL|     NULL|     NULL|     NULL|     NULL|              15|\n",
            "|        3157|2018-08-01|               NULL|                  NULL|      NULL|              1|             NULL|            NULL|           NULL|              NULL|             3|                NULL|        NULL|00:00:15.0000000|06:14:15.0000000|  2018-08-01|        NULL|12-CREDIT KARMA-B...|06:14:00.0000000|    NULL|                NULL|              NULL|                  NULL|         NULL|     NULL|     NULL|     NULL|     NULL|              15|\n",
            "|        3157|2018-08-01|               NULL|                  NULL|      NULL|              1|             NULL|            NULL|           NULL|              NULL|             3|                NULL|        NULL|00:00:15.0000000|06:14:30.0000000|  2018-08-01|        NULL|3-L'OREAL CANADA-...|06:14:15.0000000|    NULL|                NULL|              NULL|                  NULL|         NULL|     NULL|     NULL|     NULL|     NULL|              15|\n",
            "|        3157|2018-08-01|               NULL|                  NULL|      NULL|              1|             NULL|            NULL|           NULL|              NULL|             3|                NULL|        NULL|00:00:15.0000000|06:14:45.0000000|  2018-08-01|        NULL|11-YUM! BRANDS-Ch...|06:14:30.0000000|    NULL|                NULL|              NULL|                  NULL|         NULL|     NULL|     NULL|     NULL|     NULL|              15|\n",
            "|        3157|2018-08-01|               NULL|                  NULL|      NULL|              1|             NULL|            NULL|           NULL|              NULL|             3|                NULL|        NULL|00:00:30.0000000|06:15:16.0000000|  2018-08-01|        NULL|2-PIER 1 IMPORTS ...|06:14:46.0000000|    NULL|                NULL|              NULL|                  NULL|         NULL|     NULL|     NULL|     NULL|     NULL|              30|\n",
            "|        3157|2018-08-01|               NULL|                  NULL|      NULL|              1|             NULL|            NULL|           NULL|              NULL|             3|                NULL|        NULL|00:00:15.0000000|06:15:31.0000000|  2018-08-01|        NULL|3-HAVAS EDGE-Trav...|06:15:16.0000000|    NULL|                NULL|              NULL|                  NULL|         NULL|     NULL|     NULL|     NULL|     NULL|              15|\n",
            "|        3157|2018-08-01|               NULL|                  NULL|      NULL|              1|             NULL|            NULL|           NULL|              NULL|             3|                NULL|        NULL|00:00:15.0000000|06:15:46.0000000|  2018-08-01|        NULL|2-AUTOTRADER-Inte...|06:15:31.0000000|    NULL|                NULL|              NULL|                  NULL|         NULL|     NULL|     NULL|     NULL|     NULL|              15|\n",
            "|        3157|2018-08-01|               NULL|                  NULL|      NULL|              1|             NULL|            NULL|           NULL|              NULL|             3|                NULL|        NULL|00:00:15.0000000|06:16:01.0000000|  2018-08-01|        NULL|11-SLEEP COUNTRY ...|06:15:46.0000000|    NULL|                NULL|              NULL|                  NULL|         NULL|     NULL|     NULL|     NULL|     NULL|              15|\n",
            "|        3157|2018-08-01|               NULL|                  NULL|      NULL|              1|             NULL|            NULL|           NULL|              NULL|             3|                NULL|        NULL|00:00:15.0000000|06:16:16.0000000|  2018-08-01|        NULL|11-GENERAL MILLS ...|06:16:01.0000000|    NULL|                NULL|              NULL|                  NULL|         NULL|     NULL|     NULL|     NULL|     NULL|              15|\n",
            "|        3157|2018-08-01|               NULL|                  NULL|      NULL|              1|             NULL|            NULL|           NULL|              NULL|             3|                NULL|        NULL|00:00:30.0000000|06:16:46.0000000|  2018-08-01|        NULL|11-PROCTER & GAMB...|06:16:16.0000000|    NULL|                NULL|              NULL|                  NULL|         NULL|     NULL|     NULL|     NULL|     NULL|              30|\n",
            "|        3157|2018-08-01|               NULL|                  NULL|      NULL|              1|             NULL|            NULL|           NULL|              NULL|            20|                NULL|        NULL|00:00:30.0000000|06:25:56.0000000|  2018-08-01|        NULL|15-SPECIALTY CHAN...|06:25:26.0000000|    NULL|                NULL|              NULL|                  NULL|         NULL|     NULL|     NULL|     NULL|     NULL|              30|\n",
            "|        3157|2018-08-01|               NULL|                  NULL|      NULL|              1|             NULL|            NULL|           NULL|              NULL|             3|                NULL|        NULL|00:00:15.0000000|06:26:11.0000000|  2018-08-01|        NULL|11-PROCTER & GAMB...|06:25:56.0000000|    NULL|                NULL|              NULL|                  NULL|         NULL|     NULL|     NULL|     NULL|     NULL|              15|\n",
            "|        3157|2018-08-01|               NULL|                  NULL|      NULL|              1|             NULL|            NULL|           NULL|              NULL|             3|                NULL|        NULL|00:00:15.0000000|06:26:26.0000000|  2018-08-01|        NULL|11-LABATT BREWERI...|06:26:11.0000000|    NULL|                NULL|              NULL|                  NULL|         NULL|     NULL|     NULL|     NULL|     NULL|              15|\n",
            "|        3157|2018-08-01|               NULL|                  NULL|      NULL|              1|             NULL|            NULL|           NULL|              NULL|             3|                NULL|        NULL|00:00:15.0000000|06:26:41.0000000|  2018-08-01|        NULL|2-IKEA CANADA LTD...|06:26:26.0000000|    NULL|                NULL|              NULL|                  NULL|         NULL|     NULL|     NULL|     NULL|     NULL|              15|\n",
            "|        3157|2018-08-01|               NULL|                  NULL|      NULL|              1|             NULL|            NULL|           NULL|              NULL|             3|                NULL|        NULL|00:00:15.0000000|06:26:57.0000000|  2018-08-01|        NULL|11-WAL-MART CANAD...|06:26:42.0000000|    NULL|                NULL|              NULL|                  NULL|         NULL|     NULL|     NULL|     NULL|     NULL|              15|\n",
            "|        3157|2018-08-01|               NULL|                  NULL|      NULL|              1|             NULL|            NULL|           NULL|              NULL|             3|                NULL|        NULL|00:00:15.0000000|06:27:12.0000000|  2018-08-01|        NULL|2-AUTOTRADER-Inte...|06:26:57.0000000|    NULL|                NULL|              NULL|                  NULL|         NULL|     NULL|     NULL|     NULL|     NULL|              15|\n",
            "|        3157|2018-08-01|               NULL|                  NULL|      NULL|              1|             NULL|            NULL|           NULL|              NULL|             3|                NULL|        NULL|00:01:00.0000000|06:28:12.0000000|  2018-08-01|        NULL|12-COMWAVE TELECO...|06:27:12.0000000|    NULL|                NULL|              NULL|                  NULL|         NULL|     NULL|     NULL|     NULL|     NULL|              60|\n",
            "|        3157|2018-08-01|               NULL|                  NULL|      NULL|              1|             NULL|            NULL|           NULL|              NULL|             3|                NULL|        NULL|00:00:15.0000000|06:28:27.0000000|  2018-08-01|        NULL|11-L'OREAL CANADA...|06:28:12.0000000|    NULL|                NULL|              NULL|                  NULL|         NULL|     NULL|     NULL|     NULL|     NULL|              15|\n",
            "+------------+----------+-------------------+----------------------+----------+---------------+-----------------+----------------+---------------+------------------+--------------+--------------------+------------+----------------+----------------+------------+------------+--------------------+----------------+--------+--------------------+------------------+----------------------+-------------+---------+---------+---------+---------+----------------+\n",
            "only showing top 20 rows\n",
            "\n"
          ]
        }
      ]
    },
    {
      "cell_type": "code",
      "source": [
        "!ls /content/drive/MyDrive/cde_data/broadcast_logs"
      ],
      "metadata": {
        "colab": {
          "base_uri": "https://localhost:8080/"
        },
        "id": "YKGD7CcrIMPb",
        "outputId": "0ff9b25b-8436-4e07-dd74-497d3d60de49"
      },
      "execution_count": 20,
      "outputs": [
        {
          "output_type": "stream",
          "name": "stdout",
          "text": [
            " BroadcastLogs_2018_Q3_M8_sample.CSV  'data dictionary.doc'\n",
            " Call_Signs.csv\t\t\t       ReferenceTables\n"
          ]
        }
      ]
    },
    {
      "cell_type": "code",
      "source": [
        "#  commercials.py #############################################################\n",
        "#\n",
        "# This program computes the commercial ratio for each channel present in the\n",
        "# dataset.\n",
        "#\n",
        "###############################################################################\n",
        "\n",
        "import os\n",
        "\n",
        "import pyspark.sql.functions as F\n",
        "from pyspark.sql import SparkSession\n",
        "\n",
        "spark = SparkSession.builder.appName(\n",
        "    \"Getting the Canadian TV channels with the highest/lowest proportion of commercials.\"\n",
        ").getOrCreate()\n",
        "\n",
        "spark.sparkContext.setLogLevel(\"WARN\")\n",
        "\n",
        "###############################################################################\n",
        "# Reading all the relevant data sources\n",
        "###############################################################################\n",
        "\n",
        "DIRECTORY = \"/content/drive/MyDrive/cde_data/broadcast_logs\"\n",
        "\n",
        "logs = spark.read.csv(\n",
        "    os.path.join(DIRECTORY, \"BroadcastLogs_2018_Q3_M8_sample.CSV\"),\n",
        "    sep=\"|\",\n",
        "    header=True,\n",
        "    inferSchema=True,\n",
        ")\n",
        "logs.printSchema()\n"
      ],
      "metadata": {
        "colab": {
          "base_uri": "https://localhost:8080/"
        },
        "id": "UgghJIg0FQl_",
        "outputId": "2160eee6-94c2-44d2-b7c7-f03032f2c908"
      },
      "execution_count": 30,
      "outputs": [
        {
          "output_type": "stream",
          "name": "stdout",
          "text": [
            "root\n",
            " |-- BroadcastLogID: integer (nullable = true)\n",
            " |-- LogServiceID: integer (nullable = true)\n",
            " |-- LogDate: date (nullable = true)\n",
            " |-- SequenceNO: integer (nullable = true)\n",
            " |-- AudienceTargetAgeID: integer (nullable = true)\n",
            " |-- AudienceTargetEthnicID: integer (nullable = true)\n",
            " |-- CategoryID: integer (nullable = true)\n",
            " |-- ClosedCaptionID: integer (nullable = true)\n",
            " |-- CountryOfOriginID: integer (nullable = true)\n",
            " |-- DubDramaCreditID: integer (nullable = true)\n",
            " |-- EthnicProgramID: integer (nullable = true)\n",
            " |-- ProductionSourceID: integer (nullable = true)\n",
            " |-- ProgramClassID: integer (nullable = true)\n",
            " |-- FilmClassificationID: integer (nullable = true)\n",
            " |-- ExhibitionID: integer (nullable = true)\n",
            " |-- Duration: timestamp (nullable = true)\n",
            " |-- EndTime: timestamp (nullable = true)\n",
            " |-- LogEntryDate: date (nullable = true)\n",
            " |-- ProductionNO: string (nullable = true)\n",
            " |-- ProgramTitle: string (nullable = true)\n",
            " |-- StartTime: timestamp (nullable = true)\n",
            " |-- Subtitle: string (nullable = true)\n",
            " |-- NetworkAffiliationID: integer (nullable = true)\n",
            " |-- SpecialAttentionID: integer (nullable = true)\n",
            " |-- BroadcastOriginPointID: integer (nullable = true)\n",
            " |-- CompositionID: integer (nullable = true)\n",
            " |-- Producer1: string (nullable = true)\n",
            " |-- Producer2: string (nullable = true)\n",
            " |-- Language1: integer (nullable = true)\n",
            " |-- Language2: integer (nullable = true)\n",
            "\n"
          ]
        }
      ]
    },
    {
      "cell_type": "code",
      "source": [
        "log_identifier = spark.read.csv(\n",
        "    \"/content/drive/MyDrive/cde_data/broadcast_logs/ReferenceTables/LogIdentifier.csv\",\n",
        "    sep=\"|\",\n",
        "    header=True,\n",
        "    inferSchema=True,\n",
        ")\n",
        "\n",
        "log_identifier.show()"
      ],
      "metadata": {
        "colab": {
          "base_uri": "https://localhost:8080/"
        },
        "id": "RFM3V1tkJBtz",
        "outputId": "349b5961-ad9b-4424-e2f0-97c0292cd928"
      },
      "execution_count": 31,
      "outputs": [
        {
          "output_type": "stream",
          "name": "stdout",
          "text": [
            "+---------------+------------+---------+\n",
            "|LogIdentifierID|LogServiceID|PrimaryFG|\n",
            "+---------------+------------+---------+\n",
            "|           13ST|        3157|        1|\n",
            "|         2000SM|        3466|        1|\n",
            "|           70SM|        3883|        1|\n",
            "|           80SM|        3590|        1|\n",
            "|           90SM|        3470|        1|\n",
            "|         9DAPTN|        3158|        1|\n",
            "|         9DCFCF|        3159|        1|\n",
            "|         9DCFRN|        3160|        1|\n",
            "|         9DCHRO|        3161|        1|\n",
            "|         9DCIVI|        3162|        1|\n",
            "|         9DCJCH|        3163|        1|\n",
            "|         9DCJOH|        3164|        1|\n",
            "|         9DCKCK|        3165|        1|\n",
            "|         9DCKCW|        3166|        1|\n",
            "|         9DCKVR|        3167|        1|\n",
            "|          9DCKY|        3168|        1|\n",
            "|         9DLEAF|        3169|        1|\n",
            "|          9DMC2|        3170|        1|\n",
            "|         9DMPIX|        3171|        1|\n",
            "|         9DMUCH|        3172|        1|\n",
            "+---------------+------------+---------+\n",
            "only showing top 20 rows\n",
            "\n"
          ]
        }
      ]
    },
    {
      "cell_type": "code",
      "source": [
        "cd_category = spark.read.csv(\n",
        "    \"/content/drive/MyDrive/cde_data/broadcast_logs/ReferenceTables/CD_Category.csv\",\n",
        "    sep=\"|\",\n",
        "    header=True,\n",
        "    inferSchema=True,\n",
        ").select(\n",
        "    \"CategoryID\",\n",
        "    \"CategoryCD\",\n",
        "    F.col(\"EnglishDescription\").alias(\"Category_Description\"),\n",
        ")\n",
        "\n",
        "cd_category.printSchema()"
      ],
      "metadata": {
        "colab": {
          "base_uri": "https://localhost:8080/"
        },
        "id": "co_fhST4JJe2",
        "outputId": "0a537943-2ecb-4157-e02b-91b90b89191f"
      },
      "execution_count": 33,
      "outputs": [
        {
          "output_type": "stream",
          "name": "stdout",
          "text": [
            "root\n",
            " |-- CategoryID: integer (nullable = true)\n",
            " |-- CategoryCD: string (nullable = true)\n",
            " |-- Category_Description: string (nullable = true)\n",
            "\n"
          ]
        }
      ]
    },
    {
      "cell_type": "code",
      "source": [
        "cd_category.show()"
      ],
      "metadata": {
        "colab": {
          "base_uri": "https://localhost:8080/"
        },
        "id": "YqCpsv3mJL99",
        "outputId": "fbf9cfa3-6fe7-4c27-a70a-1363d4920e5b"
      },
      "execution_count": 34,
      "outputs": [
        {
          "output_type": "stream",
          "name": "stdout",
          "text": [
            "+----------+----------+--------------------+\n",
            "|CategoryID|CategoryCD|Category_Description|\n",
            "+----------+----------+--------------------+\n",
            "|         1|       010|                NEWS|\n",
            "|         2|       02 |CANREC  ANALYSIS ...|\n",
            "|         3|       02A|ANALYSIS AND INTE...|\n",
            "|         4|       02B|LONG-FORM DOCUMEN...|\n",
            "|         5|       030|REPORTING & ACTUA...|\n",
            "|         6|       040|            RELIGION|\n",
            "|         7|       05A|    EDUCATION FORMAL|\n",
            "|         8|       05B|  EDUCATION INFORMAL|\n",
            "|         9|       06A|SPORTS - PROFESSI...|\n",
            "|        10|       06B|SPORTS - AMATEUR ...|\n",
            "|        11|       07A|ONGOING DRAMATIC ...|\n",
            "|        12|       07B|ONGOING COMEDY SE...|\n",
            "|        13|       07C|SPECIALS,MINI-SER...|\n",
            "|        14|       07D|DRAMA- FEATURE FILMS|\n",
            "|        15|       07E|     DRAMA- ANIMATED|\n",
            "|        16|       07F|PROGRAMS OF COMED...|\n",
            "|        17|       07G|               OTHER|\n",
            "|        18|       08A|       MUSIC - DANCE|\n",
            "|        19|       08B|MUSIC - DANCE - M...|\n",
            "|        20|       08C|MUSIC VIDEO PROGRAMS|\n",
            "+----------+----------+--------------------+\n",
            "only showing top 20 rows\n",
            "\n"
          ]
        }
      ]
    },
    {
      "cell_type": "code",
      "source": [
        "\n",
        "\n",
        "\n",
        "\n",
        "cd_program_class = spark.read.csv(\n",
        "    \"/content/drive/MyDrive/cde_data/broadcast_logs/ReferenceTables/CD_ProgramClass.csv\",\n",
        "    sep=\"|\",\n",
        "    header=True,\n",
        "    inferSchema=True,\n",
        ").select(\n",
        "    \"ProgramClassID\",\n",
        "    \"ProgramClassCD\",\n",
        "    F.col(\"EnglishDescription\").alias(\"ProgramClass_Description\"),\n",
        ")\n",
        "\n",
        "\n",
        "cd_program_class.show()"
      ],
      "metadata": {
        "colab": {
          "base_uri": "https://localhost:8080/"
        },
        "id": "MFNy8VErIr-M",
        "outputId": "5cc9421e-c362-4f36-be7c-e522cba22519"
      },
      "execution_count": 35,
      "outputs": [
        {
          "output_type": "stream",
          "name": "stdout",
          "text": [
            "+--------------+--------------+------------------------+\n",
            "|ProgramClassID|ProgramClassCD|ProgramClass_Description|\n",
            "+--------------+--------------+------------------------+\n",
            "|             1|          AUT |           AUTOPROMOTION|\n",
            "|             2|          BAL |     BALANCE PROGRAMMING|\n",
            "|             3|          COM |      COMMERCIAL MESSAGE|\n",
            "|             4|          COR |             CORNERSTONE|\n",
            "|             5|          DOC |             DOCUMENTARY|\n",
            "|             6|          GIA |               GIVEAWAYS|\n",
            "|             7|          ID  |    NETWORK IDENTIFIC...|\n",
            "|             8|          INT |            INTERSTITIAL|\n",
            "|             9|          LOC |       LOCAL ADVERTISING|\n",
            "|            10|          MAG |        MAGAZINE PROGRAM|\n",
            "|            11|          MER |           MERCHANDISING|\n",
            "|            12|          MVC |        MUSIC VIDEO CLIP|\n",
            "|            13|          NRN |    No recognized nat...|\n",
            "|            14|          OFF |    SCHEDULED OFF AIR...|\n",
            "|            15|          OFT |    OFF AIR DUE TO TE...|\n",
            "|            16|          PCR |       PRODUCTION CREDIT|\n",
            "|            17|          PFS |    PROGRAM FIRST SEG...|\n",
            "|            18|          PGI |     PROGRAM INFOMERCIAL|\n",
            "|            19|          PGR |                 PROGRAM|\n",
            "|            20|          PRC |    PROMOTION OF UPCO...|\n",
            "+--------------+--------------+------------------------+\n",
            "only showing top 20 rows\n",
            "\n"
          ]
        }
      ]
    },
    {
      "cell_type": "code",
      "source": [
        "###############################################################################\n",
        "# Data processing\n",
        "###############################################################################\n",
        "\n",
        "logs = logs.drop(\"BroadcastLogID\", \"SequenceNO\")\n",
        "\n",
        "logs = logs.withColumn(\n",
        "    \"duration_seconds\",\n",
        "    (\n",
        "        F.col(\"Duration\").substr(1, 2).cast(\"int\") * 60 * 60\n",
        "        + F.col(\"Duration\").substr(4, 2).cast(\"int\") * 60\n",
        "        + F.col(\"Duration\").substr(7, 2).cast(\"int\")\n",
        "    ),\n",
        ")\n",
        "\n",
        "\n",
        "logs.show()"
      ],
      "metadata": {
        "colab": {
          "base_uri": "https://localhost:8080/"
        },
        "id": "Uzkc19klIsFT",
        "outputId": "badbc094-2d2d-4b69-ee86-0773b05c3049"
      },
      "execution_count": 36,
      "outputs": [
        {
          "output_type": "stream",
          "name": "stdout",
          "text": [
            "+------------+----------+-------------------+----------------------+----------+---------------+-----------------+----------------+---------------+------------------+--------------+--------------------+------------+-------------------+-------------------+------------+------------+--------------------+-------------------+--------+--------------------+------------------+----------------------+-------------+---------+---------+---------+---------+----------------+\n",
            "|LogServiceID|   LogDate|AudienceTargetAgeID|AudienceTargetEthnicID|CategoryID|ClosedCaptionID|CountryOfOriginID|DubDramaCreditID|EthnicProgramID|ProductionSourceID|ProgramClassID|FilmClassificationID|ExhibitionID|           Duration|            EndTime|LogEntryDate|ProductionNO|        ProgramTitle|          StartTime|Subtitle|NetworkAffiliationID|SpecialAttentionID|BroadcastOriginPointID|CompositionID|Producer1|Producer2|Language1|Language2|duration_seconds|\n",
            "+------------+----------+-------------------+----------------------+----------+---------------+-----------------+----------------+---------------+------------------+--------------+--------------------+------------+-------------------+-------------------+------------+------------+--------------------+-------------------+--------+--------------------+------------------+----------------------+-------------+---------+---------+---------+---------+----------------+\n",
            "|        3157|2018-08-01|                  4|                  NULL|        13|              3|                3|            NULL|           NULL|                10|            19|                NULL|           2|2025-04-24 02:00:00|2025-04-24 08:00:00|  2018-08-01|      A39082|   Newlywed and Dead|2025-04-24 06:00:00|    NULL|                NULL|              NULL|                  NULL|         NULL|     NULL|     NULL|       94|     NULL|            NULL|\n",
            "|        3157|2018-08-01|               NULL|                  NULL|      NULL|              1|             NULL|            NULL|           NULL|              NULL|            20|                NULL|        NULL|2025-04-24 00:00:30|2025-04-24 06:13:45|  2018-08-01|        NULL|15-SPECIALTY CHAN...|2025-04-24 06:13:15|    NULL|                NULL|              NULL|                  NULL|         NULL|     NULL|     NULL|     NULL|     NULL|            NULL|\n",
            "|        3157|2018-08-01|               NULL|                  NULL|      NULL|              1|             NULL|            NULL|           NULL|              NULL|             3|                NULL|        NULL|2025-04-24 00:00:15|2025-04-24 06:14:00|  2018-08-01|        NULL|3-PROCTER & GAMBL...|2025-04-24 06:13:45|    NULL|                NULL|              NULL|                  NULL|         NULL|     NULL|     NULL|     NULL|     NULL|            NULL|\n",
            "|        3157|2018-08-01|               NULL|                  NULL|      NULL|              1|             NULL|            NULL|           NULL|              NULL|             3|                NULL|        NULL|2025-04-24 00:00:15|2025-04-24 06:14:15|  2018-08-01|        NULL|12-CREDIT KARMA-B...|2025-04-24 06:14:00|    NULL|                NULL|              NULL|                  NULL|         NULL|     NULL|     NULL|     NULL|     NULL|            NULL|\n",
            "|        3157|2018-08-01|               NULL|                  NULL|      NULL|              1|             NULL|            NULL|           NULL|              NULL|             3|                NULL|        NULL|2025-04-24 00:00:15|2025-04-24 06:14:30|  2018-08-01|        NULL|3-L'OREAL CANADA-...|2025-04-24 06:14:15|    NULL|                NULL|              NULL|                  NULL|         NULL|     NULL|     NULL|     NULL|     NULL|            NULL|\n",
            "|        3157|2018-08-01|               NULL|                  NULL|      NULL|              1|             NULL|            NULL|           NULL|              NULL|             3|                NULL|        NULL|2025-04-24 00:00:15|2025-04-24 06:14:45|  2018-08-01|        NULL|11-YUM! BRANDS-Ch...|2025-04-24 06:14:30|    NULL|                NULL|              NULL|                  NULL|         NULL|     NULL|     NULL|     NULL|     NULL|            NULL|\n",
            "|        3157|2018-08-01|               NULL|                  NULL|      NULL|              1|             NULL|            NULL|           NULL|              NULL|             3|                NULL|        NULL|2025-04-24 00:00:30|2025-04-24 06:15:16|  2018-08-01|        NULL|2-PIER 1 IMPORTS ...|2025-04-24 06:14:46|    NULL|                NULL|              NULL|                  NULL|         NULL|     NULL|     NULL|     NULL|     NULL|            NULL|\n",
            "|        3157|2018-08-01|               NULL|                  NULL|      NULL|              1|             NULL|            NULL|           NULL|              NULL|             3|                NULL|        NULL|2025-04-24 00:00:15|2025-04-24 06:15:31|  2018-08-01|        NULL|3-HAVAS EDGE-Trav...|2025-04-24 06:15:16|    NULL|                NULL|              NULL|                  NULL|         NULL|     NULL|     NULL|     NULL|     NULL|            NULL|\n",
            "|        3157|2018-08-01|               NULL|                  NULL|      NULL|              1|             NULL|            NULL|           NULL|              NULL|             3|                NULL|        NULL|2025-04-24 00:00:15|2025-04-24 06:15:46|  2018-08-01|        NULL|2-AUTOTRADER-Inte...|2025-04-24 06:15:31|    NULL|                NULL|              NULL|                  NULL|         NULL|     NULL|     NULL|     NULL|     NULL|            NULL|\n",
            "|        3157|2018-08-01|               NULL|                  NULL|      NULL|              1|             NULL|            NULL|           NULL|              NULL|             3|                NULL|        NULL|2025-04-24 00:00:15|2025-04-24 06:16:01|  2018-08-01|        NULL|11-SLEEP COUNTRY ...|2025-04-24 06:15:46|    NULL|                NULL|              NULL|                  NULL|         NULL|     NULL|     NULL|     NULL|     NULL|            NULL|\n",
            "|        3157|2018-08-01|               NULL|                  NULL|      NULL|              1|             NULL|            NULL|           NULL|              NULL|             3|                NULL|        NULL|2025-04-24 00:00:15|2025-04-24 06:16:16|  2018-08-01|        NULL|11-GENERAL MILLS ...|2025-04-24 06:16:01|    NULL|                NULL|              NULL|                  NULL|         NULL|     NULL|     NULL|     NULL|     NULL|            NULL|\n",
            "|        3157|2018-08-01|               NULL|                  NULL|      NULL|              1|             NULL|            NULL|           NULL|              NULL|             3|                NULL|        NULL|2025-04-24 00:00:30|2025-04-24 06:16:46|  2018-08-01|        NULL|11-PROCTER & GAMB...|2025-04-24 06:16:16|    NULL|                NULL|              NULL|                  NULL|         NULL|     NULL|     NULL|     NULL|     NULL|            NULL|\n",
            "|        3157|2018-08-01|               NULL|                  NULL|      NULL|              1|             NULL|            NULL|           NULL|              NULL|            20|                NULL|        NULL|2025-04-24 00:00:30|2025-04-24 06:25:56|  2018-08-01|        NULL|15-SPECIALTY CHAN...|2025-04-24 06:25:26|    NULL|                NULL|              NULL|                  NULL|         NULL|     NULL|     NULL|     NULL|     NULL|            NULL|\n",
            "|        3157|2018-08-01|               NULL|                  NULL|      NULL|              1|             NULL|            NULL|           NULL|              NULL|             3|                NULL|        NULL|2025-04-24 00:00:15|2025-04-24 06:26:11|  2018-08-01|        NULL|11-PROCTER & GAMB...|2025-04-24 06:25:56|    NULL|                NULL|              NULL|                  NULL|         NULL|     NULL|     NULL|     NULL|     NULL|            NULL|\n",
            "|        3157|2018-08-01|               NULL|                  NULL|      NULL|              1|             NULL|            NULL|           NULL|              NULL|             3|                NULL|        NULL|2025-04-24 00:00:15|2025-04-24 06:26:26|  2018-08-01|        NULL|11-LABATT BREWERI...|2025-04-24 06:26:11|    NULL|                NULL|              NULL|                  NULL|         NULL|     NULL|     NULL|     NULL|     NULL|            NULL|\n",
            "|        3157|2018-08-01|               NULL|                  NULL|      NULL|              1|             NULL|            NULL|           NULL|              NULL|             3|                NULL|        NULL|2025-04-24 00:00:15|2025-04-24 06:26:41|  2018-08-01|        NULL|2-IKEA CANADA LTD...|2025-04-24 06:26:26|    NULL|                NULL|              NULL|                  NULL|         NULL|     NULL|     NULL|     NULL|     NULL|            NULL|\n",
            "|        3157|2018-08-01|               NULL|                  NULL|      NULL|              1|             NULL|            NULL|           NULL|              NULL|             3|                NULL|        NULL|2025-04-24 00:00:15|2025-04-24 06:26:57|  2018-08-01|        NULL|11-WAL-MART CANAD...|2025-04-24 06:26:42|    NULL|                NULL|              NULL|                  NULL|         NULL|     NULL|     NULL|     NULL|     NULL|            NULL|\n",
            "|        3157|2018-08-01|               NULL|                  NULL|      NULL|              1|             NULL|            NULL|           NULL|              NULL|             3|                NULL|        NULL|2025-04-24 00:00:15|2025-04-24 06:27:12|  2018-08-01|        NULL|2-AUTOTRADER-Inte...|2025-04-24 06:26:57|    NULL|                NULL|              NULL|                  NULL|         NULL|     NULL|     NULL|     NULL|     NULL|            NULL|\n",
            "|        3157|2018-08-01|               NULL|                  NULL|      NULL|              1|             NULL|            NULL|           NULL|              NULL|             3|                NULL|        NULL|2025-04-24 00:01:00|2025-04-24 06:28:12|  2018-08-01|        NULL|12-COMWAVE TELECO...|2025-04-24 06:27:12|    NULL|                NULL|              NULL|                  NULL|         NULL|     NULL|     NULL|     NULL|     NULL|            NULL|\n",
            "|        3157|2018-08-01|               NULL|                  NULL|      NULL|              1|             NULL|            NULL|           NULL|              NULL|             3|                NULL|        NULL|2025-04-24 00:00:15|2025-04-24 06:28:27|  2018-08-01|        NULL|11-L'OREAL CANADA...|2025-04-24 06:28:12|    NULL|                NULL|              NULL|                  NULL|         NULL|     NULL|     NULL|     NULL|     NULL|            NULL|\n",
            "+------------+----------+-------------------+----------------------+----------+---------------+-----------------+----------------+---------------+------------------+--------------+--------------------+------------+-------------------+-------------------+------------+------------+--------------------+-------------------+--------+--------------------+------------------+----------------------+-------------+---------+---------+---------+---------+----------------+\n",
            "only showing top 20 rows\n",
            "\n"
          ]
        }
      ]
    },
    {
      "cell_type": "code",
      "source": [
        "log_identifier = log_identifier.where(F.col(\"PrimaryFG\") == 1)"
      ],
      "metadata": {
        "id": "0Df7qoECKVVT"
      },
      "execution_count": 37,
      "outputs": []
    },
    {
      "cell_type": "code",
      "source": [
        "log_identifier.show()"
      ],
      "metadata": {
        "colab": {
          "base_uri": "https://localhost:8080/"
        },
        "id": "OPy8fMGHKahD",
        "outputId": "a2ee4527-43c9-4a15-9236-b4be2024ae8a"
      },
      "execution_count": 38,
      "outputs": [
        {
          "output_type": "stream",
          "name": "stdout",
          "text": [
            "+---------------+------------+---------+\n",
            "|LogIdentifierID|LogServiceID|PrimaryFG|\n",
            "+---------------+------------+---------+\n",
            "|           13ST|        3157|        1|\n",
            "|         2000SM|        3466|        1|\n",
            "|           70SM|        3883|        1|\n",
            "|           80SM|        3590|        1|\n",
            "|           90SM|        3470|        1|\n",
            "|         9DAPTN|        3158|        1|\n",
            "|         9DCFCF|        3159|        1|\n",
            "|         9DCFRN|        3160|        1|\n",
            "|         9DCHRO|        3161|        1|\n",
            "|         9DCIVI|        3162|        1|\n",
            "|         9DCJCH|        3163|        1|\n",
            "|         9DCJOH|        3164|        1|\n",
            "|         9DCKCK|        3165|        1|\n",
            "|         9DCKCW|        3166|        1|\n",
            "|         9DCKVR|        3167|        1|\n",
            "|          9DCKY|        3168|        1|\n",
            "|         9DLEAF|        3169|        1|\n",
            "|          9DMC2|        3170|        1|\n",
            "|         9DMPIX|        3171|        1|\n",
            "|         9DMUCH|        3172|        1|\n",
            "+---------------+------------+---------+\n",
            "only showing top 20 rows\n",
            "\n"
          ]
        }
      ]
    },
    {
      "cell_type": "code",
      "source": [
        "logs.show()"
      ],
      "metadata": {
        "colab": {
          "base_uri": "https://localhost:8080/"
        },
        "id": "0CKFh8pkKgCr",
        "outputId": "2a880931-4ea6-40d0-f00e-682fbd333bcc"
      },
      "execution_count": 39,
      "outputs": [
        {
          "output_type": "stream",
          "name": "stdout",
          "text": [
            "+------------+----------+-------------------+----------------------+----------+---------------+-----------------+----------------+---------------+------------------+--------------+--------------------+------------+-------------------+-------------------+------------+------------+--------------------+-------------------+--------+--------------------+------------------+----------------------+-------------+---------+---------+---------+---------+----------------+\n",
            "|LogServiceID|   LogDate|AudienceTargetAgeID|AudienceTargetEthnicID|CategoryID|ClosedCaptionID|CountryOfOriginID|DubDramaCreditID|EthnicProgramID|ProductionSourceID|ProgramClassID|FilmClassificationID|ExhibitionID|           Duration|            EndTime|LogEntryDate|ProductionNO|        ProgramTitle|          StartTime|Subtitle|NetworkAffiliationID|SpecialAttentionID|BroadcastOriginPointID|CompositionID|Producer1|Producer2|Language1|Language2|duration_seconds|\n",
            "+------------+----------+-------------------+----------------------+----------+---------------+-----------------+----------------+---------------+------------------+--------------+--------------------+------------+-------------------+-------------------+------------+------------+--------------------+-------------------+--------+--------------------+------------------+----------------------+-------------+---------+---------+---------+---------+----------------+\n",
            "|        3157|2018-08-01|                  4|                  NULL|        13|              3|                3|            NULL|           NULL|                10|            19|                NULL|           2|2025-04-24 02:00:00|2025-04-24 08:00:00|  2018-08-01|      A39082|   Newlywed and Dead|2025-04-24 06:00:00|    NULL|                NULL|              NULL|                  NULL|         NULL|     NULL|     NULL|       94|     NULL|            NULL|\n",
            "|        3157|2018-08-01|               NULL|                  NULL|      NULL|              1|             NULL|            NULL|           NULL|              NULL|            20|                NULL|        NULL|2025-04-24 00:00:30|2025-04-24 06:13:45|  2018-08-01|        NULL|15-SPECIALTY CHAN...|2025-04-24 06:13:15|    NULL|                NULL|              NULL|                  NULL|         NULL|     NULL|     NULL|     NULL|     NULL|            NULL|\n",
            "|        3157|2018-08-01|               NULL|                  NULL|      NULL|              1|             NULL|            NULL|           NULL|              NULL|             3|                NULL|        NULL|2025-04-24 00:00:15|2025-04-24 06:14:00|  2018-08-01|        NULL|3-PROCTER & GAMBL...|2025-04-24 06:13:45|    NULL|                NULL|              NULL|                  NULL|         NULL|     NULL|     NULL|     NULL|     NULL|            NULL|\n",
            "|        3157|2018-08-01|               NULL|                  NULL|      NULL|              1|             NULL|            NULL|           NULL|              NULL|             3|                NULL|        NULL|2025-04-24 00:00:15|2025-04-24 06:14:15|  2018-08-01|        NULL|12-CREDIT KARMA-B...|2025-04-24 06:14:00|    NULL|                NULL|              NULL|                  NULL|         NULL|     NULL|     NULL|     NULL|     NULL|            NULL|\n",
            "|        3157|2018-08-01|               NULL|                  NULL|      NULL|              1|             NULL|            NULL|           NULL|              NULL|             3|                NULL|        NULL|2025-04-24 00:00:15|2025-04-24 06:14:30|  2018-08-01|        NULL|3-L'OREAL CANADA-...|2025-04-24 06:14:15|    NULL|                NULL|              NULL|                  NULL|         NULL|     NULL|     NULL|     NULL|     NULL|            NULL|\n",
            "|        3157|2018-08-01|               NULL|                  NULL|      NULL|              1|             NULL|            NULL|           NULL|              NULL|             3|                NULL|        NULL|2025-04-24 00:00:15|2025-04-24 06:14:45|  2018-08-01|        NULL|11-YUM! BRANDS-Ch...|2025-04-24 06:14:30|    NULL|                NULL|              NULL|                  NULL|         NULL|     NULL|     NULL|     NULL|     NULL|            NULL|\n",
            "|        3157|2018-08-01|               NULL|                  NULL|      NULL|              1|             NULL|            NULL|           NULL|              NULL|             3|                NULL|        NULL|2025-04-24 00:00:30|2025-04-24 06:15:16|  2018-08-01|        NULL|2-PIER 1 IMPORTS ...|2025-04-24 06:14:46|    NULL|                NULL|              NULL|                  NULL|         NULL|     NULL|     NULL|     NULL|     NULL|            NULL|\n",
            "|        3157|2018-08-01|               NULL|                  NULL|      NULL|              1|             NULL|            NULL|           NULL|              NULL|             3|                NULL|        NULL|2025-04-24 00:00:15|2025-04-24 06:15:31|  2018-08-01|        NULL|3-HAVAS EDGE-Trav...|2025-04-24 06:15:16|    NULL|                NULL|              NULL|                  NULL|         NULL|     NULL|     NULL|     NULL|     NULL|            NULL|\n",
            "|        3157|2018-08-01|               NULL|                  NULL|      NULL|              1|             NULL|            NULL|           NULL|              NULL|             3|                NULL|        NULL|2025-04-24 00:00:15|2025-04-24 06:15:46|  2018-08-01|        NULL|2-AUTOTRADER-Inte...|2025-04-24 06:15:31|    NULL|                NULL|              NULL|                  NULL|         NULL|     NULL|     NULL|     NULL|     NULL|            NULL|\n",
            "|        3157|2018-08-01|               NULL|                  NULL|      NULL|              1|             NULL|            NULL|           NULL|              NULL|             3|                NULL|        NULL|2025-04-24 00:00:15|2025-04-24 06:16:01|  2018-08-01|        NULL|11-SLEEP COUNTRY ...|2025-04-24 06:15:46|    NULL|                NULL|              NULL|                  NULL|         NULL|     NULL|     NULL|     NULL|     NULL|            NULL|\n",
            "|        3157|2018-08-01|               NULL|                  NULL|      NULL|              1|             NULL|            NULL|           NULL|              NULL|             3|                NULL|        NULL|2025-04-24 00:00:15|2025-04-24 06:16:16|  2018-08-01|        NULL|11-GENERAL MILLS ...|2025-04-24 06:16:01|    NULL|                NULL|              NULL|                  NULL|         NULL|     NULL|     NULL|     NULL|     NULL|            NULL|\n",
            "|        3157|2018-08-01|               NULL|                  NULL|      NULL|              1|             NULL|            NULL|           NULL|              NULL|             3|                NULL|        NULL|2025-04-24 00:00:30|2025-04-24 06:16:46|  2018-08-01|        NULL|11-PROCTER & GAMB...|2025-04-24 06:16:16|    NULL|                NULL|              NULL|                  NULL|         NULL|     NULL|     NULL|     NULL|     NULL|            NULL|\n",
            "|        3157|2018-08-01|               NULL|                  NULL|      NULL|              1|             NULL|            NULL|           NULL|              NULL|            20|                NULL|        NULL|2025-04-24 00:00:30|2025-04-24 06:25:56|  2018-08-01|        NULL|15-SPECIALTY CHAN...|2025-04-24 06:25:26|    NULL|                NULL|              NULL|                  NULL|         NULL|     NULL|     NULL|     NULL|     NULL|            NULL|\n",
            "|        3157|2018-08-01|               NULL|                  NULL|      NULL|              1|             NULL|            NULL|           NULL|              NULL|             3|                NULL|        NULL|2025-04-24 00:00:15|2025-04-24 06:26:11|  2018-08-01|        NULL|11-PROCTER & GAMB...|2025-04-24 06:25:56|    NULL|                NULL|              NULL|                  NULL|         NULL|     NULL|     NULL|     NULL|     NULL|            NULL|\n",
            "|        3157|2018-08-01|               NULL|                  NULL|      NULL|              1|             NULL|            NULL|           NULL|              NULL|             3|                NULL|        NULL|2025-04-24 00:00:15|2025-04-24 06:26:26|  2018-08-01|        NULL|11-LABATT BREWERI...|2025-04-24 06:26:11|    NULL|                NULL|              NULL|                  NULL|         NULL|     NULL|     NULL|     NULL|     NULL|            NULL|\n",
            "|        3157|2018-08-01|               NULL|                  NULL|      NULL|              1|             NULL|            NULL|           NULL|              NULL|             3|                NULL|        NULL|2025-04-24 00:00:15|2025-04-24 06:26:41|  2018-08-01|        NULL|2-IKEA CANADA LTD...|2025-04-24 06:26:26|    NULL|                NULL|              NULL|                  NULL|         NULL|     NULL|     NULL|     NULL|     NULL|            NULL|\n",
            "|        3157|2018-08-01|               NULL|                  NULL|      NULL|              1|             NULL|            NULL|           NULL|              NULL|             3|                NULL|        NULL|2025-04-24 00:00:15|2025-04-24 06:26:57|  2018-08-01|        NULL|11-WAL-MART CANAD...|2025-04-24 06:26:42|    NULL|                NULL|              NULL|                  NULL|         NULL|     NULL|     NULL|     NULL|     NULL|            NULL|\n",
            "|        3157|2018-08-01|               NULL|                  NULL|      NULL|              1|             NULL|            NULL|           NULL|              NULL|             3|                NULL|        NULL|2025-04-24 00:00:15|2025-04-24 06:27:12|  2018-08-01|        NULL|2-AUTOTRADER-Inte...|2025-04-24 06:26:57|    NULL|                NULL|              NULL|                  NULL|         NULL|     NULL|     NULL|     NULL|     NULL|            NULL|\n",
            "|        3157|2018-08-01|               NULL|                  NULL|      NULL|              1|             NULL|            NULL|           NULL|              NULL|             3|                NULL|        NULL|2025-04-24 00:01:00|2025-04-24 06:28:12|  2018-08-01|        NULL|12-COMWAVE TELECO...|2025-04-24 06:27:12|    NULL|                NULL|              NULL|                  NULL|         NULL|     NULL|     NULL|     NULL|     NULL|            NULL|\n",
            "|        3157|2018-08-01|               NULL|                  NULL|      NULL|              1|             NULL|            NULL|           NULL|              NULL|             3|                NULL|        NULL|2025-04-24 00:00:15|2025-04-24 06:28:27|  2018-08-01|        NULL|11-L'OREAL CANADA...|2025-04-24 06:28:12|    NULL|                NULL|              NULL|                  NULL|         NULL|     NULL|     NULL|     NULL|     NULL|            NULL|\n",
            "+------------+----------+-------------------+----------------------+----------+---------------+-----------------+----------------+---------------+------------------+--------------+--------------------+------------+-------------------+-------------------+------------+------------+--------------------+-------------------+--------+--------------------+------------------+----------------------+-------------+---------+---------+---------+---------+----------------+\n",
            "only showing top 20 rows\n",
            "\n"
          ]
        }
      ]
    },
    {
      "cell_type": "code",
      "source": [
        "\n",
        "\n",
        "logs_and_channels = logs.join(log_identifier, \"LogServiceID\")"
      ],
      "metadata": {
        "id": "1vgV_qjZKVlT"
      },
      "execution_count": 40,
      "outputs": []
    },
    {
      "cell_type": "code",
      "source": [
        "logs_and_channels.printSchema()"
      ],
      "metadata": {
        "colab": {
          "base_uri": "https://localhost:8080/"
        },
        "id": "X8wSwB7MKkJa",
        "outputId": "a815ba46-94f6-4e33-9c8c-c64ec4bdd782"
      },
      "execution_count": 41,
      "outputs": [
        {
          "output_type": "stream",
          "name": "stdout",
          "text": [
            "root\n",
            " |-- LogServiceID: integer (nullable = true)\n",
            " |-- LogDate: date (nullable = true)\n",
            " |-- AudienceTargetAgeID: integer (nullable = true)\n",
            " |-- AudienceTargetEthnicID: integer (nullable = true)\n",
            " |-- CategoryID: integer (nullable = true)\n",
            " |-- ClosedCaptionID: integer (nullable = true)\n",
            " |-- CountryOfOriginID: integer (nullable = true)\n",
            " |-- DubDramaCreditID: integer (nullable = true)\n",
            " |-- EthnicProgramID: integer (nullable = true)\n",
            " |-- ProductionSourceID: integer (nullable = true)\n",
            " |-- ProgramClassID: integer (nullable = true)\n",
            " |-- FilmClassificationID: integer (nullable = true)\n",
            " |-- ExhibitionID: integer (nullable = true)\n",
            " |-- Duration: timestamp (nullable = true)\n",
            " |-- EndTime: timestamp (nullable = true)\n",
            " |-- LogEntryDate: date (nullable = true)\n",
            " |-- ProductionNO: string (nullable = true)\n",
            " |-- ProgramTitle: string (nullable = true)\n",
            " |-- StartTime: timestamp (nullable = true)\n",
            " |-- Subtitle: string (nullable = true)\n",
            " |-- NetworkAffiliationID: integer (nullable = true)\n",
            " |-- SpecialAttentionID: integer (nullable = true)\n",
            " |-- BroadcastOriginPointID: integer (nullable = true)\n",
            " |-- CompositionID: integer (nullable = true)\n",
            " |-- Producer1: string (nullable = true)\n",
            " |-- Producer2: string (nullable = true)\n",
            " |-- Language1: integer (nullable = true)\n",
            " |-- Language2: integer (nullable = true)\n",
            " |-- duration_seconds: integer (nullable = true)\n",
            " |-- LogIdentifierID: string (nullable = true)\n",
            " |-- PrimaryFG: integer (nullable = true)\n",
            "\n"
          ]
        }
      ]
    },
    {
      "cell_type": "code",
      "source": [
        "full_log = logs_and_channels.join(cd_category, \"CategoryID\", how=\"left\").join(\n",
        "    cd_program_class, \"ProgramClassID\", how=\"left\"\n",
        ")\n",
        "\n",
        "full_log.show()"
      ],
      "metadata": {
        "colab": {
          "base_uri": "https://localhost:8080/"
        },
        "id": "KXnMpCMWKxUc",
        "outputId": "12f53bbe-81a4-4272-ab59-eedf937d2da9"
      },
      "execution_count": 42,
      "outputs": [
        {
          "output_type": "stream",
          "name": "stdout",
          "text": [
            "+--------------+----------+------------+----------+-------------------+----------------------+---------------+-----------------+----------------+---------------+------------------+--------------------+------------+-------------------+-------------------+------------+------------+--------------------+-------------------+--------+--------------------+------------------+----------------------+-------------+---------+---------+---------+---------+----------------+---------------+---------+----------+--------------------+--------------+------------------------+\n",
            "|ProgramClassID|CategoryID|LogServiceID|   LogDate|AudienceTargetAgeID|AudienceTargetEthnicID|ClosedCaptionID|CountryOfOriginID|DubDramaCreditID|EthnicProgramID|ProductionSourceID|FilmClassificationID|ExhibitionID|           Duration|            EndTime|LogEntryDate|ProductionNO|        ProgramTitle|          StartTime|Subtitle|NetworkAffiliationID|SpecialAttentionID|BroadcastOriginPointID|CompositionID|Producer1|Producer2|Language1|Language2|duration_seconds|LogIdentifierID|PrimaryFG|CategoryCD|Category_Description|ProgramClassCD|ProgramClass_Description|\n",
            "+--------------+----------+------------+----------+-------------------+----------------------+---------------+-----------------+----------------+---------------+------------------+--------------------+------------+-------------------+-------------------+------------+------------+--------------------+-------------------+--------+--------------------+------------------+----------------------+-------------+---------+---------+---------+---------+----------------+---------------+---------+----------+--------------------+--------------+------------------------+\n",
            "|            19|        13|        3157|2018-08-01|                  4|                  NULL|              3|                3|            NULL|           NULL|                10|                NULL|           2|2025-04-24 02:00:00|2025-04-24 08:00:00|  2018-08-01|      A39082|   Newlywed and Dead|2025-04-24 06:00:00|    NULL|                NULL|              NULL|                  NULL|         NULL|     NULL|     NULL|       94|     NULL|            NULL|           13ST|        1|       07C|SPECIALS,MINI-SER...|          PGR |                 PROGRAM|\n",
            "|            20|      NULL|        3157|2018-08-01|               NULL|                  NULL|              1|             NULL|            NULL|           NULL|              NULL|                NULL|        NULL|2025-04-24 00:00:30|2025-04-24 06:13:45|  2018-08-01|        NULL|15-SPECIALTY CHAN...|2025-04-24 06:13:15|    NULL|                NULL|              NULL|                  NULL|         NULL|     NULL|     NULL|     NULL|     NULL|            NULL|           13ST|        1|      NULL|                NULL|          PRC |    PROMOTION OF UPCO...|\n",
            "|             3|      NULL|        3157|2018-08-01|               NULL|                  NULL|              1|             NULL|            NULL|           NULL|              NULL|                NULL|        NULL|2025-04-24 00:00:15|2025-04-24 06:14:00|  2018-08-01|        NULL|3-PROCTER & GAMBL...|2025-04-24 06:13:45|    NULL|                NULL|              NULL|                  NULL|         NULL|     NULL|     NULL|     NULL|     NULL|            NULL|           13ST|        1|      NULL|                NULL|          COM |      COMMERCIAL MESSAGE|\n",
            "|             3|      NULL|        3157|2018-08-01|               NULL|                  NULL|              1|             NULL|            NULL|           NULL|              NULL|                NULL|        NULL|2025-04-24 00:00:15|2025-04-24 06:14:15|  2018-08-01|        NULL|12-CREDIT KARMA-B...|2025-04-24 06:14:00|    NULL|                NULL|              NULL|                  NULL|         NULL|     NULL|     NULL|     NULL|     NULL|            NULL|           13ST|        1|      NULL|                NULL|          COM |      COMMERCIAL MESSAGE|\n",
            "|             3|      NULL|        3157|2018-08-01|               NULL|                  NULL|              1|             NULL|            NULL|           NULL|              NULL|                NULL|        NULL|2025-04-24 00:00:15|2025-04-24 06:14:30|  2018-08-01|        NULL|3-L'OREAL CANADA-...|2025-04-24 06:14:15|    NULL|                NULL|              NULL|                  NULL|         NULL|     NULL|     NULL|     NULL|     NULL|            NULL|           13ST|        1|      NULL|                NULL|          COM |      COMMERCIAL MESSAGE|\n",
            "|             3|      NULL|        3157|2018-08-01|               NULL|                  NULL|              1|             NULL|            NULL|           NULL|              NULL|                NULL|        NULL|2025-04-24 00:00:15|2025-04-24 06:14:45|  2018-08-01|        NULL|11-YUM! BRANDS-Ch...|2025-04-24 06:14:30|    NULL|                NULL|              NULL|                  NULL|         NULL|     NULL|     NULL|     NULL|     NULL|            NULL|           13ST|        1|      NULL|                NULL|          COM |      COMMERCIAL MESSAGE|\n",
            "|             3|      NULL|        3157|2018-08-01|               NULL|                  NULL|              1|             NULL|            NULL|           NULL|              NULL|                NULL|        NULL|2025-04-24 00:00:30|2025-04-24 06:15:16|  2018-08-01|        NULL|2-PIER 1 IMPORTS ...|2025-04-24 06:14:46|    NULL|                NULL|              NULL|                  NULL|         NULL|     NULL|     NULL|     NULL|     NULL|            NULL|           13ST|        1|      NULL|                NULL|          COM |      COMMERCIAL MESSAGE|\n",
            "|             3|      NULL|        3157|2018-08-01|               NULL|                  NULL|              1|             NULL|            NULL|           NULL|              NULL|                NULL|        NULL|2025-04-24 00:00:15|2025-04-24 06:15:31|  2018-08-01|        NULL|3-HAVAS EDGE-Trav...|2025-04-24 06:15:16|    NULL|                NULL|              NULL|                  NULL|         NULL|     NULL|     NULL|     NULL|     NULL|            NULL|           13ST|        1|      NULL|                NULL|          COM |      COMMERCIAL MESSAGE|\n",
            "|             3|      NULL|        3157|2018-08-01|               NULL|                  NULL|              1|             NULL|            NULL|           NULL|              NULL|                NULL|        NULL|2025-04-24 00:00:15|2025-04-24 06:15:46|  2018-08-01|        NULL|2-AUTOTRADER-Inte...|2025-04-24 06:15:31|    NULL|                NULL|              NULL|                  NULL|         NULL|     NULL|     NULL|     NULL|     NULL|            NULL|           13ST|        1|      NULL|                NULL|          COM |      COMMERCIAL MESSAGE|\n",
            "|             3|      NULL|        3157|2018-08-01|               NULL|                  NULL|              1|             NULL|            NULL|           NULL|              NULL|                NULL|        NULL|2025-04-24 00:00:15|2025-04-24 06:16:01|  2018-08-01|        NULL|11-SLEEP COUNTRY ...|2025-04-24 06:15:46|    NULL|                NULL|              NULL|                  NULL|         NULL|     NULL|     NULL|     NULL|     NULL|            NULL|           13ST|        1|      NULL|                NULL|          COM |      COMMERCIAL MESSAGE|\n",
            "|             3|      NULL|        3157|2018-08-01|               NULL|                  NULL|              1|             NULL|            NULL|           NULL|              NULL|                NULL|        NULL|2025-04-24 00:00:15|2025-04-24 06:16:16|  2018-08-01|        NULL|11-GENERAL MILLS ...|2025-04-24 06:16:01|    NULL|                NULL|              NULL|                  NULL|         NULL|     NULL|     NULL|     NULL|     NULL|            NULL|           13ST|        1|      NULL|                NULL|          COM |      COMMERCIAL MESSAGE|\n",
            "|             3|      NULL|        3157|2018-08-01|               NULL|                  NULL|              1|             NULL|            NULL|           NULL|              NULL|                NULL|        NULL|2025-04-24 00:00:30|2025-04-24 06:16:46|  2018-08-01|        NULL|11-PROCTER & GAMB...|2025-04-24 06:16:16|    NULL|                NULL|              NULL|                  NULL|         NULL|     NULL|     NULL|     NULL|     NULL|            NULL|           13ST|        1|      NULL|                NULL|          COM |      COMMERCIAL MESSAGE|\n",
            "|            20|      NULL|        3157|2018-08-01|               NULL|                  NULL|              1|             NULL|            NULL|           NULL|              NULL|                NULL|        NULL|2025-04-24 00:00:30|2025-04-24 06:25:56|  2018-08-01|        NULL|15-SPECIALTY CHAN...|2025-04-24 06:25:26|    NULL|                NULL|              NULL|                  NULL|         NULL|     NULL|     NULL|     NULL|     NULL|            NULL|           13ST|        1|      NULL|                NULL|          PRC |    PROMOTION OF UPCO...|\n",
            "|             3|      NULL|        3157|2018-08-01|               NULL|                  NULL|              1|             NULL|            NULL|           NULL|              NULL|                NULL|        NULL|2025-04-24 00:00:15|2025-04-24 06:26:11|  2018-08-01|        NULL|11-PROCTER & GAMB...|2025-04-24 06:25:56|    NULL|                NULL|              NULL|                  NULL|         NULL|     NULL|     NULL|     NULL|     NULL|            NULL|           13ST|        1|      NULL|                NULL|          COM |      COMMERCIAL MESSAGE|\n",
            "|             3|      NULL|        3157|2018-08-01|               NULL|                  NULL|              1|             NULL|            NULL|           NULL|              NULL|                NULL|        NULL|2025-04-24 00:00:15|2025-04-24 06:26:26|  2018-08-01|        NULL|11-LABATT BREWERI...|2025-04-24 06:26:11|    NULL|                NULL|              NULL|                  NULL|         NULL|     NULL|     NULL|     NULL|     NULL|            NULL|           13ST|        1|      NULL|                NULL|          COM |      COMMERCIAL MESSAGE|\n",
            "|             3|      NULL|        3157|2018-08-01|               NULL|                  NULL|              1|             NULL|            NULL|           NULL|              NULL|                NULL|        NULL|2025-04-24 00:00:15|2025-04-24 06:26:41|  2018-08-01|        NULL|2-IKEA CANADA LTD...|2025-04-24 06:26:26|    NULL|                NULL|              NULL|                  NULL|         NULL|     NULL|     NULL|     NULL|     NULL|            NULL|           13ST|        1|      NULL|                NULL|          COM |      COMMERCIAL MESSAGE|\n",
            "|             3|      NULL|        3157|2018-08-01|               NULL|                  NULL|              1|             NULL|            NULL|           NULL|              NULL|                NULL|        NULL|2025-04-24 00:00:15|2025-04-24 06:26:57|  2018-08-01|        NULL|11-WAL-MART CANAD...|2025-04-24 06:26:42|    NULL|                NULL|              NULL|                  NULL|         NULL|     NULL|     NULL|     NULL|     NULL|            NULL|           13ST|        1|      NULL|                NULL|          COM |      COMMERCIAL MESSAGE|\n",
            "|             3|      NULL|        3157|2018-08-01|               NULL|                  NULL|              1|             NULL|            NULL|           NULL|              NULL|                NULL|        NULL|2025-04-24 00:00:15|2025-04-24 06:27:12|  2018-08-01|        NULL|2-AUTOTRADER-Inte...|2025-04-24 06:26:57|    NULL|                NULL|              NULL|                  NULL|         NULL|     NULL|     NULL|     NULL|     NULL|            NULL|           13ST|        1|      NULL|                NULL|          COM |      COMMERCIAL MESSAGE|\n",
            "|             3|      NULL|        3157|2018-08-01|               NULL|                  NULL|              1|             NULL|            NULL|           NULL|              NULL|                NULL|        NULL|2025-04-24 00:01:00|2025-04-24 06:28:12|  2018-08-01|        NULL|12-COMWAVE TELECO...|2025-04-24 06:27:12|    NULL|                NULL|              NULL|                  NULL|         NULL|     NULL|     NULL|     NULL|     NULL|            NULL|           13ST|        1|      NULL|                NULL|          COM |      COMMERCIAL MESSAGE|\n",
            "|             3|      NULL|        3157|2018-08-01|               NULL|                  NULL|              1|             NULL|            NULL|           NULL|              NULL|                NULL|        NULL|2025-04-24 00:00:15|2025-04-24 06:28:27|  2018-08-01|        NULL|11-L'OREAL CANADA...|2025-04-24 06:28:12|    NULL|                NULL|              NULL|                  NULL|         NULL|     NULL|     NULL|     NULL|     NULL|            NULL|           13ST|        1|      NULL|                NULL|          COM |      COMMERCIAL MESSAGE|\n",
            "+--------------+----------+------------+----------+-------------------+----------------------+---------------+-----------------+----------------+---------------+------------------+--------------------+------------+-------------------+-------------------+------------+------------+--------------------+-------------------+--------+--------------------+------------------+----------------------+-------------+---------+---------+---------+---------+----------------+---------------+---------+----------+--------------------+--------------+------------------------+\n",
            "only showing top 20 rows\n",
            "\n"
          ]
        }
      ]
    },
    {
      "cell_type": "code",
      "source": [
        "\n",
        "\n",
        "\n",
        "\n",
        "full_log.groupby(\"LogIdentifierID\").agg(\n",
        "    F.sum(\n",
        "        F.when(\n",
        "            F.trim(F.col(\"ProgramClassCD\")).isin(\n",
        "                [\"COM\", \"PRC\", \"PGI\", \"PRO\", \"LOC\", \"SPO\", \"MER\", \"SOL\"]\n",
        "            ),\n",
        "            F.col(\"duration_seconds\"),\n",
        "        ).otherwise(0)\n",
        "    ).alias(\"duration_commercial\"),\n",
        "    F.sum(\"duration_seconds\").alias(\"duration_total\"),\n",
        ").withColumn(\n",
        "    \"commercial_ratio\", F.col(\"duration_commercial\") / F.col(\"duration_total\")\n",
        ").orderBy(\n",
        "    \"commercial_ratio\", ascending=False\n",
        ").show(\n",
        "    1000, False\n",
        ")"
      ],
      "metadata": {
        "colab": {
          "base_uri": "https://localhost:8080/"
        },
        "id": "vzAT5seUH5Ns",
        "outputId": "a8d62f08-e74d-4626-a615-14e3489e5ad8"
      },
      "execution_count": 43,
      "outputs": [
        {
          "output_type": "stream",
          "name": "stdout",
          "text": [
            "+---------------+-------------------+--------------+----------------+\n",
            "|LogIdentifierID|duration_commercial|duration_total|commercial_ratio|\n",
            "+---------------+-------------------+--------------+----------------+\n",
            "|CJCO           |0                  |NULL          |NULL            |\n",
            "|BRAVO          |0                  |NULL          |NULL            |\n",
            "|CFTF           |0                  |NULL          |NULL            |\n",
            "|CKCS           |0                  |NULL          |NULL            |\n",
            "|CJNT           |0                  |NULL          |NULL            |\n",
            "|CKES           |0                  |NULL          |NULL            |\n",
            "|CHBX           |0                  |NULL          |NULL            |\n",
            "|BBCKID         |0                  |NULL          |NULL            |\n",
            "|BOOK           |0                  |NULL          |NULL            |\n",
            "|CHAN           |0                  |NULL          |NULL            |\n",
            "|CEVASI         |0                  |NULL          |NULL            |\n",
            "|CMT            |0                  |NULL          |NULL            |\n",
            "|CIII           |0                  |NULL          |NULL            |\n",
            "|CFMT           |0                  |NULL          |NULL            |\n",
            "|CFGS           |0                  |NULL          |NULL            |\n",
            "|CBKT           |0                  |NULL          |NULL            |\n",
            "|CHEK           |0                  |NULL          |NULL            |\n",
            "|CFCF           |0                  |NULL          |NULL            |\n",
            "|CBXT           |0                  |NULL          |NULL            |\n",
            "|CIVM           |0                  |NULL          |NULL            |\n",
            "|CESS           |0                  |NULL          |NULL            |\n",
            "|CBHT           |0                  |NULL          |NULL            |\n",
            "|CICC           |0                  |NULL          |NULL            |\n",
            "|CFTM           |0                  |NULL          |NULL            |\n",
            "|CJOH           |0                  |NULL          |NULL            |\n",
            "|CBAFT          |0                  |NULL          |NULL            |\n",
            "|CFTV           |0                  |NULL          |NULL            |\n",
            "|CFCM           |0                  |NULL          |NULL            |\n",
            "|CKPG           |0                  |NULL          |NULL            |\n",
            "|CKVU           |0                  |NULL          |NULL            |\n",
            "|ATN9           |0                  |NULL          |NULL            |\n",
            "|CJPM           |0                  |NULL          |NULL            |\n",
            "|CKWS1          |0                  |NULL          |NULL            |\n",
            "|CFTU           |0                  |NULL          |NULL            |\n",
            "|CICA           |0                  |NULL          |NULL            |\n",
            "|MAKE           |0                  |NULL          |NULL            |\n",
            "|CITY           |0                  |NULL          |NULL            |\n",
            "|CFRS           |0                  |NULL          |NULL            |\n",
            "|CKY            |0                  |NULL          |NULL            |\n",
            "|13ST           |0                  |NULL          |NULL            |\n",
            "|CFRE           |0                  |NULL          |NULL            |\n",
            "|CJMT           |0                  |NULL          |NULL            |\n",
            "|BBCCND         |0                  |NULL          |NULL            |\n",
            "|CFKS           |0                  |NULL          |NULL            |\n",
            "|CJDC           |0                  |NULL          |NULL            |\n",
            "|CKVR           |0                  |NULL          |NULL            |\n",
            "|CKCK           |0                  |NULL          |NULL            |\n",
            "|CFPL           |0                  |NULL          |NULL            |\n",
            "|CJCB           |0                  |NULL          |NULL            |\n",
            "|OWN            |0                  |NULL          |NULL            |\n",
            "|CFTK           |0                  |NULL          |NULL            |\n",
            "|CITV           |0                  |NULL          |NULL            |\n",
            "|ANIMAL         |0                  |NULL          |NULL            |\n",
            "|ASN            |0                  |NULL          |NULL            |\n",
            "|CBMT           |0                  |NULL          |NULL            |\n",
            "|CKAL           |0                  |NULL          |NULL            |\n",
            "|CBUFT          |0                  |NULL          |NULL            |\n",
            "|CKND           |0                  |NULL          |NULL            |\n",
            "|ATN3           |0                  |NULL          |NULL            |\n",
            "|CFJP           |0                  |NULL          |NULL            |\n",
            "|VRAK           |0                  |NULL          |NULL            |\n",
            "|CBXFT          |0                  |NULL          |NULL            |\n",
            "|CFQC           |0                  |NULL          |NULL            |\n",
            "|CFKM           |0                  |NULL          |NULL            |\n",
            "|CBWT           |0                  |NULL          |NULL            |\n",
            "|CIMT           |0                  |NULL          |NULL            |\n",
            "|CIPA           |0                  |NULL          |NULL            |\n",
            "|CIHF           |0                  |NULL          |NULL            |\n",
            "|CFCN           |0                  |NULL          |NULL            |\n",
            "|CHFD           |0                  |NULL          |NULL            |\n",
            "|CBVT           |0                  |NULL          |NULL            |\n",
            "|CHMG           |0                  |NULL          |NULL            |\n",
            "|ARTV           |0                  |NULL          |NULL            |\n",
            "|CANALD         |0                  |NULL          |NULL            |\n",
            "|CKRT           |0                  |NULL          |NULL            |\n",
            "|CFER           |0                  |NULL          |NULL            |\n",
            "|GAME           |0                  |NULL          |NULL            |\n",
            "|ZT�L�          |0                  |NULL          |NULL            |\n",
            "|CBC            |0                  |NULL          |NULL            |\n",
            "|CITS           |0                  |NULL          |NULL            |\n",
            "|CBAT           |0                  |NULL          |NULL            |\n",
            "|CKLT           |0                  |NULL          |NULL            |\n",
            "|CIVI           |0                  |NULL          |NULL            |\n",
            "|COSMO          |0                  |NULL          |NULL            |\n",
            "|CKEM           |0                  |NULL          |NULL            |\n",
            "|ATN8           |0                  |NULL          |NULL            |\n",
            "|CKWS           |0                  |NULL          |NULL            |\n",
            "|CBNT           |0                  |NULL          |NULL            |\n",
            "|CHAT           |0                  |NULL          |NULL            |\n",
            "|CBUT           |0                  |NULL          |NULL            |\n",
            "|ABORIN         |0                  |NULL          |NULL            |\n",
            "|CKNO           |0                  |NULL          |NULL            |\n",
            "|ALLTV          |0                  |NULL          |NULL            |\n",
            "|CHMI           |0                  |NULL          |NULL            |\n",
            "|CJEO           |0                  |NULL          |NULL            |\n",
            "|CITO           |0                  |NULL          |NULL            |\n",
            "|BC1            |0                  |NULL          |NULL            |\n",
            "|CBLT           |0                  |NULL          |NULL            |\n",
            "|CFYK           |0                  |NULL          |NULL            |\n",
            "|CANALVIE       |0                  |NULL          |NULL            |\n",
            "|CJIL           |0                  |NULL          |NULL            |\n",
            "|ATN5           |0                  |NULL          |NULL            |\n",
            "|CIIT           |0                  |NULL          |NULL            |\n",
            "|CFCNL          |0                  |NULL          |NULL            |\n",
            "|CBFT           |0                  |NULL          |NULL            |\n",
            "|ATN6           |0                  |NULL          |NULL            |\n",
            "|CFRN6          |0                  |NULL          |NULL            |\n",
            "|CHAU           |0                  |NULL          |NULL            |\n",
            "|ATN2           |0                  |NULL          |NULL            |\n",
            "|ATN7           |0                  |NULL          |NULL            |\n",
            "|CFJC           |0                  |NULL          |NULL            |\n",
            "|CJCH           |0                  |NULL          |NULL            |\n",
            "|CHRO           |0                  |NULL          |NULL            |\n",
            "|CKCW           |0                  |NULL          |NULL            |\n",
            "|CFVS           |0                  |NULL          |NULL            |\n",
            "|CFTO           |0                  |NULL          |NULL            |\n",
            "|CKNY           |0                  |NULL          |NULL            |\n",
            "|CBRT           |0                  |NULL          |NULL            |\n",
            "|CHNU           |0                  |NULL          |NULL            |\n",
            "|CISA           |0                  |NULL          |NULL            |\n",
            "|CICI           |0                  |NULL          |NULL            |\n",
            "|CPOP           |0                  |NULL          |NULL            |\n",
            "|BLC            |0                  |NULL          |NULL            |\n",
            "|CICT           |0                  |NULL          |NULL            |\n",
            "|CKTM           |0                  |NULL          |NULL            |\n",
            "|CHLT           |0                  |NULL          |NULL            |\n",
            "|CBLFT          |0                  |NULL          |NULL            |\n",
            "|ABORIW         |0                  |NULL          |NULL            |\n",
            "|CITL           |0                  |NULL          |NULL            |\n",
            "|CKTV           |0                  |NULL          |NULL            |\n",
            "|CBKFT          |0                  |NULL          |NULL            |\n",
            "|CHEX02         |0                  |NULL          |NULL            |\n",
            "|CFSK           |0                  |NULL          |NULL            |\n",
            "|CBOT           |0                  |NULL          |NULL            |\n",
            "|CHBC           |0                  |NULL          |NULL            |\n",
            "|CHCH           |0                  |NULL          |NULL            |\n",
            "|CKMI           |0                  |NULL          |NULL            |\n",
            "|CFHD           |0                  |NULL          |NULL            |\n",
            "|CKSH           |0                  |NULL          |NULL            |\n",
            "|ASIDE          |0                  |NULL          |NULL            |\n",
            "|CBWFT          |0                  |NULL          |NULL            |\n",
            "|CHEX           |0                  |NULL          |NULL            |\n",
            "|CKPR           |0                  |NULL          |NULL            |\n",
            "|ATN1           |0                  |NULL          |NULL            |\n",
            "|CHNB2          |0                  |NULL          |NULL            |\n",
            "|CSCN           |0                  |NULL          |NULL            |\n",
            "|CFEM           |0                  |NULL          |NULL            |\n",
            "|COTT           |0                  |NULL          |NULL            |\n",
            "|ABORI          |0                  |NULL          |NULL            |\n",
            "|CBET           |0                  |NULL          |NULL            |\n",
            "|CJBRT          |0                  |NULL          |NULL            |\n",
            "|CHNM           |0                  |NULL          |NULL            |\n",
            "|CBOFT          |0                  |NULL          |NULL            |\n",
            "|CKSA           |0                  |NULL          |NULL            |\n",
            "|INVDIS         |0                  |NULL          |NULL            |\n",
            "|CHEM           |0                  |NULL          |NULL            |\n",
            "|CKCO           |0                  |NULL          |NULL            |\n",
            "|CHOT           |0                  |NULL          |NULL            |\n",
            "|CFRN           |0                  |NULL          |NULL            |\n",
            "|CFAP           |0                  |NULL          |NULL            |\n",
            "|CHWI           |0                  |NULL          |NULL            |\n",
            "|CIVT           |0                  |NULL          |NULL            |\n",
            "|CBCT           |0                  |NULL          |NULL            |\n",
            "|CJON           |0                  |NULL          |NULL            |\n",
            "|CHLF           |0                  |NULL          |NULL            |\n",
            "|TSN3           |0                  |NULL          |NULL            |\n",
            "|CASA           |0                  |NULL          |NULL            |\n",
            "|MOVIEP         |0                  |NULL          |NULL            |\n",
            "|RDSINF         |0                  |NULL          |NULL            |\n",
            "|SCSD01         |0                  |NULL          |NULL            |\n",
            "|SLVSC          |0                  |NULL          |NULL            |\n",
            "|TLNSP          |0                  |NULL          |NULL            |\n",
            "|ATN13          |0                  |NULL          |NULL            |\n",
            "|COOK           |0                  |NULL          |NULL            |\n",
            "|OMAB           |0                  |NULL          |NULL            |\n",
            "|SCSD04         |0                  |NULL          |NULL            |\n",
            "|ZEST           |0                  |NULL          |NULL            |\n",
            "|OMQC           |0                  |NULL          |NULL            |\n",
            "|TSN            |0                  |NULL          |NULL            |\n",
            "|OTN1           |0                  |NULL          |NULL            |\n",
            "|SATV           |0                  |NULL          |NULL            |\n",
            "|DIY            |0                  |NULL          |NULL            |\n",
            "|FTV            |0                  |NULL          |NULL            |\n",
            "|SCSD03         |0                  |NULL          |NULL            |\n",
            "|TOON           |0                  |NULL          |NULL            |\n",
            "|SKIN           |0                  |NULL          |NULL            |\n",
            "|OMBC           |0                  |NULL          |NULL            |\n",
            "|SHOW           |0                  |NULL          |NULL            |\n",
            "|SN2            |0                  |NULL          |NULL            |\n",
            "|LCN            |0                  |NULL          |NULL            |\n",
            "|SNWST          |0                  |NULL          |NULL            |\n",
            "|COMGLD         |0                  |NULL          |NULL            |\n",
            "|SNONE          |0                  |NULL          |NULL            |\n",
            "|TIMESN         |0                  |NULL          |NULL            |\n",
            "|MPIX2          |0                  |NULL          |NULL            |\n",
            "|TRESR          |0                  |NULL          |NULL            |\n",
            "|AMITV          |0                  |NULL          |NULL            |\n",
            "|TV5            |0                  |NULL          |NULL            |\n",
            "|ATN10          |0                  |NULL          |NULL            |\n",
            "|MMAX           |0                  |NULL          |NULL            |\n",
            "|OTN3           |0                  |NULL          |NULL            |\n",
            "|DOCS           |0                  |NULL          |NULL            |\n",
            "|TELENO         |0                  |NULL          |NULL            |\n",
            "|CAVE           |0                  |NULL          |NULL            |\n",
            "|OUTDR          |0                  |NULL          |NULL            |\n",
            "|TCC            |0                  |NULL          |NULL            |\n",
            "|ESPN           |0                  |NULL          |NULL            |\n",
            "|SPACE          |0                  |NULL          |NULL            |\n",
            "|2000SM         |0                  |NULL          |NULL            |\n",
            "|TMN3           |0                  |NULL          |NULL            |\n",
            "|PLAY           |0                  |NULL          |NULL            |\n",
            "|FYI            |0                  |NULL          |NULL            |\n",
            "|DSNYEN         |0                  |NULL          |NULL            |\n",
            "|EXP            |0                  |NULL          |NULL            |\n",
            "|RURAL          |0                  |NULL          |NULL            |\n",
            "|SAB            |0                  |NULL          |NULL            |\n",
            "|WFN            |0                  |NULL          |NULL            |\n",
            "|YOOP           |0                  |NULL          |NULL            |\n",
            "|PENT           |0                  |NULL          |NULL            |\n",
            "|BNN            |0                  |NULL          |NULL            |\n",
            "|V              |0                  |NULL          |NULL            |\n",
            "|TRV            |0                  |NULL          |NULL            |\n",
            "|WTN            |0                  |NULL          |NULL            |\n",
            "|FOOD           |0                  |NULL          |NULL            |\n",
            "|SPARK          |0                  |NULL          |NULL            |\n",
            "|CARTN          |0                  |NULL          |NULL            |\n",
            "|ATN11          |0                  |NULL          |NULL            |\n",
            "|FASH           |0                  |NULL          |NULL            |\n",
            "|TLTOON         |0                  |NULL          |NULL            |\n",
            "|unis           |0                  |NULL          |NULL            |\n",
            "|EURO           |0                  |NULL          |NULL            |\n",
            "|NGWILD         |0                  |NULL          |NULL            |\n",
            "|RAPT           |0                  |NULL          |NULL            |\n",
            "|ABORIH         |0                  |NULL          |NULL            |\n",
            "|SNPAC          |0                  |NULL          |NULL            |\n",
            "|OMON           |0                  |NULL          |NULL            |\n",
            "|YTV            |0                  |NULL          |NULL            |\n",
            "|INVST          |0                  |NULL          |NULL            |\n",
            "|FAMCHA         |0                  |NULL          |NULL            |\n",
            "|MAGINO         |0                  |NULL          |NULL            |\n",
            "|TMN1           |0                  |NULL          |NULL            |\n",
            "|CTVNC          |0                  |NULL          |NULL            |\n",
            "|MOICIE         |0                  |NULL          |NULL            |\n",
            "|DIVA           |0                  |NULL          |NULL            |\n",
            "|NINOS          |0                  |NULL          |NULL            |\n",
            "|CP24           |0                  |NULL          |NULL            |\n",
            "|ONEBMS         |0                  |NULL          |NULL            |\n",
            "|TTV            |0                  |NULL          |NULL            |\n",
            "|THTV           |0                  |NULL          |NULL            |\n",
            "|HGTV           |0                  |NULL          |NULL            |\n",
            "|MSET           |0                  |NULL          |NULL            |\n",
            "|IDNR           |0                  |NULL          |NULL            |\n",
            "|GUS            |0                  |NULL          |NULL            |\n",
            "|E!             |0                  |NULL          |NULL            |\n",
            "|DISSCI         |0                  |NULL          |NULL            |\n",
            "|TDC            |0                  |NULL          |NULL            |\n",
            "|SPTVA2         |0                  |NULL          |NULL            |\n",
            "|PRIDE          |0                  |NULL          |NULL            |\n",
            "|FIGHT          |0                  |NULL          |NULL            |\n",
            "|DSNYFR         |0                  |NULL          |NULL            |\n",
            "|LIFENT         |0                  |NULL          |NULL            |\n",
            "|TMN4           |0                  |NULL          |NULL            |\n",
            "|HISTORY        |0                  |NULL          |NULL            |\n",
            "|NATUR          |0                  |NULL          |NULL            |\n",
            "|RDS            |0                  |NULL          |NULL            |\n",
            "|FACHTV         |0                  |NULL          |NULL            |\n",
            "|DTOUR          |0                  |NULL          |NULL            |\n",
            "|NICK           |0                  |NULL          |NULL            |\n",
            "|SALT           |0                  |NULL          |NULL            |\n",
            "|SPRTVA         |0                  |NULL          |NULL            |\n",
            "|SCSD02         |0                  |NULL          |NULL            |\n",
            "|DSNYXD         |0                  |NULL          |NULL            |\n",
            "|NGCE           |0                  |NULL          |NULL            |\n",
            "|ZEETV          |0                  |NULL          |NULL            |\n",
            "|MUCHM          |0                  |NULL          |NULL            |\n",
            "|AMIFR          |0                  |NULL          |NULL            |\n",
            "|70SM           |0                  |NULL          |NULL            |\n",
            "|TSN1           |0                  |NULL          |NULL            |\n",
            "|90SM           |0                  |NULL          |NULL            |\n",
            "|CHISTO         |0                  |NULL          |NULL            |\n",
            "|SNEST          |0                  |NULL          |NULL            |\n",
            "|ATN14          |0                  |NULL          |NULL            |\n",
            "|TSN2           |0                  |NULL          |NULL            |\n",
            "|FNTSY          |0                  |NULL          |NULL            |\n",
            "|FACHV2         |0                  |NULL          |NULL            |\n",
            "|FAMJR          |0                  |NULL          |NULL            |\n",
            "|PRIS           |0                  |NULL          |NULL            |\n",
            "|TCN            |0                  |NULL          |NULL            |\n",
            "|MVOLA          |0                  |NULL          |NULL            |\n",
            "|NEWSW          |0                  |NULL          |NULL            |\n",
            "|SERIEP         |0                  |NULL          |NULL            |\n",
            "|TMN2           |0                  |NULL          |NULL            |\n",
            "|HPITV          |0                  |NULL          |NULL            |\n",
            "|SNONT          |0                  |NULL          |NULL            |\n",
            "|SE01           |0                  |NULL          |NULL            |\n",
            "|DEJA           |0                  |NULL          |NULL            |\n",
            "|TENCH2         |0                  |NULL          |NULL            |\n",
            "|CHRGD          |0                  |NULL          |NULL            |\n",
            "|VISION         |0                  |NULL          |NULL            |\n",
            "|LEAF           |0                  |NULL          |NULL            |\n",
            "|SN360          |0                  |NULL          |NULL            |\n",
            "|SE03           |0                  |NULL          |NULL            |\n",
            "|SE04           |0                  |NULL          |NULL            |\n",
            "|ZOOM           |0                  |NULL          |NULL            |\n",
            "|80SM           |0                  |NULL          |NULL            |\n",
            "|MPLU           |0                  |NULL          |NULL            |\n",
            "|DSNYJR         |0                  |NULL          |NULL            |\n",
            "|FPTV           |0                  |NULL          |NULL            |\n",
            "|RDI            |0                  |NULL          |NULL            |\n",
            "|SE02           |0                  |NULL          |NULL            |\n",
            "|SRC            |0                  |NULL          |NULL            |\n",
            "|MTV1           |0                  |NULL          |NULL            |\n",
            "|NEOCRI         |0                  |NULL          |NULL            |\n",
            "|WILD           |0                  |NULL          |NULL            |\n",
            "|TVADIK         |0                  |NULL          |NULL            |\n",
            "|FXC            |0                  |NULL          |NULL            |\n",
            "|FXX            |0                  |NULL          |NULL            |\n",
            "|DISVEL         |0                  |NULL          |NULL            |\n",
            "|TSN5           |0                  |NULL          |NULL            |\n",
            "|TANG           |0                  |NULL          |NULL            |\n",
            "|SMITH          |0                  |NULL          |NULL            |\n",
            "|RDS2           |0                  |NULL          |NULL            |\n",
            "|RAZER          |0                  |NULL          |NULL            |\n",
            "|BBCE           |0                  |NULL          |NULL            |\n",
            "+---------------+-------------------+--------------+----------------+\n",
            "\n"
          ]
        }
      ]
    },
    {
      "cell_type": "code",
      "source": [],
      "metadata": {
        "id": "Pax9dGs2Iqi8"
      },
      "execution_count": null,
      "outputs": []
    },
    {
      "cell_type": "code",
      "source": [],
      "metadata": {
        "id": "8tHVoiFvH5XL"
      },
      "execution_count": null,
      "outputs": []
    },
    {
      "cell_type": "code",
      "source": [],
      "metadata": {
        "id": "9Q2iyuwBH5db"
      },
      "execution_count": null,
      "outputs": []
    }
  ]
}