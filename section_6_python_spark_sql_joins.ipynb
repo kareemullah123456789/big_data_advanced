{
  "nbformat": 4,
  "nbformat_minor": 0,
  "metadata": {
    "colab": {
      "provenance": [],
      "authorship_tag": "ABX9TyNwRlCaD1085MhNnBioTw+S",
      "include_colab_link": true
    },
    "kernelspec": {
      "name": "python3",
      "display_name": "Python 3"
    },
    "language_info": {
      "name": "python"
    }
  },
  "cells": [
    {
      "cell_type": "markdown",
      "metadata": {
        "id": "view-in-github",
        "colab_type": "text"
      },
      "source": [
        "<a href=\"https://colab.research.google.com/github/kareemullah123456789/big_data_advanced/blob/main/section_6_python_spark_sql_joins.ipynb\" target=\"_parent\"><img src=\"https://colab.research.google.com/assets/colab-badge.svg\" alt=\"Open In Colab\"/></a>"
      ]
    },
    {
      "cell_type": "code",
      "source": [
        "from google.colab import drive\n",
        "drive.mount('/content/drive')"
      ],
      "metadata": {
        "colab": {
          "base_uri": "https://localhost:8080/"
        },
        "id": "v1oVhFldrlux",
        "outputId": "12904be5-ef43-438e-f56d-6973953d43de"
      },
      "execution_count": null,
      "outputs": [
        {
          "output_type": "stream",
          "name": "stdout",
          "text": [
            "Mounted at /content/drive\n"
          ]
        }
      ]
    },
    {
      "cell_type": "code",
      "source": [
        "!ls /content/drive/MyDrive/cde_data/elements"
      ],
      "metadata": {
        "colab": {
          "base_uri": "https://localhost:8080/"
        },
        "id": "GVIJwHbFrlaK",
        "outputId": "304fed22-075b-4231-9420-fff15940b945"
      },
      "execution_count": null,
      "outputs": [
        {
          "output_type": "stream",
          "name": "stdout",
          "text": [
            "Periodic_Table_Of_Elements.csv\n"
          ]
        }
      ]
    },
    {
      "cell_type": "code",
      "execution_count": null,
      "metadata": {
        "id": "a0feV3Jxp_be"
      },
      "outputs": [],
      "source": [
        "# Import the SparkSession (entry point for PySpark)\n",
        "from pyspark.sql import SparkSession\n",
        "\n",
        "# Import AnalysisException for error handling\n",
        "from pyspark.sql.utils import AnalysisException\n",
        "\n",
        "# Import PySpark SQL functions (e.g., col(), when(), agg())\n",
        "import pyspark.sql.functions as F\n",
        "\n",
        "# Import PySpark SQL data types (e.g., StringType, IntegerType)\n",
        "import pyspark.sql.types as T"
      ]
    },
    {
      "cell_type": "code",
      "source": [
        "spark = SparkSession.builder.appName(\"ElementsAnalysis\").getOrCreate()"
      ],
      "metadata": {
        "id": "hBeFHhO5sCoW"
      },
      "execution_count": null,
      "outputs": []
    },
    {
      "cell_type": "code",
      "source": [
        "# Read the elements CSV file\n",
        "elements = spark.read.csv(\n",
        "    \"/content/drive/MyDrive/cde_data/elements/Periodic_Table_Of_Elements.csv\",\n",
        "    header=True,        # First row contains column headers\n",
        "    inferSchema=True,   # Automatically infer column data types\n",
        ")\n",
        "\n",
        "# Filter for liquid elements, group by period, and count\n",
        "(elements\n",
        " .where(F.col(\"phase\") == \"liq\")  # Filter rows where phase is \"liq\"\n",
        " .groupby(\"period\")                # Group by the \"period\" column\n",
        " .count()                          # Count elements in each group\n",
        " .show()                           # Display the results\n",
        ")"
      ],
      "metadata": {
        "colab": {
          "base_uri": "https://localhost:8080/"
        },
        "id": "IuGLyDroq5In",
        "outputId": "23ce2c16-e1cf-4925-af94-0b155e8c1a9c"
      },
      "execution_count": null,
      "outputs": [
        {
          "output_type": "stream",
          "name": "stdout",
          "text": [
            "+------+-----+\n",
            "|period|count|\n",
            "+------+-----+\n",
            "|     6|    1|\n",
            "|     4|    1|\n",
            "+------+-----+\n",
            "\n"
          ]
        }
      ]
    },
    {
      "cell_type": "code",
      "source": [
        "# -- Assume the data is registered as a temporary SQL table called `elements`\n",
        "# SELECT\n",
        "#   period,           -- Group by the \"period\" column\n",
        "#   COUNT(*) AS count -- Count elements in each group\n",
        "# FROM elements\n",
        "# WHERE phase = 'liq' -- Filter rows where phase is \"liq\"\n",
        "# GROUP BY period;    -- Group results by period"
      ],
      "metadata": {
        "id": "3D4uwCxuq5QH"
      },
      "execution_count": null,
      "outputs": []
    },
    {
      "cell_type": "code",
      "source": [
        "elements.createOrReplaceTempView(\"elements\")"
      ],
      "metadata": {
        "id": "fAgswQaVsyAZ"
      },
      "execution_count": null,
      "outputs": []
    },
    {
      "cell_type": "code",
      "source": [
        "try:\n",
        "    # Execute an SQL query on the Spark session\n",
        "    spark.sql(\n",
        "        \"\"\"\n",
        "        SELECT period, COUNT(*) AS count\n",
        "        FROM elements\n",
        "        WHERE phase = 'liq'\n",
        "        GROUP BY period\n",
        "        \"\"\"\n",
        "    ).show(5)  # Display up to 5 rows of the result\n",
        "except AnalysisException as e:\n",
        "    # Handle any SQL-related errors (e.g., missing table or column)\n",
        "    print(f\"An error occurred: {e}\")"
      ],
      "metadata": {
        "colab": {
          "base_uri": "https://localhost:8080/"
        },
        "id": "E-MUJBjrq5Wi",
        "outputId": "650b7723-8f11-4fd4-b2f9-990f2e0bcc50"
      },
      "execution_count": null,
      "outputs": [
        {
          "output_type": "stream",
          "name": "stdout",
          "text": [
            "+------+-----+\n",
            "|period|count|\n",
            "+------+-----+\n",
            "|     6|    1|\n",
            "|     4|    1|\n",
            "+------+-----+\n",
            "\n"
          ]
        }
      ]
    },
    {
      "cell_type": "code",
      "source": [
        "# Mount Google Drive\n",
        "from google.colab import drive\n",
        "drive.mount('/content/drive')"
      ],
      "metadata": {
        "colab": {
          "base_uri": "https://localhost:8080/"
        },
        "id": "0DD-eUy6_jyT",
        "outputId": "8a7223bb-4126-40c6-bd59-dd3db41661d7"
      },
      "execution_count": null,
      "outputs": [
        {
          "output_type": "stream",
          "name": "stdout",
          "text": [
            "Drive already mounted at /content/drive; to attempt to forcibly remount, call drive.mount(\"/content/drive\", force_remount=True).\n"
          ]
        }
      ]
    },
    {
      "cell_type": "code",
      "source": [
        "!ls /content/drive/MyDrive/cde_data/"
      ],
      "metadata": {
        "colab": {
          "base_uri": "https://localhost:8080/"
        },
        "id": "dhCPhxZd_sxa",
        "outputId": "6afd3f5f-164d-4b43-fabe-b39fda2f6b58"
      },
      "execution_count": null,
      "outputs": [
        {
          "output_type": "stream",
          "name": "stdout",
          "text": [
            " 1342-0.txt\n",
            " broadcast_logs\n",
            " data.csv\n",
            " data_Q3_2019.zip\n",
            " elements\n",
            " gutenberg_books\n",
            " prideandprejudice.csv\n",
            "'pyngrok_UI_CODE_Working_with_RDDs_in_PySpark_(2).ipynb'\n",
            " pyspark_tutorial.ipynb\n",
            " sales_data.csv\n",
            " sample.csv\n",
            " sample_data.csv\n",
            " Section_2_Resilient_Distributed_Datasets_Transformations.ipynb\n",
            " Section_3_Resilient_Distributed_Datasets_Actions.ipynb\n",
            " Section_4_Spark_DataFrames_and_Transformations.ipynb\n",
            " shows\n",
            " simple_count.csv\n",
            " simple_count_single_partition.csv\n",
            " simple_count_single_partition_final.csv\n",
            " Spark_SQL.ipynb\n"
          ]
        }
      ]
    },
    {
      "cell_type": "code",
      "source": [
        "!ls /content/drive/MyDrive/cde_data/data_Q3_2019.zip"
      ],
      "metadata": {
        "colab": {
          "base_uri": "https://localhost:8080/"
        },
        "id": "8AvK3cY5_08P",
        "outputId": "8ce3ab57-06df-490b-e3f9-2d8dc3a22855"
      },
      "execution_count": null,
      "outputs": [
        {
          "output_type": "stream",
          "name": "stdout",
          "text": [
            "/content/drive/MyDrive/cde_data/data_Q3_2019.zip\n"
          ]
        }
      ]
    },
    {
      "cell_type": "code",
      "source": [
        "\n",
        "\n",
        "# Extract the ZIP file\n",
        "import zipfile\n",
        "zip_path = '/content/drive/MyDrive/cde_data/data_Q3_2019.zip'\n",
        "\n",
        "# Create a directory to extract the files\n",
        "!mkdir -p /content/extracted_data\n",
        "with zipfile.ZipFile(zip_path, 'r') as zip_ref:\n",
        "    zip_ref.extractall('/content/extracted_data')\n",
        "\n",
        "# Check the extracted files\n",
        "!ls -la /content/extracted_data"
      ],
      "metadata": {
        "colab": {
          "base_uri": "https://localhost:8080/"
        },
        "id": "uDE3eeLDq5eH",
        "outputId": "c45d95ee-4590-43bd-bddb-a363b89a47d1"
      },
      "execution_count": null,
      "outputs": [
        {
          "output_type": "stream",
          "name": "stdout",
          "text": [
            "total 3070944\n",
            "drwxr-xr-x 3 root root     4096 Mar 21 18:39 .\n",
            "drwxr-xr-x 1 root root     4096 Mar 21 18:36 ..\n",
            "-rw-r--r-- 1 root root 33668882 Mar 21 18:38 2019-07-01.csv\n",
            "-rw-r--r-- 1 root root 33668992 Mar 21 18:38 2019-07-02.csv\n",
            "-rw-r--r-- 1 root root 33680258 Mar 21 18:38 2019-07-03.csv\n",
            "-rw-r--r-- 1 root root 33686648 Mar 21 18:38 2019-07-04.csv\n",
            "-rw-r--r-- 1 root root 33688132 Mar 21 18:38 2019-07-05.csv\n",
            "-rw-r--r-- 1 root root 33671384 Mar 21 18:38 2019-07-06.csv\n",
            "-rw-r--r-- 1 root root 33671774 Mar 21 18:38 2019-07-07.csv\n",
            "-rw-r--r-- 1 root root 33673278 Mar 21 18:38 2019-07-08.csv\n",
            "-rw-r--r-- 1 root root 33651712 Mar 21 18:38 2019-07-09.csv\n",
            "-rw-r--r-- 1 root root 33659590 Mar 21 18:38 2019-07-10.csv\n",
            "-rw-r--r-- 1 root root 33675871 Mar 21 18:38 2019-07-11.csv\n",
            "-rw-r--r-- 1 root root 33679282 Mar 21 18:38 2019-07-12.csv\n",
            "-rw-r--r-- 1 root root 33701769 Mar 21 18:38 2019-07-13.csv\n",
            "-rw-r--r-- 1 root root 33703070 Mar 21 18:38 2019-07-14.csv\n",
            "-rw-r--r-- 1 root root 33674989 Mar 21 18:38 2019-07-15.csv\n",
            "-rw-r--r-- 1 root root 33681199 Mar 21 18:38 2019-07-16.csv\n",
            "-rw-r--r-- 1 root root 33688448 Mar 21 18:38 2019-07-17.csv\n",
            "-rw-r--r-- 1 root root 33713707 Mar 21 18:38 2019-07-18.csv\n",
            "-rw-r--r-- 1 root root 33874287 Mar 21 18:38 2019-07-19.csv\n",
            "-rw-r--r-- 1 root root 33860930 Mar 21 18:38 2019-07-20.csv\n",
            "-rw-r--r-- 1 root root 33860731 Mar 21 18:38 2019-07-21.csv\n",
            "-rw-r--r-- 1 root root 33842451 Mar 21 18:38 2019-07-22.csv\n",
            "-rw-r--r-- 1 root root 33837818 Mar 21 18:38 2019-07-23.csv\n",
            "-rw-r--r-- 1 root root 34011885 Mar 21 18:38 2019-07-24.csv\n",
            "-rw-r--r-- 1 root root 34017215 Mar 21 18:38 2019-07-25.csv\n",
            "-rw-r--r-- 1 root root 34032802 Mar 21 18:38 2019-07-26.csv\n",
            "-rw-r--r-- 1 root root 34015993 Mar 21 18:38 2019-07-27.csv\n",
            "-rw-r--r-- 1 root root 33998634 Mar 21 18:38 2019-07-28.csv\n",
            "-rw-r--r-- 1 root root 33978600 Mar 21 18:38 2019-07-29.csv\n",
            "-rw-r--r-- 1 root root 34002486 Mar 21 18:38 2019-07-30.csv\n",
            "-rw-r--r-- 1 root root 34036229 Mar 21 18:38 2019-07-31.csv\n",
            "-rw-r--r-- 1 root root 34038709 Mar 21 18:38 2019-08-01.csv\n",
            "-rw-r--r-- 1 root root 34041618 Mar 21 18:38 2019-08-02.csv\n",
            "-rw-r--r-- 1 root root 34040201 Mar 21 18:38 2019-08-03.csv\n",
            "-rw-r--r-- 1 root root 34042106 Mar 21 18:38 2019-08-04.csv\n",
            "-rw-r--r-- 1 root root 34041856 Mar 21 18:38 2019-08-05.csv\n",
            "-rw-r--r-- 1 root root 34042410 Mar 21 18:38 2019-08-06.csv\n",
            "-rw-r--r-- 1 root root 34024374 Mar 21 18:38 2019-08-07.csv\n",
            "-rw-r--r-- 1 root root 34023362 Mar 21 18:38 2019-08-08.csv\n",
            "-rw-r--r-- 1 root root 34025348 Mar 21 18:38 2019-08-09.csv\n",
            "-rw-r--r-- 1 root root 34005696 Mar 21 18:38 2019-08-10.csv\n",
            "-rw-r--r-- 1 root root 34006714 Mar 21 18:38 2019-08-11.csv\n",
            "-rw-r--r-- 1 root root 34006961 Mar 21 18:38 2019-08-12.csv\n",
            "-rw-r--r-- 1 root root 34293587 Mar 21 18:38 2019-08-13.csv\n",
            "-rw-r--r-- 1 root root 34345939 Mar 21 18:38 2019-08-14.csv\n",
            "-rw-r--r-- 1 root root 34351174 Mar 21 18:38 2019-08-15.csv\n",
            "-rw-r--r-- 1 root root 34348858 Mar 21 18:38 2019-08-16.csv\n",
            "-rw-r--r-- 1 root root 34350256 Mar 21 18:38 2019-08-17.csv\n",
            "-rw-r--r-- 1 root root 34351700 Mar 21 18:38 2019-08-18.csv\n",
            "-rw-r--r-- 1 root root 34352795 Mar 21 18:38 2019-08-19.csv\n",
            "-rw-r--r-- 1 root root 34352268 Mar 21 18:38 2019-08-20.csv\n",
            "-rw-r--r-- 1 root root 34340108 Mar 21 18:38 2019-08-21.csv\n",
            "-rw-r--r-- 1 root root 34355312 Mar 21 18:38 2019-08-22.csv\n",
            "-rw-r--r-- 1 root root 34357186 Mar 21 18:38 2019-08-23.csv\n",
            "-rw-r--r-- 1 root root 34356437 Mar 21 18:38 2019-08-24.csv\n",
            "-rw-r--r-- 1 root root 34351027 Mar 21 18:38 2019-08-25.csv\n",
            "-rw-r--r-- 1 root root 34329241 Mar 21 18:38 2019-08-26.csv\n",
            "-rw-r--r-- 1 root root 34329241 Mar 21 18:38 2019-08-27.csv\n",
            "-rw-r--r-- 1 root root 34327509 Mar 21 18:38 2019-08-28.csv\n",
            "-rw-r--r-- 1 root root 34332684 Mar 21 18:38 2019-08-29.csv\n",
            "-rw-r--r-- 1 root root 34317159 Mar 21 18:38 2019-08-30.csv\n",
            "-rw-r--r-- 1 root root 34347560 Mar 21 18:38 2019-08-31.csv\n",
            "-rw-r--r-- 1 root root 34328707 Mar 21 18:38 2019-09-01.csv\n",
            "-rw-r--r-- 1 root root 34329675 Mar 21 18:38 2019-09-02.csv\n",
            "-rw-r--r-- 1 root root 34319563 Mar 21 18:38 2019-09-03.csv\n",
            "-rw-r--r-- 1 root root 34327693 Mar 21 18:38 2019-09-04.csv\n",
            "-rw-r--r-- 1 root root 34341991 Mar 21 18:38 2019-09-05.csv\n",
            "-rw-r--r-- 1 root root 34343049 Mar 21 18:38 2019-09-06.csv\n",
            "-rw-r--r-- 1 root root 34339758 Mar 21 18:38 2019-09-07.csv\n",
            "-rw-r--r-- 1 root root 34305688 Mar 21 18:38 2019-09-08.csv\n",
            "-rw-r--r-- 1 root root 34291574 Mar 21 18:39 2019-09-09.csv\n",
            "-rw-r--r-- 1 root root 34310392 Mar 21 18:39 2019-09-10.csv\n",
            "-rw-r--r-- 1 root root 34326821 Mar 21 18:39 2019-09-11.csv\n",
            "-rw-r--r-- 1 root root 34346232 Mar 21 18:39 2019-09-12.csv\n",
            "-rw-r--r-- 1 root root 34349242 Mar 21 18:39 2019-09-13.csv\n",
            "-rw-r--r-- 1 root root 34350280 Mar 21 18:39 2019-09-14.csv\n",
            "-rw-r--r-- 1 root root 34350296 Mar 21 18:39 2019-09-15.csv\n",
            "-rw-r--r-- 1 root root 34330841 Mar 21 18:39 2019-09-16.csv\n",
            "-rw-r--r-- 1 root root 34347329 Mar 21 18:39 2019-09-17.csv\n",
            "-rw-r--r-- 1 root root 34347197 Mar 21 18:39 2019-09-18.csv\n",
            "-rw-r--r-- 1 root root 34341177 Mar 21 18:39 2019-09-19.csv\n",
            "-rw-r--r-- 1 root root 34354581 Mar 21 18:39 2019-09-20.csv\n",
            "-rw-r--r-- 1 root root 34355740 Mar 21 18:39 2019-09-21.csv\n",
            "-rw-r--r-- 1 root root 34724422 Mar 21 18:39 2019-09-22.csv\n",
            "-rw-r--r-- 1 root root 34725823 Mar 21 18:39 2019-09-23.csv\n",
            "-rw-r--r-- 1 root root 35092846 Mar 21 18:39 2019-09-24.csv\n",
            "-rw-r--r-- 1 root root 35098092 Mar 21 18:39 2019-09-25.csv\n",
            "-rw-r--r-- 1 root root 35087809 Mar 21 18:39 2019-09-26.csv\n",
            "-rw-r--r-- 1 root root 35101848 Mar 21 18:39 2019-09-27.csv\n",
            "-rw-r--r-- 1 root root 35060416 Mar 21 18:39 2019-09-28.csv\n",
            "-rw-r--r-- 1 root root 35062125 Mar 21 18:39 2019-09-29.csv\n",
            "-rw-r--r-- 1 root root 35026124 Mar 21 18:39 2019-09-30.csv\n",
            "drwxr-xr-x 2 root root     4096 Mar 21 18:39 __MACOSX\n"
          ]
        }
      ]
    },
    {
      "cell_type": "code",
      "source": [
        "# Initialize PySpark if not already done\n",
        "from pyspark.sql import SparkSession\n",
        "spark = SparkSession.builder \\\n",
        "    .appName(\"Backblaze Data Analysis\") \\\n",
        "    .getOrCreate()\n",
        "\n",
        "# Assuming the extracted file is a CSV\n",
        "# Adjust the file format and options as needed based on your actual file\n",
        "file_path = \"/content/extracted_data\"  # Adjust if the filename is different\n",
        "\n",
        "# Load the data\n",
        "backblaze_2019_q3 = spark.read.format(\"csv\") \\\n",
        "    .option(\"header\", \"true\") \\\n",
        "    .option(\"inferSchema\", \"true\") \\\n",
        "    .load(file_path)\n",
        "\n",
        "# Apply the same schema transformation as you did for the other dataset\n",
        "from pyspark.sql import functions as F\n",
        "from pyspark.sql import types as T\n",
        "\n",
        "backblaze_2019_q3 = backblaze_2019_q3.select(\n",
        "    [F.col(x).cast(T.LongType()) if x.startswith(\"smart\") else F.col(x) for x in backblaze_2019_q3.columns]\n",
        ")\n",
        "\n",
        "# Create a temp view for SQL queries\n",
        "backblaze_2019_q3.createOrReplaceTempView(\"backblaze_stats_2019_q3\")\n",
        "\n",
        "# You can now run SQL queries on this temp view\n",
        "# For example:\n",
        "result = spark.sql(\"SELECT * FROM backblaze_stats_2019_q3 LIMIT 10\")\n",
        "result.show()"
      ],
      "metadata": {
        "colab": {
          "base_uri": "https://localhost:8080/"
        },
        "id": "1m0uGCrH_-2i",
        "outputId": "51740907-cd58-46a7-ed50-d88674e65ca0"
      },
      "execution_count": null,
      "outputs": [
        {
          "output_type": "stream",
          "name": "stdout",
          "text": [
            "+----------+--------------+--------------------+--------------+-------+------------------+-----------+------------------+-----------+------------------+-----------+------------------+-----------+------------------+-----------+------------------+-----------+------------------+-----------+------------------+-----------+-------------------+------------+-------------------+------------+-------------------+------------+-------------------+------------+-------------------+------------+-------------------+------------+-------------------+------------+-------------------+------------+-------------------+------------+-------------------+------------+--------------------+-------------+--------------------+-------------+--------------------+-------------+--------------------+-------------+--------------------+-------------+--------------------+-------------+--------------------+-------------+--------------------+-------------+--------------------+-------------+--------------------+-------------+--------------------+-------------+--------------------+-------------+--------------------+-------------+--------------------+-------------+--------------------+-------------+--------------------+-------------+--------------------+-------------+--------------------+-------------+--------------------+-------------+--------------------+-------------+--------------------+-------------+--------------------+-------------+--------------------+-------------+--------------------+-------------+--------------------+-------------+--------------------+-------------+--------------------+-------------+--------------------+-------------+--------------------+-------------+--------------------+-------------+--------------------+-------------+--------------------+-------------+--------------------+-------------+--------------------+-------------+--------------------+-------------+--------------------+-------------+--------------------+-------------+--------------------+-------------+--------------------+-------------+--------------------+-------------+--------------------+-------------+--------------------+-------------+--------------------+-------------+--------------------+-------------+\n",
            "|      date| serial_number|               model|capacity_bytes|failure|smart_1_normalized|smart_1_raw|smart_2_normalized|smart_2_raw|smart_3_normalized|smart_3_raw|smart_4_normalized|smart_4_raw|smart_5_normalized|smart_5_raw|smart_7_normalized|smart_7_raw|smart_8_normalized|smart_8_raw|smart_9_normalized|smart_9_raw|smart_10_normalized|smart_10_raw|smart_11_normalized|smart_11_raw|smart_12_normalized|smart_12_raw|smart_13_normalized|smart_13_raw|smart_15_normalized|smart_15_raw|smart_16_normalized|smart_16_raw|smart_17_normalized|smart_17_raw|smart_22_normalized|smart_22_raw|smart_23_normalized|smart_23_raw|smart_24_normalized|smart_24_raw|smart_168_normalized|smart_168_raw|smart_170_normalized|smart_170_raw|smart_173_normalized|smart_173_raw|smart_174_normalized|smart_174_raw|smart_177_normalized|smart_177_raw|smart_179_normalized|smart_179_raw|smart_181_normalized|smart_181_raw|smart_182_normalized|smart_182_raw|smart_183_normalized|smart_183_raw|smart_184_normalized|smart_184_raw|smart_187_normalized|smart_187_raw|smart_188_normalized|smart_188_raw|smart_189_normalized|smart_189_raw|smart_190_normalized|smart_190_raw|smart_191_normalized|smart_191_raw|smart_192_normalized|smart_192_raw|smart_193_normalized|smart_193_raw|smart_194_normalized|smart_194_raw|smart_195_normalized|smart_195_raw|smart_196_normalized|smart_196_raw|smart_197_normalized|smart_197_raw|smart_198_normalized|smart_198_raw|smart_199_normalized|smart_199_raw|smart_200_normalized|smart_200_raw|smart_201_normalized|smart_201_raw|smart_218_normalized|smart_218_raw|smart_220_normalized|smart_220_raw|smart_222_normalized|smart_222_raw|smart_223_normalized|smart_223_raw|smart_224_normalized|smart_224_raw|smart_225_normalized|smart_225_raw|smart_226_normalized|smart_226_raw|smart_231_normalized|smart_231_raw|smart_232_normalized|smart_232_raw|smart_233_normalized|smart_233_raw|smart_235_normalized|smart_235_raw|smart_240_normalized|smart_240_raw|smart_241_normalized|smart_241_raw|smart_242_normalized|smart_242_raw|smart_250_normalized|smart_250_raw|smart_251_normalized|smart_251_raw|smart_252_normalized|smart_252_raw|smart_254_normalized|smart_254_raw|smart_255_normalized|smart_255_raw|\n",
            "+----------+--------------+--------------------+--------------+-------+------------------+-----------+------------------+-----------+------------------+-----------+------------------+-----------+------------------+-----------+------------------+-----------+------------------+-----------+------------------+-----------+-------------------+------------+-------------------+------------+-------------------+------------+-------------------+------------+-------------------+------------+-------------------+------------+-------------------+------------+-------------------+------------+-------------------+------------+-------------------+------------+--------------------+-------------+--------------------+-------------+--------------------+-------------+--------------------+-------------+--------------------+-------------+--------------------+-------------+--------------------+-------------+--------------------+-------------+--------------------+-------------+--------------------+-------------+--------------------+-------------+--------------------+-------------+--------------------+-------------+--------------------+-------------+--------------------+-------------+--------------------+-------------+--------------------+-------------+--------------------+-------------+--------------------+-------------+--------------------+-------------+--------------------+-------------+--------------------+-------------+--------------------+-------------+--------------------+-------------+--------------------+-------------+--------------------+-------------+--------------------+-------------+--------------------+-------------+--------------------+-------------+--------------------+-------------+--------------------+-------------+--------------------+-------------+--------------------+-------------+--------------------+-------------+--------------------+-------------+--------------------+-------------+--------------------+-------------+--------------------+-------------+--------------------+-------------+--------------------+-------------+--------------------+-------------+--------------------+-------------+--------------------+-------------+--------------------+-------------+\n",
            "|2019-09-27|      Z305B2QN|         ST4000DM000| 4000787030016|      0|               118|  195290392|              NULL|       NULL|                91|          0|               100|         13|               100|          0|                88|  697337445|              NULL|       NULL|                63|      33165|                100|           0|               NULL|        NULL|                100|          13|               NULL|        NULL|               NULL|        NULL|               NULL|        NULL|               NULL|        NULL|               NULL|        NULL|               NULL|        NULL|               NULL|        NULL|                NULL|         NULL|                NULL|         NULL|                NULL|         NULL|                NULL|         NULL|                NULL|         NULL|                NULL|         NULL|                NULL|         NULL|                NULL|         NULL|                 100|            0|                 100|            0|                 100|            0|                 100|            0|                 100|            0|                  78|           22|                 100|            0|                 100|            0|                  83|        34188|                  22|           22|                NULL|         NULL|                NULL|         NULL|                 100|            0|                 100|            0|                 200|            0|                NULL|         NULL|                NULL|         NULL|                NULL|         NULL|                NULL|         NULL|                NULL|         NULL|                NULL|         NULL|                NULL|         NULL|                NULL|         NULL|                NULL|         NULL|                NULL|         NULL|                NULL|         NULL|                NULL|         NULL|                NULL|         NULL|                 100|        32914|                 100|  50546298288|                 100| 161545142558|                NULL|         NULL|                NULL|         NULL|                NULL|         NULL|                NULL|         NULL|                NULL|         NULL|\n",
            "|2019-09-27|      ZJV0XJQ4|       ST12000NM0007|12000138625024|      0|                82|  170556840|              NULL|       NULL|                96|          0|               100|          3|               100|          0|                86|  407878481|              NULL|       NULL|                89|      10203|                100|           0|               NULL|        NULL|                100|           3|               NULL|        NULL|               NULL|        NULL|               NULL|        NULL|               NULL|        NULL|               NULL|        NULL|               NULL|        NULL|               NULL|        NULL|                NULL|         NULL|                NULL|         NULL|                NULL|         NULL|                NULL|         NULL|                NULL|         NULL|                NULL|         NULL|                NULL|         NULL|                NULL|         NULL|                NULL|         NULL|                NULL|         NULL|                 100|            0|                 100|            0|                NULL|         NULL|                  70|           30|                NULL|         NULL|                 100|          128|                  99|         2422|                  30|           30|                  82|    170556840|                NULL|         NULL|                 100|            0|                 100|            0|                 200|            0|                 100|            0|                NULL|         NULL|                NULL|         NULL|                NULL|         NULL|                NULL|         NULL|                NULL|         NULL|                NULL|         NULL|                NULL|         NULL|                NULL|         NULL|                NULL|         NULL|                NULL|         NULL|                NULL|         NULL|                NULL|         NULL|                 100|         9439|                 100|  50663029832|                 100| 125777227098|                NULL|         NULL|                NULL|         NULL|                NULL|         NULL|                NULL|         NULL|                NULL|         NULL|\n",
            "|2019-09-27|      ZJV0XJQ3|       ST12000NM0007|12000138625024|      0|                83|  184799048|              NULL|       NULL|                99|          0|               100|          1|               100|          0|                90|  921725339|              NULL|       NULL|                92|       7234|                100|           0|               NULL|        NULL|                100|           1|               NULL|        NULL|               NULL|        NULL|               NULL|        NULL|               NULL|        NULL|               NULL|        NULL|               NULL|        NULL|               NULL|        NULL|                NULL|         NULL|                NULL|         NULL|                NULL|         NULL|                NULL|         NULL|                NULL|         NULL|                NULL|         NULL|                NULL|         NULL|                NULL|         NULL|                NULL|         NULL|                NULL|         NULL|                 100|            0|                 100|            0|                NULL|         NULL|                  64|           36|                NULL|         NULL|                 100|           96|                 100|         1877|                  36|           36|                  83|    184799048|                NULL|         NULL|                 100|            0|                 100|            0|                 200|            0|                 100|            0|                NULL|         NULL|                NULL|         NULL|                NULL|         NULL|                NULL|         NULL|                NULL|         NULL|                NULL|         NULL|                NULL|         NULL|                NULL|         NULL|                NULL|         NULL|                NULL|         NULL|                NULL|         NULL|                NULL|         NULL|                 100|         6882|                 100|  48888137792|                 100|  45535067190|                NULL|         NULL|                NULL|         NULL|                NULL|         NULL|                NULL|         NULL|                NULL|         NULL|\n",
            "|2019-09-27|      ZJV0XJQ0|       ST12000NM0007|12000138625024|      0|                82|  170272488|              NULL|       NULL|                93|          0|               100|          6|               100|          0|                86|  400437013|              NULL|       NULL|                88|      10803|                100|           0|               NULL|        NULL|                100|           6|               NULL|        NULL|               NULL|        NULL|               NULL|        NULL|               NULL|        NULL|               NULL|        NULL|               NULL|        NULL|               NULL|        NULL|                NULL|         NULL|                NULL|         NULL|                NULL|         NULL|                NULL|         NULL|                NULL|         NULL|                NULL|         NULL|                NULL|         NULL|                NULL|         NULL|                NULL|         NULL|                NULL|         NULL|                 100|            0|                 100|            0|                NULL|         NULL|                  74|           26|                NULL|         NULL|                 100|          129|                 100|          966|                  26|           26|                  82|    170272488|                NULL|         NULL|                 100|            0|                 100|            0|                 200|            0|                 100|            0|                NULL|         NULL|                NULL|         NULL|                NULL|         NULL|                NULL|         NULL|                NULL|         NULL|                NULL|         NULL|                NULL|         NULL|                NULL|         NULL|                NULL|         NULL|                NULL|         NULL|                NULL|         NULL|                NULL|         NULL|                 100|        10574|                 100|  53123696744|                 100|  93042797144|                NULL|         NULL|                NULL|         NULL|                NULL|         NULL|                NULL|         NULL|                NULL|         NULL|\n",
            "|2019-09-27|PL1331LAHG1S4H|HGST HMS5C4040ALE640| 4000787030016|      0|               100|          0|               134|        103|               100|        436|               100|          9|               100|          0|               100|          0|               113|         42|                97|      23239|                100|           0|               NULL|        NULL|                100|           9|               NULL|        NULL|               NULL|        NULL|               NULL|        NULL|               NULL|        NULL|               NULL|        NULL|               NULL|        NULL|               NULL|        NULL|                NULL|         NULL|                NULL|         NULL|                NULL|         NULL|                NULL|         NULL|                NULL|         NULL|                NULL|         NULL|                NULL|         NULL|                NULL|         NULL|                NULL|         NULL|                NULL|         NULL|                NULL|         NULL|                NULL|         NULL|                NULL|         NULL|                NULL|         NULL|                NULL|         NULL|                 100|          355|                 100|          355|                 214|           28|                NULL|         NULL|                 100|            0|                 100|            0|                 100|            0|                 200|            0|                NULL|         NULL|                NULL|         NULL|                NULL|         NULL|                NULL|         NULL|                NULL|         NULL|                NULL|         NULL|                NULL|         NULL|                NULL|         NULL|                NULL|         NULL|                NULL|         NULL|                NULL|         NULL|                NULL|         NULL|                NULL|         NULL|                NULL|         NULL|                NULL|         NULL|                NULL|         NULL|                NULL|         NULL|                NULL|         NULL|                NULL|         NULL|                NULL|         NULL|                NULL|         NULL|\n",
            "|2019-09-27|      ZA16NQJR|        ST8000NM0055| 8001563222016|      0|                80|  106704400|              NULL|       NULL|                91|          0|               100|          7|               100|          0|                92| 1604593090|              NULL|       NULL|                76|      21118|                100|           0|               NULL|        NULL|                100|           7|               NULL|        NULL|               NULL|        NULL|               NULL|        NULL|               NULL|        NULL|               NULL|        NULL|               NULL|        NULL|               NULL|        NULL|                NULL|         NULL|                NULL|         NULL|                NULL|         NULL|                NULL|         NULL|                NULL|         NULL|                NULL|         NULL|                NULL|         NULL|                NULL|         NULL|                NULL|         NULL|                 100|            0|                 100|            0|                 100|            0|                 100|            0|                  69|           31|                  96|         8099|                 100|           14|                  88|        25799|                  31|           31|                  80|    106704400|                NULL|         NULL|                 100|            0|                 100|            0|                 200|            0|                NULL|         NULL|                NULL|         NULL|                NULL|         NULL|                NULL|         NULL|                NULL|         NULL|                NULL|         NULL|                NULL|         NULL|                NULL|         NULL|                NULL|         NULL|                NULL|         NULL|                NULL|         NULL|                NULL|         NULL|                NULL|         NULL|                 100|        21094|                 100|  58440789336|                 100| 137258901462|                NULL|         NULL|                NULL|         NULL|                NULL|         NULL|                NULL|         NULL|                NULL|         NULL|\n",
            "|2019-09-27|      ZJV02XWG|       ST12000NM0007|12000138625024|      0|                77|   48125888|              NULL|       NULL|                89|          0|               100|          8|               100|          0|                86|  443560774|              NULL|       NULL|                87|      12147|                100|           0|               NULL|        NULL|                100|           8|               NULL|        NULL|               NULL|        NULL|               NULL|        NULL|               NULL|        NULL|               NULL|        NULL|               NULL|        NULL|               NULL|        NULL|                NULL|         NULL|                NULL|         NULL|                NULL|         NULL|                NULL|         NULL|                NULL|         NULL|                NULL|         NULL|                NULL|         NULL|                NULL|         NULL|                NULL|         NULL|                NULL|         NULL|                 100|            0|                 100|            0|                NULL|         NULL|                  70|           30|                NULL|         NULL|                 100|          163|                 100|          957|                  30|           30|                  77|     48125888|                NULL|         NULL|                 100|            0|                 100|            0|                 200|            0|                 100|            0|                NULL|         NULL|                NULL|         NULL|                NULL|         NULL|                NULL|         NULL|                NULL|         NULL|                NULL|         NULL|                NULL|         NULL|                NULL|         NULL|                NULL|         NULL|                NULL|         NULL|                NULL|         NULL|                NULL|         NULL|                 100|        11943|                 100|  51769538856|                 100|  98669361000|                NULL|         NULL|                NULL|         NULL|                NULL|         NULL|                NULL|         NULL|                NULL|         NULL|\n",
            "|2019-09-27|      ZJV1CSVX|       ST12000NM0007|12000138625024|      0|                80|  106034568|              NULL|       NULL|                89|          0|               100|         14|               100|          0|                87|  496770857|              NULL|       NULL|                89|      10460|                100|           0|               NULL|        NULL|                100|          14|               NULL|        NULL|               NULL|        NULL|               NULL|        NULL|               NULL|        NULL|               NULL|        NULL|               NULL|        NULL|               NULL|        NULL|                NULL|         NULL|                NULL|         NULL|                NULL|         NULL|                NULL|         NULL|                NULL|         NULL|                NULL|         NULL|                NULL|         NULL|                NULL|         NULL|                NULL|         NULL|                NULL|         NULL|                 100|            0|                 100|            0|                NULL|         NULL|                  68|           32|                NULL|         NULL|                 100|          138|                 100|          667|                  32|           32|                  80|    106034568|                NULL|         NULL|                 100|            0|                 100|            0|                 200|            0|                 100|            0|                NULL|         NULL|                NULL|         NULL|                NULL|         NULL|                NULL|         NULL|                NULL|         NULL|                NULL|         NULL|                NULL|         NULL|                NULL|         NULL|                NULL|         NULL|                NULL|         NULL|                NULL|         NULL|                NULL|         NULL|                 100|        10352|                 100|  53983479272|                 100| 138261390736|                NULL|         NULL|                NULL|         NULL|                NULL|         NULL|                NULL|         NULL|                NULL|         NULL|\n",
            "|2019-09-27|      ZJV02XWA|       ST12000NM0007|12000138625024|      0|                80|   91643856|              NULL|       NULL|                90|          0|               100|          7|               100|          0|                88|  678333083|              NULL|       NULL|                87|      12133|                100|           0|               NULL|        NULL|                100|           7|               NULL|        NULL|               NULL|        NULL|               NULL|        NULL|               NULL|        NULL|               NULL|        NULL|               NULL|        NULL|               NULL|        NULL|                NULL|         NULL|                NULL|         NULL|                NULL|         NULL|                NULL|         NULL|                NULL|         NULL|                NULL|         NULL|                NULL|         NULL|                NULL|         NULL|                NULL|         NULL|                NULL|         NULL|                 100|            0|                 100|            0|                NULL|         NULL|                  78|           22|                NULL|         NULL|                 100|          161|                 100|          668|                  22|           22|                  80|     91643856|                NULL|         NULL|                 100|            0|                 100|            0|                 200|            0|                 100|            0|                NULL|         NULL|                NULL|         NULL|                NULL|         NULL|                NULL|         NULL|                NULL|         NULL|                NULL|         NULL|                NULL|         NULL|                NULL|         NULL|                NULL|         NULL|                NULL|         NULL|                NULL|         NULL|                NULL|         NULL|                 100|        12036|                 100|  59964774144|                 100| 134218809954|                NULL|         NULL|                NULL|         NULL|                NULL|         NULL|                NULL|         NULL|                NULL|         NULL|\n",
            "|2019-09-27|      ZA18CEBS|        ST8000NM0055| 8001563222016|      0|                75|   33448352|              NULL|       NULL|                97|          0|               100|          2|               100|          0|                87|  506396435|              NULL|       NULL|                80|      18091|                100|           0|               NULL|        NULL|                100|           2|               NULL|        NULL|               NULL|        NULL|               NULL|        NULL|               NULL|        NULL|               NULL|        NULL|               NULL|        NULL|               NULL|        NULL|                NULL|         NULL|                NULL|         NULL|                NULL|         NULL|                NULL|         NULL|                NULL|         NULL|                NULL|         NULL|                NULL|         NULL|                NULL|         NULL|                NULL|         NULL|                 100|            0|                 100|            0|                 100|            0|                 100|            0|                  68|           32|                  89|        22571|                 100|            3|                  88|        25076|                  32|           32|                  75|     33448352|                NULL|         NULL|                 100|            0|                 100|            0|                 200|            0|                NULL|         NULL|                NULL|         NULL|                NULL|         NULL|                NULL|         NULL|                NULL|         NULL|                NULL|         NULL|                NULL|         NULL|                NULL|         NULL|                NULL|         NULL|                NULL|         NULL|                NULL|         NULL|                NULL|         NULL|                NULL|         NULL|                 100|        18063|                 100|  51432732800|                 100| 131986808564|                NULL|         NULL|                NULL|         NULL|                NULL|         NULL|                NULL|         NULL|                NULL|         NULL|\n",
            "+----------+--------------+--------------------+--------------+-------+------------------+-----------+------------------+-----------+------------------+-----------+------------------+-----------+------------------+-----------+------------------+-----------+------------------+-----------+------------------+-----------+-------------------+------------+-------------------+------------+-------------------+------------+-------------------+------------+-------------------+------------+-------------------+------------+-------------------+------------+-------------------+------------+-------------------+------------+-------------------+------------+--------------------+-------------+--------------------+-------------+--------------------+-------------+--------------------+-------------+--------------------+-------------+--------------------+-------------+--------------------+-------------+--------------------+-------------+--------------------+-------------+--------------------+-------------+--------------------+-------------+--------------------+-------------+--------------------+-------------+--------------------+-------------+--------------------+-------------+--------------------+-------------+--------------------+-------------+--------------------+-------------+--------------------+-------------+--------------------+-------------+--------------------+-------------+--------------------+-------------+--------------------+-------------+--------------------+-------------+--------------------+-------------+--------------------+-------------+--------------------+-------------+--------------------+-------------+--------------------+-------------+--------------------+-------------+--------------------+-------------+--------------------+-------------+--------------------+-------------+--------------------+-------------+--------------------+-------------+--------------------+-------------+--------------------+-------------+--------------------+-------------+--------------------+-------------+--------------------+-------------+--------------------+-------------+--------------------+-------------+--------------------+-------------+--------------------+-------------+\n",
            "\n"
          ]
        }
      ]
    },
    {
      "cell_type": "code",
      "source": [
        "spark.sql(\n",
        "    \"select serial_number from backblaze_stats_2019_q3 where failure = 1\"\n",
        " ).show(\n",
        "    5\n",
        " )"
      ],
      "metadata": {
        "colab": {
          "base_uri": "https://localhost:8080/"
        },
        "id": "8P90OGoI__Nr",
        "outputId": "057b6e4e-d70a-4d68-9aeb-b19d93c1439f"
      },
      "execution_count": null,
      "outputs": [
        {
          "output_type": "stream",
          "name": "stdout",
          "text": [
            "+-------------+\n",
            "|serial_number|\n",
            "+-------------+\n",
            "|     ZA10MCJ5|\n",
            "|     ZCH07T9K|\n",
            "|     ZCH0CA7Z|\n",
            "|     Z302F381|\n",
            "|     ZCH0B3Z2|\n",
            "+-------------+\n",
            "only showing top 5 rows\n",
            "\n"
          ]
        }
      ]
    },
    {
      "cell_type": "code",
      "source": [
        "backblaze_2019_q3.where(\"failure = 1\").select(F.col(\"serial_number\")).show(5)"
      ],
      "metadata": {
        "colab": {
          "base_uri": "https://localhost:8080/"
        },
        "id": "Lxa-oklY__16",
        "outputId": "906f3235-4aaf-4040-cd19-a4d602cf15ae"
      },
      "execution_count": null,
      "outputs": [
        {
          "output_type": "stream",
          "name": "stdout",
          "text": [
            "+-------------+\n",
            "|serial_number|\n",
            "+-------------+\n",
            "|     ZA10MCJ5|\n",
            "|     ZCH07T9K|\n",
            "|     ZCH0CA7Z|\n",
            "|     Z302F381|\n",
            "|     ZCH0B3Z2|\n",
            "+-------------+\n",
            "only showing top 5 rows\n",
            "\n"
          ]
        }
      ]
    },
    {
      "cell_type": "code",
      "source": [
        "backblaze_2019 = backblaze_2019_q3.select(\n",
        "    [\n",
        " F.col(x).cast(T.LongType()) if x.startswith(\"smart\") else F.col(x)\n",
        " for x in backblaze_2019_q3.columns\n",
        "    ]\n",
        " )"
      ],
      "metadata": {
        "id": "geey3IauAAAh"
      },
      "execution_count": null,
      "outputs": []
    },
    {
      "cell_type": "code",
      "source": [
        "backblaze_2019.show()"
      ],
      "metadata": {
        "colab": {
          "base_uri": "https://localhost:8080/"
        },
        "id": "Gp0HkTM5AAHk",
        "outputId": "f73c66e3-954f-43c4-d16d-cc96bda5ca3b"
      },
      "execution_count": null,
      "outputs": [
        {
          "output_type": "stream",
          "name": "stdout",
          "text": [
            "+----------+--------------+--------------------+--------------+-------+------------------+-----------+------------------+-----------+------------------+-----------+------------------+-----------+------------------+-----------+------------------+-----------+------------------+-----------+------------------+-----------+-------------------+------------+-------------------+------------+-------------------+------------+-------------------+------------+-------------------+------------+-------------------+------------+-------------------+------------+-------------------+------------+-------------------+------------+-------------------+------------+--------------------+-------------+--------------------+-------------+--------------------+-------------+--------------------+-------------+--------------------+-------------+--------------------+-------------+--------------------+-------------+--------------------+-------------+--------------------+-------------+--------------------+-------------+--------------------+-------------+--------------------+-------------+--------------------+-------------+--------------------+-------------+--------------------+-------------+--------------------+-------------+--------------------+-------------+--------------------+-------------+--------------------+-------------+--------------------+-------------+--------------------+-------------+--------------------+-------------+--------------------+-------------+--------------------+-------------+--------------------+-------------+--------------------+-------------+--------------------+-------------+--------------------+-------------+--------------------+-------------+--------------------+-------------+--------------------+-------------+--------------------+-------------+--------------------+-------------+--------------------+-------------+--------------------+-------------+--------------------+-------------+--------------------+-------------+--------------------+-------------+--------------------+-------------+--------------------+-------------+--------------------+-------------+--------------------+-------------+--------------------+-------------+--------------------+-------------+\n",
            "|      date| serial_number|               model|capacity_bytes|failure|smart_1_normalized|smart_1_raw|smart_2_normalized|smart_2_raw|smart_3_normalized|smart_3_raw|smart_4_normalized|smart_4_raw|smart_5_normalized|smart_5_raw|smart_7_normalized|smart_7_raw|smart_8_normalized|smart_8_raw|smart_9_normalized|smart_9_raw|smart_10_normalized|smart_10_raw|smart_11_normalized|smart_11_raw|smart_12_normalized|smart_12_raw|smart_13_normalized|smart_13_raw|smart_15_normalized|smart_15_raw|smart_16_normalized|smart_16_raw|smart_17_normalized|smart_17_raw|smart_22_normalized|smart_22_raw|smart_23_normalized|smart_23_raw|smart_24_normalized|smart_24_raw|smart_168_normalized|smart_168_raw|smart_170_normalized|smart_170_raw|smart_173_normalized|smart_173_raw|smart_174_normalized|smart_174_raw|smart_177_normalized|smart_177_raw|smart_179_normalized|smart_179_raw|smart_181_normalized|smart_181_raw|smart_182_normalized|smart_182_raw|smart_183_normalized|smart_183_raw|smart_184_normalized|smart_184_raw|smart_187_normalized|smart_187_raw|smart_188_normalized|smart_188_raw|smart_189_normalized|smart_189_raw|smart_190_normalized|smart_190_raw|smart_191_normalized|smart_191_raw|smart_192_normalized|smart_192_raw|smart_193_normalized|smart_193_raw|smart_194_normalized|smart_194_raw|smart_195_normalized|smart_195_raw|smart_196_normalized|smart_196_raw|smart_197_normalized|smart_197_raw|smart_198_normalized|smart_198_raw|smart_199_normalized|smart_199_raw|smart_200_normalized|smart_200_raw|smart_201_normalized|smart_201_raw|smart_218_normalized|smart_218_raw|smart_220_normalized|smart_220_raw|smart_222_normalized|smart_222_raw|smart_223_normalized|smart_223_raw|smart_224_normalized|smart_224_raw|smart_225_normalized|smart_225_raw|smart_226_normalized|smart_226_raw|smart_231_normalized|smart_231_raw|smart_232_normalized|smart_232_raw|smart_233_normalized|smart_233_raw|smart_235_normalized|smart_235_raw|smart_240_normalized|smart_240_raw|smart_241_normalized|smart_241_raw|smart_242_normalized|smart_242_raw|smart_250_normalized|smart_250_raw|smart_251_normalized|smart_251_raw|smart_252_normalized|smart_252_raw|smart_254_normalized|smart_254_raw|smart_255_normalized|smart_255_raw|\n",
            "+----------+--------------+--------------------+--------------+-------+------------------+-----------+------------------+-----------+------------------+-----------+------------------+-----------+------------------+-----------+------------------+-----------+------------------+-----------+------------------+-----------+-------------------+------------+-------------------+------------+-------------------+------------+-------------------+------------+-------------------+------------+-------------------+------------+-------------------+------------+-------------------+------------+-------------------+------------+-------------------+------------+--------------------+-------------+--------------------+-------------+--------------------+-------------+--------------------+-------------+--------------------+-------------+--------------------+-------------+--------------------+-------------+--------------------+-------------+--------------------+-------------+--------------------+-------------+--------------------+-------------+--------------------+-------------+--------------------+-------------+--------------------+-------------+--------------------+-------------+--------------------+-------------+--------------------+-------------+--------------------+-------------+--------------------+-------------+--------------------+-------------+--------------------+-------------+--------------------+-------------+--------------------+-------------+--------------------+-------------+--------------------+-------------+--------------------+-------------+--------------------+-------------+--------------------+-------------+--------------------+-------------+--------------------+-------------+--------------------+-------------+--------------------+-------------+--------------------+-------------+--------------------+-------------+--------------------+-------------+--------------------+-------------+--------------------+-------------+--------------------+-------------+--------------------+-------------+--------------------+-------------+--------------------+-------------+--------------------+-------------+--------------------+-------------+--------------------+-------------+\n",
            "|2019-09-27|      Z305B2QN|         ST4000DM000| 4000787030016|      0|               118|  195290392|              NULL|       NULL|                91|          0|               100|         13|               100|          0|                88|  697337445|              NULL|       NULL|                63|      33165|                100|           0|               NULL|        NULL|                100|          13|               NULL|        NULL|               NULL|        NULL|               NULL|        NULL|               NULL|        NULL|               NULL|        NULL|               NULL|        NULL|               NULL|        NULL|                NULL|         NULL|                NULL|         NULL|                NULL|         NULL|                NULL|         NULL|                NULL|         NULL|                NULL|         NULL|                NULL|         NULL|                NULL|         NULL|                 100|            0|                 100|            0|                 100|            0|                 100|            0|                 100|            0|                  78|           22|                 100|            0|                 100|            0|                  83|        34188|                  22|           22|                NULL|         NULL|                NULL|         NULL|                 100|            0|                 100|            0|                 200|            0|                NULL|         NULL|                NULL|         NULL|                NULL|         NULL|                NULL|         NULL|                NULL|         NULL|                NULL|         NULL|                NULL|         NULL|                NULL|         NULL|                NULL|         NULL|                NULL|         NULL|                NULL|         NULL|                NULL|         NULL|                NULL|         NULL|                 100|        32914|                 100|  50546298288|                 100| 161545142558|                NULL|         NULL|                NULL|         NULL|                NULL|         NULL|                NULL|         NULL|                NULL|         NULL|\n",
            "|2019-09-27|      ZJV0XJQ4|       ST12000NM0007|12000138625024|      0|                82|  170556840|              NULL|       NULL|                96|          0|               100|          3|               100|          0|                86|  407878481|              NULL|       NULL|                89|      10203|                100|           0|               NULL|        NULL|                100|           3|               NULL|        NULL|               NULL|        NULL|               NULL|        NULL|               NULL|        NULL|               NULL|        NULL|               NULL|        NULL|               NULL|        NULL|                NULL|         NULL|                NULL|         NULL|                NULL|         NULL|                NULL|         NULL|                NULL|         NULL|                NULL|         NULL|                NULL|         NULL|                NULL|         NULL|                NULL|         NULL|                NULL|         NULL|                 100|            0|                 100|            0|                NULL|         NULL|                  70|           30|                NULL|         NULL|                 100|          128|                  99|         2422|                  30|           30|                  82|    170556840|                NULL|         NULL|                 100|            0|                 100|            0|                 200|            0|                 100|            0|                NULL|         NULL|                NULL|         NULL|                NULL|         NULL|                NULL|         NULL|                NULL|         NULL|                NULL|         NULL|                NULL|         NULL|                NULL|         NULL|                NULL|         NULL|                NULL|         NULL|                NULL|         NULL|                NULL|         NULL|                 100|         9439|                 100|  50663029832|                 100| 125777227098|                NULL|         NULL|                NULL|         NULL|                NULL|         NULL|                NULL|         NULL|                NULL|         NULL|\n",
            "|2019-09-27|      ZJV0XJQ3|       ST12000NM0007|12000138625024|      0|                83|  184799048|              NULL|       NULL|                99|          0|               100|          1|               100|          0|                90|  921725339|              NULL|       NULL|                92|       7234|                100|           0|               NULL|        NULL|                100|           1|               NULL|        NULL|               NULL|        NULL|               NULL|        NULL|               NULL|        NULL|               NULL|        NULL|               NULL|        NULL|               NULL|        NULL|                NULL|         NULL|                NULL|         NULL|                NULL|         NULL|                NULL|         NULL|                NULL|         NULL|                NULL|         NULL|                NULL|         NULL|                NULL|         NULL|                NULL|         NULL|                NULL|         NULL|                 100|            0|                 100|            0|                NULL|         NULL|                  64|           36|                NULL|         NULL|                 100|           96|                 100|         1877|                  36|           36|                  83|    184799048|                NULL|         NULL|                 100|            0|                 100|            0|                 200|            0|                 100|            0|                NULL|         NULL|                NULL|         NULL|                NULL|         NULL|                NULL|         NULL|                NULL|         NULL|                NULL|         NULL|                NULL|         NULL|                NULL|         NULL|                NULL|         NULL|                NULL|         NULL|                NULL|         NULL|                NULL|         NULL|                 100|         6882|                 100|  48888137792|                 100|  45535067190|                NULL|         NULL|                NULL|         NULL|                NULL|         NULL|                NULL|         NULL|                NULL|         NULL|\n",
            "|2019-09-27|      ZJV0XJQ0|       ST12000NM0007|12000138625024|      0|                82|  170272488|              NULL|       NULL|                93|          0|               100|          6|               100|          0|                86|  400437013|              NULL|       NULL|                88|      10803|                100|           0|               NULL|        NULL|                100|           6|               NULL|        NULL|               NULL|        NULL|               NULL|        NULL|               NULL|        NULL|               NULL|        NULL|               NULL|        NULL|               NULL|        NULL|                NULL|         NULL|                NULL|         NULL|                NULL|         NULL|                NULL|         NULL|                NULL|         NULL|                NULL|         NULL|                NULL|         NULL|                NULL|         NULL|                NULL|         NULL|                NULL|         NULL|                 100|            0|                 100|            0|                NULL|         NULL|                  74|           26|                NULL|         NULL|                 100|          129|                 100|          966|                  26|           26|                  82|    170272488|                NULL|         NULL|                 100|            0|                 100|            0|                 200|            0|                 100|            0|                NULL|         NULL|                NULL|         NULL|                NULL|         NULL|                NULL|         NULL|                NULL|         NULL|                NULL|         NULL|                NULL|         NULL|                NULL|         NULL|                NULL|         NULL|                NULL|         NULL|                NULL|         NULL|                NULL|         NULL|                 100|        10574|                 100|  53123696744|                 100|  93042797144|                NULL|         NULL|                NULL|         NULL|                NULL|         NULL|                NULL|         NULL|                NULL|         NULL|\n",
            "|2019-09-27|PL1331LAHG1S4H|HGST HMS5C4040ALE640| 4000787030016|      0|               100|          0|               134|        103|               100|        436|               100|          9|               100|          0|               100|          0|               113|         42|                97|      23239|                100|           0|               NULL|        NULL|                100|           9|               NULL|        NULL|               NULL|        NULL|               NULL|        NULL|               NULL|        NULL|               NULL|        NULL|               NULL|        NULL|               NULL|        NULL|                NULL|         NULL|                NULL|         NULL|                NULL|         NULL|                NULL|         NULL|                NULL|         NULL|                NULL|         NULL|                NULL|         NULL|                NULL|         NULL|                NULL|         NULL|                NULL|         NULL|                NULL|         NULL|                NULL|         NULL|                NULL|         NULL|                NULL|         NULL|                NULL|         NULL|                 100|          355|                 100|          355|                 214|           28|                NULL|         NULL|                 100|            0|                 100|            0|                 100|            0|                 200|            0|                NULL|         NULL|                NULL|         NULL|                NULL|         NULL|                NULL|         NULL|                NULL|         NULL|                NULL|         NULL|                NULL|         NULL|                NULL|         NULL|                NULL|         NULL|                NULL|         NULL|                NULL|         NULL|                NULL|         NULL|                NULL|         NULL|                NULL|         NULL|                NULL|         NULL|                NULL|         NULL|                NULL|         NULL|                NULL|         NULL|                NULL|         NULL|                NULL|         NULL|                NULL|         NULL|\n",
            "|2019-09-27|      ZA16NQJR|        ST8000NM0055| 8001563222016|      0|                80|  106704400|              NULL|       NULL|                91|          0|               100|          7|               100|          0|                92| 1604593090|              NULL|       NULL|                76|      21118|                100|           0|               NULL|        NULL|                100|           7|               NULL|        NULL|               NULL|        NULL|               NULL|        NULL|               NULL|        NULL|               NULL|        NULL|               NULL|        NULL|               NULL|        NULL|                NULL|         NULL|                NULL|         NULL|                NULL|         NULL|                NULL|         NULL|                NULL|         NULL|                NULL|         NULL|                NULL|         NULL|                NULL|         NULL|                NULL|         NULL|                 100|            0|                 100|            0|                 100|            0|                 100|            0|                  69|           31|                  96|         8099|                 100|           14|                  88|        25799|                  31|           31|                  80|    106704400|                NULL|         NULL|                 100|            0|                 100|            0|                 200|            0|                NULL|         NULL|                NULL|         NULL|                NULL|         NULL|                NULL|         NULL|                NULL|         NULL|                NULL|         NULL|                NULL|         NULL|                NULL|         NULL|                NULL|         NULL|                NULL|         NULL|                NULL|         NULL|                NULL|         NULL|                NULL|         NULL|                 100|        21094|                 100|  58440789336|                 100| 137258901462|                NULL|         NULL|                NULL|         NULL|                NULL|         NULL|                NULL|         NULL|                NULL|         NULL|\n",
            "|2019-09-27|      ZJV02XWG|       ST12000NM0007|12000138625024|      0|                77|   48125888|              NULL|       NULL|                89|          0|               100|          8|               100|          0|                86|  443560774|              NULL|       NULL|                87|      12147|                100|           0|               NULL|        NULL|                100|           8|               NULL|        NULL|               NULL|        NULL|               NULL|        NULL|               NULL|        NULL|               NULL|        NULL|               NULL|        NULL|               NULL|        NULL|                NULL|         NULL|                NULL|         NULL|                NULL|         NULL|                NULL|         NULL|                NULL|         NULL|                NULL|         NULL|                NULL|         NULL|                NULL|         NULL|                NULL|         NULL|                NULL|         NULL|                 100|            0|                 100|            0|                NULL|         NULL|                  70|           30|                NULL|         NULL|                 100|          163|                 100|          957|                  30|           30|                  77|     48125888|                NULL|         NULL|                 100|            0|                 100|            0|                 200|            0|                 100|            0|                NULL|         NULL|                NULL|         NULL|                NULL|         NULL|                NULL|         NULL|                NULL|         NULL|                NULL|         NULL|                NULL|         NULL|                NULL|         NULL|                NULL|         NULL|                NULL|         NULL|                NULL|         NULL|                NULL|         NULL|                 100|        11943|                 100|  51769538856|                 100|  98669361000|                NULL|         NULL|                NULL|         NULL|                NULL|         NULL|                NULL|         NULL|                NULL|         NULL|\n",
            "|2019-09-27|      ZJV1CSVX|       ST12000NM0007|12000138625024|      0|                80|  106034568|              NULL|       NULL|                89|          0|               100|         14|               100|          0|                87|  496770857|              NULL|       NULL|                89|      10460|                100|           0|               NULL|        NULL|                100|          14|               NULL|        NULL|               NULL|        NULL|               NULL|        NULL|               NULL|        NULL|               NULL|        NULL|               NULL|        NULL|               NULL|        NULL|                NULL|         NULL|                NULL|         NULL|                NULL|         NULL|                NULL|         NULL|                NULL|         NULL|                NULL|         NULL|                NULL|         NULL|                NULL|         NULL|                NULL|         NULL|                NULL|         NULL|                 100|            0|                 100|            0|                NULL|         NULL|                  68|           32|                NULL|         NULL|                 100|          138|                 100|          667|                  32|           32|                  80|    106034568|                NULL|         NULL|                 100|            0|                 100|            0|                 200|            0|                 100|            0|                NULL|         NULL|                NULL|         NULL|                NULL|         NULL|                NULL|         NULL|                NULL|         NULL|                NULL|         NULL|                NULL|         NULL|                NULL|         NULL|                NULL|         NULL|                NULL|         NULL|                NULL|         NULL|                NULL|         NULL|                 100|        10352|                 100|  53983479272|                 100| 138261390736|                NULL|         NULL|                NULL|         NULL|                NULL|         NULL|                NULL|         NULL|                NULL|         NULL|\n",
            "|2019-09-27|      ZJV02XWA|       ST12000NM0007|12000138625024|      0|                80|   91643856|              NULL|       NULL|                90|          0|               100|          7|               100|          0|                88|  678333083|              NULL|       NULL|                87|      12133|                100|           0|               NULL|        NULL|                100|           7|               NULL|        NULL|               NULL|        NULL|               NULL|        NULL|               NULL|        NULL|               NULL|        NULL|               NULL|        NULL|               NULL|        NULL|                NULL|         NULL|                NULL|         NULL|                NULL|         NULL|                NULL|         NULL|                NULL|         NULL|                NULL|         NULL|                NULL|         NULL|                NULL|         NULL|                NULL|         NULL|                NULL|         NULL|                 100|            0|                 100|            0|                NULL|         NULL|                  78|           22|                NULL|         NULL|                 100|          161|                 100|          668|                  22|           22|                  80|     91643856|                NULL|         NULL|                 100|            0|                 100|            0|                 200|            0|                 100|            0|                NULL|         NULL|                NULL|         NULL|                NULL|         NULL|                NULL|         NULL|                NULL|         NULL|                NULL|         NULL|                NULL|         NULL|                NULL|         NULL|                NULL|         NULL|                NULL|         NULL|                NULL|         NULL|                NULL|         NULL|                 100|        12036|                 100|  59964774144|                 100| 134218809954|                NULL|         NULL|                NULL|         NULL|                NULL|         NULL|                NULL|         NULL|                NULL|         NULL|\n",
            "|2019-09-27|      ZA18CEBS|        ST8000NM0055| 8001563222016|      0|                75|   33448352|              NULL|       NULL|                97|          0|               100|          2|               100|          0|                87|  506396435|              NULL|       NULL|                80|      18091|                100|           0|               NULL|        NULL|                100|           2|               NULL|        NULL|               NULL|        NULL|               NULL|        NULL|               NULL|        NULL|               NULL|        NULL|               NULL|        NULL|               NULL|        NULL|                NULL|         NULL|                NULL|         NULL|                NULL|         NULL|                NULL|         NULL|                NULL|         NULL|                NULL|         NULL|                NULL|         NULL|                NULL|         NULL|                NULL|         NULL|                 100|            0|                 100|            0|                 100|            0|                 100|            0|                  68|           32|                  89|        22571|                 100|            3|                  88|        25076|                  32|           32|                  75|     33448352|                NULL|         NULL|                 100|            0|                 100|            0|                 200|            0|                NULL|         NULL|                NULL|         NULL|                NULL|         NULL|                NULL|         NULL|                NULL|         NULL|                NULL|         NULL|                NULL|         NULL|                NULL|         NULL|                NULL|         NULL|                NULL|         NULL|                NULL|         NULL|                NULL|         NULL|                NULL|         NULL|                 100|        18063|                 100|  51432732800|                 100| 131986808564|                NULL|         NULL|                NULL|         NULL|                NULL|         NULL|                NULL|         NULL|                NULL|         NULL|\n",
            "|2019-09-27|      Z305DEMG|         ST4000DM000| 4000787030016|      0|               118|  172334112|              NULL|       NULL|                96|          0|               100|          4|               100|          0|                86|  430680175|              NULL|       NULL|                65|      31457|                100|           0|               NULL|        NULL|                100|           4|               NULL|        NULL|               NULL|        NULL|               NULL|        NULL|               NULL|        NULL|               NULL|        NULL|               NULL|        NULL|               NULL|        NULL|                NULL|         NULL|                NULL|         NULL|                NULL|         NULL|                NULL|         NULL|                NULL|         NULL|                NULL|         NULL|                NULL|         NULL|                NULL|         NULL|                 100|            0|                 100|            0|                 100|            0|                 100|            0|                 100|            0|                  75|           25|                 100|            0|                 100|            0|                  74|        52208|                  25|           25|                NULL|         NULL|                NULL|         NULL|                 100|            0|                 100|            0|                 200|            0|                NULL|         NULL|                NULL|         NULL|                NULL|         NULL|                NULL|         NULL|                NULL|         NULL|                NULL|         NULL|                NULL|         NULL|                NULL|         NULL|                NULL|         NULL|                NULL|         NULL|                NULL|         NULL|                NULL|         NULL|                NULL|         NULL|                 100|        31111|                 100|  44456359096|                 100| 149820844889|                NULL|         NULL|                NULL|         NULL|                NULL|         NULL|                NULL|         NULL|                NULL|         NULL|\n",
            "|2019-09-27|      ZA130TTW|         ST8000DM002| 8001563222016|      0|                76|   40238816|              NULL|       NULL|                96|          0|               100|          2|               100|          0|                94| 2398000890|              NULL|       NULL|                71|      26209|                100|           0|               NULL|        NULL|                100|           2|               NULL|        NULL|               NULL|        NULL|               NULL|        NULL|               NULL|        NULL|               NULL|        NULL|               NULL|        NULL|               NULL|        NULL|                NULL|         NULL|                NULL|         NULL|                NULL|         NULL|                NULL|         NULL|                NULL|         NULL|                NULL|         NULL|                NULL|         NULL|                NULL|         NULL|                NULL|         NULL|                 100|            0|                 100|            0|                 100|            0|                 100|            0|                  72|           28|                  80|        40572|                 100|            0|                  88|        25967|                  28|           28|                   1|     40238816|                NULL|         NULL|                 100|            0|                 100|            0|                 200|            0|                NULL|         NULL|                NULL|         NULL|                NULL|         NULL|                NULL|         NULL|                NULL|         NULL|                NULL|         NULL|                NULL|         NULL|                NULL|         NULL|                NULL|         NULL|                NULL|         NULL|                NULL|         NULL|                NULL|         NULL|                NULL|         NULL|                 100|        26170|                 100|  67578947392|                 100| 164548373888|                NULL|         NULL|                NULL|         NULL|                NULL|         NULL|                NULL|         NULL|                NULL|         NULL|\n",
            "|2019-09-27|      ZJV5HJQF|       ST12000NM0007|12000138625024|      0|                82|  176168066|              NULL|       NULL|                98|          0|               100|          2|               100|          0|                63|    1779774|              NULL|       NULL|               100|        243|                100|           0|               NULL|        NULL|                100|           2|               NULL|        NULL|               NULL|        NULL|               NULL|        NULL|               NULL|        NULL|               NULL|        NULL|               NULL|        NULL|               NULL|        NULL|                NULL|         NULL|                NULL|         NULL|                NULL|         NULL|                NULL|         NULL|                NULL|         NULL|                NULL|         NULL|                NULL|         NULL|                NULL|         NULL|                NULL|         NULL|                NULL|         NULL|                 100|            0|                 100|            0|                NULL|         NULL|                  77|           23|                NULL|         NULL|                 100|            2|                 100|          437|                  23|           23|                  82|    176168066|                NULL|         NULL|                 100|            0|                 100|            0|                 200|            0|                 100|            0|                NULL|         NULL|                NULL|         NULL|                NULL|         NULL|                NULL|         NULL|                NULL|         NULL|                NULL|         NULL|                NULL|         NULL|                NULL|         NULL|                NULL|         NULL|                NULL|         NULL|                NULL|         NULL|                NULL|         NULL|                 100|           86|                 100|    633229888|                 100|    275377362|                NULL|         NULL|                NULL|         NULL|                NULL|         NULL|                NULL|         NULL|                NULL|         NULL|\n",
            "|2019-09-27|      ZJV1CSVV|       ST12000NM0007|12000138625024|      0|                82|  165797184|              NULL|       NULL|                96|          0|               100|          3|               100|          0|                90|  959048083|              NULL|       NULL|                92|       7128|                100|           0|               NULL|        NULL|                100|           3|               NULL|        NULL|               NULL|        NULL|               NULL|        NULL|               NULL|        NULL|               NULL|        NULL|               NULL|        NULL|               NULL|        NULL|                NULL|         NULL|                NULL|         NULL|                NULL|         NULL|                NULL|         NULL|                NULL|         NULL|                NULL|         NULL|                NULL|         NULL|                NULL|         NULL|                NULL|         NULL|                NULL|         NULL|                 100|            0|                 100|            0|                NULL|         NULL|                  61|           39|                NULL|         NULL|                 100|           98|                 100|          475|                  39|           39|                  82|    165797184|                NULL|         NULL|                 100|            0|                 100|            0|                 200|            0|                 100|            0|                NULL|         NULL|                NULL|         NULL|                NULL|         NULL|                NULL|         NULL|                NULL|         NULL|                NULL|         NULL|                NULL|         NULL|                NULL|         NULL|                NULL|         NULL|                NULL|         NULL|                NULL|         NULL|                NULL|         NULL|                 100|         7027|                 100|  41144871992|                 100|  64733918752|                NULL|         NULL|                NULL|         NULL|                NULL|         NULL|                NULL|         NULL|                NULL|         NULL|\n",
            "|2019-09-27|      ZA18CEBF|        ST8000NM0055| 8001563222016|      0|                83|  209381432|              NULL|       NULL|                93|          0|               100|          5|               100|          0|                87|  558908518|              NULL|       NULL|                80|      18107|                100|           0|               NULL|        NULL|                100|           5|               NULL|        NULL|               NULL|        NULL|               NULL|        NULL|               NULL|        NULL|               NULL|        NULL|               NULL|        NULL|               NULL|        NULL|                NULL|         NULL|                NULL|         NULL|                NULL|         NULL|                NULL|         NULL|                NULL|         NULL|                NULL|         NULL|                NULL|         NULL|                NULL|         NULL|                NULL|         NULL|                 100|            0|                 100|            0|                 100|            0|                 100|            0|                  68|           32|                  97|         6251|                 100|            6|                  88|        25520|                  32|           32|                  83|    209381432|                NULL|         NULL|                 100|            0|                 100|            0|                 200|            0|                NULL|         NULL|                NULL|         NULL|                NULL|         NULL|                NULL|         NULL|                NULL|         NULL|                NULL|         NULL|                NULL|         NULL|                NULL|         NULL|                NULL|         NULL|                NULL|         NULL|                NULL|         NULL|                NULL|         NULL|                NULL|         NULL|                 100|        18079|                 100|  51550682648|                 100| 144840160348|                NULL|         NULL|                NULL|         NULL|                NULL|         NULL|                NULL|         NULL|                NULL|         NULL|\n",
            "|2019-09-27|      ZJV02XWV|       ST12000NM0007|12000138625024|      0|                80|  111877480|              NULL|       NULL|                96|          0|               100|          3|               100|          0|                88|  677962016|              NULL|       NULL|                87|      12119|                100|           0|               NULL|        NULL|                100|           3|               NULL|        NULL|               NULL|        NULL|               NULL|        NULL|               NULL|        NULL|               NULL|        NULL|               NULL|        NULL|               NULL|        NULL|                NULL|         NULL|                NULL|         NULL|                NULL|         NULL|                NULL|         NULL|                NULL|         NULL|                NULL|         NULL|                NULL|         NULL|                NULL|         NULL|                NULL|         NULL|                NULL|         NULL|                 100|            0|                 100|            0|                NULL|         NULL|                  75|           25|                NULL|         NULL|                 100|          146|                 100|          627|                  25|           25|                  80|    111877480|                NULL|         NULL|                 100|            0|                 100|            0|                 200|            0|                 100|            0|                NULL|         NULL|                NULL|         NULL|                NULL|         NULL|                NULL|         NULL|                NULL|         NULL|                NULL|         NULL|                NULL|         NULL|                NULL|         NULL|                NULL|         NULL|                NULL|         NULL|                NULL|         NULL|                NULL|         NULL|                 100|        12029|                 100|  59136403448|                 100| 127743197316|                NULL|         NULL|                NULL|         NULL|                NULL|         NULL|                NULL|         NULL|                NULL|         NULL|\n",
            "|2019-09-27|PL2331LAG9TEEJ|HGST HMS5C4040ALE640| 4000787030016|      0|               100|          0|               135|         98|               100|        449|               100|         13|               100|          0|               100|          0|               113|         42|                97|      23232|                100|           0|               NULL|        NULL|                100|          12|               NULL|        NULL|               NULL|        NULL|               NULL|        NULL|               NULL|        NULL|               NULL|        NULL|               NULL|        NULL|               NULL|        NULL|                NULL|         NULL|                NULL|         NULL|                NULL|         NULL|                NULL|         NULL|                NULL|         NULL|                NULL|         NULL|                NULL|         NULL|                NULL|         NULL|                NULL|         NULL|                NULL|         NULL|                NULL|         NULL|                NULL|         NULL|                NULL|         NULL|                NULL|         NULL|                NULL|         NULL|                 100|          283|                 100|          283|                 193|           31|                NULL|         NULL|                 100|            0|                 100|            0|                 100|            0|                 200|            0|                NULL|         NULL|                NULL|         NULL|                NULL|         NULL|                NULL|         NULL|                NULL|         NULL|                NULL|         NULL|                NULL|         NULL|                NULL|         NULL|                NULL|         NULL|                NULL|         NULL|                NULL|         NULL|                NULL|         NULL|                NULL|         NULL|                NULL|         NULL|                NULL|         NULL|                NULL|         NULL|                NULL|         NULL|                NULL|         NULL|                NULL|         NULL|                NULL|         NULL|                NULL|         NULL|\n",
            "|2019-09-27|PL2331LAH3WYAJ|HGST HMS5C4040BLE640| 4000787030016|      0|               100|          0|               133|        106|               100|        539|               100|          5|               100|          0|               100|          0|               113|         42|                97|      22875|                100|           0|               NULL|        NULL|                100|           5|               NULL|        NULL|               NULL|        NULL|               NULL|        NULL|               NULL|        NULL|               NULL|        NULL|               NULL|        NULL|               NULL|        NULL|                NULL|         NULL|                NULL|         NULL|                NULL|         NULL|                NULL|         NULL|                NULL|         NULL|                NULL|         NULL|                NULL|         NULL|                NULL|         NULL|                NULL|         NULL|                NULL|         NULL|                NULL|         NULL|                NULL|         NULL|                NULL|         NULL|                NULL|         NULL|                NULL|         NULL|                 100|          304|                 100|          304|                 214|           28|                NULL|         NULL|                 100|            0|                 100|            0|                 100|            0|                 200|            0|                NULL|         NULL|                NULL|         NULL|                NULL|         NULL|                NULL|         NULL|                NULL|         NULL|                NULL|         NULL|                NULL|         NULL|                NULL|         NULL|                NULL|         NULL|                NULL|         NULL|                NULL|         NULL|                NULL|         NULL|                NULL|         NULL|                NULL|         NULL|                NULL|         NULL|                NULL|         NULL|                NULL|         NULL|                NULL|         NULL|                NULL|         NULL|                NULL|         NULL|                NULL|         NULL|\n",
            "|2019-09-27|      2AGN81UY|HGST HUH721212ALN604|12000138625024|      0|               100|          0|               132|         96|               100|          0|               100|          1|               100|          0|               100|          0|               140|         15|               100|       1146|                100|           0|               NULL|        NULL|                100|           1|               NULL|        NULL|               NULL|        NULL|               NULL|        NULL|               NULL|        NULL|                100|         100|               NULL|        NULL|               NULL|        NULL|                NULL|         NULL|                NULL|         NULL|                NULL|         NULL|                NULL|         NULL|                NULL|         NULL|                NULL|         NULL|                NULL|         NULL|                NULL|         NULL|                NULL|         NULL|                NULL|         NULL|                NULL|         NULL|                NULL|         NULL|                NULL|         NULL|                NULL|         NULL|                NULL|         NULL|                 100|          190|                 100|          190|                 222|           27|                NULL|         NULL|                 100|            0|                 100|            0|                 100|            0|                 200|            0|                NULL|         NULL|                NULL|         NULL|                NULL|         NULL|                NULL|         NULL|                NULL|         NULL|                NULL|         NULL|                NULL|         NULL|                NULL|         NULL|                NULL|         NULL|                NULL|         NULL|                NULL|         NULL|                NULL|         NULL|                NULL|         NULL|                NULL|         NULL|                NULL|         NULL|                NULL|         NULL|                NULL|         NULL|                NULL|         NULL|                NULL|         NULL|                NULL|         NULL|                NULL|         NULL|\n",
            "|2019-09-27|PL1331LAHG53YH|HGST HMS5C4040BLE640| 4000787030016|      0|               100|          0|               133|        104|               100|        440|               100|          7|               100|          0|               100|          0|               113|         42|                97|      22852|                100|           0|               NULL|        NULL|                100|           7|               NULL|        NULL|               NULL|        NULL|               NULL|        NULL|               NULL|        NULL|               NULL|        NULL|               NULL|        NULL|               NULL|        NULL|                NULL|         NULL|                NULL|         NULL|                NULL|         NULL|                NULL|         NULL|                NULL|         NULL|                NULL|         NULL|                NULL|         NULL|                NULL|         NULL|                NULL|         NULL|                NULL|         NULL|                NULL|         NULL|                NULL|         NULL|                NULL|         NULL|                NULL|         NULL|                NULL|         NULL|                 100|          288|                 100|          288|                 176|           34|                NULL|         NULL|                 100|            0|                 100|            0|                 100|            0|                 200|            0|                NULL|         NULL|                NULL|         NULL|                NULL|         NULL|                NULL|         NULL|                NULL|         NULL|                NULL|         NULL|                NULL|         NULL|                NULL|         NULL|                NULL|         NULL|                NULL|         NULL|                NULL|         NULL|                NULL|         NULL|                NULL|         NULL|                NULL|         NULL|                NULL|         NULL|                NULL|         NULL|                NULL|         NULL|                NULL|         NULL|                NULL|         NULL|                NULL|         NULL|                NULL|         NULL|\n",
            "+----------+--------------+--------------------+--------------+-------+------------------+-----------+------------------+-----------+------------------+-----------+------------------+-----------+------------------+-----------+------------------+-----------+------------------+-----------+------------------+-----------+-------------------+------------+-------------------+------------+-------------------+------------+-------------------+------------+-------------------+------------+-------------------+------------+-------------------+------------+-------------------+------------+-------------------+------------+-------------------+------------+--------------------+-------------+--------------------+-------------+--------------------+-------------+--------------------+-------------+--------------------+-------------+--------------------+-------------+--------------------+-------------+--------------------+-------------+--------------------+-------------+--------------------+-------------+--------------------+-------------+--------------------+-------------+--------------------+-------------+--------------------+-------------+--------------------+-------------+--------------------+-------------+--------------------+-------------+--------------------+-------------+--------------------+-------------+--------------------+-------------+--------------------+-------------+--------------------+-------------+--------------------+-------------+--------------------+-------------+--------------------+-------------+--------------------+-------------+--------------------+-------------+--------------------+-------------+--------------------+-------------+--------------------+-------------+--------------------+-------------+--------------------+-------------+--------------------+-------------+--------------------+-------------+--------------------+-------------+--------------------+-------------+--------------------+-------------+--------------------+-------------+--------------------+-------------+--------------------+-------------+--------------------+-------------+--------------------+-------------+--------------------+-------------+--------------------+-------------+\n",
            "only showing top 20 rows\n",
            "\n"
          ]
        }
      ]
    },
    {
      "cell_type": "code",
      "source": [
        "# SQL Query to calculate min and max capacity in GB grouped by model\n",
        "spark.sql(\n",
        "    \"\"\"\n",
        "    SELECT\n",
        "       model,  -- Select the 'model' column for grouping\n",
        "       min(capacity_bytes / pow(1024, 3)) min_GB,  -- Calculate minimum capacity in GB\n",
        "       max(capacity_bytes / pow(1024, 3)) max_GB  -- Calculate maximum capacity in GB\n",
        "    FROM backblaze_stats_2019_q3  -- Use the registered SQL table\n",
        "    GROUP BY 1  -- Group by the first column ('model')\n",
        "    ORDER BY 3 DESC  -- Order by the third column ('max_GB') in descending order\n",
        "    \"\"\"\n",
        ").show(5)  # Display the top 5 results\n",
        "\n"
      ],
      "metadata": {
        "colab": {
          "base_uri": "https://localhost:8080/"
        },
        "id": "rj8G2CxwAAOt",
        "outputId": "77c0d060-585d-4e0e-9880-51fac431128b"
      },
      "execution_count": null,
      "outputs": [
        {
          "output_type": "stream",
          "name": "stdout",
          "text": [
            "+--------------------+--------------------+-------+\n",
            "|               model|              min_GB| max_GB|\n",
            "+--------------------+--------------------+-------+\n",
            "| TOSHIBA MG07ACA14TA|             13039.0|13039.0|\n",
            "|       ST12000NM0007|-9.31322574615478...|11176.0|\n",
            "|HGST HUH721212ALE600|             11176.0|11176.0|\n",
            "|       ST12000NM0117|             11176.0|11176.0|\n",
            "|HGST HUH721212ALN604|-9.31322574615478...|11176.0|\n",
            "+--------------------+--------------------+-------+\n",
            "only showing top 5 rows\n",
            "\n"
          ]
        }
      ]
    },
    {
      "cell_type": "code",
      "source": [
        "# PySpark DataFrame API equivalent of the above SQL query\n",
        "backblaze_2019.groupby(F.col(\"model\")).agg(\n",
        "    # Calculate minimum capacity in GB for each model\n",
        "    F.min(F.col(\"capacity_bytes\") / F.pow(F.lit(1024), 3)).alias(\"min_GB\"),\n",
        "    # Calculate maximum capacity in GB for each model\n",
        "    F.max(F.col(\"capacity_bytes\") / F.pow(F.lit(1024), 3)).alias(\"max_GB\"),\n",
        ").orderBy(\n",
        "    F.col(\"max_GB\"), ascending=False  # Order by 'max_GB' in descending order\n",
        ").show(5)  # Display the top 5 results"
      ],
      "metadata": {
        "colab": {
          "base_uri": "https://localhost:8080/"
        },
        "id": "q_jjdfB6CkYT",
        "outputId": "21e2531d-3840-4197-c6d9-f5415b9eef62"
      },
      "execution_count": null,
      "outputs": [
        {
          "output_type": "stream",
          "name": "stdout",
          "text": [
            "+--------------------+--------------------+-------+\n",
            "|               model|              min_GB| max_GB|\n",
            "+--------------------+--------------------+-------+\n",
            "| TOSHIBA MG07ACA14TA|             13039.0|13039.0|\n",
            "|       ST12000NM0007|-9.31322574615478...|11176.0|\n",
            "|HGST HUH721212ALE600|             11176.0|11176.0|\n",
            "|       ST12000NM0117|             11176.0|11176.0|\n",
            "|HGST HUH721212ALN604|-9.31322574615478...|11176.0|\n",
            "+--------------------+--------------------+-------+\n",
            "only showing top 5 rows\n",
            "\n"
          ]
        }
      ]
    },
    {
      "cell_type": "code",
      "source": [
        "# SQL Query to calculate min and max capacity in GB grouped by model,\n",
        "# filtering for models where min_GB != max_GB\n",
        "spark.sql(\n",
        "    \"\"\"\n",
        "    SELECT\n",
        "       model,  -- Select the 'model' column for grouping\n",
        "       min(capacity_bytes / pow(1024, 3)) min_GB,  -- Calculate minimum capacity in GB\n",
        "       max(capacity_bytes / pow(1024, 3)) max_GB  -- Calculate maximum capacity in GB\n",
        "    FROM backblaze_stats_2019_q3  -- Use the registered SQL table\n",
        "    GROUP BY 1  -- Group by the first column ('model')\n",
        "    HAVING min_GB != max_GB  -- Filter out models where min_GB equals max_GB\n",
        "    ORDER BY 3 DESC  -- Order by the third column ('max_GB') in descending order\n",
        "    \"\"\"\n",
        ").show(5)  # Display the top 5 results"
      ],
      "metadata": {
        "colab": {
          "base_uri": "https://localhost:8080/"
        },
        "id": "QkcLRv5UAAZE",
        "outputId": "0f90da86-0bef-4e6d-de88-a4075081c2ce"
      },
      "execution_count": null,
      "outputs": [
        {
          "output_type": "stream",
          "name": "stdout",
          "text": [
            "+--------------------+--------------------+-----------------+\n",
            "|               model|              min_GB|           max_GB|\n",
            "+--------------------+--------------------+-----------------+\n",
            "|       ST12000NM0007|-9.31322574615478...|          11176.0|\n",
            "|HGST HUH721212ALN604|-9.31322574615478...|          11176.0|\n",
            "|HGST HUH721010ALE600|-9.31322574615478...|           9314.0|\n",
            "|       ST10000NM0086|-9.31322574615478...|           9314.0|\n",
            "|        ST8000NM0055|-9.31322574615478...|7452.036460876465|\n",
            "+--------------------+--------------------+-----------------+\n",
            "only showing top 5 rows\n",
            "\n"
          ]
        }
      ]
    },
    {
      "cell_type": "code",
      "source": [
        "# PySpark DataFrame API equivalent of the above SQL query\n",
        "backblaze_2019.groupby(F.col(\"model\")).agg(\n",
        "    # Calculate minimum capacity in GB for each model\n",
        "    F.min(F.col(\"capacity_bytes\") / F.pow(F.lit(1024), 3)).alias(\"min_GB\"),\n",
        "    # Calculate maximum capacity in GB for each model\n",
        "    F.max(F.col(\"capacity_bytes\") / F.pow(F.lit(1024), 3)).alias(\"max_GB\"),\n",
        ").where(\n",
        "    F.col(\"min_GB\") != F.col(\"max_GB\")  # Filter out models where min_GB equals max_GB\n",
        ").orderBy(\n",
        "    F.col(\"max_GB\"), ascending=False  # Order by 'max_GB' in descending order\n",
        ").show(\n",
        "    5  # Display the top 5 results\n",
        ")"
      ],
      "metadata": {
        "colab": {
          "base_uri": "https://localhost:8080/"
        },
        "id": "dQYAUSaIAAfd",
        "outputId": "838c812e-e251-4122-b4a7-1b1e78cf9c69"
      },
      "execution_count": null,
      "outputs": [
        {
          "output_type": "stream",
          "name": "stdout",
          "text": [
            "+--------------------+--------------------+-----------------+\n",
            "|               model|              min_GB|           max_GB|\n",
            "+--------------------+--------------------+-----------------+\n",
            "|       ST12000NM0007|-9.31322574615478...|          11176.0|\n",
            "|HGST HUH721212ALN604|-9.31322574615478...|          11176.0|\n",
            "|HGST HUH721010ALE600|-9.31322574615478...|           9314.0|\n",
            "|       ST10000NM0086|-9.31322574615478...|           9314.0|\n",
            "|        ST8000NM0055|-9.31322574615478...|7452.036460876465|\n",
            "+--------------------+--------------------+-----------------+\n",
            "only showing top 5 rows\n",
            "\n"
          ]
        }
      ]
    },
    {
      "cell_type": "code",
      "source": [
        "# # Register the `backblaze_2019` DataFrame as a temporary SQL table named \"drive_stats\"\n",
        "# backblaze_2019_q3.createOrReplaceTempView(\"drive_stats\")\n",
        "\n",
        "# # SQL Query to create a temporary view `drive_days` that calculates the total number of drive days per model\n",
        "# spark.sql(\n",
        "#     \"\"\"\n",
        "#     CREATE OR REPLACE TEMP VIEW drive_days AS\n",
        "#     SELECT\n",
        "#         model,  -- Select the 'model' column for grouping\n",
        "#         count(*) AS drive_days  -- Count the total number of rows (drive days) for each model\n",
        "#     FROM drive_stats  -- Use the registered SQL table\n",
        "#     GROUP BY model  -- Group by the 'model' column\n",
        "#     \"\"\"\n",
        "# )\n",
        "\n",
        "# # SQL Query to create a temporary view `failures` that calculates the total number of failures per model\n",
        "# spark.sql(\n",
        "#     \"\"\"\n",
        "#     CREATE OR REPLACE TEMP VIEW failures AS\n",
        "#     SELECT\n",
        "#         model,  -- Select the 'model' column for grouping\n",
        "#         count(*) AS failures  -- Count the total number of rows where 'failure = 1'\n",
        "#     FROM drive_stats  -- Use the registered SQL table\n",
        "#     WHERE failure = 1  -- Filter rows where 'failure' is 1\n",
        "#     GROUP BY model  -- Group by the 'model' column\n",
        "#     \"\"\"\n",
        "# )"
      ],
      "metadata": {
        "colab": {
          "base_uri": "https://localhost:8080/"
        },
        "id": "2ovQlMwfEBMf",
        "outputId": "deca1bd6-50db-487f-cbf9-5509630d4a1a"
      },
      "execution_count": null,
      "outputs": [
        {
          "output_type": "execute_result",
          "data": {
            "text/plain": [
              "DataFrame[]"
            ]
          },
          "metadata": {},
          "execution_count": 34
        }
      ]
    },
    {
      "cell_type": "code",
      "source": [
        "\n",
        "\n",
        "# # PySpark DataFrame API equivalent of the `drive_days` SQL query\n",
        "# drive_days = backblaze_2019_q3.groupby(F.col(\"model\")).agg(\n",
        "#     F.count(F.col(\"*\")).alias(\"drive_days\")  # Count all rows for each model and alias it as 'drive_days'\n",
        "# )\n",
        "\n",
        "# # PySpark DataFrame API equivalent of the `failures` SQL query\n",
        "# failures = (\n",
        "#     backblaze_2019.where(F.col(\"failure\") == 1)  # Filter rows where 'failure' is 1\n",
        "#     .groupby(F.col(\"model\"))  # Group by the 'model' column\n",
        "#     .agg(F.count(F.col(\"*\")).alias(\"failures\"))  # Count all rows for each model and alias it as 'failures'\n",
        "# )"
      ],
      "metadata": {
        "id": "T9SMGyuHAAjm"
      },
      "execution_count": null,
      "outputs": []
    },
    {
      "cell_type": "code",
      "source": [],
      "metadata": {
        "id": "_W28_Tog_gQf"
      },
      "execution_count": null,
      "outputs": []
    },
    {
      "cell_type": "code",
      "source": [],
      "metadata": {
        "id": "DLa2ZLbU_h_z"
      },
      "execution_count": null,
      "outputs": []
    },
    {
      "cell_type": "code",
      "source": [],
      "metadata": {
        "id": "KoOrOmXC_iK4"
      },
      "execution_count": null,
      "outputs": []
    }
  ]
}