{
  "nbformat": 4,
  "nbformat_minor": 0,
  "metadata": {
    "colab": {
      "provenance": [],
      "authorship_tag": "ABX9TyMUoainfSbQexu6JGl1cO+4",
      "include_colab_link": true
    },
    "kernelspec": {
      "name": "python3",
      "display_name": "Python 3"
    },
    "language_info": {
      "name": "python"
    }
  },
  "cells": [
    {
      "cell_type": "markdown",
      "metadata": {
        "id": "view-in-github",
        "colab_type": "text"
      },
      "source": [
        "<a href=\"https://colab.research.google.com/github/kareemullah123456789/big_data_advanced/blob/main/1_book_pyspark.ipynb\" target=\"_parent\"><img src=\"https://colab.research.google.com/assets/colab-badge.svg\" alt=\"Open In Colab\"/></a>"
      ]
    },
    {
      "cell_type": "code",
      "source": [
        "!pip install pyspark"
      ],
      "metadata": {
        "colab": {
          "base_uri": "https://localhost:8080/"
        },
        "id": "WqKNMjF9IQ_E",
        "outputId": "5aa950c1-9633-4627-c329-0f0a35ab48ec"
      },
      "execution_count": null,
      "outputs": [
        {
          "output_type": "stream",
          "name": "stdout",
          "text": [
            "Requirement already satisfied: pyspark in /usr/local/lib/python3.11/dist-packages (3.5.5)\n",
            "Requirement already satisfied: py4j==0.10.9.7 in /usr/local/lib/python3.11/dist-packages (from pyspark) (0.10.9.7)\n"
          ]
        }
      ]
    },
    {
      "cell_type": "code",
      "source": [
        "from pyspark.sql import SparkSession\n",
        "\n",
        "# Check if a SparkSession already exists\n",
        "spark = SparkSession.getActiveSession()\n",
        "\n",
        "# If exists, stop it\n",
        "if spark is not None:\n",
        "    spark.stop()\n",
        "    print(\"Stopped existing SparkSession\")\n",
        "\n",
        "# Create a new SparkSession\n",
        "spark = (SparkSession\n",
        "         .builder\n",
        "         .appName(\"Analyzing the vocabulary of Pride and Prejudice.\")\n",
        "         .getOrCreate())"
      ],
      "metadata": {
        "id": "uTUlKcGUIn_U"
      },
      "execution_count": null,
      "outputs": []
    },
    {
      "cell_type": "code",
      "execution_count": null,
      "metadata": {
        "id": "Kr7fFmuyIEHi"
      },
      "outputs": [],
      "source": [
        "#spark.sparkContext.setLogLevel(\"ALL\")\n"
      ]
    },
    {
      "cell_type": "code",
      "source": [
        " spark.read"
      ],
      "metadata": {
        "colab": {
          "base_uri": "https://localhost:8080/"
        },
        "id": "RXQ5sc16Igvn",
        "outputId": "49086707-f93e-4aac-dd7e-7d956bec817a"
      },
      "execution_count": null,
      "outputs": [
        {
          "output_type": "execute_result",
          "data": {
            "text/plain": [
              "<pyspark.sql.readwriter.DataFrameReader at 0x7afeaac306d0>"
            ]
          },
          "metadata": {},
          "execution_count": 4
        }
      ]
    },
    {
      "cell_type": "code",
      "source": [
        "dir(spark.read)"
      ],
      "metadata": {
        "collapsed": true,
        "colab": {
          "base_uri": "https://localhost:8080/"
        },
        "id": "ysJnR37qN0g3",
        "outputId": "058cc590-3af8-402a-a2e4-5d9941d33b8d"
      },
      "execution_count": null,
      "outputs": [
        {
          "output_type": "execute_result",
          "data": {
            "text/plain": [
              "['__class__',\n",
              " '__delattr__',\n",
              " '__dict__',\n",
              " '__dir__',\n",
              " '__doc__',\n",
              " '__eq__',\n",
              " '__format__',\n",
              " '__ge__',\n",
              " '__getattribute__',\n",
              " '__getstate__',\n",
              " '__gt__',\n",
              " '__hash__',\n",
              " '__init__',\n",
              " '__init_subclass__',\n",
              " '__le__',\n",
              " '__lt__',\n",
              " '__module__',\n",
              " '__ne__',\n",
              " '__new__',\n",
              " '__reduce__',\n",
              " '__reduce_ex__',\n",
              " '__repr__',\n",
              " '__setattr__',\n",
              " '__sizeof__',\n",
              " '__str__',\n",
              " '__subclasshook__',\n",
              " '__weakref__',\n",
              " '_df',\n",
              " '_jreader',\n",
              " '_set_opts',\n",
              " '_spark',\n",
              " 'csv',\n",
              " 'format',\n",
              " 'jdbc',\n",
              " 'json',\n",
              " 'load',\n",
              " 'option',\n",
              " 'options',\n",
              " 'orc',\n",
              " 'parquet',\n",
              " 'schema',\n",
              " 'table',\n",
              " 'text']"
            ]
          },
          "metadata": {},
          "execution_count": 5
        }
      ]
    },
    {
      "cell_type": "code",
      "source": [
        "from pyspark.sql import SparkSession\n",
        "import pyspark.sql.functions as F\n",
        "\n",
        "\n",
        "spark = SparkSession.builder.appName(\n",
        "    \"Counting word occurences from a book.\"\n",
        ").getOrCreate()\n",
        "\n",
        "spark.sparkContext.setLogLevel(\"WARN\")"
      ],
      "metadata": {
        "id": "_WY74oUsOG5g"
      },
      "execution_count": null,
      "outputs": []
    },
    {
      "cell_type": "code",
      "source": [
        "\n",
        "# import requests\n",
        "# import os\n",
        "# from pyspark.sql import SparkSession\n",
        "# from pyspark.sql import functions as F\n",
        "\n",
        "# # GitHub raw file URL (replace with your own file URL)\n",
        "# github_url = \"https://raw.githubusercontent.com/kareemullah123456789/DataAnalysisWithPythonAndPySpark-Data/trunk/gutenberg_books/1342-0.txt\"\n",
        "\n",
        "# # Local filename to save the downloaded file\n",
        "# local_filename = \"1342-0.txt\"\n",
        "\n",
        "# # Download the file from GitHub\n",
        "# response = requests.get(github_url)\n",
        "# with open(local_filename, \"wb\") as f:\n",
        "#     f.write(response.content)\n",
        "\n",
        "# # Initialize Spark session\n",
        "# spark = SparkSession.builder.appName(\"GitHubTextAnalysis\").getOrCreate()\n",
        "\n",
        "# # Load the downloaded text file into PySpark\n",
        "# text_df = spark.read.text(local_filename)\n",
        "\n",
        "# # Process the text: Tokenization, Cleaning, and Word Count\n",
        "# results = (\n",
        "#     text_df\n",
        "#     .select(F.split(F.col(\"value\"), \" \").alias(\"line\"))  # Split into words\n",
        "#     .select(F.explode(F.col(\"line\")).alias(\"word\"))  # Flatten into rows\n",
        "#     .select(F.lower(F.col(\"word\")).alias(\"word\"))  # Convert to lowercase\n",
        "#     .select(F.regexp_extract(F.col(\"word\"), \"[a-z']*\", 0).alias(\"word\"))  # Extract words only\n",
        "#     .where(F.col(\"word\") != \"\")  # Remove empty words\n",
        "#     .groupBy(\"word\")\n",
        "#     .count()\n",
        "# )\n",
        "\n",
        "# # Show top 10 most frequent words\n",
        "# results.orderBy(\"count\", ascending=False).show(10)\n",
        "\n",
        "# # Save results as a CSV file\n",
        "# results.coalesce(1).write.csv(\"./github_results.csv\", header=True)\n"
      ],
      "metadata": {
        "id": "39xiz3KjN4Ur"
      },
      "execution_count": null,
      "outputs": []
    },
    {
      "cell_type": "code",
      "source": [
        "from google.colab import drive\n",
        "drive.mount('/content/drive')\n"
      ],
      "metadata": {
        "colab": {
          "base_uri": "https://localhost:8080/"
        },
        "id": "vxR_28rVQVXk",
        "outputId": "b6eafcd9-97ea-41e8-8124-72bdbb86c3da"
      },
      "execution_count": null,
      "outputs": [
        {
          "output_type": "stream",
          "name": "stdout",
          "text": [
            "Mounted at /content/drive\n"
          ]
        }
      ]
    },
    {
      "cell_type": "code",
      "source": [
        "!ls /content/drive/MyDrive/cde_data"
      ],
      "metadata": {
        "colab": {
          "base_uri": "https://localhost:8080/"
        },
        "id": "5jftX71ZQexc",
        "outputId": "abfb95a6-9baf-4d37-d114-bb4854b46292"
      },
      "execution_count": null,
      "outputs": [
        {
          "output_type": "stream",
          "name": "stdout",
          "text": [
            " data.csv\n",
            "'pyngrok_UI_CODE_Working_with_RDDs_in_PySpark_(2).ipynb'\n",
            " pyspark_tutorial.ipynb\n",
            " sales_data.csv\n",
            " sample_data.csv\n",
            " Section_2_Resilient_Distributed_Datasets_Transformations.ipynb\n",
            " Section_3_Resilient_Distributed_Datasets_Actions.ipynb\n",
            " Section_4_Spark_DataFrames_and_Transformations.ipynb\n",
            " Spark_SQL.ipynb\n"
          ]
        }
      ]
    },
    {
      "cell_type": "code",
      "source": [
        "import requests\n",
        "import os\n",
        "from pyspark.sql import SparkSession\n",
        "from pyspark.sql import functions as F\n",
        "\n",
        "# Mount Google Drive (ensure it's mounted before running)\n",
        "drive_path = \"/content/drive/MyDrive/cde_data\"  # Change this to your preferred folder in Google Drive\n",
        "os.makedirs(drive_path, exist_ok=True)\n",
        "\n",
        "# GitHub raw file URL\n",
        "github_url = \"https://raw.githubusercontent.com/kareemullah123456789/DataAnalysisWithPythonAndPySpark-Data/trunk/gutenberg_books/1342-0.txt\"\n",
        "\n",
        "# Save file in Google Drive\n",
        "local_filename = os.path.join(drive_path, \"1342-0.txt\")\n",
        "\n",
        "# Download the file from GitHub\n",
        "response = requests.get(github_url)\n",
        "with open(local_filename, \"wb\") as f:\n",
        "    f.write(response.content)\n",
        "\n",
        "print(f\"File downloaded to: {local_filename}\")\n"
      ],
      "metadata": {
        "colab": {
          "base_uri": "https://localhost:8080/"
        },
        "id": "EKoVv1NuQiBl",
        "outputId": "7343f74c-59bf-4e68-a075-adc930da476a"
      },
      "execution_count": null,
      "outputs": [
        {
          "output_type": "stream",
          "name": "stdout",
          "text": [
            "File downloaded to: /content/drive/MyDrive/cde_data/1342-0.txt\n"
          ]
        }
      ]
    },
    {
      "cell_type": "code",
      "source": [
        "# Initialize Spark session\n",
        "spark = SparkSession.builder.appName(\"prideandprejudice\").getOrCreate()\n",
        "\n",
        "# Load the text file from Google Drive\n",
        "text_df = spark.read.text(local_filename)\n",
        "\n",
        "# Process the text: Tokenization, Cleaning, and Word Count\n",
        "results = (\n",
        "    text_df\n",
        "    .select(F.split(F.col(\"value\"), \" \").alias(\"line\"))  # Split into words\n",
        "    .select(F.explode(F.col(\"line\")).alias(\"word\"))  # Flatten into rows\n",
        "    .select(F.lower(F.col(\"word\")).alias(\"word\"))  # Convert to lowercase\n",
        "    .select(F.regexp_extract(F.col(\"word\"), \"[a-z']*\", 0).alias(\"word\"))  # Extract words only\n",
        "    .where(F.col(\"word\") != \"\")  # Remove empty words\n",
        "    .groupBy(\"word\")\n",
        "    .count()\n",
        ")\n",
        "\n",
        "# Show top 10 most frequent words\n",
        "results.orderBy(\"count\", ascending=False).show(10)\n"
      ],
      "metadata": {
        "colab": {
          "base_uri": "https://localhost:8080/"
        },
        "id": "5R_hJ-jMQwMK",
        "outputId": "7f1094c9-f689-4e0a-a2a6-3a358d7a19ea"
      },
      "execution_count": null,
      "outputs": [
        {
          "output_type": "stream",
          "name": "stdout",
          "text": [
            "+----+-----+\n",
            "|word|count|\n",
            "+----+-----+\n",
            "| the| 4480|\n",
            "|  to| 4218|\n",
            "|  of| 3711|\n",
            "| and| 3504|\n",
            "| her| 2199|\n",
            "|   a| 1982|\n",
            "|  in| 1909|\n",
            "| was| 1838|\n",
            "|   i| 1749|\n",
            "| she| 1668|\n",
            "+----+-----+\n",
            "only showing top 10 rows\n",
            "\n"
          ]
        }
      ]
    },
    {
      "cell_type": "code",
      "source": [
        "output_path = os.path.join(drive_path, \"prideandprejudice.csv\")\n",
        "results.coalesce(1).write.csv(output_path, header=True)\n",
        "\n",
        "print(f\"Results saved to: {output_path}\")\n"
      ],
      "metadata": {
        "colab": {
          "base_uri": "https://localhost:8080/",
          "height": 352
        },
        "id": "1JeWgdzKQ91j",
        "outputId": "25bfbab3-8fd3-4adb-b563-54f82e16a503"
      },
      "execution_count": null,
      "outputs": [
        {
          "output_type": "error",
          "ename": "AnalysisException",
          "evalue": "[PATH_ALREADY_EXISTS] Path file:/content/drive/MyDrive/cde_data/prideandprejudice.csv already exists. Set mode as \"overwrite\" to overwrite the existing path.",
          "traceback": [
            "\u001b[0;31m---------------------------------------------------------------------------\u001b[0m",
            "\u001b[0;31mAnalysisException\u001b[0m                         Traceback (most recent call last)",
            "\u001b[0;32m<ipython-input-18-7c02642977e4>\u001b[0m in \u001b[0;36m<cell line: 0>\u001b[0;34m()\u001b[0m\n\u001b[1;32m      1\u001b[0m \u001b[0moutput_path\u001b[0m \u001b[0;34m=\u001b[0m \u001b[0mos\u001b[0m\u001b[0;34m.\u001b[0m\u001b[0mpath\u001b[0m\u001b[0;34m.\u001b[0m\u001b[0mjoin\u001b[0m\u001b[0;34m(\u001b[0m\u001b[0mdrive_path\u001b[0m\u001b[0;34m,\u001b[0m \u001b[0;34m\"prideandprejudice.csv\"\u001b[0m\u001b[0;34m)\u001b[0m\u001b[0;34m\u001b[0m\u001b[0;34m\u001b[0m\u001b[0m\n\u001b[0;32m----> 2\u001b[0;31m \u001b[0mresults\u001b[0m\u001b[0;34m.\u001b[0m\u001b[0mcoalesce\u001b[0m\u001b[0;34m(\u001b[0m\u001b[0;36m1\u001b[0m\u001b[0;34m)\u001b[0m\u001b[0;34m.\u001b[0m\u001b[0mwrite\u001b[0m\u001b[0;34m.\u001b[0m\u001b[0mcsv\u001b[0m\u001b[0;34m(\u001b[0m\u001b[0moutput_path\u001b[0m\u001b[0;34m,\u001b[0m \u001b[0mheader\u001b[0m\u001b[0;34m=\u001b[0m\u001b[0;32mTrue\u001b[0m\u001b[0;34m)\u001b[0m\u001b[0;34m\u001b[0m\u001b[0;34m\u001b[0m\u001b[0m\n\u001b[0m\u001b[1;32m      3\u001b[0m \u001b[0;34m\u001b[0m\u001b[0m\n\u001b[1;32m      4\u001b[0m \u001b[0mprint\u001b[0m\u001b[0;34m(\u001b[0m\u001b[0;34mf\"Results saved to: {output_path}\"\u001b[0m\u001b[0;34m)\u001b[0m\u001b[0;34m\u001b[0m\u001b[0;34m\u001b[0m\u001b[0m\n",
            "\u001b[0;32m/usr/local/lib/python3.11/dist-packages/pyspark/sql/readwriter.py\u001b[0m in \u001b[0;36mcsv\u001b[0;34m(self, path, mode, compression, sep, quote, escape, header, nullValue, escapeQuotes, quoteAll, dateFormat, timestampFormat, ignoreLeadingWhiteSpace, ignoreTrailingWhiteSpace, charToEscapeQuoteEscaping, encoding, emptyValue, lineSep)\u001b[0m\n\u001b[1;32m   1862\u001b[0m             \u001b[0mlineSep\u001b[0m\u001b[0;34m=\u001b[0m\u001b[0mlineSep\u001b[0m\u001b[0;34m,\u001b[0m\u001b[0;34m\u001b[0m\u001b[0;34m\u001b[0m\u001b[0m\n\u001b[1;32m   1863\u001b[0m         )\n\u001b[0;32m-> 1864\u001b[0;31m         \u001b[0mself\u001b[0m\u001b[0;34m.\u001b[0m\u001b[0m_jwrite\u001b[0m\u001b[0;34m.\u001b[0m\u001b[0mcsv\u001b[0m\u001b[0;34m(\u001b[0m\u001b[0mpath\u001b[0m\u001b[0;34m)\u001b[0m\u001b[0;34m\u001b[0m\u001b[0;34m\u001b[0m\u001b[0m\n\u001b[0m\u001b[1;32m   1865\u001b[0m \u001b[0;34m\u001b[0m\u001b[0m\n\u001b[1;32m   1866\u001b[0m     def orc(\n",
            "\u001b[0;32m/usr/local/lib/python3.11/dist-packages/py4j/java_gateway.py\u001b[0m in \u001b[0;36m__call__\u001b[0;34m(self, *args)\u001b[0m\n\u001b[1;32m   1320\u001b[0m \u001b[0;34m\u001b[0m\u001b[0m\n\u001b[1;32m   1321\u001b[0m         \u001b[0manswer\u001b[0m \u001b[0;34m=\u001b[0m \u001b[0mself\u001b[0m\u001b[0;34m.\u001b[0m\u001b[0mgateway_client\u001b[0m\u001b[0;34m.\u001b[0m\u001b[0msend_command\u001b[0m\u001b[0;34m(\u001b[0m\u001b[0mcommand\u001b[0m\u001b[0;34m)\u001b[0m\u001b[0;34m\u001b[0m\u001b[0;34m\u001b[0m\u001b[0m\n\u001b[0;32m-> 1322\u001b[0;31m         return_value = get_return_value(\n\u001b[0m\u001b[1;32m   1323\u001b[0m             answer, self.gateway_client, self.target_id, self.name)\n\u001b[1;32m   1324\u001b[0m \u001b[0;34m\u001b[0m\u001b[0m\n",
            "\u001b[0;32m/usr/local/lib/python3.11/dist-packages/pyspark/errors/exceptions/captured.py\u001b[0m in \u001b[0;36mdeco\u001b[0;34m(*a, **kw)\u001b[0m\n\u001b[1;32m    183\u001b[0m                 \u001b[0;31m# Hide where the exception came from that shows a non-Pythonic\u001b[0m\u001b[0;34m\u001b[0m\u001b[0;34m\u001b[0m\u001b[0m\n\u001b[1;32m    184\u001b[0m                 \u001b[0;31m# JVM exception message.\u001b[0m\u001b[0;34m\u001b[0m\u001b[0;34m\u001b[0m\u001b[0m\n\u001b[0;32m--> 185\u001b[0;31m                 \u001b[0;32mraise\u001b[0m \u001b[0mconverted\u001b[0m \u001b[0;32mfrom\u001b[0m \u001b[0;32mNone\u001b[0m\u001b[0;34m\u001b[0m\u001b[0;34m\u001b[0m\u001b[0m\n\u001b[0m\u001b[1;32m    186\u001b[0m             \u001b[0;32melse\u001b[0m\u001b[0;34m:\u001b[0m\u001b[0;34m\u001b[0m\u001b[0;34m\u001b[0m\u001b[0m\n\u001b[1;32m    187\u001b[0m                 \u001b[0;32mraise\u001b[0m\u001b[0;34m\u001b[0m\u001b[0;34m\u001b[0m\u001b[0m\n",
            "\u001b[0;31mAnalysisException\u001b[0m: [PATH_ALREADY_EXISTS] Path file:/content/drive/MyDrive/cde_data/prideandprejudice.csv already exists. Set mode as \"overwrite\" to overwrite the existing path."
          ]
        }
      ]
    },
    {
      "cell_type": "code",
      "source": [
        " book = spark.read.text(local_filename)\n",
        " book\n",
        " # DataFrame[value: string"
      ],
      "metadata": {
        "colab": {
          "base_uri": "https://localhost:8080/"
        },
        "id": "9Frk2ppfRowG",
        "outputId": "d3ee97aa-3cd8-4aa2-84bd-25d9ff203383"
      },
      "execution_count": null,
      "outputs": [
        {
          "output_type": "execute_result",
          "data": {
            "text/plain": [
              "DataFrame[value: string]"
            ]
          },
          "metadata": {},
          "execution_count": 21
        }
      ]
    },
    {
      "cell_type": "code",
      "source": [
        "book.printSchema()"
      ],
      "metadata": {
        "colab": {
          "base_uri": "https://localhost:8080/"
        },
        "id": "sZWZXVZZSJZO",
        "outputId": "4a7131bd-a7db-4378-c4d6-7f42dd75310c"
      },
      "execution_count": null,
      "outputs": [
        {
          "output_type": "stream",
          "name": "stdout",
          "text": [
            "root\n",
            " |-- value: string (nullable = true)\n",
            "\n"
          ]
        }
      ]
    },
    {
      "cell_type": "code",
      "source": [
        "results.printSchema()"
      ],
      "metadata": {
        "colab": {
          "base_uri": "https://localhost:8080/"
        },
        "id": "44HhGV9nTmc7",
        "outputId": "2f8a02f6-f8db-425b-e283-a843a6f77756"
      },
      "execution_count": null,
      "outputs": [
        {
          "output_type": "stream",
          "name": "stdout",
          "text": [
            "root\n",
            " |-- word: string (nullable = false)\n",
            " |-- count: long (nullable = false)\n",
            "\n"
          ]
        }
      ]
    },
    {
      "cell_type": "code",
      "source": [
        "book.show()"
      ],
      "metadata": {
        "colab": {
          "base_uri": "https://localhost:8080/"
        },
        "id": "hMsiBPCfS-qm",
        "outputId": "f425381f-79b6-4bb0-a618-a750759f0692"
      },
      "execution_count": null,
      "outputs": [
        {
          "output_type": "stream",
          "name": "stdout",
          "text": [
            "+--------------------+\n",
            "|               value|\n",
            "+--------------------+\n",
            "|The Project Guten...|\n",
            "|                    |\n",
            "|This eBook is for...|\n",
            "|almost no restric...|\n",
            "|re-use it under t...|\n",
            "|with this eBook o...|\n",
            "|                    |\n",
            "|                    |\n",
            "|Title: Pride and ...|\n",
            "|                    |\n",
            "| Author: Jane Austen|\n",
            "|                    |\n",
            "|Posting Date: Aug...|\n",
            "|Release Date: Jun...|\n",
            "|Last Updated: Mar...|\n",
            "|                    |\n",
            "|   Language: English|\n",
            "|                    |\n",
            "|Character set enc...|\n",
            "|                    |\n",
            "+--------------------+\n",
            "only showing top 20 rows\n",
            "\n"
          ]
        }
      ]
    },
    {
      "cell_type": "code",
      "source": [
        "results.show()"
      ],
      "metadata": {
        "colab": {
          "base_uri": "https://localhost:8080/"
        },
        "id": "nTnctUZWTepp",
        "outputId": "7a235525-7ddc-4030-a408-3e07f24acec3"
      },
      "execution_count": null,
      "outputs": [
        {
          "output_type": "stream",
          "name": "stdout",
          "text": [
            "+-------------+-----+\n",
            "|         word|count|\n",
            "+-------------+-----+\n",
            "|       online|    4|\n",
            "|         some|  203|\n",
            "|        still|   72|\n",
            "|          few|   72|\n",
            "|         hope|  122|\n",
            "|        those|   60|\n",
            "|     cautious|    4|\n",
            "|       lady's|    8|\n",
            "|    imitation|    1|\n",
            "|          art|    3|\n",
            "|      solaced|    1|\n",
            "|       poetry|    2|\n",
            "|    arguments|    5|\n",
            "| premeditated|    1|\n",
            "|      elevate|    1|\n",
            "|       doubts|    2|\n",
            "|    destitute|    1|\n",
            "|    solemnity|    5|\n",
            "|gratification|    1|\n",
            "|    connected|   14|\n",
            "+-------------+-----+\n",
            "only showing top 20 rows\n",
            "\n"
          ]
        }
      ]
    },
    {
      "cell_type": "code",
      "source": [
        " book.show(10, truncate=50)"
      ],
      "metadata": {
        "colab": {
          "base_uri": "https://localhost:8080/"
        },
        "id": "K5jwpS-bTkY6",
        "outputId": "73d52b1f-459c-4232-c2da-8afba93babd3"
      },
      "execution_count": null,
      "outputs": [
        {
          "output_type": "stream",
          "name": "stdout",
          "text": [
            "+--------------------------------------------------+\n",
            "|                                             value|\n",
            "+--------------------------------------------------+\n",
            "|The Project Gutenberg EBook of Pride and Prejud...|\n",
            "|                                                  |\n",
            "|This eBook is for the use of anyone anywhere at...|\n",
            "|almost no restrictions whatsoever.  You may cop...|\n",
            "|re-use it under the terms of the Project Gutenb...|\n",
            "|    with this eBook or online at www.gutenberg.org|\n",
            "|                                                  |\n",
            "|                                                  |\n",
            "|                        Title: Pride and Prejudice|\n",
            "|                                                  |\n",
            "+--------------------------------------------------+\n",
            "only showing top 10 rows\n",
            "\n"
          ]
        }
      ]
    },
    {
      "cell_type": "code",
      "source": [
        "\n",
        " results.show(10, truncate=50)"
      ],
      "metadata": {
        "colab": {
          "base_uri": "https://localhost:8080/"
        },
        "id": "13rJB_LWUWat",
        "outputId": "091a9eb4-ce6c-4a79-b5db-10667ce6b57c"
      },
      "execution_count": null,
      "outputs": [
        {
          "output_type": "stream",
          "name": "stdout",
          "text": [
            "+---------+-----+\n",
            "|     word|count|\n",
            "+---------+-----+\n",
            "|   online|    4|\n",
            "|     some|  203|\n",
            "|    still|   72|\n",
            "|      few|   72|\n",
            "|     hope|  122|\n",
            "|    those|   60|\n",
            "| cautious|    4|\n",
            "|   lady's|    8|\n",
            "|imitation|    1|\n",
            "|      art|    3|\n",
            "+---------+-----+\n",
            "only showing top 10 rows\n",
            "\n"
          ]
        }
      ]
    },
    {
      "cell_type": "code",
      "source": [],
      "metadata": {
        "id": "NHkhhGdCWS_2"
      },
      "execution_count": null,
      "outputs": []
    },
    {
      "cell_type": "markdown",
      "source": [
        "![image.png](data:image/png;base64,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)"
      ],
      "metadata": {
        "id": "9Zk4LepJWThd"
      }
    },
    {
      "cell_type": "code",
      "source": [
        "\n",
        "\n",
        " from pyspark.sql.functions import split\n",
        " lines = book.select(split(book.value, \" \").alias(\"line\"))\n",
        " lines.show(5)"
      ],
      "metadata": {
        "colab": {
          "base_uri": "https://localhost:8080/"
        },
        "id": "p8QQNI4cUY_m",
        "outputId": "09667257-8b68-4cfe-dc11-308e4bafce4c"
      },
      "execution_count": null,
      "outputs": [
        {
          "output_type": "stream",
          "name": "stdout",
          "text": [
            "+--------------------+\n",
            "|                line|\n",
            "+--------------------+\n",
            "|[The, Project, Gu...|\n",
            "|                  []|\n",
            "|[This, eBook, is,...|\n",
            "|[almost, no, rest...|\n",
            "|[re-use, it, unde...|\n",
            "+--------------------+\n",
            "only showing top 5 rows\n",
            "\n"
          ]
        }
      ]
    },
    {
      "cell_type": "code",
      "source": [
        " book.select(book.value)"
      ],
      "metadata": {
        "colab": {
          "base_uri": "https://localhost:8080/"
        },
        "id": "qo8eJwTDVquf",
        "outputId": "748a33f9-aaef-495e-f5b9-0b6b07a88a32"
      },
      "execution_count": null,
      "outputs": [
        {
          "output_type": "execute_result",
          "data": {
            "text/plain": [
              "DataFrame[value: string]"
            ]
          },
          "metadata": {},
          "execution_count": 32
        }
      ]
    },
    {
      "cell_type": "code",
      "source": [
        "\n",
        "# different ways of selecting\n",
        "from pyspark.sql.functions import col\n",
        "book.select(book.value)\n",
        "book.select(book[\"value\"])\n",
        "book.select(col(\"value\"))\n",
        "book.select(\"value\")\n"
      ],
      "metadata": {
        "colab": {
          "base_uri": "https://localhost:8080/"
        },
        "id": "E5k6cY5TWNQp",
        "outputId": "75547262-1b2c-46b0-9115-f368b5df6030"
      },
      "execution_count": null,
      "outputs": [
        {
          "output_type": "execute_result",
          "data": {
            "text/plain": [
              "DataFrame[value: string]"
            ]
          },
          "metadata": {},
          "execution_count": 33
        }
      ]
    },
    {
      "cell_type": "code",
      "source": [
        "from pyspark.sql.functions import col, split\n",
        "lines = book.select(split(col(\"value\"), \" \"))\n",
        "lines"
      ],
      "metadata": {
        "colab": {
          "base_uri": "https://localhost:8080/"
        },
        "id": "cSe5_1nBW0dK",
        "outputId": "7923fd95-d76e-451e-eb73-543ef12d881b"
      },
      "execution_count": null,
      "outputs": [
        {
          "output_type": "execute_result",
          "data": {
            "text/plain": [
              "DataFrame[split(value,  , -1): array<string>]"
            ]
          },
          "metadata": {},
          "execution_count": 34
        }
      ]
    },
    {
      "cell_type": "code",
      "source": [
        "#-- split(value,  , -1)  this is a default name\n",
        " lines.printSchema()"
      ],
      "metadata": {
        "colab": {
          "base_uri": "https://localhost:8080/"
        },
        "id": "w-9q5oc_Xpsd",
        "outputId": "03f030a2-700d-41e4-977b-6f63d40b1d55"
      },
      "execution_count": null,
      "outputs": [
        {
          "output_type": "stream",
          "name": "stdout",
          "text": [
            "root\n",
            " |-- split(value,  , -1): array (nullable = true)\n",
            " |    |-- element: string (containsNull = false)\n",
            "\n"
          ]
        }
      ]
    },
    {
      "cell_type": "code",
      "source": [
        "lines.show(5)"
      ],
      "metadata": {
        "colab": {
          "base_uri": "https://localhost:8080/"
        },
        "id": "l1KV6vHTXt_6",
        "outputId": "ff8d3454-da1d-4877-f44e-d62d8b4cfe84"
      },
      "execution_count": null,
      "outputs": [
        {
          "output_type": "stream",
          "name": "stdout",
          "text": [
            "+--------------------+\n",
            "| split(value,  , -1)|\n",
            "+--------------------+\n",
            "|[The, Project, Gu...|\n",
            "|                  []|\n",
            "|[This, eBook, is,...|\n",
            "|[almost, no, rest...|\n",
            "|[re-use, it, unde...|\n",
            "+--------------------+\n",
            "only showing top 5 rows\n",
            "\n"
          ]
        }
      ]
    },
    {
      "cell_type": "code",
      "source": [
        "book.select(split(col(\"value\"), \" \")).printSchema()"
      ],
      "metadata": {
        "colab": {
          "base_uri": "https://localhost:8080/"
        },
        "id": "UMRgz2D5XwC0",
        "outputId": "f4bfc651-137b-457e-9632-d64149431ab4"
      },
      "execution_count": null,
      "outputs": [
        {
          "output_type": "stream",
          "name": "stdout",
          "text": [
            "root\n",
            " |-- split(value,  , -1): array (nullable = true)\n",
            " |    |-- element: string (containsNull = false)\n",
            "\n"
          ]
        }
      ]
    },
    {
      "cell_type": "code",
      "source": [
        " book.select(split(col(\"value\"), \" \").alias(\"line\")).printSchema()"
      ],
      "metadata": {
        "colab": {
          "base_uri": "https://localhost:8080/"
        },
        "id": "7y8odV3eYlMz",
        "outputId": "7733e6b1-bdb7-464f-9d36-935c4ffdfcaa"
      },
      "execution_count": null,
      "outputs": [
        {
          "output_type": "stream",
          "name": "stdout",
          "text": [
            "root\n",
            " |-- line: array (nullable = true)\n",
            " |    |-- element: string (containsNull = false)\n",
            "\n"
          ]
        }
      ]
    },
    {
      "cell_type": "code",
      "source": [
        " lines = book.select(split(book.value, \" \").alias(\"line\"))\n",
        "lines"
      ],
      "metadata": {
        "colab": {
          "base_uri": "https://localhost:8080/"
        },
        "id": "gLw6JCuDYns9",
        "outputId": "868e3bb6-4bc4-4a21-b116-baed56835036"
      },
      "execution_count": null,
      "outputs": [
        {
          "output_type": "execute_result",
          "data": {
            "text/plain": [
              "DataFrame[line: array<string>]"
            ]
          },
          "metadata": {},
          "execution_count": 40
        }
      ]
    },
    {
      "cell_type": "code",
      "source": [
        " # This is messier, and you have to remember the name PySpark assigns automatically\n",
        "lines = book.select(split(book.value, \" \"))\n",
        "lines"
      ],
      "metadata": {
        "colab": {
          "base_uri": "https://localhost:8080/"
        },
        "id": "XmyFL-FnYoHK",
        "outputId": "3512b076-84fc-440a-a9c9-4dd82fa0bdd7"
      },
      "execution_count": null,
      "outputs": [
        {
          "output_type": "execute_result",
          "data": {
            "text/plain": [
              "DataFrame[split(value,  , -1): array<string>]"
            ]
          },
          "metadata": {},
          "execution_count": 41
        }
      ]
    },
    {
      "cell_type": "code",
      "source": [
        "lines = lines.withColumnRenamed(\"split(value,  , -1)\", \"line\")\n",
        "lines"
      ],
      "metadata": {
        "colab": {
          "base_uri": "https://localhost:8080/"
        },
        "id": "QmdIZOVMZU-L",
        "outputId": "ba5c8ce9-905a-4a41-bf0f-482d809595fb"
      },
      "execution_count": null,
      "outputs": [
        {
          "output_type": "execute_result",
          "data": {
            "text/plain": [
              "DataFrame[line: array<string>]"
            ]
          },
          "metadata": {},
          "execution_count": 42
        }
      ]
    },
    {
      "cell_type": "code",
      "source": [
        "from pyspark.sql.functions import explode, col\n",
        "words = lines.select(explode(col(\"line\")).alias(\"word\"))\n",
        "words.show()"
      ],
      "metadata": {
        "colab": {
          "base_uri": "https://localhost:8080/"
        },
        "id": "AgKJ8d8JZnCu",
        "outputId": "4e228db2-0c99-4b87-8b02-fd2293125a1f"
      },
      "execution_count": null,
      "outputs": [
        {
          "output_type": "stream",
          "name": "stdout",
          "text": [
            "+----------+\n",
            "|      word|\n",
            "+----------+\n",
            "|       The|\n",
            "|   Project|\n",
            "| Gutenberg|\n",
            "|     EBook|\n",
            "|        of|\n",
            "|     Pride|\n",
            "|       and|\n",
            "|Prejudice,|\n",
            "|        by|\n",
            "|      Jane|\n",
            "|    Austen|\n",
            "|          |\n",
            "|      This|\n",
            "|     eBook|\n",
            "|        is|\n",
            "|       for|\n",
            "|       the|\n",
            "|       use|\n",
            "|        of|\n",
            "|    anyone|\n",
            "+----------+\n",
            "only showing top 20 rows\n",
            "\n"
          ]
        }
      ]
    },
    {
      "cell_type": "code",
      "source": [
        "from pyspark.sql.functions import lower\n",
        "words_lower = words.select(lower(col(\"word\")).alias(\"word_lower\"))\n",
        "words_lower"
      ],
      "metadata": {
        "colab": {
          "base_uri": "https://localhost:8080/"
        },
        "id": "s9HDBZxTZqcO",
        "outputId": "0a6b1f43-f44e-497c-b748-3d4a8464abf2"
      },
      "execution_count": null,
      "outputs": [
        {
          "output_type": "execute_result",
          "data": {
            "text/plain": [
              "DataFrame[word_lower: string]"
            ]
          },
          "metadata": {},
          "execution_count": 46
        }
      ]
    },
    {
      "cell_type": "code",
      "source": [
        "words_lower.show()"
      ],
      "metadata": {
        "colab": {
          "base_uri": "https://localhost:8080/"
        },
        "id": "AGvX0O0TZrWy",
        "outputId": "d181ed97-fac9-4d4f-e1ed-b1eb2bbd175b"
      },
      "execution_count": null,
      "outputs": [
        {
          "output_type": "stream",
          "name": "stdout",
          "text": [
            "+----------+\n",
            "|word_lower|\n",
            "+----------+\n",
            "|       the|\n",
            "|   project|\n",
            "| gutenberg|\n",
            "|     ebook|\n",
            "|        of|\n",
            "|     pride|\n",
            "|       and|\n",
            "|prejudice,|\n",
            "|        by|\n",
            "|      jane|\n",
            "|    austen|\n",
            "|          |\n",
            "|      this|\n",
            "|     ebook|\n",
            "|        is|\n",
            "|       for|\n",
            "|       the|\n",
            "|       use|\n",
            "|        of|\n",
            "|    anyone|\n",
            "+----------+\n",
            "only showing top 20 rows\n",
            "\n"
          ]
        }
      ]
    },
    {
      "cell_type": "code",
      "source": [
        "# import requests\n",
        "# import os\n",
        "# from pyspark.sql import SparkSession\n",
        "# from pyspark.sql import functions as F\n",
        "\n",
        "# # Mount Google Drive (ensure it's mounted before running)\n",
        "# drive_path = \"/content/drive/MyDrive/cde_data\"  # Change this to your preferred folder in Google Drive\n",
        "# os.makedirs(drive_path, exist_ok=True)\n",
        "\n",
        "# # GitHub raw file URL\n",
        "# github_url = \"https://github.com/kareemullah123456789/DataAnalysisWithPythonAndPySpark-Data/raw/refs/heads/trunk/list_of_numbers/sample.csv\"\n",
        "\n",
        "# # Save file in Google Drive\n",
        "# numbers_filename = os.path.join(drive_path, \"sample.csv\")\n",
        "\n",
        "# # Download the file from GitHub\n",
        "# response = requests.get(github_url)\n",
        "# with open(numbers_filename, \"wb\") as f:\n",
        "#     f.write(response.content)\n",
        "\n",
        "# print(f\"File downloaded to: {local_filename}\")\n"
      ],
      "metadata": {
        "colab": {
          "base_uri": "https://localhost:8080/"
        },
        "id": "TR8UaVPCZrly",
        "outputId": "d107469a-c390-4678-fbb5-df84db22d200"
      },
      "execution_count": null,
      "outputs": [
        {
          "output_type": "stream",
          "name": "stdout",
          "text": [
            "File downloaded to: /content/drive/MyDrive/cde_data/1342-0.txt\n"
          ]
        }
      ]
    },
    {
      "cell_type": "code",
      "source": [
        "# numbers_filename"
      ],
      "metadata": {
        "colab": {
          "base_uri": "https://localhost:8080/",
          "height": 36
        },
        "id": "UagkDEdLZr0d",
        "outputId": "07bf6ac3-16aa-4b37-da5a-10393cd7767e"
      },
      "execution_count": null,
      "outputs": [
        {
          "output_type": "execute_result",
          "data": {
            "text/plain": [
              "'/content/drive/MyDrive/cde_data/sample.csv'"
            ],
            "application/vnd.google.colaboratory.intrinsic+json": {
              "type": "string"
            }
          },
          "metadata": {},
          "execution_count": 49
        }
      ]
    },
    {
      "cell_type": "code",
      "source": [
        "# number_df = spark.read.text(numbers_filename)"
      ],
      "metadata": {
        "id": "7GRsbAbGbjHc"
      },
      "execution_count": null,
      "outputs": []
    },
    {
      "cell_type": "code",
      "source": [
        "number_df.show()"
      ],
      "metadata": {
        "colab": {
          "base_uri": "https://localhost:8080/"
        },
        "id": "X5-3D3SObxj2",
        "outputId": "f6b11912-5fe3-4fdf-adb0-3fa3dac59524"
      },
      "execution_count": null,
      "outputs": [
        {
          "output_type": "stream",
          "name": "stdout",
          "text": [
            "+----------+\n",
            "|     value|\n",
            "+----------+\n",
            "|old_column|\n",
            "|         1|\n",
            "|         4|\n",
            "|         4|\n",
            "|         5|\n",
            "|         7|\n",
            "|         7|\n",
            "|         7|\n",
            "|        10|\n",
            "|        14|\n",
            "|         1|\n",
            "|         4|\n",
            "|         8|\n",
            "+----------+\n",
            "\n"
          ]
        }
      ]
    },
    {
      "cell_type": "code",
      "source": [
        "# from pyspark.sql.functions import explode, split, col\n",
        "\n",
        "# solution_2_1_df = number_df.select(explode(split(col(\"value\"), \",\")).alias(\"exploded_value\"))\n",
        "# # solution_2_1_df.show()"
      ],
      "metadata": {
        "id": "7kRGN-yEb3DX"
      },
      "execution_count": null,
      "outputs": []
    },
    {
      "cell_type": "code",
      "source": [
        "from pyspark.sql.functions import regexp_extract\n",
        "words_clean = words_lower.select(\n",
        "    regexp_extract(col(\"word_lower\"), \"[a-z]+\", 0).alias(\"word\")\n",
        ")\n",
        "words_clean.show()"
      ],
      "metadata": {
        "colab": {
          "base_uri": "https://localhost:8080/"
        },
        "id": "DjNn0haocHpl",
        "outputId": "c33af33e-f912-4238-cf3d-d44ddfee2bb7"
      },
      "execution_count": null,
      "outputs": [
        {
          "output_type": "stream",
          "name": "stdout",
          "text": [
            "+---------+\n",
            "|     word|\n",
            "+---------+\n",
            "|      the|\n",
            "|  project|\n",
            "|gutenberg|\n",
            "|    ebook|\n",
            "|       of|\n",
            "|    pride|\n",
            "|      and|\n",
            "|prejudice|\n",
            "|       by|\n",
            "|     jane|\n",
            "|   austen|\n",
            "|         |\n",
            "|     this|\n",
            "|    ebook|\n",
            "|       is|\n",
            "|      for|\n",
            "|      the|\n",
            "|      use|\n",
            "|       of|\n",
            "|   anyone|\n",
            "+---------+\n",
            "only showing top 20 rows\n",
            "\n"
          ]
        }
      ]
    },
    {
      "cell_type": "code",
      "source": [
        "words_nonull = words_clean.filter(col(\"word\") != \"\")\n",
        "words_nonull.show()"
      ],
      "metadata": {
        "colab": {
          "base_uri": "https://localhost:8080/"
        },
        "id": "EfdlV9gIc_z7",
        "outputId": "bfa65446-631b-4469-bacb-4b0fe56d6fb2"
      },
      "execution_count": null,
      "outputs": [
        {
          "output_type": "stream",
          "name": "stdout",
          "text": [
            "+---------+\n",
            "|     word|\n",
            "+---------+\n",
            "|      the|\n",
            "|  project|\n",
            "|gutenberg|\n",
            "|    ebook|\n",
            "|       of|\n",
            "|    pride|\n",
            "|      and|\n",
            "|prejudice|\n",
            "|       by|\n",
            "|     jane|\n",
            "|   austen|\n",
            "|     this|\n",
            "|    ebook|\n",
            "|       is|\n",
            "|      for|\n",
            "|      the|\n",
            "|      use|\n",
            "|       of|\n",
            "|   anyone|\n",
            "| anywhere|\n",
            "+---------+\n",
            "only showing top 20 rows\n",
            "\n"
          ]
        }
      ]
    },
    {
      "cell_type": "code",
      "source": [
        "groups = words_nonull.groupby(col(\"word\"))\n",
        "print(groups)\n",
        " # <pyspark.sql.group.GroupedData at 0x10ed23da0>\n",
        "results = words_nonull.groupby(col(\"word\")).count()\n",
        "print(results)\n",
        " # DataFrame[word: string, count: bigint]\n",
        "results.show()"
      ],
      "metadata": {
        "colab": {
          "base_uri": "https://localhost:8080/"
        },
        "id": "LDE-dZz2dAHE",
        "outputId": "e5a7136b-6612-499f-b9e2-56d0c1230b1b"
      },
      "execution_count": null,
      "outputs": [
        {
          "output_type": "stream",
          "name": "stdout",
          "text": [
            "GroupedData[grouping expressions: [word], value: [word: string], type: GroupBy]\n",
            "DataFrame[word: string, count: bigint]\n",
            "+-------------+-----+\n",
            "|         word|count|\n",
            "+-------------+-----+\n",
            "|       online|    4|\n",
            "|         some|  209|\n",
            "|        still|   72|\n",
            "|          few|   72|\n",
            "|         hope|  122|\n",
            "|        those|   60|\n",
            "|     cautious|    4|\n",
            "|    imitation|    1|\n",
            "|          art|    3|\n",
            "|      solaced|    1|\n",
            "|       poetry|    2|\n",
            "|    arguments|    5|\n",
            "| premeditated|    1|\n",
            "|      elevate|    1|\n",
            "|       doubts|    2|\n",
            "|    destitute|    1|\n",
            "|    solemnity|    5|\n",
            "|   lieutenant|    1|\n",
            "|gratification|    1|\n",
            "|    connected|   14|\n",
            "+-------------+-----+\n",
            "only showing top 20 rows\n",
            "\n"
          ]
        }
      ]
    },
    {
      "cell_type": "code",
      "source": [
        "results.orderBy(\"count\", ascending=False).show(10)"
      ],
      "metadata": {
        "colab": {
          "base_uri": "https://localhost:8080/"
        },
        "id": "Yp00-E-ceJ4L",
        "outputId": "a325dc7d-3851-4ded-95ea-e246b1fff7de"
      },
      "execution_count": null,
      "outputs": [
        {
          "output_type": "stream",
          "name": "stdout",
          "text": [
            "+----+-----+\n",
            "|word|count|\n",
            "+----+-----+\n",
            "| the| 4496|\n",
            "|  to| 4235|\n",
            "|  of| 3719|\n",
            "| and| 3602|\n",
            "| her| 2223|\n",
            "|   i| 2052|\n",
            "|   a| 1997|\n",
            "|  in| 1920|\n",
            "| was| 1844|\n",
            "| she| 1703|\n",
            "+----+-----+\n",
            "only showing top 10 rows\n",
            "\n"
          ]
        }
      ]
    },
    {
      "cell_type": "code",
      "source": [
        "results.orderBy(col(\"count\").desc()).show(10)"
      ],
      "metadata": {
        "colab": {
          "base_uri": "https://localhost:8080/"
        },
        "id": "uzJ9Aq4XeKNk",
        "outputId": "be4b5f7f-f8d4-4cc9-9dfd-df06c2842111"
      },
      "execution_count": null,
      "outputs": [
        {
          "output_type": "stream",
          "name": "stdout",
          "text": [
            "+----+-----+\n",
            "|word|count|\n",
            "+----+-----+\n",
            "| the| 4496|\n",
            "|  to| 4235|\n",
            "|  of| 3719|\n",
            "| and| 3602|\n",
            "| her| 2223|\n",
            "|   i| 2052|\n",
            "|   a| 1997|\n",
            "|  in| 1920|\n",
            "| was| 1844|\n",
            "| she| 1703|\n",
            "+----+-----+\n",
            "only showing top 10 rows\n",
            "\n"
          ]
        }
      ]
    },
    {
      "cell_type": "code",
      "source": [
        " results.write.csv(\"/content/drive/MyDrive/cde_data/simple_count.csv\")\n",
        " # The ls command is run using a shell, not a Python prompt.\n",
        " # If you use IPython, you can use the bang pattern (! ls -1).\n",
        " # Use this to get the same results without leaving the IPython console.\n",
        "ls -1 ./content/drive/MyDrive/cde_data/"
      ],
      "metadata": {
        "colab": {
          "base_uri": "https://localhost:8080/"
        },
        "id": "yvuLnplDe53D",
        "outputId": "a085c6b2-36e7-4ea0-eb82-7619d20cae65"
      },
      "execution_count": null,
      "outputs": [
        {
          "output_type": "stream",
          "name": "stdout",
          "text": [
            "ls: cannot access './content/drive/MyDrive/cde_data/simple_count.csv': No such file or directory\n"
          ]
        }
      ]
    },
    {
      "cell_type": "code",
      "source": [
        "\n",
        "ls -1 /content/drive/MyDrive/cde_data/simple_count.csv"
      ],
      "metadata": {
        "colab": {
          "base_uri": "https://localhost:8080/"
        },
        "id": "IoCioa6zfkJK",
        "outputId": "164fccce-c50a-4404-f558-29b61ab255f7"
      },
      "execution_count": null,
      "outputs": [
        {
          "output_type": "stream",
          "name": "stdout",
          "text": [
            "part-00000-53ef1dc5-b4c7-4720-8e4f-283551babb3b-c000.csv\n",
            "_SUCCESS\n"
          ]
        }
      ]
    },
    {
      "cell_type": "code",
      "source": [
        " results.coalesce(1).write.csv(\"/content/drive/MyDrive/cde_data/simple_count_single_partition.csv\")"
      ],
      "metadata": {
        "id": "-vHljxrdfyAc"
      },
      "execution_count": null,
      "outputs": []
    },
    {
      "cell_type": "code",
      "source": [],
      "metadata": {
        "id": "NCKSyBiRgy5x"
      },
      "execution_count": null,
      "outputs": []
    },
    {
      "cell_type": "code",
      "source": [
        " from pyspark.sql import SparkSession\n",
        " from pyspark.sql.functions import (\n",
        "    col,\n",
        "    explode,\n",
        "    lower,\n",
        "    regexp_extract,\n",
        "    split,\n",
        " )\n",
        " spark = SparkSession.builder.appName(\n",
        "    \"Analyzing the vocabulary of Pride and Prejudice.\"\n",
        " ).getOrCreate()\n",
        "book_final = spark.read.text(\"/content/drive/MyDrive/cde_data/1342-0.txt\")\n",
        "lines_final = book_final.select(split(book_final.value, \" \").alias(\"line\"))\n",
        "words_final = lines_final.select(explode(col(\"line\")).alias(\"word\"))\n",
        "words_lower_final = words_final.select(lower(col(\"word\")).alias(\"word\"))\n",
        "words_clean_final = words_lower_final.select(\n",
        "    regexp_extract(col(\"word\"), \"[a-z']*\", 0).alias(\"word\")\n",
        " )\n",
        "words_nonull_final = words_clean_final.where(col(\"word\") != \"\")\n",
        "results_final = words_nonull_final.groupby(col(\"word\")).count()\n",
        "results_final.orderBy(\"count\", ascending=False).show(10)\n",
        "results_final.coalesce(1).write.csv(\"/content/drive/MyDrive/cde_data//simple_count_single_partition_final.csv\")\n"
      ],
      "metadata": {
        "colab": {
          "base_uri": "https://localhost:8080/"
        },
        "id": "Hl8z3xEDgzRG",
        "outputId": "275ea687-e580-415a-ee01-296d9784bed8"
      },
      "execution_count": null,
      "outputs": [
        {
          "output_type": "stream",
          "name": "stdout",
          "text": [
            "+----+-----+\n",
            "|word|count|\n",
            "+----+-----+\n",
            "| the| 4480|\n",
            "|  to| 4218|\n",
            "|  of| 3711|\n",
            "| and| 3504|\n",
            "| her| 2199|\n",
            "|   a| 1982|\n",
            "|  in| 1909|\n",
            "| was| 1838|\n",
            "|   i| 1749|\n",
            "| she| 1668|\n",
            "+----+-----+\n",
            "only showing top 10 rows\n",
            "\n"
          ]
        }
      ]
    },
    {
      "cell_type": "code",
      "source": [
        " #Simplifying our PySpark functions import\n",
        " # Before\n",
        " from pyspark.sql.functions import col, explode, lower, regexp_extract, split\n",
        " # After\n",
        " import pyspark.sql.functions as F"
      ],
      "metadata": {
        "id": "jo1GF7Xjhjc9"
      },
      "execution_count": null,
      "outputs": []
    },
    {
      "cell_type": "code",
      "source": [
        "# #  Simplifying our program via method chaining\n",
        "# #select(),\n",
        "# # where(), groupBy(), and count()\n",
        "#  All transformations can be seen as pipes that ingest a structure and\n",
        "#  return a modified structure.\n"
      ],
      "metadata": {
        "id": "GbGfZVtLF7Q2"
      },
      "execution_count": null,
      "outputs": []
    },
    {
      "cell_type": "code",
      "source": [
        "\n",
        "# We can avoid intermediate variables by chaining the results of one method to the next.\n",
        "#  Since each transformation returns a data frame (or GroupedData, when we perform\n",
        "#  the groupby() method), we can directly append the next method without assigning\n",
        "#  the result to a variable. This means that we can eschew all but one variable assign\n",
        "# ment."
      ],
      "metadata": {
        "id": "2bbPw8zWGgCx"
      },
      "execution_count": null,
      "outputs": []
    },
    {
      "cell_type": "code",
      "source": [
        "from google.colab import drive\n",
        "drive.mount('/content/drive')"
      ],
      "metadata": {
        "colab": {
          "base_uri": "https://localhost:8080/"
        },
        "id": "N-biBydbHFmS",
        "outputId": "f88677e4-ec71-469a-f4dc-0bacf51a28ea"
      },
      "execution_count": null,
      "outputs": [
        {
          "output_type": "stream",
          "name": "stdout",
          "text": [
            "Mounted at /content/drive\n"
          ]
        }
      ]
    },
    {
      "cell_type": "code",
      "source": [
        "!ls /content/drive/MyDrive/cde_data"
      ],
      "metadata": {
        "colab": {
          "base_uri": "https://localhost:8080/"
        },
        "id": "2RJaiKMUG6l6",
        "outputId": "7895b3c5-90d2-4e18-ffe2-d3b763ad8a09"
      },
      "execution_count": null,
      "outputs": [
        {
          "output_type": "stream",
          "name": "stdout",
          "text": [
            " 1342-0.txt\n",
            " data.csv\n",
            " prideandprejudice.csv\n",
            "'pyngrok_UI_CODE_Working_with_RDDs_in_PySpark_(2).ipynb'\n",
            " pyspark_tutorial.ipynb\n",
            " sales_data.csv\n",
            " sample.csv\n",
            " sample_data.csv\n",
            " Section_2_Resilient_Distributed_Datasets_Transformations.ipynb\n",
            " Section_3_Resilient_Distributed_Datasets_Actions.ipynb\n",
            " Section_4_Spark_DataFrames_and_Transformations.ipynb\n",
            " simple_count.csv\n",
            " simple_count_single_partition.csv\n",
            " simple_count_single_partition_final.csv\n",
            " Spark_SQL.ipynb\n"
          ]
        }
      ]
    },
    {
      "cell_type": "code",
      "source": [
        " # Before\n",
        "book = spark.read.text(\"/content/drive/MyDrive/cde_data/1342-0.txt\")\n",
        "lines = book.select(split(book.value, \" \").alias(\"line\"))\n",
        "words = lines.select(explode(col(\"line\")).alias(\"word\"))\n",
        "words_lower = words.select(lower(col(\"word\")).alias(\"word\"))\n",
        "words_clean = words_lower.select(\n",
        "regexp_extract(col(\"word\"), \"[a-z']*\", 0).alias(\"word\")\n",
        " )\n",
        "words_nonull = words_clean.where(col(\"word\") != \"\")\n",
        "results = words_nonull.groupby(\"word\").count()\n",
        "results.show()"
      ],
      "metadata": {
        "colab": {
          "base_uri": "https://localhost:8080/"
        },
        "id": "ZULQqURVGhnv",
        "outputId": "3f840f3d-fc6e-4c0a-b462-81ea0b53cef2"
      },
      "execution_count": null,
      "outputs": [
        {
          "output_type": "stream",
          "name": "stdout",
          "text": [
            "+-------------+-----+\n",
            "|         word|count|\n",
            "+-------------+-----+\n",
            "|       online|    4|\n",
            "|         some|  203|\n",
            "|        still|   72|\n",
            "|          few|   72|\n",
            "|         hope|  122|\n",
            "|        those|   60|\n",
            "|     cautious|    4|\n",
            "|       lady's|    8|\n",
            "|    imitation|    1|\n",
            "|          art|    3|\n",
            "|      solaced|    1|\n",
            "|       poetry|    2|\n",
            "|    arguments|    5|\n",
            "| premeditated|    1|\n",
            "|      elevate|    1|\n",
            "|       doubts|    2|\n",
            "|    destitute|    1|\n",
            "|    solemnity|    5|\n",
            "|gratification|    1|\n",
            "|    connected|   14|\n",
            "+-------------+-----+\n",
            "only showing top 20 rows\n",
            "\n"
          ]
        }
      ]
    },
    {
      "cell_type": "code",
      "source": [
        " # After chaining\n",
        " import pyspark.sql.functions as F\n",
        " results = (\n",
        "    spark.read.text(\"/content/drive/MyDrive/cde_data/1342-0.txt\")\n",
        "    .select(F.split(F.col(\"value\"), \" \").alias(\"line\"))\n",
        "    .select(F.explode(F.col(\"line\")).alias(\"word\"))\n",
        "    .select(F.lower(F.col(\"word\")).alias(\"word\"))\n",
        "    .select(F.regexp_extract(F.col(\"word\"), \"[a-z']*\", 0).alias(\"word\"))\n",
        "    .where(F.col(\"word\") != \"\")\n",
        "    .groupby(\"word\")\n",
        "    .count()\n",
        " )\n",
        "\n",
        " results.show()"
      ],
      "metadata": {
        "colab": {
          "base_uri": "https://localhost:8080/"
        },
        "id": "Y6ZN3NgZHV3a",
        "outputId": "8da54f00-e668-4e00-f789-b2825da4f53f"
      },
      "execution_count": null,
      "outputs": [
        {
          "output_type": "stream",
          "name": "stdout",
          "text": [
            "+-------------+-----+\n",
            "|         word|count|\n",
            "+-------------+-----+\n",
            "|       online|    4|\n",
            "|         some|  203|\n",
            "|        still|   72|\n",
            "|          few|   72|\n",
            "|         hope|  122|\n",
            "|        those|   60|\n",
            "|     cautious|    4|\n",
            "|       lady's|    8|\n",
            "|    imitation|    1|\n",
            "|          art|    3|\n",
            "|      solaced|    1|\n",
            "|       poetry|    2|\n",
            "|    arguments|    5|\n",
            "| premeditated|    1|\n",
            "|      elevate|    1|\n",
            "|       doubts|    2|\n",
            "|    destitute|    1|\n",
            "|    solemnity|    5|\n",
            "|gratification|    1|\n",
            "|    connected|   14|\n",
            "+-------------+-----+\n",
            "only showing top 20 rows\n",
            "\n"
          ]
        }
      ]
    },
    {
      "cell_type": "code",
      "source": [
        "gutenberg_books"
      ],
      "metadata": {
        "id": "yg1EnwT9Hw1G"
      },
      "execution_count": null,
      "outputs": []
    },
    {
      "cell_type": "code",
      "source": [
        " # After\n",
        "results_all = spark.read.text('/content/drive/MyDrive/cde_data/*.txt')\n",
        "results_all.show()"
      ],
      "metadata": {
        "colab": {
          "base_uri": "https://localhost:8080/"
        },
        "id": "AeUQyRzDJURw",
        "outputId": "e71509e3-b68e-4fe5-92f4-46f99e7dfdef"
      },
      "execution_count": null,
      "outputs": [
        {
          "output_type": "stream",
          "name": "stdout",
          "text": [
            "+--------------------+\n",
            "|               value|\n",
            "+--------------------+\n",
            "|The Project Guten...|\n",
            "|                    |\n",
            "|This eBook is for...|\n",
            "|almost no restric...|\n",
            "|re-use it under t...|\n",
            "|with this eBook o...|\n",
            "|                    |\n",
            "|                    |\n",
            "|Title: Pride and ...|\n",
            "|                    |\n",
            "| Author: Jane Austen|\n",
            "|                    |\n",
            "|Posting Date: Aug...|\n",
            "|Release Date: Jun...|\n",
            "|Last Updated: Mar...|\n",
            "|                    |\n",
            "|   Language: English|\n",
            "|                    |\n",
            "|Character set enc...|\n",
            "|                    |\n",
            "+--------------------+\n",
            "only showing top 20 rows\n",
            "\n"
          ]
        }
      ]
    },
    {
      "cell_type": "code",
      "source": [],
      "metadata": {
        "id": "IiAO10C1Jowk"
      },
      "execution_count": null,
      "outputs": []
    }
  ]
}