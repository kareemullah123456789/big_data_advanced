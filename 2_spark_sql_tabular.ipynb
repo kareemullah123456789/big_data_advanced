{
  "nbformat": 4,
  "nbformat_minor": 0,
  "metadata": {
    "colab": {
      "provenance": [],
      "authorship_tag": "ABX9TyObG57huojWVbitCGMhEMDQ",
      "include_colab_link": true
    },
    "kernelspec": {
      "name": "python3",
      "display_name": "Python 3"
    },
    "language_info": {
      "name": "python"
    }
  },
  "cells": [
    {
      "cell_type": "markdown",
      "metadata": {
        "id": "view-in-github",
        "colab_type": "text"
      },
      "source": [
        "<a href=\"https://colab.research.google.com/github/kareemullah123456789/big_data_advanced/blob/main/2_spark_sql_tabular.ipynb\" target=\"_parent\"><img src=\"https://colab.research.google.com/assets/colab-badge.svg\" alt=\"Open In Colab\"/></a>"
      ]
    },
    {
      "cell_type": "code",
      "execution_count": 1,
      "metadata": {
        "colab": {
          "base_uri": "https://localhost:8080/"
        },
        "id": "_7oDQAToMcWm",
        "outputId": "8c4e8243-770a-4ad7-a14c-6ea1a01edf92"
      },
      "outputs": [
        {
          "output_type": "stream",
          "name": "stdout",
          "text": [
            "Mounted at /content/drive\n"
          ]
        }
      ],
      "source": [
        "\n",
        "from google.colab import drive\n",
        "drive.mount('/content/drive')\n"
      ]
    },
    {
      "cell_type": "code",
      "source": [
        "!ls /content/drive/MyDrive/cde_data"
      ],
      "metadata": {
        "colab": {
          "base_uri": "https://localhost:8080/"
        },
        "id": "UzirnTjVMqG_",
        "outputId": "45437092-d03b-4440-9101-1943625ba057"
      },
      "execution_count": 1,
      "outputs": [
        {
          "output_type": "stream",
          "name": "stdout",
          "text": [
            " 1342-0.txt\n",
            " broadcast_logs\n",
            " data.csv\n",
            " gutenberg_books\n",
            " prideandprejudice.csv\n",
            "'pyngrok_UI_CODE_Working_with_RDDs_in_PySpark_(2).ipynb'\n",
            " pyspark_tutorial.ipynb\n",
            " sales_data.csv\n",
            " sample.csv\n",
            " sample_data.csv\n",
            " Section_2_Resilient_Distributed_Datasets_Transformations.ipynb\n",
            " Section_3_Resilient_Distributed_Datasets_Actions.ipynb\n",
            " Section_4_Spark_DataFrames_and_Transformations.ipynb\n",
            " simple_count.csv\n",
            " simple_count_single_partition.csv\n",
            " simple_count_single_partition_final.csv\n",
            " Spark_SQL.ipynb\n"
          ]
        }
      ]
    },
    {
      "cell_type": "code",
      "source": [
        "from pyspark.sql import SparkSession\n",
        "import pyspark.sql.functions as F\n",
        "spark = SparkSession.builder.getOrCreate()"
      ],
      "metadata": {
        "id": "M2DQWBbvMz8M"
      },
      "execution_count": 2,
      "outputs": []
    },
    {
      "cell_type": "code",
      "source": [],
      "metadata": {
        "id": "ypq097bbNPb2"
      },
      "execution_count": 3,
      "outputs": []
    },
    {
      "cell_type": "code",
      "source": [
        "my_grocery_list = [\n",
        "    [\"Banana\", 2, 1.74],\n",
        "    [\"Apple\", 4, 2.04],\n",
        "    [\"Carrot\", 1, 1.09],\n",
        "    [\"Cake\", 1, 10.99],\n",
        " ]"
      ],
      "metadata": {
        "id": "xM9eJRucNPlr"
      },
      "execution_count": 11,
      "outputs": []
    },
    {
      "cell_type": "code",
      "source": [
        "df_grocery_list = spark.createDataFrame(\n",
        "  my_grocery_list, [\"Item\", \"Quantity\", \"Price\"])"
      ],
      "metadata": {
        "id": "ryQ9xsTKNkH6"
      },
      "execution_count": 12,
      "outputs": []
    },
    {
      "cell_type": "code",
      "source": [
        "df_grocery_list.printSchema()"
      ],
      "metadata": {
        "colab": {
          "base_uri": "https://localhost:8080/"
        },
        "id": "7MFYf__nNkS0",
        "outputId": "f90f13be-8b15-489b-ffa5-dc47c0d5d9e1"
      },
      "execution_count": 7,
      "outputs": [
        {
          "output_type": "stream",
          "name": "stdout",
          "text": [
            "root\n",
            " |-- Item: string (nullable = true)\n",
            " |-- Quantity: long (nullable = true)\n",
            " |-- Price: double (nullable = true)\n",
            "\n"
          ]
        }
      ]
    },
    {
      "cell_type": "code",
      "source": [
        "!ls /content/drive/MyDrive/cde_data/broadcast_logs"
      ],
      "metadata": {
        "colab": {
          "base_uri": "https://localhost:8080/"
        },
        "id": "km0-aVEBRwvc",
        "outputId": "3827fde4-6c4d-4dbe-82e8-3393a703add3"
      },
      "execution_count": 13,
      "outputs": [
        {
          "output_type": "stream",
          "name": "stdout",
          "text": [
            " BroadcastLogs_2018_Q3_M8_sample.CSV   Call_Signs.csv  'data dictionary.doc'   ReferenceTables\n"
          ]
        }
      ]
    },
    {
      "cell_type": "code",
      "source": [
        "import os\n",
        "\n",
        "DIRECTORY = \"/content/drive/MyDrive/cde_data/broadcast_logs\"\n",
        "logs = spark.read.csv(\n",
        "    os.path.join(DIRECTORY, \"BroadcastLogs_2018_Q3_M8_sample.CSV\"),\n",
        "    sep=\"|\",\n",
        "    header=True,\n",
        "    inferSchema=True,\n",
        "    timestampFormat=\"yyyy-MM-dd\", )"
      ],
      "metadata": {
        "id": "7-aMEyWKNkco"
      },
      "execution_count": 3,
      "outputs": []
    },
    {
      "cell_type": "code",
      "source": [
        "logs.show(5,False)"
      ],
      "metadata": {
        "colab": {
          "base_uri": "https://localhost:8080/"
        },
        "id": "xQYGR91pR874",
        "outputId": "5c75bf5f-170d-4429-9df6-05a5123dfb93"
      },
      "execution_count": 4,
      "outputs": [
        {
          "output_type": "stream",
          "name": "stdout",
          "text": [
            "+--------------+------------+----------+----------+-------------------+----------------------+----------+---------------+-----------------+----------------+---------------+------------------+--------------+--------------------+------------+----------------+----------------+------------+------------+-------------------------------------------+----------------+--------+--------------------+------------------+----------------------+-------------+---------+---------+---------+---------+\n",
            "|BroadcastLogID|LogServiceID|LogDate   |SequenceNO|AudienceTargetAgeID|AudienceTargetEthnicID|CategoryID|ClosedCaptionID|CountryOfOriginID|DubDramaCreditID|EthnicProgramID|ProductionSourceID|ProgramClassID|FilmClassificationID|ExhibitionID|Duration        |EndTime         |LogEntryDate|ProductionNO|ProgramTitle                               |StartTime       |Subtitle|NetworkAffiliationID|SpecialAttentionID|BroadcastOriginPointID|CompositionID|Producer1|Producer2|Language1|Language2|\n",
            "+--------------+------------+----------+----------+-------------------+----------------------+----------+---------------+-----------------+----------------+---------------+------------------+--------------+--------------------+------------+----------------+----------------+------------+------------+-------------------------------------------+----------------+--------+--------------------+------------------+----------------------+-------------+---------+---------+---------+---------+\n",
            "|1196192316    |3157        |2018-08-01|1         |4                  |NULL                  |13        |3              |3                |NULL            |NULL           |10                |19            |NULL                |2           |02:00:00.0000000|08:00:00.0000000|2018-08-01  |A39082      |Newlywed and Dead                          |06:00:00.0000000|NULL    |NULL                |NULL              |NULL                  |NULL         |NULL     |NULL     |94       |NULL     |\n",
            "|1196192317    |3157        |2018-08-01|2         |NULL               |NULL                  |NULL      |1              |NULL             |NULL            |NULL           |NULL              |20            |NULL                |NULL        |00:00:30.0000000|06:13:45.0000000|2018-08-01  |NULL        |15-SPECIALTY CHANNELS-Canadian Generic     |06:13:15.0000000|NULL    |NULL                |NULL              |NULL                  |NULL         |NULL     |NULL     |NULL     |NULL     |\n",
            "|1196192318    |3157        |2018-08-01|3         |NULL               |NULL                  |NULL      |1              |NULL             |NULL            |NULL           |NULL              |3             |NULL                |NULL        |00:00:15.0000000|06:14:00.0000000|2018-08-01  |NULL        |3-PROCTER & GAMBLE INC-Anti-Perspirant 3rd |06:13:45.0000000|NULL    |NULL                |NULL              |NULL                  |NULL         |NULL     |NULL     |NULL     |NULL     |\n",
            "|1196192319    |3157        |2018-08-01|4         |NULL               |NULL                  |NULL      |1              |NULL             |NULL            |NULL           |NULL              |3             |NULL                |NULL        |00:00:15.0000000|06:14:15.0000000|2018-08-01  |NULL        |12-CREDIT KARMA-Bank/Credit Union/Trust 3rd|06:14:00.0000000|NULL    |NULL                |NULL              |NULL                  |NULL         |NULL     |NULL     |NULL     |NULL     |\n",
            "|1196192320    |3157        |2018-08-01|5         |NULL               |NULL                  |NULL      |1              |NULL             |NULL            |NULL           |NULL              |3             |NULL                |NULL        |00:00:15.0000000|06:14:30.0000000|2018-08-01  |NULL        |3-L'OREAL CANADA-Hair Products 3rd         |06:14:15.0000000|NULL    |NULL                |NULL              |NULL                  |NULL         |NULL     |NULL     |NULL     |NULL     |\n",
            "+--------------+------------+----------+----------+-------------------+----------------------+----------+---------------+-----------------+----------------+---------------+------------------+--------------+--------------------+------------+----------------+----------------+------------+------------+-------------------------------------------+----------------+--------+--------------------+------------------+----------------------+-------------+---------+---------+---------+---------+\n",
            "only showing top 5 rows\n",
            "\n"
          ]
        }
      ]
    },
    {
      "cell_type": "code",
      "source": [
        "logs.select(\"BroadcastLogID\", \"LogServiceID\", \"LogDate\").show(5, False)"
      ],
      "metadata": {
        "colab": {
          "base_uri": "https://localhost:8080/"
        },
        "id": "oUe7eXoMNkj-",
        "outputId": "203983eb-4d76-4816-b6c8-c0a76ebd882e"
      },
      "execution_count": 5,
      "outputs": [
        {
          "output_type": "stream",
          "name": "stdout",
          "text": [
            "+--------------+------------+----------+\n",
            "|BroadcastLogID|LogServiceID|LogDate   |\n",
            "+--------------+------------+----------+\n",
            "|1196192316    |3157        |2018-08-01|\n",
            "|1196192317    |3157        |2018-08-01|\n",
            "|1196192318    |3157        |2018-08-01|\n",
            "|1196192319    |3157        |2018-08-01|\n",
            "|1196192320    |3157        |2018-08-01|\n",
            "+--------------+------------+----------+\n",
            "only showing top 5 rows\n",
            "\n"
          ]
        }
      ]
    },
    {
      "cell_type": "code",
      "source": [
        "\n",
        "#Different ways of selecting the data"
      ],
      "metadata": {
        "id": "2sBWRAXLUoNb"
      },
      "execution_count": null,
      "outputs": []
    },
    {
      "cell_type": "code",
      "source": [
        " # Using the string to column conversion\n",
        "logs.select(\"BroadCastLogID\", \"LogServiceID\", \"LogDate\")\n",
        "\n"
      ],
      "metadata": {
        "colab": {
          "base_uri": "https://localhost:8080/"
        },
        "id": "GHwRPl4WNkq7",
        "outputId": "e126a552-639d-4073-9d7f-c75a8cd13d91"
      },
      "execution_count": 6,
      "outputs": [
        {
          "output_type": "execute_result",
          "data": {
            "text/plain": [
              "DataFrame[BroadCastLogID: int, LogServiceID: int, LogDate: date]"
            ]
          },
          "metadata": {},
          "execution_count": 6
        }
      ]
    },
    {
      "cell_type": "code",
      "source": [
        " # Using the string to column conversion\n",
        "logs.select(*[\"BroadCastLogID\", \"LogServiceID\", \"LogDate\"])"
      ],
      "metadata": {
        "colab": {
          "base_uri": "https://localhost:8080/"
        },
        "id": "RQ75WAPNVGGU",
        "outputId": "1c3468df-e44d-4124-9a01-bb1a1e19fb55"
      },
      "execution_count": 7,
      "outputs": [
        {
          "output_type": "execute_result",
          "data": {
            "text/plain": [
              "DataFrame[BroadCastLogID: int, LogServiceID: int, LogDate: date]"
            ]
          },
          "metadata": {},
          "execution_count": 7
        }
      ]
    },
    {
      "cell_type": "code",
      "source": [
        "\n",
        "# Passing the column object explicitly\n",
        "logs.select(\n",
        "    F.col(\"BroadCastLogID\"), F.col(\"LogServiceID\"), F.col(\"LogDate\")\n",
        " )"
      ],
      "metadata": {
        "colab": {
          "base_uri": "https://localhost:8080/"
        },
        "id": "mXrmIrj4NkxQ",
        "outputId": "7bcc3470-57cd-4fe8-a4b5-928868630311"
      },
      "execution_count": 8,
      "outputs": [
        {
          "output_type": "execute_result",
          "data": {
            "text/plain": [
              "DataFrame[BroadCastLogID: int, LogServiceID: int, LogDate: date]"
            ]
          },
          "metadata": {},
          "execution_count": 8
        }
      ]
    },
    {
      "cell_type": "code",
      "source": [
        "logs.select(\n",
        "    *[F.col(\"BroadCastLogID\"), F.col(\"LogServiceID\"), F.col(\"LogDate\")]\n",
        " )"
      ],
      "metadata": {
        "colab": {
          "base_uri": "https://localhost:8080/"
        },
        "id": "mGyDRXvVU-N_",
        "outputId": "a6cfed16-f37e-4671-aa0b-768de7e20468"
      },
      "execution_count": 9,
      "outputs": [
        {
          "output_type": "execute_result",
          "data": {
            "text/plain": [
              "DataFrame[BroadCastLogID: int, LogServiceID: int, LogDate: date]"
            ]
          },
          "metadata": {},
          "execution_count": 9
        }
      ]
    },
    {
      "cell_type": "code",
      "source": [
        "#end"
      ],
      "metadata": {
        "id": "uZNcT6iHUxEj"
      },
      "execution_count": null,
      "outputs": []
    },
    {
      "cell_type": "code",
      "source": [
        "import numpy as np\n",
        "column_split = np.array_split(np.array(logs.columns), len(logs.columns) // 3)\n",
        "print(column_split)"
      ],
      "metadata": {
        "colab": {
          "base_uri": "https://localhost:8080/"
        },
        "id": "rbRguu8zVc1J",
        "outputId": "d3c1bff3-cb26-4b29-e822-b4f4e7cecaab"
      },
      "execution_count": 10,
      "outputs": [
        {
          "output_type": "stream",
          "name": "stdout",
          "text": [
            "[array(['BroadcastLogID', 'LogServiceID', 'LogDate'], dtype='<U22'), array(['SequenceNO', 'AudienceTargetAgeID', 'AudienceTargetEthnicID'],\n",
            "      dtype='<U22'), array(['CategoryID', 'ClosedCaptionID', 'CountryOfOriginID'], dtype='<U22'), array(['DubDramaCreditID', 'EthnicProgramID', 'ProductionSourceID'],\n",
            "      dtype='<U22'), array(['ProgramClassID', 'FilmClassificationID', 'ExhibitionID'],\n",
            "      dtype='<U22'), array(['Duration', 'EndTime', 'LogEntryDate'], dtype='<U22'), array(['ProductionNO', 'ProgramTitle', 'StartTime'], dtype='<U22'), array(['Subtitle', 'NetworkAffiliationID', 'SpecialAttentionID'],\n",
            "      dtype='<U22'), array(['BroadcastOriginPointID', 'CompositionID', 'Producer1'],\n",
            "      dtype='<U22'), array(['Producer2', 'Language1', 'Language2'], dtype='<U22')]\n"
          ]
        }
      ]
    },
    {
      "cell_type": "code",
      "source": [
        "#  for x in column_split:\n",
        "#     logs.select(*x).show(5, False)"
      ],
      "metadata": {
        "id": "-0t1fJZoWiAj"
      },
      "execution_count": 11,
      "outputs": []
    },
    {
      "cell_type": "code",
      "source": [
        "logs = logs.drop(\"BroadcastLogID\", \"SequenceNO\")\n",
        " # Testing if we effectively got rid of the columns\n",
        "print(\"BroadcastLogID\" in logs.columns)  # => False\n",
        "print(\"SequenceNo\" in logs.columns)  # => False"
      ],
      "metadata": {
        "colab": {
          "base_uri": "https://localhost:8080/"
        },
        "id": "tAIzP0KVWlK2",
        "outputId": "3c1e7780-c103-412d-8646-351e951e873c"
      },
      "execution_count": 12,
      "outputs": [
        {
          "output_type": "stream",
          "name": "stdout",
          "text": [
            "False\n",
            "False\n"
          ]
        }
      ]
    },
    {
      "cell_type": "code",
      "source": [
        "logs = logs.select(\n",
        "    *[x for x in logs.columns if x not in [\"BroadcastLogID\", \"SequenceNO\"]]\n",
        " )"
      ],
      "metadata": {
        "id": "MTbS0wyZXOay"
      },
      "execution_count": 13,
      "outputs": []
    },
    {
      "cell_type": "code",
      "source": [
        "logs.show(5,False)"
      ],
      "metadata": {
        "colab": {
          "base_uri": "https://localhost:8080/"
        },
        "id": "CBUMWe6AXOxg",
        "outputId": "aa074392-7a10-400e-db21-bd651a453ab1"
      },
      "execution_count": 14,
      "outputs": [
        {
          "output_type": "stream",
          "name": "stdout",
          "text": [
            "+------------+----------+-------------------+----------------------+----------+---------------+-----------------+----------------+---------------+------------------+--------------+--------------------+------------+----------------+----------------+------------+------------+-------------------------------------------+----------------+--------+--------------------+------------------+----------------------+-------------+---------+---------+---------+---------+\n",
            "|LogServiceID|LogDate   |AudienceTargetAgeID|AudienceTargetEthnicID|CategoryID|ClosedCaptionID|CountryOfOriginID|DubDramaCreditID|EthnicProgramID|ProductionSourceID|ProgramClassID|FilmClassificationID|ExhibitionID|Duration        |EndTime         |LogEntryDate|ProductionNO|ProgramTitle                               |StartTime       |Subtitle|NetworkAffiliationID|SpecialAttentionID|BroadcastOriginPointID|CompositionID|Producer1|Producer2|Language1|Language2|\n",
            "+------------+----------+-------------------+----------------------+----------+---------------+-----------------+----------------+---------------+------------------+--------------+--------------------+------------+----------------+----------------+------------+------------+-------------------------------------------+----------------+--------+--------------------+------------------+----------------------+-------------+---------+---------+---------+---------+\n",
            "|3157        |2018-08-01|4                  |NULL                  |13        |3              |3                |NULL            |NULL           |10                |19            |NULL                |2           |02:00:00.0000000|08:00:00.0000000|2018-08-01  |A39082      |Newlywed and Dead                          |06:00:00.0000000|NULL    |NULL                |NULL              |NULL                  |NULL         |NULL     |NULL     |94       |NULL     |\n",
            "|3157        |2018-08-01|NULL               |NULL                  |NULL      |1              |NULL             |NULL            |NULL           |NULL              |20            |NULL                |NULL        |00:00:30.0000000|06:13:45.0000000|2018-08-01  |NULL        |15-SPECIALTY CHANNELS-Canadian Generic     |06:13:15.0000000|NULL    |NULL                |NULL              |NULL                  |NULL         |NULL     |NULL     |NULL     |NULL     |\n",
            "|3157        |2018-08-01|NULL               |NULL                  |NULL      |1              |NULL             |NULL            |NULL           |NULL              |3             |NULL                |NULL        |00:00:15.0000000|06:14:00.0000000|2018-08-01  |NULL        |3-PROCTER & GAMBLE INC-Anti-Perspirant 3rd |06:13:45.0000000|NULL    |NULL                |NULL              |NULL                  |NULL         |NULL     |NULL     |NULL     |NULL     |\n",
            "|3157        |2018-08-01|NULL               |NULL                  |NULL      |1              |NULL             |NULL            |NULL           |NULL              |3             |NULL                |NULL        |00:00:15.0000000|06:14:15.0000000|2018-08-01  |NULL        |12-CREDIT KARMA-Bank/Credit Union/Trust 3rd|06:14:00.0000000|NULL    |NULL                |NULL              |NULL                  |NULL         |NULL     |NULL     |NULL     |NULL     |\n",
            "|3157        |2018-08-01|NULL               |NULL                  |NULL      |1              |NULL             |NULL            |NULL           |NULL              |3             |NULL                |NULL        |00:00:15.0000000|06:14:30.0000000|2018-08-01  |NULL        |3-L'OREAL CANADA-Hair Products 3rd         |06:14:15.0000000|NULL    |NULL                |NULL              |NULL                  |NULL         |NULL     |NULL     |NULL     |NULL     |\n",
            "+------------+----------+-------------------+----------------------+----------+---------------+-----------------+----------------+---------------+------------------+--------------+--------------------+------------+----------------+----------------+------------+------------+-------------------------------------------+----------------+--------+--------------------+------------------+----------------------+-------------+---------+---------+---------+---------+\n",
            "only showing top 5 rows\n",
            "\n"
          ]
        }
      ]
    },
    {
      "cell_type": "code",
      "source": [
        "# sample_frame.columns # => ['item', 'price', 'quantity', 'UPC']\n",
        "# print(sample_frame.drop('item', 'UPC', 'prices').columns)"
      ],
      "metadata": {
        "id": "allGlR14XySp"
      },
      "execution_count": 86,
      "outputs": []
    },
    {
      "cell_type": "code",
      "source": [
        "logs.select(F.col(\"Duration\")).show(5)"
      ],
      "metadata": {
        "colab": {
          "base_uri": "https://localhost:8080/"
        },
        "id": "9BhfmASEYhEV",
        "outputId": "cf15605c-3838-4f8c-e2fa-5f14746c52ac"
      },
      "execution_count": 15,
      "outputs": [
        {
          "output_type": "stream",
          "name": "stdout",
          "text": [
            "+----------------+\n",
            "|        Duration|\n",
            "+----------------+\n",
            "|02:00:00.0000000|\n",
            "|00:00:30.0000000|\n",
            "|00:00:15.0000000|\n",
            "|00:00:15.0000000|\n",
            "|00:00:15.0000000|\n",
            "+----------------+\n",
            "only showing top 5 rows\n",
            "\n"
          ]
        }
      ]
    },
    {
      "cell_type": "code",
      "source": [
        " print(logs.select(F.col(\"Duration\")).dtypes)"
      ],
      "metadata": {
        "colab": {
          "base_uri": "https://localhost:8080/"
        },
        "id": "p5gAcdyaYvFR",
        "outputId": "1c5d73ea-a66f-48d4-9cba-c4c090d83fa8"
      },
      "execution_count": 16,
      "outputs": [
        {
          "output_type": "stream",
          "name": "stdout",
          "text": [
            "[('Duration', 'string')]\n"
          ]
        }
      ]
    },
    {
      "cell_type": "code",
      "source": [
        "logs.select(\n",
        "    F.col(\"Duration\"),\n",
        "    F.col(\"Duration\").substr(1, 2).cast(\"int\").alias(\"dur_hours\"),\n",
        "    F.col(\"Duration\").substr(4, 2).cast(\"int\").alias(\"dur_minutes\"),\n",
        "    F.col(\"Duration\").substr(7, 2).cast(\"int\").alias(\"dur_seconds\")\n",
        ").distinct().show(5, False)  # jsut to compare things"
      ],
      "metadata": {
        "colab": {
          "base_uri": "https://localhost:8080/"
        },
        "id": "6FPEp3u2YvXw",
        "outputId": "f33b336d-df7d-4f7f-b0f1-06e2c8b572ca"
      },
      "execution_count": 17,
      "outputs": [
        {
          "output_type": "stream",
          "name": "stdout",
          "text": [
            "+----------------+---------+-----------+-----------+\n",
            "|Duration        |dur_hours|dur_minutes|dur_seconds|\n",
            "+----------------+---------+-----------+-----------+\n",
            "|00:04:52.0000000|0        |4          |52         |\n",
            "|00:10:06.0000000|0        |10         |6          |\n",
            "|00:26:41.0000000|0        |26         |41         |\n",
            "|00:05:29.0000000|0        |5          |29         |\n",
            "|00:08:18.0000000|0        |8          |18         |\n",
            "+----------------+---------+-----------+-----------+\n",
            "only showing top 5 rows\n",
            "\n"
          ]
        }
      ]
    },
    {
      "cell_type": "code",
      "source": [
        "logs.select(\n",
        "    F.col(\"Duration\"),\n",
        "    (\n",
        "        F.col(\"Duration\").substr(1, 2).cast(\"int\") * 60 * 60 +  # Hours to seconds\n",
        "        F.col(\"Duration\").substr(4, 2).cast(\"int\") * 60 +      # Minutes to seconds\n",
        "        F.col(\"Duration\").substr(7, 2).cast(\"int\")             # Seconds\n",
        "    ).alias(\"Duration_seconds\")\n",
        ").distinct().show(5, False)  # everything in seconds"
      ],
      "metadata": {
        "colab": {
          "base_uri": "https://localhost:8080/"
        },
        "id": "nUu18M9bZzAP",
        "outputId": "1f395a64-7e9c-4246-99a0-f9e731186e65"
      },
      "execution_count": 18,
      "outputs": [
        {
          "output_type": "stream",
          "name": "stdout",
          "text": [
            "+----------------+----------------+\n",
            "|Duration        |Duration_seconds|\n",
            "+----------------+----------------+\n",
            "|01:59:30.0000000|7170            |\n",
            "|00:31:00.0000000|1860            |\n",
            "|00:28:08.0000000|1688            |\n",
            "|00:10:30.0000000|630             |\n",
            "|00:32:00.0000000|1920            |\n",
            "+----------------+----------------+\n",
            "only showing top 5 rows\n",
            "\n"
          ]
        }
      ]
    },
    {
      "cell_type": "code",
      "source": [
        "logs.show(5,False)"
      ],
      "metadata": {
        "colab": {
          "base_uri": "https://localhost:8080/"
        },
        "id": "uIbNS-ndagFE",
        "outputId": "184893d6-9dab-438f-9b46-eeb369286e24"
      },
      "execution_count": 19,
      "outputs": [
        {
          "output_type": "stream",
          "name": "stdout",
          "text": [
            "+------------+----------+-------------------+----------------------+----------+---------------+-----------------+----------------+---------------+------------------+--------------+--------------------+------------+----------------+----------------+------------+------------+-------------------------------------------+----------------+--------+--------------------+------------------+----------------------+-------------+---------+---------+---------+---------+\n",
            "|LogServiceID|LogDate   |AudienceTargetAgeID|AudienceTargetEthnicID|CategoryID|ClosedCaptionID|CountryOfOriginID|DubDramaCreditID|EthnicProgramID|ProductionSourceID|ProgramClassID|FilmClassificationID|ExhibitionID|Duration        |EndTime         |LogEntryDate|ProductionNO|ProgramTitle                               |StartTime       |Subtitle|NetworkAffiliationID|SpecialAttentionID|BroadcastOriginPointID|CompositionID|Producer1|Producer2|Language1|Language2|\n",
            "+------------+----------+-------------------+----------------------+----------+---------------+-----------------+----------------+---------------+------------------+--------------+--------------------+------------+----------------+----------------+------------+------------+-------------------------------------------+----------------+--------+--------------------+------------------+----------------------+-------------+---------+---------+---------+---------+\n",
            "|3157        |2018-08-01|4                  |NULL                  |13        |3              |3                |NULL            |NULL           |10                |19            |NULL                |2           |02:00:00.0000000|08:00:00.0000000|2018-08-01  |A39082      |Newlywed and Dead                          |06:00:00.0000000|NULL    |NULL                |NULL              |NULL                  |NULL         |NULL     |NULL     |94       |NULL     |\n",
            "|3157        |2018-08-01|NULL               |NULL                  |NULL      |1              |NULL             |NULL            |NULL           |NULL              |20            |NULL                |NULL        |00:00:30.0000000|06:13:45.0000000|2018-08-01  |NULL        |15-SPECIALTY CHANNELS-Canadian Generic     |06:13:15.0000000|NULL    |NULL                |NULL              |NULL                  |NULL         |NULL     |NULL     |NULL     |NULL     |\n",
            "|3157        |2018-08-01|NULL               |NULL                  |NULL      |1              |NULL             |NULL            |NULL           |NULL              |3             |NULL                |NULL        |00:00:15.0000000|06:14:00.0000000|2018-08-01  |NULL        |3-PROCTER & GAMBLE INC-Anti-Perspirant 3rd |06:13:45.0000000|NULL    |NULL                |NULL              |NULL                  |NULL         |NULL     |NULL     |NULL     |NULL     |\n",
            "|3157        |2018-08-01|NULL               |NULL                  |NULL      |1              |NULL             |NULL            |NULL           |NULL              |3             |NULL                |NULL        |00:00:15.0000000|06:14:15.0000000|2018-08-01  |NULL        |12-CREDIT KARMA-Bank/Credit Union/Trust 3rd|06:14:00.0000000|NULL    |NULL                |NULL              |NULL                  |NULL         |NULL     |NULL     |NULL     |NULL     |\n",
            "|3157        |2018-08-01|NULL               |NULL                  |NULL      |1              |NULL             |NULL            |NULL           |NULL              |3             |NULL                |NULL        |00:00:15.0000000|06:14:30.0000000|2018-08-01  |NULL        |3-L'OREAL CANADA-Hair Products 3rd         |06:14:15.0000000|NULL    |NULL                |NULL              |NULL                  |NULL         |NULL     |NULL     |NULL     |NULL     |\n",
            "+------------+----------+-------------------+----------------------+----------+---------------+-----------------+----------------+---------------+------------------+--------------+--------------------+------------+----------------+----------------+------------+------------+-------------------------------------------+----------------+--------+--------------------+------------------+----------------------+-------------+---------+---------+---------+---------+\n",
            "only showing top 5 rows\n",
            "\n"
          ]
        }
      ]
    },
    {
      "cell_type": "code",
      "source": [
        "# with column method\n",
        "# same as abve but different method\n",
        "logs = logs.withColumn(\n",
        "    \"Duration_seconds\",\n",
        "    (\n",
        "        F.col(\"Duration\").substr(1, 2).cast(\"int\") * 60 * 60 +  # Hours to seconds\n",
        "        F.col(\"Duration\").substr(4, 2).cast(\"int\") * 60 +      # Minutes to seconds\n",
        "        F.col(\"Duration\").substr(7, 2).cast(\"int\")             # Seconds\n",
        "    )\n",
        ")\n",
        "\n",
        "# Print schema and check results\n",
        "logs.printSchema()\n",
        "logs.show(5, False)\n"
      ],
      "metadata": {
        "colab": {
          "base_uri": "https://localhost:8080/"
        },
        "id": "XFwNlNEXZzHk",
        "outputId": "b91ddd9b-cc9f-4a8d-f8b0-47b7a74eb3c2"
      },
      "execution_count": 20,
      "outputs": [
        {
          "output_type": "stream",
          "name": "stdout",
          "text": [
            "root\n",
            " |-- LogServiceID: integer (nullable = true)\n",
            " |-- LogDate: date (nullable = true)\n",
            " |-- AudienceTargetAgeID: integer (nullable = true)\n",
            " |-- AudienceTargetEthnicID: integer (nullable = true)\n",
            " |-- CategoryID: integer (nullable = true)\n",
            " |-- ClosedCaptionID: integer (nullable = true)\n",
            " |-- CountryOfOriginID: integer (nullable = true)\n",
            " |-- DubDramaCreditID: integer (nullable = true)\n",
            " |-- EthnicProgramID: integer (nullable = true)\n",
            " |-- ProductionSourceID: integer (nullable = true)\n",
            " |-- ProgramClassID: integer (nullable = true)\n",
            " |-- FilmClassificationID: integer (nullable = true)\n",
            " |-- ExhibitionID: integer (nullable = true)\n",
            " |-- Duration: string (nullable = true)\n",
            " |-- EndTime: string (nullable = true)\n",
            " |-- LogEntryDate: date (nullable = true)\n",
            " |-- ProductionNO: string (nullable = true)\n",
            " |-- ProgramTitle: string (nullable = true)\n",
            " |-- StartTime: string (nullable = true)\n",
            " |-- Subtitle: string (nullable = true)\n",
            " |-- NetworkAffiliationID: integer (nullable = true)\n",
            " |-- SpecialAttentionID: integer (nullable = true)\n",
            " |-- BroadcastOriginPointID: integer (nullable = true)\n",
            " |-- CompositionID: integer (nullable = true)\n",
            " |-- Producer1: string (nullable = true)\n",
            " |-- Producer2: string (nullable = true)\n",
            " |-- Language1: integer (nullable = true)\n",
            " |-- Language2: integer (nullable = true)\n",
            " |-- Duration_seconds: integer (nullable = true)\n",
            "\n",
            "+------------+----------+-------------------+----------------------+----------+---------------+-----------------+----------------+---------------+------------------+--------------+--------------------+------------+----------------+----------------+------------+------------+-------------------------------------------+----------------+--------+--------------------+------------------+----------------------+-------------+---------+---------+---------+---------+----------------+\n",
            "|LogServiceID|LogDate   |AudienceTargetAgeID|AudienceTargetEthnicID|CategoryID|ClosedCaptionID|CountryOfOriginID|DubDramaCreditID|EthnicProgramID|ProductionSourceID|ProgramClassID|FilmClassificationID|ExhibitionID|Duration        |EndTime         |LogEntryDate|ProductionNO|ProgramTitle                               |StartTime       |Subtitle|NetworkAffiliationID|SpecialAttentionID|BroadcastOriginPointID|CompositionID|Producer1|Producer2|Language1|Language2|Duration_seconds|\n",
            "+------------+----------+-------------------+----------------------+----------+---------------+-----------------+----------------+---------------+------------------+--------------+--------------------+------------+----------------+----------------+------------+------------+-------------------------------------------+----------------+--------+--------------------+------------------+----------------------+-------------+---------+---------+---------+---------+----------------+\n",
            "|3157        |2018-08-01|4                  |NULL                  |13        |3              |3                |NULL            |NULL           |10                |19            |NULL                |2           |02:00:00.0000000|08:00:00.0000000|2018-08-01  |A39082      |Newlywed and Dead                          |06:00:00.0000000|NULL    |NULL                |NULL              |NULL                  |NULL         |NULL     |NULL     |94       |NULL     |7200            |\n",
            "|3157        |2018-08-01|NULL               |NULL                  |NULL      |1              |NULL             |NULL            |NULL           |NULL              |20            |NULL                |NULL        |00:00:30.0000000|06:13:45.0000000|2018-08-01  |NULL        |15-SPECIALTY CHANNELS-Canadian Generic     |06:13:15.0000000|NULL    |NULL                |NULL              |NULL                  |NULL         |NULL     |NULL     |NULL     |NULL     |30              |\n",
            "|3157        |2018-08-01|NULL               |NULL                  |NULL      |1              |NULL             |NULL            |NULL           |NULL              |3             |NULL                |NULL        |00:00:15.0000000|06:14:00.0000000|2018-08-01  |NULL        |3-PROCTER & GAMBLE INC-Anti-Perspirant 3rd |06:13:45.0000000|NULL    |NULL                |NULL              |NULL                  |NULL         |NULL     |NULL     |NULL     |NULL     |15              |\n",
            "|3157        |2018-08-01|NULL               |NULL                  |NULL      |1              |NULL             |NULL            |NULL           |NULL              |3             |NULL                |NULL        |00:00:15.0000000|06:14:15.0000000|2018-08-01  |NULL        |12-CREDIT KARMA-Bank/Credit Union/Trust 3rd|06:14:00.0000000|NULL    |NULL                |NULL              |NULL                  |NULL         |NULL     |NULL     |NULL     |NULL     |15              |\n",
            "|3157        |2018-08-01|NULL               |NULL                  |NULL      |1              |NULL             |NULL            |NULL           |NULL              |3             |NULL                |NULL        |00:00:15.0000000|06:14:30.0000000|2018-08-01  |NULL        |3-L'OREAL CANADA-Hair Products 3rd         |06:14:15.0000000|NULL    |NULL                |NULL              |NULL                  |NULL         |NULL     |NULL     |NULL     |NULL     |15              |\n",
            "+------------+----------+-------------------+----------------------+----------+---------------+-----------------+----------------+---------------+------------------+--------------+--------------------+------------+----------------+----------------+------------+------------+-------------------------------------------+----------------+--------+--------------------+------------------+----------------------+-------------+---------+---------+---------+---------+----------------+\n",
            "only showing top 5 rows\n",
            "\n"
          ]
        }
      ]
    },
    {
      "cell_type": "code",
      "source": [
        "#Tidying our data frame: Renaming and reordering columns"
      ],
      "metadata": {
        "id": "XirzTffWZzPc"
      },
      "execution_count": null,
      "outputs": []
    },
    {
      "cell_type": "code",
      "source": [
        "# Check existing columns before renaming\n",
        "print(\"Before renaming:\", logs.columns)\n",
        "\n",
        "# Rename column\n",
        "logs = logs.withColumnRenamed(\"Duration_seconds\", \"duration_seconds\")\n",
        "\n",
        "# Check schema after renaming\n",
        "logs.printSchema()\n",
        "print(\"After renaming:\", logs.columns)\n"
      ],
      "metadata": {
        "colab": {
          "base_uri": "https://localhost:8080/"
        },
        "id": "T0_u5Sm5ZzW-",
        "outputId": "24d8e577-875d-4dc8-d24d-6659f01f7e59"
      },
      "execution_count": 21,
      "outputs": [
        {
          "output_type": "stream",
          "name": "stdout",
          "text": [
            "Before renaming: ['LogServiceID', 'LogDate', 'AudienceTargetAgeID', 'AudienceTargetEthnicID', 'CategoryID', 'ClosedCaptionID', 'CountryOfOriginID', 'DubDramaCreditID', 'EthnicProgramID', 'ProductionSourceID', 'ProgramClassID', 'FilmClassificationID', 'ExhibitionID', 'Duration', 'EndTime', 'LogEntryDate', 'ProductionNO', 'ProgramTitle', 'StartTime', 'Subtitle', 'NetworkAffiliationID', 'SpecialAttentionID', 'BroadcastOriginPointID', 'CompositionID', 'Producer1', 'Producer2', 'Language1', 'Language2', 'Duration_seconds']\n",
            "root\n",
            " |-- LogServiceID: integer (nullable = true)\n",
            " |-- LogDate: date (nullable = true)\n",
            " |-- AudienceTargetAgeID: integer (nullable = true)\n",
            " |-- AudienceTargetEthnicID: integer (nullable = true)\n",
            " |-- CategoryID: integer (nullable = true)\n",
            " |-- ClosedCaptionID: integer (nullable = true)\n",
            " |-- CountryOfOriginID: integer (nullable = true)\n",
            " |-- DubDramaCreditID: integer (nullable = true)\n",
            " |-- EthnicProgramID: integer (nullable = true)\n",
            " |-- ProductionSourceID: integer (nullable = true)\n",
            " |-- ProgramClassID: integer (nullable = true)\n",
            " |-- FilmClassificationID: integer (nullable = true)\n",
            " |-- ExhibitionID: integer (nullable = true)\n",
            " |-- Duration: string (nullable = true)\n",
            " |-- EndTime: string (nullable = true)\n",
            " |-- LogEntryDate: date (nullable = true)\n",
            " |-- ProductionNO: string (nullable = true)\n",
            " |-- ProgramTitle: string (nullable = true)\n",
            " |-- StartTime: string (nullable = true)\n",
            " |-- Subtitle: string (nullable = true)\n",
            " |-- NetworkAffiliationID: integer (nullable = true)\n",
            " |-- SpecialAttentionID: integer (nullable = true)\n",
            " |-- BroadcastOriginPointID: integer (nullable = true)\n",
            " |-- CompositionID: integer (nullable = true)\n",
            " |-- Producer1: string (nullable = true)\n",
            " |-- Producer2: string (nullable = true)\n",
            " |-- Language1: integer (nullable = true)\n",
            " |-- Language2: integer (nullable = true)\n",
            " |-- duration_seconds: integer (nullable = true)\n",
            "\n",
            "After renaming: ['LogServiceID', 'LogDate', 'AudienceTargetAgeID', 'AudienceTargetEthnicID', 'CategoryID', 'ClosedCaptionID', 'CountryOfOriginID', 'DubDramaCreditID', 'EthnicProgramID', 'ProductionSourceID', 'ProgramClassID', 'FilmClassificationID', 'ExhibitionID', 'Duration', 'EndTime', 'LogEntryDate', 'ProductionNO', 'ProgramTitle', 'StartTime', 'Subtitle', 'NetworkAffiliationID', 'SpecialAttentionID', 'BroadcastOriginPointID', 'CompositionID', 'Producer1', 'Producer2', 'Language1', 'Language2', 'duration_seconds']\n"
          ]
        }
      ]
    },
    {
      "cell_type": "code",
      "source": [
        "# Convert all column names to lowercase\n",
        "logs = logs.toDF(*[x.lower() for x in logs.columns])\n",
        "\n",
        "# Print schema to verify changes\n",
        "logs.printSchema()\n"
      ],
      "metadata": {
        "colab": {
          "base_uri": "https://localhost:8080/"
        },
        "id": "xYSZxbGDbZZE",
        "outputId": "60f4db96-a93d-4a3d-bfb3-35b276a7de58"
      },
      "execution_count": 22,
      "outputs": [
        {
          "output_type": "stream",
          "name": "stdout",
          "text": [
            "root\n",
            " |-- logserviceid: integer (nullable = true)\n",
            " |-- logdate: date (nullable = true)\n",
            " |-- audiencetargetageid: integer (nullable = true)\n",
            " |-- audiencetargetethnicid: integer (nullable = true)\n",
            " |-- categoryid: integer (nullable = true)\n",
            " |-- closedcaptionid: integer (nullable = true)\n",
            " |-- countryoforiginid: integer (nullable = true)\n",
            " |-- dubdramacreditid: integer (nullable = true)\n",
            " |-- ethnicprogramid: integer (nullable = true)\n",
            " |-- productionsourceid: integer (nullable = true)\n",
            " |-- programclassid: integer (nullable = true)\n",
            " |-- filmclassificationid: integer (nullable = true)\n",
            " |-- exhibitionid: integer (nullable = true)\n",
            " |-- duration: string (nullable = true)\n",
            " |-- endtime: string (nullable = true)\n",
            " |-- logentrydate: date (nullable = true)\n",
            " |-- productionno: string (nullable = true)\n",
            " |-- programtitle: string (nullable = true)\n",
            " |-- starttime: string (nullable = true)\n",
            " |-- subtitle: string (nullable = true)\n",
            " |-- networkaffiliationid: integer (nullable = true)\n",
            " |-- specialattentionid: integer (nullable = true)\n",
            " |-- broadcastoriginpointid: integer (nullable = true)\n",
            " |-- compositionid: integer (nullable = true)\n",
            " |-- producer1: string (nullable = true)\n",
            " |-- producer2: string (nullable = true)\n",
            " |-- language1: integer (nullable = true)\n",
            " |-- language2: integer (nullable = true)\n",
            " |-- duration_seconds: integer (nullable = true)\n",
            "\n"
          ]
        }
      ]
    },
    {
      "cell_type": "code",
      "source": [
        "# Selecting our columns in alphabetical order using select()"
      ],
      "metadata": {
        "id": "vtUt8JwybZoR"
      },
      "execution_count": null,
      "outputs": []
    },
    {
      "cell_type": "code",
      "source": [
        "\n",
        "\n",
        "\n",
        "logs.select(sorted(logs.columns)).printSchema()"
      ],
      "metadata": {
        "colab": {
          "base_uri": "https://localhost:8080/"
        },
        "id": "K7kR7OiqbZyV",
        "outputId": "bd258cc4-3246-47c2-e975-4a694a78a121"
      },
      "execution_count": 23,
      "outputs": [
        {
          "output_type": "stream",
          "name": "stdout",
          "text": [
            "root\n",
            " |-- audiencetargetageid: integer (nullable = true)\n",
            " |-- audiencetargetethnicid: integer (nullable = true)\n",
            " |-- broadcastoriginpointid: integer (nullable = true)\n",
            " |-- categoryid: integer (nullable = true)\n",
            " |-- closedcaptionid: integer (nullable = true)\n",
            " |-- compositionid: integer (nullable = true)\n",
            " |-- countryoforiginid: integer (nullable = true)\n",
            " |-- dubdramacreditid: integer (nullable = true)\n",
            " |-- duration: string (nullable = true)\n",
            " |-- duration_seconds: integer (nullable = true)\n",
            " |-- endtime: string (nullable = true)\n",
            " |-- ethnicprogramid: integer (nullable = true)\n",
            " |-- exhibitionid: integer (nullable = true)\n",
            " |-- filmclassificationid: integer (nullable = true)\n",
            " |-- language1: integer (nullable = true)\n",
            " |-- language2: integer (nullable = true)\n",
            " |-- logdate: date (nullable = true)\n",
            " |-- logentrydate: date (nullable = true)\n",
            " |-- logserviceid: integer (nullable = true)\n",
            " |-- networkaffiliationid: integer (nullable = true)\n",
            " |-- producer1: string (nullable = true)\n",
            " |-- producer2: string (nullable = true)\n",
            " |-- productionno: string (nullable = true)\n",
            " |-- productionsourceid: integer (nullable = true)\n",
            " |-- programclassid: integer (nullable = true)\n",
            " |-- programtitle: string (nullable = true)\n",
            " |-- specialattentionid: integer (nullable = true)\n",
            " |-- starttime: string (nullable = true)\n",
            " |-- subtitle: string (nullable = true)\n",
            "\n"
          ]
        }
      ]
    },
    {
      "cell_type": "code",
      "source": [
        "#  for i in logs.columns:\n",
        "#     logs.describe(i).show()"
      ],
      "metadata": {
        "id": "lUfDcxpqcG1w"
      },
      "execution_count": 24,
      "outputs": []
    },
    {
      "cell_type": "code",
      "source": [
        "# for i in logs.columns:\n",
        "#     logs.select(i).summary().show()"
      ],
      "metadata": {
        "id": "Qq8IVdQEcQM_"
      },
      "execution_count": 25,
      "outputs": []
    },
    {
      "cell_type": "code",
      "source": [],
      "metadata": {
        "id": "MYco4EbgUT4I"
      },
      "execution_count": null,
      "outputs": []
    },
    {
      "cell_type": "code",
      "source": [
        "# Define the directory path\n",
        "DIRECTORY = \"/content/drive/MyDrive/cde_data/broadcast_logs\"\n",
        "\n",
        "# Read the CSV file into a DataFrame\n",
        "log_identifier = spark.read.csv(\n",
        "    os.path.join(DIRECTORY, \"ReferenceTables/LogIdentifier.csv\"),\n",
        "    sep=\"|\",       # Specify the delimiter\n",
        "    header=True,   # Use the first row as column names\n",
        "    inferSchema=True  # Automatically infer column data types\n",
        ")\n",
        "\n",
        "# Print schema to verify data types\n",
        "log_identifier.printSchema()\n",
        "\n",
        "# Show sample rows\n",
        "log_identifier.show(5, truncate=False)"
      ],
      "metadata": {
        "colab": {
          "base_uri": "https://localhost:8080/"
        },
        "id": "UI4ja4QUcQUr",
        "outputId": "cb84ac61-0d76-48f0-f0a3-17ca378e18ba"
      },
      "execution_count": 26,
      "outputs": [
        {
          "output_type": "stream",
          "name": "stdout",
          "text": [
            "root\n",
            " |-- LogIdentifierID: string (nullable = true)\n",
            " |-- LogServiceID: integer (nullable = true)\n",
            " |-- PrimaryFG: integer (nullable = true)\n",
            "\n",
            "+---------------+------------+---------+\n",
            "|LogIdentifierID|LogServiceID|PrimaryFG|\n",
            "+---------------+------------+---------+\n",
            "|13ST           |3157        |1        |\n",
            "|2000SM         |3466        |1        |\n",
            "|70SM           |3883        |1        |\n",
            "|80SM           |3590        |1        |\n",
            "|90SM           |3470        |1        |\n",
            "+---------------+------------+---------+\n",
            "only showing top 5 rows\n",
            "\n"
          ]
        }
      ]
    },
    {
      "cell_type": "code",
      "source": [
        "logs.join(\n",
        "    log_identifier,\n",
        "    on=\"LogServiceID\",  # Common column to join on\n",
        "    how=\"inner\"         # Replace with desired join method\n",
        ").show(5)\n"
      ],
      "metadata": {
        "colab": {
          "base_uri": "https://localhost:8080/"
        },
        "id": "n3O2a7dFcQbu",
        "outputId": "e96cf9f9-8990-46fd-9f8d-c330ba87d50e"
      },
      "execution_count": 27,
      "outputs": [
        {
          "output_type": "stream",
          "name": "stdout",
          "text": [
            "+------------+----------+-------------------+----------------------+----------+---------------+-----------------+----------------+---------------+------------------+--------------+--------------------+------------+----------------+----------------+------------+------------+--------------------+----------------+--------+--------------------+------------------+----------------------+-------------+---------+---------+---------+---------+----------------+---------------+---------+\n",
            "|logserviceid|   logdate|audiencetargetageid|audiencetargetethnicid|categoryid|closedcaptionid|countryoforiginid|dubdramacreditid|ethnicprogramid|productionsourceid|programclassid|filmclassificationid|exhibitionid|        duration|         endtime|logentrydate|productionno|        programtitle|       starttime|subtitle|networkaffiliationid|specialattentionid|broadcastoriginpointid|compositionid|producer1|producer2|language1|language2|duration_seconds|LogIdentifierID|PrimaryFG|\n",
            "+------------+----------+-------------------+----------------------+----------+---------------+-----------------+----------------+---------------+------------------+--------------+--------------------+------------+----------------+----------------+------------+------------+--------------------+----------------+--------+--------------------+------------------+----------------------+-------------+---------+---------+---------+---------+----------------+---------------+---------+\n",
            "|        3157|2018-08-01|                  4|                  NULL|        13|              3|                3|            NULL|           NULL|                10|            19|                NULL|           2|02:00:00.0000000|08:00:00.0000000|  2018-08-01|      A39082|   Newlywed and Dead|06:00:00.0000000|    NULL|                NULL|              NULL|                  NULL|         NULL|     NULL|     NULL|       94|     NULL|            7200|             CI|        0|\n",
            "|        3157|2018-08-01|                  4|                  NULL|        13|              3|                3|            NULL|           NULL|                10|            19|                NULL|           2|02:00:00.0000000|08:00:00.0000000|  2018-08-01|      A39082|   Newlywed and Dead|06:00:00.0000000|    NULL|                NULL|              NULL|                  NULL|         NULL|     NULL|     NULL|       94|     NULL|            7200|           13ST|        1|\n",
            "|        3157|2018-08-01|               NULL|                  NULL|      NULL|              1|             NULL|            NULL|           NULL|              NULL|            20|                NULL|        NULL|00:00:30.0000000|06:13:45.0000000|  2018-08-01|        NULL|15-SPECIALTY CHAN...|06:13:15.0000000|    NULL|                NULL|              NULL|                  NULL|         NULL|     NULL|     NULL|     NULL|     NULL|              30|             CI|        0|\n",
            "|        3157|2018-08-01|               NULL|                  NULL|      NULL|              1|             NULL|            NULL|           NULL|              NULL|            20|                NULL|        NULL|00:00:30.0000000|06:13:45.0000000|  2018-08-01|        NULL|15-SPECIALTY CHAN...|06:13:15.0000000|    NULL|                NULL|              NULL|                  NULL|         NULL|     NULL|     NULL|     NULL|     NULL|              30|           13ST|        1|\n",
            "|        3157|2018-08-01|               NULL|                  NULL|      NULL|              1|             NULL|            NULL|           NULL|              NULL|             3|                NULL|        NULL|00:00:15.0000000|06:14:00.0000000|  2018-08-01|        NULL|3-PROCTER & GAMBL...|06:13:45.0000000|    NULL|                NULL|              NULL|                  NULL|         NULL|     NULL|     NULL|     NULL|     NULL|              15|             CI|        0|\n",
            "+------------+----------+-------------------+----------------------+----------+---------------+-----------------+----------------+---------------+------------------+--------------+--------------------+------------+----------------+----------------+------------+------------+--------------------+----------------+--------+--------------------+------------------+----------------------+-------------+---------+---------+---------+---------+----------------+---------------+---------+\n",
            "only showing top 5 rows\n",
            "\n"
          ]
        }
      ]
    },
    {
      "cell_type": "code",
      "source": [
        "logs_and_channels_verbose = logs.join(\n",
        "    log_identifier,  # Joining logs DataFrame with log_identifier DataFrame\n",
        "    on=\"LogServiceID\",  # Join based on the common column \"LogServiceID\"\n",
        "    how=\"inner\"  # Perform an inner join (keep only matching records)\n",
        ")\n",
        "\n",
        "logs_and_channels_verbose.show() # Print schema of the resulting DataFrame\n"
      ],
      "metadata": {
        "colab": {
          "base_uri": "https://localhost:8080/"
        },
        "id": "MaCdRi43cY1h",
        "outputId": "ad42cf1b-0c32-4cf3-b33d-2b574fb4d651"
      },
      "execution_count": 28,
      "outputs": [
        {
          "output_type": "stream",
          "name": "stdout",
          "text": [
            "+------------+----------+-------------------+----------------------+----------+---------------+-----------------+----------------+---------------+------------------+--------------+--------------------+------------+----------------+----------------+------------+------------+--------------------+----------------+--------+--------------------+------------------+----------------------+-------------+---------+---------+---------+---------+----------------+---------------+---------+\n",
            "|logserviceid|   logdate|audiencetargetageid|audiencetargetethnicid|categoryid|closedcaptionid|countryoforiginid|dubdramacreditid|ethnicprogramid|productionsourceid|programclassid|filmclassificationid|exhibitionid|        duration|         endtime|logentrydate|productionno|        programtitle|       starttime|subtitle|networkaffiliationid|specialattentionid|broadcastoriginpointid|compositionid|producer1|producer2|language1|language2|duration_seconds|LogIdentifierID|PrimaryFG|\n",
            "+------------+----------+-------------------+----------------------+----------+---------------+-----------------+----------------+---------------+------------------+--------------+--------------------+------------+----------------+----------------+------------+------------+--------------------+----------------+--------+--------------------+------------------+----------------------+-------------+---------+---------+---------+---------+----------------+---------------+---------+\n",
            "|        3157|2018-08-01|                  4|                  NULL|        13|              3|                3|            NULL|           NULL|                10|            19|                NULL|           2|02:00:00.0000000|08:00:00.0000000|  2018-08-01|      A39082|   Newlywed and Dead|06:00:00.0000000|    NULL|                NULL|              NULL|                  NULL|         NULL|     NULL|     NULL|       94|     NULL|            7200|             CI|        0|\n",
            "|        3157|2018-08-01|                  4|                  NULL|        13|              3|                3|            NULL|           NULL|                10|            19|                NULL|           2|02:00:00.0000000|08:00:00.0000000|  2018-08-01|      A39082|   Newlywed and Dead|06:00:00.0000000|    NULL|                NULL|              NULL|                  NULL|         NULL|     NULL|     NULL|       94|     NULL|            7200|           13ST|        1|\n",
            "|        3157|2018-08-01|               NULL|                  NULL|      NULL|              1|             NULL|            NULL|           NULL|              NULL|            20|                NULL|        NULL|00:00:30.0000000|06:13:45.0000000|  2018-08-01|        NULL|15-SPECIALTY CHAN...|06:13:15.0000000|    NULL|                NULL|              NULL|                  NULL|         NULL|     NULL|     NULL|     NULL|     NULL|              30|             CI|        0|\n",
            "|        3157|2018-08-01|               NULL|                  NULL|      NULL|              1|             NULL|            NULL|           NULL|              NULL|            20|                NULL|        NULL|00:00:30.0000000|06:13:45.0000000|  2018-08-01|        NULL|15-SPECIALTY CHAN...|06:13:15.0000000|    NULL|                NULL|              NULL|                  NULL|         NULL|     NULL|     NULL|     NULL|     NULL|              30|           13ST|        1|\n",
            "|        3157|2018-08-01|               NULL|                  NULL|      NULL|              1|             NULL|            NULL|           NULL|              NULL|             3|                NULL|        NULL|00:00:15.0000000|06:14:00.0000000|  2018-08-01|        NULL|3-PROCTER & GAMBL...|06:13:45.0000000|    NULL|                NULL|              NULL|                  NULL|         NULL|     NULL|     NULL|     NULL|     NULL|              15|             CI|        0|\n",
            "|        3157|2018-08-01|               NULL|                  NULL|      NULL|              1|             NULL|            NULL|           NULL|              NULL|             3|                NULL|        NULL|00:00:15.0000000|06:14:00.0000000|  2018-08-01|        NULL|3-PROCTER & GAMBL...|06:13:45.0000000|    NULL|                NULL|              NULL|                  NULL|         NULL|     NULL|     NULL|     NULL|     NULL|              15|           13ST|        1|\n",
            "|        3157|2018-08-01|               NULL|                  NULL|      NULL|              1|             NULL|            NULL|           NULL|              NULL|             3|                NULL|        NULL|00:00:15.0000000|06:14:15.0000000|  2018-08-01|        NULL|12-CREDIT KARMA-B...|06:14:00.0000000|    NULL|                NULL|              NULL|                  NULL|         NULL|     NULL|     NULL|     NULL|     NULL|              15|             CI|        0|\n",
            "|        3157|2018-08-01|               NULL|                  NULL|      NULL|              1|             NULL|            NULL|           NULL|              NULL|             3|                NULL|        NULL|00:00:15.0000000|06:14:15.0000000|  2018-08-01|        NULL|12-CREDIT KARMA-B...|06:14:00.0000000|    NULL|                NULL|              NULL|                  NULL|         NULL|     NULL|     NULL|     NULL|     NULL|              15|           13ST|        1|\n",
            "|        3157|2018-08-01|               NULL|                  NULL|      NULL|              1|             NULL|            NULL|           NULL|              NULL|             3|                NULL|        NULL|00:00:15.0000000|06:14:30.0000000|  2018-08-01|        NULL|3-L'OREAL CANADA-...|06:14:15.0000000|    NULL|                NULL|              NULL|                  NULL|         NULL|     NULL|     NULL|     NULL|     NULL|              15|             CI|        0|\n",
            "|        3157|2018-08-01|               NULL|                  NULL|      NULL|              1|             NULL|            NULL|           NULL|              NULL|             3|                NULL|        NULL|00:00:15.0000000|06:14:30.0000000|  2018-08-01|        NULL|3-L'OREAL CANADA-...|06:14:15.0000000|    NULL|                NULL|              NULL|                  NULL|         NULL|     NULL|     NULL|     NULL|     NULL|              15|           13ST|        1|\n",
            "|        3157|2018-08-01|               NULL|                  NULL|      NULL|              1|             NULL|            NULL|           NULL|              NULL|             3|                NULL|        NULL|00:00:15.0000000|06:14:45.0000000|  2018-08-01|        NULL|11-YUM! BRANDS-Ch...|06:14:30.0000000|    NULL|                NULL|              NULL|                  NULL|         NULL|     NULL|     NULL|     NULL|     NULL|              15|             CI|        0|\n",
            "|        3157|2018-08-01|               NULL|                  NULL|      NULL|              1|             NULL|            NULL|           NULL|              NULL|             3|                NULL|        NULL|00:00:15.0000000|06:14:45.0000000|  2018-08-01|        NULL|11-YUM! BRANDS-Ch...|06:14:30.0000000|    NULL|                NULL|              NULL|                  NULL|         NULL|     NULL|     NULL|     NULL|     NULL|              15|           13ST|        1|\n",
            "|        3157|2018-08-01|               NULL|                  NULL|      NULL|              1|             NULL|            NULL|           NULL|              NULL|             3|                NULL|        NULL|00:00:30.0000000|06:15:16.0000000|  2018-08-01|        NULL|2-PIER 1 IMPORTS ...|06:14:46.0000000|    NULL|                NULL|              NULL|                  NULL|         NULL|     NULL|     NULL|     NULL|     NULL|              30|             CI|        0|\n",
            "|        3157|2018-08-01|               NULL|                  NULL|      NULL|              1|             NULL|            NULL|           NULL|              NULL|             3|                NULL|        NULL|00:00:30.0000000|06:15:16.0000000|  2018-08-01|        NULL|2-PIER 1 IMPORTS ...|06:14:46.0000000|    NULL|                NULL|              NULL|                  NULL|         NULL|     NULL|     NULL|     NULL|     NULL|              30|           13ST|        1|\n",
            "|        3157|2018-08-01|               NULL|                  NULL|      NULL|              1|             NULL|            NULL|           NULL|              NULL|             3|                NULL|        NULL|00:00:15.0000000|06:15:31.0000000|  2018-08-01|        NULL|3-HAVAS EDGE-Trav...|06:15:16.0000000|    NULL|                NULL|              NULL|                  NULL|         NULL|     NULL|     NULL|     NULL|     NULL|              15|             CI|        0|\n",
            "|        3157|2018-08-01|               NULL|                  NULL|      NULL|              1|             NULL|            NULL|           NULL|              NULL|             3|                NULL|        NULL|00:00:15.0000000|06:15:31.0000000|  2018-08-01|        NULL|3-HAVAS EDGE-Trav...|06:15:16.0000000|    NULL|                NULL|              NULL|                  NULL|         NULL|     NULL|     NULL|     NULL|     NULL|              15|           13ST|        1|\n",
            "|        3157|2018-08-01|               NULL|                  NULL|      NULL|              1|             NULL|            NULL|           NULL|              NULL|             3|                NULL|        NULL|00:00:15.0000000|06:15:46.0000000|  2018-08-01|        NULL|2-AUTOTRADER-Inte...|06:15:31.0000000|    NULL|                NULL|              NULL|                  NULL|         NULL|     NULL|     NULL|     NULL|     NULL|              15|             CI|        0|\n",
            "|        3157|2018-08-01|               NULL|                  NULL|      NULL|              1|             NULL|            NULL|           NULL|              NULL|             3|                NULL|        NULL|00:00:15.0000000|06:15:46.0000000|  2018-08-01|        NULL|2-AUTOTRADER-Inte...|06:15:31.0000000|    NULL|                NULL|              NULL|                  NULL|         NULL|     NULL|     NULL|     NULL|     NULL|              15|           13ST|        1|\n",
            "|        3157|2018-08-01|               NULL|                  NULL|      NULL|              1|             NULL|            NULL|           NULL|              NULL|             3|                NULL|        NULL|00:00:15.0000000|06:16:01.0000000|  2018-08-01|        NULL|11-SLEEP COUNTRY ...|06:15:46.0000000|    NULL|                NULL|              NULL|                  NULL|         NULL|     NULL|     NULL|     NULL|     NULL|              15|             CI|        0|\n",
            "|        3157|2018-08-01|               NULL|                  NULL|      NULL|              1|             NULL|            NULL|           NULL|              NULL|             3|                NULL|        NULL|00:00:15.0000000|06:16:01.0000000|  2018-08-01|        NULL|11-SLEEP COUNTRY ...|06:15:46.0000000|    NULL|                NULL|              NULL|                  NULL|         NULL|     NULL|     NULL|     NULL|     NULL|              15|           13ST|        1|\n",
            "+------------+----------+-------------------+----------------------+----------+---------------+-----------------+----------------+---------------+------------------+--------------+--------------------+------------+----------------+----------------+------------+------------+--------------------+----------------+--------+--------------------+------------------+----------------------+-------------+---------+---------+---------+---------+----------------+---------------+---------+\n",
            "only showing top 20 rows\n",
            "\n"
          ]
        }
      ]
    },
    {
      "cell_type": "code",
      "source": [
        "log_identifier.show(5,False)"
      ],
      "metadata": {
        "colab": {
          "base_uri": "https://localhost:8080/"
        },
        "id": "N5Xi8s51V78D",
        "outputId": "330cbf07-841e-4f3a-a742-d6d6a933eb56"
      },
      "execution_count": 29,
      "outputs": [
        {
          "output_type": "stream",
          "name": "stdout",
          "text": [
            "+---------------+------------+---------+\n",
            "|LogIdentifierID|LogServiceID|PrimaryFG|\n",
            "+---------------+------------+---------+\n",
            "|13ST           |3157        |1        |\n",
            "|2000SM         |3466        |1        |\n",
            "|70SM           |3883        |1        |\n",
            "|80SM           |3590        |1        |\n",
            "|90SM           |3470        |1        |\n",
            "+---------------+------------+---------+\n",
            "only showing top 5 rows\n",
            "\n"
          ]
        }
      ]
    },
    {
      "cell_type": "code",
      "source": [
        "logs_and_channels = logs.join(\n",
        "    log_identifier,  # Joining logs DataFrame with log_identifier DataFrame\n",
        "    \"LogServiceID\"  # Perform an equi-join on the \"LogServiceID\" column\n",
        ")\n",
        "\n",
        "logs_and_channels.show(5,False)  # Print schema of the resulting DataFrame\n"
      ],
      "metadata": {
        "colab": {
          "base_uri": "https://localhost:8080/"
        },
        "id": "svHH8gGCcZKm",
        "outputId": "709b4676-e367-46ad-b0d1-bc2c3b262dad"
      },
      "execution_count": 30,
      "outputs": [
        {
          "output_type": "stream",
          "name": "stdout",
          "text": [
            "+------------+----------+-------------------+----------------------+----------+---------------+-----------------+----------------+---------------+------------------+--------------+--------------------+------------+----------------+----------------+------------+------------+------------------------------------------+----------------+--------+--------------------+------------------+----------------------+-------------+---------+---------+---------+---------+----------------+---------------+---------+\n",
            "|logserviceid|logdate   |audiencetargetageid|audiencetargetethnicid|categoryid|closedcaptionid|countryoforiginid|dubdramacreditid|ethnicprogramid|productionsourceid|programclassid|filmclassificationid|exhibitionid|duration        |endtime         |logentrydate|productionno|programtitle                              |starttime       |subtitle|networkaffiliationid|specialattentionid|broadcastoriginpointid|compositionid|producer1|producer2|language1|language2|duration_seconds|LogIdentifierID|PrimaryFG|\n",
            "+------------+----------+-------------------+----------------------+----------+---------------+-----------------+----------------+---------------+------------------+--------------+--------------------+------------+----------------+----------------+------------+------------+------------------------------------------+----------------+--------+--------------------+------------------+----------------------+-------------+---------+---------+---------+---------+----------------+---------------+---------+\n",
            "|3157        |2018-08-01|4                  |NULL                  |13        |3              |3                |NULL            |NULL           |10                |19            |NULL                |2           |02:00:00.0000000|08:00:00.0000000|2018-08-01  |A39082      |Newlywed and Dead                         |06:00:00.0000000|NULL    |NULL                |NULL              |NULL                  |NULL         |NULL     |NULL     |94       |NULL     |7200            |CI             |0        |\n",
            "|3157        |2018-08-01|4                  |NULL                  |13        |3              |3                |NULL            |NULL           |10                |19            |NULL                |2           |02:00:00.0000000|08:00:00.0000000|2018-08-01  |A39082      |Newlywed and Dead                         |06:00:00.0000000|NULL    |NULL                |NULL              |NULL                  |NULL         |NULL     |NULL     |94       |NULL     |7200            |13ST           |1        |\n",
            "|3157        |2018-08-01|NULL               |NULL                  |NULL      |1              |NULL             |NULL            |NULL           |NULL              |20            |NULL                |NULL        |00:00:30.0000000|06:13:45.0000000|2018-08-01  |NULL        |15-SPECIALTY CHANNELS-Canadian Generic    |06:13:15.0000000|NULL    |NULL                |NULL              |NULL                  |NULL         |NULL     |NULL     |NULL     |NULL     |30              |CI             |0        |\n",
            "|3157        |2018-08-01|NULL               |NULL                  |NULL      |1              |NULL             |NULL            |NULL           |NULL              |20            |NULL                |NULL        |00:00:30.0000000|06:13:45.0000000|2018-08-01  |NULL        |15-SPECIALTY CHANNELS-Canadian Generic    |06:13:15.0000000|NULL    |NULL                |NULL              |NULL                  |NULL         |NULL     |NULL     |NULL     |NULL     |30              |13ST           |1        |\n",
            "|3157        |2018-08-01|NULL               |NULL                  |NULL      |1              |NULL             |NULL            |NULL           |NULL              |3             |NULL                |NULL        |00:00:15.0000000|06:14:00.0000000|2018-08-01  |NULL        |3-PROCTER & GAMBLE INC-Anti-Perspirant 3rd|06:13:45.0000000|NULL    |NULL                |NULL              |NULL                  |NULL         |NULL     |NULL     |NULL     |NULL     |15              |CI             |0        |\n",
            "+------------+----------+-------------------+----------------------+----------+---------------+-----------------+----------------+---------------+------------------+--------------+--------------------+------------+----------------+----------------+------------+------------+------------------------------------------+----------------+--------+--------------------+------------------+----------------------+-------------+---------+---------+---------+---------+----------------+---------------+---------+\n",
            "only showing top 5 rows\n",
            "\n"
          ]
        }
      ]
    },
    {
      "cell_type": "code",
      "source": [
        "log_identifier.show(5,False)"
      ],
      "metadata": {
        "colab": {
          "base_uri": "https://localhost:8080/"
        },
        "id": "JvYcYEuLWU0S",
        "outputId": "4c287f13-37c0-494b-b6ae-43ad98923390"
      },
      "execution_count": 100,
      "outputs": [
        {
          "output_type": "stream",
          "name": "stdout",
          "text": [
            "+---------------+------------+---------+\n",
            "|LogIdentifierID|LogServiceID|PrimaryFG|\n",
            "+---------------+------------+---------+\n",
            "|13ST           |3157        |1        |\n",
            "|2000SM         |3466        |1        |\n",
            "|70SM           |3883        |1        |\n",
            "|80SM           |3590        |1        |\n",
            "|90SM           |3470        |1        |\n",
            "+---------------+------------+---------+\n",
            "only showing top 5 rows\n",
            "\n"
          ]
        }
      ]
    },
    {
      "cell_type": "code",
      "source": [
        "logs.show(5,False)"
      ],
      "metadata": {
        "colab": {
          "base_uri": "https://localhost:8080/"
        },
        "id": "tEwB5OyCWZtC",
        "outputId": "ebc67053-d12b-45ea-9f01-bc00d4f821bd"
      },
      "execution_count": 101,
      "outputs": [
        {
          "output_type": "stream",
          "name": "stdout",
          "text": [
            "+------------+----------+-------------------+----------------------+----------+---------------+-----------------+----------------+---------------+------------------+--------------+--------------------+------------+----------------+----------------+------------+------------+-------------------------------------------+----------------+--------+--------------------+------------------+----------------------+-------------+---------+---------+---------+---------+----------------+\n",
            "|logserviceid|logdate   |audiencetargetageid|audiencetargetethnicid|categoryid|closedcaptionid|countryoforiginid|dubdramacreditid|ethnicprogramid|productionsourceid|programclassid|filmclassificationid|exhibitionid|duration        |endtime         |logentrydate|productionno|programtitle                               |starttime       |subtitle|networkaffiliationid|specialattentionid|broadcastoriginpointid|compositionid|producer1|producer2|language1|language2|duration_seconds|\n",
            "+------------+----------+-------------------+----------------------+----------+---------------+-----------------+----------------+---------------+------------------+--------------+--------------------+------------+----------------+----------------+------------+------------+-------------------------------------------+----------------+--------+--------------------+------------------+----------------------+-------------+---------+---------+---------+---------+----------------+\n",
            "|3157        |2018-08-01|4                  |NULL                  |13        |3              |3                |NULL            |NULL           |10                |19            |NULL                |2           |02:00:00.0000000|08:00:00.0000000|2018-08-01  |A39082      |Newlywed and Dead                          |06:00:00.0000000|NULL    |NULL                |NULL              |NULL                  |NULL         |NULL     |NULL     |94       |NULL     |7200            |\n",
            "|3157        |2018-08-01|NULL               |NULL                  |NULL      |1              |NULL             |NULL            |NULL           |NULL              |20            |NULL                |NULL        |00:00:30.0000000|06:13:45.0000000|2018-08-01  |NULL        |15-SPECIALTY CHANNELS-Canadian Generic     |06:13:15.0000000|NULL    |NULL                |NULL              |NULL                  |NULL         |NULL     |NULL     |NULL     |NULL     |30              |\n",
            "|3157        |2018-08-01|NULL               |NULL                  |NULL      |1              |NULL             |NULL            |NULL           |NULL              |3             |NULL                |NULL        |00:00:15.0000000|06:14:00.0000000|2018-08-01  |NULL        |3-PROCTER & GAMBLE INC-Anti-Perspirant 3rd |06:13:45.0000000|NULL    |NULL                |NULL              |NULL                  |NULL         |NULL     |NULL     |NULL     |NULL     |15              |\n",
            "|3157        |2018-08-01|NULL               |NULL                  |NULL      |1              |NULL             |NULL            |NULL           |NULL              |3             |NULL                |NULL        |00:00:15.0000000|06:14:15.0000000|2018-08-01  |NULL        |12-CREDIT KARMA-Bank/Credit Union/Trust 3rd|06:14:00.0000000|NULL    |NULL                |NULL              |NULL                  |NULL         |NULL     |NULL     |NULL     |NULL     |15              |\n",
            "|3157        |2018-08-01|NULL               |NULL                  |NULL      |1              |NULL             |NULL            |NULL           |NULL              |3             |NULL                |NULL        |00:00:15.0000000|06:14:30.0000000|2018-08-01  |NULL        |3-L'OREAL CANADA-Hair Products 3rd         |06:14:15.0000000|NULL    |NULL                |NULL              |NULL                  |NULL         |NULL     |NULL     |NULL     |NULL     |15              |\n",
            "+------------+----------+-------------------+----------------------+----------+---------------+-----------------+----------------+---------------+------------------+--------------+--------------------+------------+----------------+----------------+------------+------------+-------------------------------------------+----------------+--------+--------------------+------------------+----------------------+-------------+---------+---------+---------+---------+----------------+\n",
            "only showing top 5 rows\n",
            "\n"
          ]
        }
      ]
    },
    {
      "cell_type": "code",
      "source": [
        "# Join the 'logs' DataFrame with 'log_identifier' on the condition that their 'LogServiceID' columns match\n",
        "logs_and_channels_verbose = logs.join(\n",
        "    log_identifier,\n",
        "    logs[\"LogServiceID\"] == log_identifier[\"LogServiceID\"]\n",
        ")\n",
        "\n",
        "# Drop the 'LogServiceID' column from the 'log_identifier' DataFrame to avoid duplication\n",
        "# Then select only the 'LogServiceID' column from the resulting DataFrame\n",
        "logs_and_channels = logs_and_channels_verbose.drop(log_identifier[\"LogServiceID\"]).select(\n",
        "    \"LogServiceID\"\n",
        ")\n",
        "\n",
        "# Resulting DataFrame contains only the 'LogServiceID' column\n",
        "# DataFrame[LogServiceID: int]"
      ],
      "metadata": {
        "id": "UBmpnRBEcZeo"
      },
      "execution_count": 31,
      "outputs": []
    },
    {
      "cell_type": "code",
      "source": [
        "logs_and_channels_verbose.show(5,False)"
      ],
      "metadata": {
        "colab": {
          "base_uri": "https://localhost:8080/"
        },
        "id": "eYhZnac9WH6P",
        "outputId": "7eb21aea-05cc-485a-e72e-7fb7a33c7a03"
      },
      "execution_count": 32,
      "outputs": [
        {
          "output_type": "stream",
          "name": "stdout",
          "text": [
            "+------------+----------+-------------------+----------------------+----------+---------------+-----------------+----------------+---------------+------------------+--------------+--------------------+------------+----------------+----------------+------------+------------+------------------------------------------+----------------+--------+--------------------+------------------+----------------------+-------------+---------+---------+---------+---------+----------------+---------------+------------+---------+\n",
            "|logserviceid|logdate   |audiencetargetageid|audiencetargetethnicid|categoryid|closedcaptionid|countryoforiginid|dubdramacreditid|ethnicprogramid|productionsourceid|programclassid|filmclassificationid|exhibitionid|duration        |endtime         |logentrydate|productionno|programtitle                              |starttime       |subtitle|networkaffiliationid|specialattentionid|broadcastoriginpointid|compositionid|producer1|producer2|language1|language2|duration_seconds|LogIdentifierID|LogServiceID|PrimaryFG|\n",
            "+------------+----------+-------------------+----------------------+----------+---------------+-----------------+----------------+---------------+------------------+--------------+--------------------+------------+----------------+----------------+------------+------------+------------------------------------------+----------------+--------+--------------------+------------------+----------------------+-------------+---------+---------+---------+---------+----------------+---------------+------------+---------+\n",
            "|3157        |2018-08-01|4                  |NULL                  |13        |3              |3                |NULL            |NULL           |10                |19            |NULL                |2           |02:00:00.0000000|08:00:00.0000000|2018-08-01  |A39082      |Newlywed and Dead                         |06:00:00.0000000|NULL    |NULL                |NULL              |NULL                  |NULL         |NULL     |NULL     |94       |NULL     |7200            |CI             |3157        |0        |\n",
            "|3157        |2018-08-01|4                  |NULL                  |13        |3              |3                |NULL            |NULL           |10                |19            |NULL                |2           |02:00:00.0000000|08:00:00.0000000|2018-08-01  |A39082      |Newlywed and Dead                         |06:00:00.0000000|NULL    |NULL                |NULL              |NULL                  |NULL         |NULL     |NULL     |94       |NULL     |7200            |13ST           |3157        |1        |\n",
            "|3157        |2018-08-01|NULL               |NULL                  |NULL      |1              |NULL             |NULL            |NULL           |NULL              |20            |NULL                |NULL        |00:00:30.0000000|06:13:45.0000000|2018-08-01  |NULL        |15-SPECIALTY CHANNELS-Canadian Generic    |06:13:15.0000000|NULL    |NULL                |NULL              |NULL                  |NULL         |NULL     |NULL     |NULL     |NULL     |30              |CI             |3157        |0        |\n",
            "|3157        |2018-08-01|NULL               |NULL                  |NULL      |1              |NULL             |NULL            |NULL           |NULL              |20            |NULL                |NULL        |00:00:30.0000000|06:13:45.0000000|2018-08-01  |NULL        |15-SPECIALTY CHANNELS-Canadian Generic    |06:13:15.0000000|NULL    |NULL                |NULL              |NULL                  |NULL         |NULL     |NULL     |NULL     |NULL     |30              |13ST           |3157        |1        |\n",
            "|3157        |2018-08-01|NULL               |NULL                  |NULL      |1              |NULL             |NULL            |NULL           |NULL              |3             |NULL                |NULL        |00:00:15.0000000|06:14:00.0000000|2018-08-01  |NULL        |3-PROCTER & GAMBLE INC-Anti-Perspirant 3rd|06:13:45.0000000|NULL    |NULL                |NULL              |NULL                  |NULL         |NULL     |NULL     |NULL     |NULL     |15              |CI             |3157        |0        |\n",
            "+------------+----------+-------------------+----------------------+----------+---------------+-----------------+----------------+---------------+------------------+--------------+--------------------+------------+----------------+----------------+------------+------------+------------------------------------------+----------------+--------+--------------------+------------------+----------------------+-------------+---------+---------+---------+---------+----------------+---------------+------------+---------+\n",
            "only showing top 5 rows\n",
            "\n"
          ]
        }
      ]
    },
    {
      "cell_type": "code",
      "source": [
        "logs_and_channels.show(5,False)"
      ],
      "metadata": {
        "colab": {
          "base_uri": "https://localhost:8080/"
        },
        "id": "zV9Jx1VGWIMA",
        "outputId": "70940fe7-1f78-4122-cd93-449c188d1341"
      },
      "execution_count": 38,
      "outputs": [
        {
          "output_type": "stream",
          "name": "stdout",
          "text": [
            "+------------+\n",
            "|LogServiceID|\n",
            "+------------+\n",
            "|3157        |\n",
            "|3157        |\n",
            "|3157        |\n",
            "|3157        |\n",
            "|3157        |\n",
            "+------------+\n",
            "only showing top 5 rows\n",
            "\n"
          ]
        }
      ]
    },
    {
      "cell_type": "code",
      "source": [
        "!ls /content/drive/MyDrive/cde_data/broadcast_logs"
      ],
      "metadata": {
        "colab": {
          "base_uri": "https://localhost:8080/"
        },
        "id": "_p8lmzdrRdNw",
        "outputId": "0ded8916-4896-4423-b908-faa4283cde80"
      },
      "execution_count": 54,
      "outputs": [
        {
          "output_type": "stream",
          "name": "stdout",
          "text": [
            " BroadcastLogs_2018_Q3_M8_sample.CSV   Call_Signs.csv  'data dictionary.doc'   ReferenceTables\n"
          ]
        }
      ]
    },
    {
      "cell_type": "code",
      "source": [
        "!ls !ls /content/drive/MyDrive/cde_data/broadcast_logs/ReferenceTables"
      ],
      "metadata": {
        "colab": {
          "base_uri": "https://localhost:8080/"
        },
        "id": "8a0PKGkLRv0L",
        "outputId": "e1227ebc-9161-445b-c1a2-8aa039db3e63"
      },
      "execution_count": 55,
      "outputs": [
        {
          "output_type": "stream",
          "name": "stdout",
          "text": [
            "ls: cannot access '!ls': No such file or directory\n",
            "/content/drive/MyDrive/cde_data/broadcast_logs/ReferenceTables:\n",
            "BroadcastProducers.csv\t     CD_ClosedCaption.csv    CD_FilmClassification.csv\n",
            "CD_AirLanguage.csv\t     CD_Composition.csv      CD_NetworkAffiliation.csv\n",
            "CD_AudienceTargetAge.csv     CD_CountryOfOrigin.csv  CD_ProductionSource.csv\n",
            "CD_AudienceTargetEthnic.csv  CD_DubDramaCredit.csv   CD_ProgramClass.csv\n",
            "CD_BroadcastOriginPoint.csv  CD_EthnicProgram.csv    CD_SpecialAttention.csv\n",
            "CD_Category.csv\t\t     CD_Exhibition.csv\t     LogIdentifier.csv\n"
          ]
        }
      ]
    },
    {
      "cell_type": "code",
      "source": [
        "# Define the directory where the data files are stored\n",
        "DIRECTORY = \"/content/drive/MyDrive/cde_data/broadcast_logs\"\n",
        "\n",
        "# Load the CD_Category.csv file into a DataFrame\n",
        "# Note: sep=\"|\" specifies the delimiter, header=True indicates the first row contains column names.\n",
        "cd_category = spark.read.csv(\n",
        "    os.path.join(DIRECTORY, \"ReferenceTables/CD_Category.csv\"),\n",
        "    sep=\"|\",\n",
        "    header=True,\n",
        "    inferSchema=True,  # Automatically infer column data types\n",
        ").select(\n",
        "    \"CategoryID\",  # Select the CategoryID column\n",
        "    \"CategoryCD\",  # Select the CategoryCD column\n",
        "    F.col(\"EnglishDescription\").alias(\"Category_Description\")  # Rename EnglishDescription to Category_Description\n",
        ")\n",
        "cd_category.show(5,False)"
      ],
      "metadata": {
        "colab": {
          "base_uri": "https://localhost:8080/"
        },
        "id": "hGFNCxGgXkHj",
        "outputId": "124c2a5c-63fc-4806-cc18-2e55838104ff"
      },
      "execution_count": 39,
      "outputs": [
        {
          "output_type": "stream",
          "name": "stdout",
          "text": [
            "+----------+----------+---------------------------+\n",
            "|CategoryID|CategoryCD|Category_Description       |\n",
            "+----------+----------+---------------------------+\n",
            "|1         |010       |NEWS                       |\n",
            "|2         |02        |CANREC  ANALYSIS (old)     |\n",
            "|3         |02A       |ANALYSIS AND INTERPRETATION|\n",
            "|4         |02B       |LONG-FORM DOCUMENTARY      |\n",
            "|5         |030       |REPORTING & ACTUALITIES    |\n",
            "+----------+----------+---------------------------+\n",
            "only showing top 5 rows\n",
            "\n"
          ]
        }
      ]
    },
    {
      "cell_type": "code",
      "source": [
        "# Load the CD_ProgramClass.csv file into a DataFrame\n",
        "# Note: This file contains metadata about program classes.\n",
        "cd_program_class = spark.read.csv(\n",
        "    os.path.join(DIRECTORY, \"ReferenceTables/CD_ProgramClass.csv\"),\n",
        "    sep=\"|\",\n",
        "    header=True,\n",
        "    inferSchema=True,  # Automatically infer column data types\n",
        ").select(\n",
        "    \"ProgramClassID\",  # Select the ProgramClassID column\n",
        "    \"ProgramClassCD\",  # Select the ProgramClassCD column\n",
        "    F.col(\"EnglishDescription\").alias(\"ProgramClass_Description\")  # Rename EnglishDescription to ProgramClass_Description\n",
        ")\n",
        "cd_program_class.show(5,False)"
      ],
      "metadata": {
        "colab": {
          "base_uri": "https://localhost:8080/"
        },
        "id": "Tk9m7uTTXuIV",
        "outputId": "1dd2f159-457f-4635-80e2-559578a578cb"
      },
      "execution_count": 40,
      "outputs": [
        {
          "output_type": "stream",
          "name": "stdout",
          "text": [
            "+--------------+--------------+------------------------+\n",
            "|ProgramClassID|ProgramClassCD|ProgramClass_Description|\n",
            "+--------------+--------------+------------------------+\n",
            "|1             |AUT           |AUTOPROMOTION           |\n",
            "|2             |BAL           |BALANCE PROGRAMMING     |\n",
            "|3             |COM           |COMMERCIAL MESSAGE      |\n",
            "|4             |COR           |CORNERSTONE             |\n",
            "|5             |DOC           |DOCUMENTARY             |\n",
            "+--------------+--------------+------------------------+\n",
            "only showing top 5 rows\n",
            "\n"
          ]
        }
      ]
    },
    {
      "cell_type": "code",
      "source": [
        "logs_and_channels.printSchema()"
      ],
      "metadata": {
        "colab": {
          "base_uri": "https://localhost:8080/"
        },
        "id": "FauaQDxfYTY5",
        "outputId": "d505a438-cfce-419a-ad3a-9245087ed2dd"
      },
      "execution_count": 41,
      "outputs": [
        {
          "output_type": "stream",
          "name": "stdout",
          "text": [
            "root\n",
            " |-- LogServiceID: integer (nullable = true)\n",
            "\n"
          ]
        }
      ]
    },
    {
      "cell_type": "code",
      "source": [
        "logs_and_channels_verbose.columns"
      ],
      "metadata": {
        "colab": {
          "base_uri": "https://localhost:8080/"
        },
        "id": "qGllKYo8YzZp",
        "outputId": "e83be535-3334-4f7b-d850-5bcf39017720"
      },
      "execution_count": 42,
      "outputs": [
        {
          "output_type": "execute_result",
          "data": {
            "text/plain": [
              "['logserviceid',\n",
              " 'logdate',\n",
              " 'audiencetargetageid',\n",
              " 'audiencetargetethnicid',\n",
              " 'categoryid',\n",
              " 'closedcaptionid',\n",
              " 'countryoforiginid',\n",
              " 'dubdramacreditid',\n",
              " 'ethnicprogramid',\n",
              " 'productionsourceid',\n",
              " 'programclassid',\n",
              " 'filmclassificationid',\n",
              " 'exhibitionid',\n",
              " 'duration',\n",
              " 'endtime',\n",
              " 'logentrydate',\n",
              " 'productionno',\n",
              " 'programtitle',\n",
              " 'starttime',\n",
              " 'subtitle',\n",
              " 'networkaffiliationid',\n",
              " 'specialattentionid',\n",
              " 'broadcastoriginpointid',\n",
              " 'compositionid',\n",
              " 'producer1',\n",
              " 'producer2',\n",
              " 'language1',\n",
              " 'language2',\n",
              " 'duration_seconds',\n",
              " 'LogIdentifierID',\n",
              " 'LogServiceID',\n",
              " 'PrimaryFG']"
            ]
          },
          "metadata": {},
          "execution_count": 42
        }
      ]
    },
    {
      "cell_type": "code",
      "source": [
        "logs_and_channels_verbose = logs.alias(\"left\").join(\n",
        "    log_identifier.alias(\"right\"),\n",
        "    logs[\"LogServiceID\"] == log_identifier[\"LogServiceID\"],\n",
        " )\n",
        "logs_and_channels_verbose.columns"
      ],
      "metadata": {
        "colab": {
          "base_uri": "https://localhost:8080/"
        },
        "id": "2OHr6S6GZS2B",
        "outputId": "94f9023b-ac82-4671-9e67-965574dd796b"
      },
      "execution_count": 43,
      "outputs": [
        {
          "output_type": "execute_result",
          "data": {
            "text/plain": [
              "['logserviceid',\n",
              " 'logdate',\n",
              " 'audiencetargetageid',\n",
              " 'audiencetargetethnicid',\n",
              " 'categoryid',\n",
              " 'closedcaptionid',\n",
              " 'countryoforiginid',\n",
              " 'dubdramacreditid',\n",
              " 'ethnicprogramid',\n",
              " 'productionsourceid',\n",
              " 'programclassid',\n",
              " 'filmclassificationid',\n",
              " 'exhibitionid',\n",
              " 'duration',\n",
              " 'endtime',\n",
              " 'logentrydate',\n",
              " 'productionno',\n",
              " 'programtitle',\n",
              " 'starttime',\n",
              " 'subtitle',\n",
              " 'networkaffiliationid',\n",
              " 'specialattentionid',\n",
              " 'broadcastoriginpointid',\n",
              " 'compositionid',\n",
              " 'producer1',\n",
              " 'producer2',\n",
              " 'language1',\n",
              " 'language2',\n",
              " 'duration_seconds',\n",
              " 'LogIdentifierID',\n",
              " 'LogServiceID',\n",
              " 'PrimaryFG']"
            ]
          },
          "metadata": {},
          "execution_count": 43
        }
      ]
    },
    {
      "cell_type": "code",
      "source": [
        "logs_and_channels_verbose.drop(F.col(\"right.LogServiceID\")).select(\n",
        "    \"LogServiceID\"\n",
        " )"
      ],
      "metadata": {
        "colab": {
          "base_uri": "https://localhost:8080/"
        },
        "id": "haOlUEMvZpyT",
        "outputId": "c3033402-6b09-4200-a21d-a637b6718e7e"
      },
      "execution_count": 44,
      "outputs": [
        {
          "output_type": "execute_result",
          "data": {
            "text/plain": [
              "DataFrame[LogServiceID: int]"
            ]
          },
          "metadata": {},
          "execution_count": 44
        }
      ]
    },
    {
      "cell_type": "code",
      "source": [
        "logs_and_channels_verbose.columns"
      ],
      "metadata": {
        "colab": {
          "base_uri": "https://localhost:8080/"
        },
        "id": "Zpmc_dlXZtq8",
        "outputId": "dd38eda4-0157-48fb-d8b1-0474bacc8171"
      },
      "execution_count": 45,
      "outputs": [
        {
          "output_type": "execute_result",
          "data": {
            "text/plain": [
              "['logserviceid',\n",
              " 'logdate',\n",
              " 'audiencetargetageid',\n",
              " 'audiencetargetethnicid',\n",
              " 'categoryid',\n",
              " 'closedcaptionid',\n",
              " 'countryoforiginid',\n",
              " 'dubdramacreditid',\n",
              " 'ethnicprogramid',\n",
              " 'productionsourceid',\n",
              " 'programclassid',\n",
              " 'filmclassificationid',\n",
              " 'exhibitionid',\n",
              " 'duration',\n",
              " 'endtime',\n",
              " 'logentrydate',\n",
              " 'productionno',\n",
              " 'programtitle',\n",
              " 'starttime',\n",
              " 'subtitle',\n",
              " 'networkaffiliationid',\n",
              " 'specialattentionid',\n",
              " 'broadcastoriginpointid',\n",
              " 'compositionid',\n",
              " 'producer1',\n",
              " 'producer2',\n",
              " 'language1',\n",
              " 'language2',\n",
              " 'duration_seconds',\n",
              " 'LogIdentifierID',\n",
              " 'LogServiceID',\n",
              " 'PrimaryFG']"
            ]
          },
          "metadata": {},
          "execution_count": 45
        }
      ]
    },
    {
      "cell_type": "code",
      "source": [
        "\n",
        "\n",
        "# Join logs_and_channels with cd_category on the \"CategoryID\" column\n",
        "# Note: A left join ensures all rows from logs_and_channels are retained.\n",
        "full_log = logs_and_channels_verbose.join(cd_category, \"CategoryID\", how=\"left\").join(\n",
        "    cd_program_class, \"ProgramClassID\", how=\"left\"  # Join with cd_program_class on \"ProgramClassID\"\n",
        ")\n",
        "full_log.show(5,False)\n"
      ],
      "metadata": {
        "colab": {
          "base_uri": "https://localhost:8080/"
        },
        "id": "-EIiMIIWXQrV",
        "outputId": "815f2c2a-a300-4fec-a294-b9355c1e7014"
      },
      "execution_count": 47,
      "outputs": [
        {
          "output_type": "stream",
          "name": "stdout",
          "text": [
            "+--------------+----------+------------+----------+-------------------+----------------------+---------------+-----------------+----------------+---------------+------------------+--------------------+------------+----------------+----------------+------------+------------+------------------------------------------+----------------+--------+--------------------+------------------+----------------------+-------------+---------+---------+---------+---------+----------------+---------------+------------+---------+----------+------------------------------------------------+--------------+--------------------------------------+\n",
            "|programclassid|categoryid|logserviceid|logdate   |audiencetargetageid|audiencetargetethnicid|closedcaptionid|countryoforiginid|dubdramacreditid|ethnicprogramid|productionsourceid|filmclassificationid|exhibitionid|duration        |endtime         |logentrydate|productionno|programtitle                              |starttime       |subtitle|networkaffiliationid|specialattentionid|broadcastoriginpointid|compositionid|producer1|producer2|language1|language2|duration_seconds|LogIdentifierID|LogServiceID|PrimaryFG|CategoryCD|Category_Description                            |ProgramClassCD|ProgramClass_Description              |\n",
            "+--------------+----------+------------+----------+-------------------+----------------------+---------------+-----------------+----------------+---------------+------------------+--------------------+------------+----------------+----------------+------------+------------+------------------------------------------+----------------+--------+--------------------+------------------+----------------------+-------------+---------+---------+---------+---------+----------------+---------------+------------+---------+----------+------------------------------------------------+--------------+--------------------------------------+\n",
            "|19            |13        |3157        |2018-08-01|4                  |NULL                  |3              |3                |NULL            |NULL           |10                |NULL                |2           |02:00:00.0000000|08:00:00.0000000|2018-08-01  |A39082      |Newlywed and Dead                         |06:00:00.0000000|NULL    |NULL                |NULL              |NULL                  |NULL         |NULL     |NULL     |94       |NULL     |7200            |CI             |3157        |0        |07C       |SPECIALS,MINI-SERIES & MADE-FOR-TV FEATURE FILMS|PGR           |PROGRAM                               |\n",
            "|19            |13        |3157        |2018-08-01|4                  |NULL                  |3              |3                |NULL            |NULL           |10                |NULL                |2           |02:00:00.0000000|08:00:00.0000000|2018-08-01  |A39082      |Newlywed and Dead                         |06:00:00.0000000|NULL    |NULL                |NULL              |NULL                  |NULL         |NULL     |NULL     |94       |NULL     |7200            |13ST           |3157        |1        |07C       |SPECIALS,MINI-SERIES & MADE-FOR-TV FEATURE FILMS|PGR           |PROGRAM                               |\n",
            "|20            |NULL      |3157        |2018-08-01|NULL               |NULL                  |1              |NULL             |NULL            |NULL           |NULL              |NULL                |NULL        |00:00:30.0000000|06:13:45.0000000|2018-08-01  |NULL        |15-SPECIALTY CHANNELS-Canadian Generic    |06:13:15.0000000|NULL    |NULL                |NULL              |NULL                  |NULL         |NULL     |NULL     |NULL     |NULL     |30              |CI             |3157        |0        |NULL      |NULL                                            |PRC           |PROMOTION OF UPCOMING CANADIAN PROGRAM|\n",
            "|20            |NULL      |3157        |2018-08-01|NULL               |NULL                  |1              |NULL             |NULL            |NULL           |NULL              |NULL                |NULL        |00:00:30.0000000|06:13:45.0000000|2018-08-01  |NULL        |15-SPECIALTY CHANNELS-Canadian Generic    |06:13:15.0000000|NULL    |NULL                |NULL              |NULL                  |NULL         |NULL     |NULL     |NULL     |NULL     |30              |13ST           |3157        |1        |NULL      |NULL                                            |PRC           |PROMOTION OF UPCOMING CANADIAN PROGRAM|\n",
            "|3             |NULL      |3157        |2018-08-01|NULL               |NULL                  |1              |NULL             |NULL            |NULL           |NULL              |NULL                |NULL        |00:00:15.0000000|06:14:00.0000000|2018-08-01  |NULL        |3-PROCTER & GAMBLE INC-Anti-Perspirant 3rd|06:13:45.0000000|NULL    |NULL                |NULL              |NULL                  |NULL         |NULL     |NULL     |NULL     |NULL     |15              |CI             |3157        |0        |NULL      |NULL                                            |COM           |COMMERCIAL MESSAGE                    |\n",
            "+--------------+----------+------------+----------+-------------------+----------------------+---------------+-----------------+----------------+---------------+------------------+--------------------+------------+----------------+----------------+------------+------------+------------------------------------------+----------------+--------+--------------------+------------------+----------------------+-------------+---------+---------+---------+---------+----------------+---------------+------------+---------+----------+------------------------------------------------+--------------+--------------------------------------+\n",
            "only showing top 5 rows\n",
            "\n"
          ]
        }
      ]
    },
    {
      "cell_type": "code",
      "source": [
        "DIRECTORY = \"/content/drive/MyDrive/cde_data/broadcast_logs\"\n",
        "cd_category = spark.read.csv(\n",
        " os.path.join(DIRECTORY, \"ReferenceTables/CD_Category.csv\"),\n",
        " sep=\"|\",\n",
        " header=True,\n",
        " inferSchema=True,\n",
        " ).select(\n",
        " \"CategoryID\",\n",
        " \"CategoryCD\",\n",
        " F.col(\"EnglishDescription\").alias(\"Category_Description\"),\n",
        ")\n",
        "cd_category.show(5,False)"
      ],
      "metadata": {
        "colab": {
          "base_uri": "https://localhost:8080/"
        },
        "id": "TgN36SCCXQ7x",
        "outputId": "1847dfc6-079c-42ed-8156-a25346569e57"
      },
      "execution_count": 48,
      "outputs": [
        {
          "output_type": "stream",
          "name": "stdout",
          "text": [
            "+----------+----------+---------------------------+\n",
            "|CategoryID|CategoryCD|Category_Description       |\n",
            "+----------+----------+---------------------------+\n",
            "|1         |010       |NEWS                       |\n",
            "|2         |02        |CANREC  ANALYSIS (old)     |\n",
            "|3         |02A       |ANALYSIS AND INTERPRETATION|\n",
            "|4         |02B       |LONG-FORM DOCUMENTARY      |\n",
            "|5         |030       |REPORTING & ACTUALITIES    |\n",
            "+----------+----------+---------------------------+\n",
            "only showing top 5 rows\n",
            "\n"
          ]
        }
      ]
    },
    {
      "cell_type": "code",
      "source": [
        "cd_program_class = spark.read.csv(\n",
        " os.path.join(DIRECTORY, \"ReferenceTables/CD_ProgramClass.csv\"),\n",
        " sep=\"|\",\n",
        " header=True,\n",
        " inferSchema=True,\n",
        " ).select(\n",
        " \"ProgramClassID\",\n",
        " \"ProgramClassCD\",\n",
        " F.col(\"EnglishDescription\").alias(\"ProgramClass_Description\"),\n",
        ")\n",
        "cd_program_class.show()"
      ],
      "metadata": {
        "colab": {
          "base_uri": "https://localhost:8080/"
        },
        "id": "6PAxcNvDaY8b",
        "outputId": "610e0e0f-2054-435b-929f-9cb8aa5fec7d"
      },
      "execution_count": 49,
      "outputs": [
        {
          "output_type": "stream",
          "name": "stdout",
          "text": [
            "+--------------+--------------+------------------------+\n",
            "|ProgramClassID|ProgramClassCD|ProgramClass_Description|\n",
            "+--------------+--------------+------------------------+\n",
            "|             1|          AUT |           AUTOPROMOTION|\n",
            "|             2|          BAL |     BALANCE PROGRAMMING|\n",
            "|             3|          COM |      COMMERCIAL MESSAGE|\n",
            "|             4|          COR |             CORNERSTONE|\n",
            "|             5|          DOC |             DOCUMENTARY|\n",
            "|             6|          GIA |               GIVEAWAYS|\n",
            "|             7|          ID  |    NETWORK IDENTIFIC...|\n",
            "|             8|          INT |            INTERSTITIAL|\n",
            "|             9|          LOC |       LOCAL ADVERTISING|\n",
            "|            10|          MAG |        MAGAZINE PROGRAM|\n",
            "|            11|          MER |           MERCHANDISING|\n",
            "|            12|          MVC |        MUSIC VIDEO CLIP|\n",
            "|            13|          NRN |    No recognized nat...|\n",
            "|            14|          OFF |    SCHEDULED OFF AIR...|\n",
            "|            15|          OFT |    OFF AIR DUE TO TE...|\n",
            "|            16|          PCR |       PRODUCTION CREDIT|\n",
            "|            17|          PFS |    PROGRAM FIRST SEG...|\n",
            "|            18|          PGI |     PROGRAM INFOMERCIAL|\n",
            "|            19|          PGR |                 PROGRAM|\n",
            "|            20|          PRC |    PROMOTION OF UPCO...|\n",
            "+--------------+--------------+------------------------+\n",
            "only showing top 20 rows\n",
            "\n"
          ]
        }
      ]
    },
    {
      "cell_type": "code",
      "source": [
        "logs_and_channels.show()"
      ],
      "metadata": {
        "colab": {
          "base_uri": "https://localhost:8080/"
        },
        "id": "aeofetrear-7",
        "outputId": "f5d5b7b6-f156-4348-80b0-0a7dd9edaa05"
      },
      "execution_count": 123,
      "outputs": [
        {
          "output_type": "stream",
          "name": "stdout",
          "text": [
            "+------------+\n",
            "|LogServiceID|\n",
            "+------------+\n",
            "|        3157|\n",
            "|        3157|\n",
            "|        3157|\n",
            "|        3157|\n",
            "|        3157|\n",
            "|        3157|\n",
            "|        3157|\n",
            "|        3157|\n",
            "|        3157|\n",
            "|        3157|\n",
            "|        3157|\n",
            "|        3157|\n",
            "|        3157|\n",
            "|        3157|\n",
            "|        3157|\n",
            "|        3157|\n",
            "|        3157|\n",
            "|        3157|\n",
            "|        3157|\n",
            "|        3157|\n",
            "+------------+\n",
            "only showing top 20 rows\n",
            "\n"
          ]
        }
      ]
    },
    {
      "cell_type": "code",
      "source": [
        "logs_and_channels = logs.join(log_identifier, \"LogServiceID\")\n",
        "logs_and_channels.show(5,False)"
      ],
      "metadata": {
        "colab": {
          "base_uri": "https://localhost:8080/"
        },
        "id": "sim_3lqtbYbS",
        "outputId": "e278a4d5-7435-4a5d-d072-1d0f42724a50"
      },
      "execution_count": 127,
      "outputs": [
        {
          "output_type": "stream",
          "name": "stdout",
          "text": [
            "+------------+----------+-------------------+----------------------+----------+---------------+-----------------+----------------+---------------+------------------+--------------+--------------------+------------+----------------+----------------+------------+------------+-------------------------------------------+----------------+--------+--------------------+------------------+----------------------+-------------+---------+---------+---------+---------+----------------+---------------+---------+\n",
            "|logserviceid|logdate   |audiencetargetageid|audiencetargetethnicid|categoryid|closedcaptionid|countryoforiginid|dubdramacreditid|ethnicprogramid|productionsourceid|programclassid|filmclassificationid|exhibitionid|duration        |endtime         |logentrydate|productionno|programtitle                               |starttime       |subtitle|networkaffiliationid|specialattentionid|broadcastoriginpointid|compositionid|producer1|producer2|language1|language2|duration_seconds|LogIdentifierID|PrimaryFG|\n",
            "+------------+----------+-------------------+----------------------+----------+---------------+-----------------+----------------+---------------+------------------+--------------+--------------------+------------+----------------+----------------+------------+------------+-------------------------------------------+----------------+--------+--------------------+------------------+----------------------+-------------+---------+---------+---------+---------+----------------+---------------+---------+\n",
            "|3157        |2018-08-01|4                  |NULL                  |13        |3              |3                |NULL            |NULL           |10                |19            |NULL                |2           |02:00:00.0000000|08:00:00.0000000|2018-08-01  |A39082      |Newlywed and Dead                          |06:00:00.0000000|NULL    |NULL                |NULL              |NULL                  |NULL         |NULL     |NULL     |94       |NULL     |7200            |13ST           |1        |\n",
            "|3157        |2018-08-01|NULL               |NULL                  |NULL      |1              |NULL             |NULL            |NULL           |NULL              |20            |NULL                |NULL        |00:00:30.0000000|06:13:45.0000000|2018-08-01  |NULL        |15-SPECIALTY CHANNELS-Canadian Generic     |06:13:15.0000000|NULL    |NULL                |NULL              |NULL                  |NULL         |NULL     |NULL     |NULL     |NULL     |30              |13ST           |1        |\n",
            "|3157        |2018-08-01|NULL               |NULL                  |NULL      |1              |NULL             |NULL            |NULL           |NULL              |3             |NULL                |NULL        |00:00:15.0000000|06:14:00.0000000|2018-08-01  |NULL        |3-PROCTER & GAMBLE INC-Anti-Perspirant 3rd |06:13:45.0000000|NULL    |NULL                |NULL              |NULL                  |NULL         |NULL     |NULL     |NULL     |NULL     |15              |13ST           |1        |\n",
            "|3157        |2018-08-01|NULL               |NULL                  |NULL      |1              |NULL             |NULL            |NULL           |NULL              |3             |NULL                |NULL        |00:00:15.0000000|06:14:15.0000000|2018-08-01  |NULL        |12-CREDIT KARMA-Bank/Credit Union/Trust 3rd|06:14:00.0000000|NULL    |NULL                |NULL              |NULL                  |NULL         |NULL     |NULL     |NULL     |NULL     |15              |13ST           |1        |\n",
            "|3157        |2018-08-01|NULL               |NULL                  |NULL      |1              |NULL             |NULL            |NULL           |NULL              |3             |NULL                |NULL        |00:00:15.0000000|06:14:30.0000000|2018-08-01  |NULL        |3-L'OREAL CANADA-Hair Products 3rd         |06:14:15.0000000|NULL    |NULL                |NULL              |NULL                  |NULL         |NULL     |NULL     |NULL     |NULL     |15              |13ST           |1        |\n",
            "+------------+----------+-------------------+----------------------+----------+---------------+-----------------+----------------+---------------+------------------+--------------+--------------------+------------+----------------+----------------+------------+------------+-------------------------------------------+----------------+--------+--------------------+------------------+----------------------+-------------+---------+---------+---------+---------+----------------+---------------+---------+\n",
            "only showing top 5 rows\n",
            "\n"
          ]
        }
      ]
    },
    {
      "cell_type": "code",
      "source": [
        " full_log = logs_and_channels.join(cd_category, \"CategoryID\", how=\"left\").join(\n",
        " cd_program_class, \"ProgramClassID\", how=\"left\"\n",
        " )"
      ],
      "metadata": {
        "id": "IbgUqolrantZ"
      },
      "execution_count": 128,
      "outputs": []
    },
    {
      "cell_type": "code",
      "source": [
        "full_log.show(5,False)"
      ],
      "metadata": {
        "colab": {
          "base_uri": "https://localhost:8080/"
        },
        "id": "06ZqUzlVbtoe",
        "outputId": "3cd63a48-4601-4289-827e-fcbab7555781"
      },
      "execution_count": 129,
      "outputs": [
        {
          "output_type": "stream",
          "name": "stdout",
          "text": [
            "+--------------+----------+------------+----------+-------------------+----------------------+---------------+-----------------+----------------+---------------+------------------+--------------------+------------+----------------+----------------+------------+------------+-------------------------------------------+----------------+--------+--------------------+------------------+----------------------+-------------+---------+---------+---------+---------+----------------+---------------+---------+----------+------------------------------------------------+--------------+--------------------------------------+\n",
            "|programclassid|categoryid|logserviceid|logdate   |audiencetargetageid|audiencetargetethnicid|closedcaptionid|countryoforiginid|dubdramacreditid|ethnicprogramid|productionsourceid|filmclassificationid|exhibitionid|duration        |endtime         |logentrydate|productionno|programtitle                               |starttime       |subtitle|networkaffiliationid|specialattentionid|broadcastoriginpointid|compositionid|producer1|producer2|language1|language2|duration_seconds|LogIdentifierID|PrimaryFG|CategoryCD|Category_Description                            |ProgramClassCD|ProgramClass_Description              |\n",
            "+--------------+----------+------------+----------+-------------------+----------------------+---------------+-----------------+----------------+---------------+------------------+--------------------+------------+----------------+----------------+------------+------------+-------------------------------------------+----------------+--------+--------------------+------------------+----------------------+-------------+---------+---------+---------+---------+----------------+---------------+---------+----------+------------------------------------------------+--------------+--------------------------------------+\n",
            "|19            |13        |3157        |2018-08-01|4                  |NULL                  |3              |3                |NULL            |NULL           |10                |NULL                |2           |02:00:00.0000000|08:00:00.0000000|2018-08-01  |A39082      |Newlywed and Dead                          |06:00:00.0000000|NULL    |NULL                |NULL              |NULL                  |NULL         |NULL     |NULL     |94       |NULL     |7200            |13ST           |1        |07C       |SPECIALS,MINI-SERIES & MADE-FOR-TV FEATURE FILMS|PGR           |PROGRAM                               |\n",
            "|20            |NULL      |3157        |2018-08-01|NULL               |NULL                  |1              |NULL             |NULL            |NULL           |NULL              |NULL                |NULL        |00:00:30.0000000|06:13:45.0000000|2018-08-01  |NULL        |15-SPECIALTY CHANNELS-Canadian Generic     |06:13:15.0000000|NULL    |NULL                |NULL              |NULL                  |NULL         |NULL     |NULL     |NULL     |NULL     |30              |13ST           |1        |NULL      |NULL                                            |PRC           |PROMOTION OF UPCOMING CANADIAN PROGRAM|\n",
            "|3             |NULL      |3157        |2018-08-01|NULL               |NULL                  |1              |NULL             |NULL            |NULL           |NULL              |NULL                |NULL        |00:00:15.0000000|06:14:00.0000000|2018-08-01  |NULL        |3-PROCTER & GAMBLE INC-Anti-Perspirant 3rd |06:13:45.0000000|NULL    |NULL                |NULL              |NULL                  |NULL         |NULL     |NULL     |NULL     |NULL     |15              |13ST           |1        |NULL      |NULL                                            |COM           |COMMERCIAL MESSAGE                    |\n",
            "|3             |NULL      |3157        |2018-08-01|NULL               |NULL                  |1              |NULL             |NULL            |NULL           |NULL              |NULL                |NULL        |00:00:15.0000000|06:14:15.0000000|2018-08-01  |NULL        |12-CREDIT KARMA-Bank/Credit Union/Trust 3rd|06:14:00.0000000|NULL    |NULL                |NULL              |NULL                  |NULL         |NULL     |NULL     |NULL     |NULL     |15              |13ST           |1        |NULL      |NULL                                            |COM           |COMMERCIAL MESSAGE                    |\n",
            "|3             |NULL      |3157        |2018-08-01|NULL               |NULL                  |1              |NULL             |NULL            |NULL           |NULL              |NULL                |NULL        |00:00:15.0000000|06:14:30.0000000|2018-08-01  |NULL        |3-L'OREAL CANADA-Hair Products 3rd         |06:14:15.0000000|NULL    |NULL                |NULL              |NULL                  |NULL         |NULL     |NULL     |NULL     |NULL     |15              |13ST           |1        |NULL      |NULL                                            |COM           |COMMERCIAL MESSAGE                    |\n",
            "+--------------+----------+------------+----------+-------------------+----------------------+---------------+-----------------+----------------+---------------+------------------+--------------------+------------+----------------+----------------+------------+------------+-------------------------------------------+----------------+--------+--------------------+------------------+----------------------+-------------+---------+---------+---------+---------+----------------+---------------+---------+----------+------------------------------------------------+--------------+--------------------------------------+\n",
            "only showing top 5 rows\n",
            "\n"
          ]
        }
      ]
    },
    {
      "cell_type": "code",
      "source": [
        "(full_log\n",
        " .groupby(\"ProgramClassCD\", \"ProgramClass_Description\")\n",
        " .agg(F.sum(\"duration_seconds\").alias(\"duration_total\"))\n",
        " .orderBy(\"duration_total\", ascending=False).show(100, False)\n",
        " )"
      ],
      "metadata": {
        "colab": {
          "base_uri": "https://localhost:8080/"
        },
        "id": "DFdTC6oYdN_W",
        "outputId": "6d6e4af0-d232-46bc-e27a-a1108dc88f1d"
      },
      "execution_count": 130,
      "outputs": [
        {
          "output_type": "stream",
          "name": "stdout",
          "text": [
            "+--------------+--------------------------------------+--------------+\n",
            "|ProgramClassCD|ProgramClass_Description              |duration_total|\n",
            "+--------------+--------------------------------------+--------------+\n",
            "|PGR           |PROGRAM                               |20992510      |\n",
            "|COM           |COMMERCIAL MESSAGE                    |3519163       |\n",
            "|PFS           |PROGRAM FIRST SEGMENT                 |1344762       |\n",
            "|SEG           |SEGMENT OF A PROGRAM                  |1205998       |\n",
            "|PRC           |PROMOTION OF UPCOMING CANADIAN PROGRAM|880600        |\n",
            "|PGI           |PROGRAM INFOMERCIAL                   |679182        |\n",
            "|PRO           |PROMOTION OF NON-CANADIAN PROGRAM     |335701        |\n",
            "|OFF           |SCHEDULED OFF AIR TIME PERIOD         |142279        |\n",
            "|ID            |NETWORK IDENTIFICATION MESSAGE        |74926         |\n",
            "|NRN           |No recognized nationality             |59686         |\n",
            "|MAG           |MAGAZINE PROGRAM                      |57622         |\n",
            "|PSA           |PUBLIC SERVICE ANNOUNCEMENT           |51214         |\n",
            "|SO            |MAY IDENTIFY THE SIGN ON\\OFF OF A DAY |32509         |\n",
            "|OFT           |OFF AIR DUE TO TECHNICAL DIFFICULTY   |18263         |\n",
            "|LOC           |LOCAL ADVERTISING                     |13294         |\n",
            "|MVC           |MUSIC VIDEO CLIP                      |7907          |\n",
            "|REG           |REGIONAL                              |6749          |\n",
            "|MER           |MERCHANDISING                         |1680          |\n",
            "|SPO           |SPONSORSHIP MESSAGE                   |1544          |\n",
            "|SOL           |SOLICITATION MESSAGE                  |596           |\n",
            "|MOS           |Mosaic                                |NULL          |\n",
            "|COR           |CORNERSTONE                           |NULL          |\n",
            "+--------------+--------------------------------------+--------------+\n",
            "\n"
          ]
        }
      ]
    },
    {
      "cell_type": "code",
      "source": [
        "full_log.groupby(\"ProgramClassCD\", \"ProgramClass_Description\").agg(\n",
        "    {\"duration_seconds\": \"sum\"}\n",
        " ).withColumnRenamed(\"sum(duration_seconds)\", \"duration_total\").orderBy(\n",
        "    \"duration_total\", ascending=False\n",
        " ).show(\n",
        "    100, False\n",
        " )"
      ],
      "metadata": {
        "colab": {
          "base_uri": "https://localhost:8080/"
        },
        "id": "ey3nrcg3gmWY",
        "outputId": "19e58563-aa25-4e5d-e812-e02c1af02ba9"
      },
      "execution_count": 50,
      "outputs": [
        {
          "output_type": "stream",
          "name": "stdout",
          "text": [
            "+--------------+--------------------------------------+--------------+\n",
            "|ProgramClassCD|ProgramClass_Description              |duration_total|\n",
            "+--------------+--------------------------------------+--------------+\n",
            "|PGR           |PROGRAM                               |29440180      |\n",
            "|COM           |COMMERCIAL MESSAGE                    |4959005       |\n",
            "|PFS           |PROGRAM FIRST SEGMENT                 |1897637       |\n",
            "|SEG           |SEGMENT OF A PROGRAM                  |1535873       |\n",
            "|PRC           |PROMOTION OF UPCOMING CANADIAN PROGRAM|1359433       |\n",
            "|PGI           |PROGRAM INFOMERCIAL                   |765074        |\n",
            "|PRO           |PROMOTION OF NON-CANADIAN PROGRAM     |416717        |\n",
            "|OFF           |SCHEDULED OFF AIR TIME PERIOD         |187304        |\n",
            "|ID            |NETWORK IDENTIFICATION MESSAGE        |117735        |\n",
            "|MAG           |MAGAZINE PROGRAM                      |75624         |\n",
            "|NRN           |No recognized nationality             |72195         |\n",
            "|PSA           |PUBLIC SERVICE ANNOUNCEMENT           |70982         |\n",
            "|SO            |MAY IDENTIFY THE SIGN ON\\OFF OF A DAY |59115         |\n",
            "|LOC           |LOCAL ADVERTISING                     |24410         |\n",
            "|OFT           |OFF AIR DUE TO TECHNICAL DIFFICULTY   |21871         |\n",
            "|MVC           |MUSIC VIDEO CLIP                      |15814         |\n",
            "|REG           |REGIONAL                              |6749          |\n",
            "|SPO           |SPONSORSHIP MESSAGE                   |1766          |\n",
            "|MER           |MERCHANDISING                         |1680          |\n",
            "|SOL           |SOLICITATION MESSAGE                  |596           |\n",
            "|MOS           |Mosaic                                |NULL          |\n",
            "|COR           |CORNERSTONE                           |NULL          |\n",
            "+--------------+--------------------------------------+--------------+\n",
            "\n"
          ]
        }
      ]
    },
    {
      "cell_type": "code",
      "source": [
        "logs.show(5,False)"
      ],
      "metadata": {
        "colab": {
          "base_uri": "https://localhost:8080/"
        },
        "id": "H4NabJ1shMHC",
        "outputId": "14f6ca9d-c191-4ea3-c1ab-6e1af4bfae8b"
      },
      "execution_count": 54,
      "outputs": [
        {
          "output_type": "stream",
          "name": "stdout",
          "text": [
            "+------------+----------+-------------------+----------------------+----------+---------------+-----------------+----------------+---------------+------------------+--------------+--------------------+------------+----------------+----------------+------------+------------+-------------------------------------------+----------------+--------+--------------------+------------------+----------------------+-------------+---------+---------+---------+---------+----------------+\n",
            "|logserviceid|logdate   |audiencetargetageid|audiencetargetethnicid|categoryid|closedcaptionid|countryoforiginid|dubdramacreditid|ethnicprogramid|productionsourceid|programclassid|filmclassificationid|exhibitionid|duration        |endtime         |logentrydate|productionno|programtitle                               |starttime       |subtitle|networkaffiliationid|specialattentionid|broadcastoriginpointid|compositionid|producer1|producer2|language1|language2|duration_seconds|\n",
            "+------------+----------+-------------------+----------------------+----------+---------------+-----------------+----------------+---------------+------------------+--------------+--------------------+------------+----------------+----------------+------------+------------+-------------------------------------------+----------------+--------+--------------------+------------------+----------------------+-------------+---------+---------+---------+---------+----------------+\n",
            "|3157        |2018-08-01|4                  |NULL                  |13        |3              |3                |NULL            |NULL           |10                |19            |NULL                |2           |02:00:00.0000000|08:00:00.0000000|2018-08-01  |A39082      |Newlywed and Dead                          |06:00:00.0000000|NULL    |NULL                |NULL              |NULL                  |NULL         |NULL     |NULL     |94       |NULL     |7200            |\n",
            "|3157        |2018-08-01|NULL               |NULL                  |NULL      |1              |NULL             |NULL            |NULL           |NULL              |20            |NULL                |NULL        |00:00:30.0000000|06:13:45.0000000|2018-08-01  |NULL        |15-SPECIALTY CHANNELS-Canadian Generic     |06:13:15.0000000|NULL    |NULL                |NULL              |NULL                  |NULL         |NULL     |NULL     |NULL     |NULL     |30              |\n",
            "|3157        |2018-08-01|NULL               |NULL                  |NULL      |1              |NULL             |NULL            |NULL           |NULL              |3             |NULL                |NULL        |00:00:15.0000000|06:14:00.0000000|2018-08-01  |NULL        |3-PROCTER & GAMBLE INC-Anti-Perspirant 3rd |06:13:45.0000000|NULL    |NULL                |NULL              |NULL                  |NULL         |NULL     |NULL     |NULL     |NULL     |15              |\n",
            "|3157        |2018-08-01|NULL               |NULL                  |NULL      |1              |NULL             |NULL            |NULL           |NULL              |3             |NULL                |NULL        |00:00:15.0000000|06:14:15.0000000|2018-08-01  |NULL        |12-CREDIT KARMA-Bank/Credit Union/Trust 3rd|06:14:00.0000000|NULL    |NULL                |NULL              |NULL                  |NULL         |NULL     |NULL     |NULL     |NULL     |15              |\n",
            "|3157        |2018-08-01|NULL               |NULL                  |NULL      |1              |NULL             |NULL            |NULL           |NULL              |3             |NULL                |NULL        |00:00:15.0000000|06:14:30.0000000|2018-08-01  |NULL        |3-L'OREAL CANADA-Hair Products 3rd         |06:14:15.0000000|NULL    |NULL                |NULL              |NULL                  |NULL         |NULL     |NULL     |NULL     |NULL     |15              |\n",
            "+------------+----------+-------------------+----------------------+----------+---------------+-----------------+----------------+---------------+------------------+--------------+--------------------+------------+----------------+----------------+------------+------------+-------------------------------------------+----------------+--------+--------------------+------------------+----------------------+-------------+---------+---------+---------+---------+----------------+\n",
            "only showing top 5 rows\n",
            "\n"
          ]
        }
      ]
    },
    {
      "cell_type": "code",
      "source": [
        "logs.printSchema()"
      ],
      "metadata": {
        "colab": {
          "base_uri": "https://localhost:8080/"
        },
        "id": "5ZEdOcv6hRsK",
        "outputId": "beecfd18-e405-468e-fe70-da714c29402b"
      },
      "execution_count": 55,
      "outputs": [
        {
          "output_type": "stream",
          "name": "stdout",
          "text": [
            "root\n",
            " |-- logserviceid: integer (nullable = true)\n",
            " |-- logdate: date (nullable = true)\n",
            " |-- audiencetargetageid: integer (nullable = true)\n",
            " |-- audiencetargetethnicid: integer (nullable = true)\n",
            " |-- categoryid: integer (nullable = true)\n",
            " |-- closedcaptionid: integer (nullable = true)\n",
            " |-- countryoforiginid: integer (nullable = true)\n",
            " |-- dubdramacreditid: integer (nullable = true)\n",
            " |-- ethnicprogramid: integer (nullable = true)\n",
            " |-- productionsourceid: integer (nullable = true)\n",
            " |-- programclassid: integer (nullable = true)\n",
            " |-- filmclassificationid: integer (nullable = true)\n",
            " |-- exhibitionid: integer (nullable = true)\n",
            " |-- duration: string (nullable = true)\n",
            " |-- endtime: string (nullable = true)\n",
            " |-- logentrydate: date (nullable = true)\n",
            " |-- productionno: string (nullable = true)\n",
            " |-- programtitle: string (nullable = true)\n",
            " |-- starttime: string (nullable = true)\n",
            " |-- subtitle: string (nullable = true)\n",
            " |-- networkaffiliationid: integer (nullable = true)\n",
            " |-- specialattentionid: integer (nullable = true)\n",
            " |-- broadcastoriginpointid: integer (nullable = true)\n",
            " |-- compositionid: integer (nullable = true)\n",
            " |-- producer1: string (nullable = true)\n",
            " |-- producer2: string (nullable = true)\n",
            " |-- language1: integer (nullable = true)\n",
            " |-- language2: integer (nullable = true)\n",
            " |-- duration_seconds: integer (nullable = true)\n",
            "\n"
          ]
        }
      ]
    },
    {
      "cell_type": "code",
      "source": [
        "# Group the data by \"ProgramClassCD\" and \"ProgramClass_Description\"\n",
        "# Note: These columns represent program categories and their descriptions.\n",
        "full_log.groupby(\n",
        "    \"ProgramClassCD\",\n",
        "    \"ProgramClass_Description\"\n",
        ").agg(\n",
        "    # Aggregate the total duration (in seconds) for each group\n",
        "    F.sum(F.col(\"Duration_seconds\")).alias(\"total_duration_seconds\")\n",
        ").show(5,False)"
      ],
      "metadata": {
        "colab": {
          "base_uri": "https://localhost:8080/"
        },
        "id": "895idDsrgo7F",
        "outputId": "14b1fd37-7c83-4e06-9370-8d68f40bc3ef"
      },
      "execution_count": 57,
      "outputs": [
        {
          "output_type": "stream",
          "name": "stdout",
          "text": [
            "+--------------+--------------------------------------+----------------------+\n",
            "|ProgramClassCD|ProgramClass_Description              |total_duration_seconds|\n",
            "+--------------+--------------------------------------+----------------------+\n",
            "|PGR           |PROGRAM                               |29440180              |\n",
            "|NRN           |No recognized nationality             |72195                 |\n",
            "|PRC           |PROMOTION OF UPCOMING CANADIAN PROGRAM|1359433               |\n",
            "|SO            |MAY IDENTIFY THE SIGN ON\\OFF OF A DAY |59115                 |\n",
            "|REG           |REGIONAL                              |6749                  |\n",
            "+--------------+--------------------------------------+----------------------+\n",
            "only showing top 5 rows\n",
            "\n"
          ]
        }
      ]
    },
    {
      "cell_type": "code",
      "source": [
        "answer = (\n",
        "    full_log.groupby(\"LogIdentifierID\")\n",
        "    .agg(\n",
        " F.sum(\n",
        "            F.when(\n",
        "                F.trim(F.col(\"ProgramClassCD\")).isin(\n",
        "                    [\"COM\", \"PRC\", \"PGI\", \"PRO\", \"LOC\", \"SPO\", \"MER\", \"SOL\"]\n",
        "                ),\n",
        "                F.col(\"duration_seconds\"),\n",
        "            ).otherwise(0)\n",
        "        ).alias(\"duration_commercial\"),\n",
        "        F.sum(\"duration_seconds\").alias(\"duration_total\"),\n",
        "    )\n",
        "    .withColumn(\n",
        "        \"commercial_ratio\", F.col(\n",
        "            \"duration_commercial\") / F.col(\"duration_total\")\n",
        "    )\n",
        " )\n",
        "answer.orderBy(\"commercial_ratio\", ascending=False).show(1000, False)"
      ],
      "metadata": {
        "colab": {
          "base_uri": "https://localhost:8080/"
        },
        "id": "lqo9DNm0iZg7",
        "outputId": "24e6f667-b438-4530-82ba-1431635edfd2"
      },
      "execution_count": 59,
      "outputs": [
        {
          "output_type": "stream",
          "name": "stdout",
          "text": [
            "+---------------+-------------------+--------------+---------------------+\n",
            "|LogIdentifierID|duration_commercial|duration_total|commercial_ratio     |\n",
            "+---------------+-------------------+--------------+---------------------+\n",
            "|CIMT           |775                |775           |1.0                  |\n",
            "|TLNSP          |15480              |15480         |1.0                  |\n",
            "|TELENO         |17790              |17790         |1.0                  |\n",
            "|MSET           |2700               |2700          |1.0                  |\n",
            "|TRN            |13                 |13            |1.0                  |\n",
            "|HPITV          |13                 |13            |1.0                  |\n",
            "|TANG           |8125               |8125          |1.0                  |\n",
            "|MUSIMAX        |23333              |23582         |0.9894410991434145   |\n",
            "|MMAX           |23333              |23582         |0.9894410991434145   |\n",
            "|MUSIP          |20587              |20912         |0.9844586840091814   |\n",
            "|MPLU           |20587              |20912         |0.9844586840091814   |\n",
            "|MUSIQUE PL     |20587              |20912         |0.9844586840091814   |\n",
            "|INVST          |20094              |20470         |0.9816316560820714   |\n",
            "|CANZ           |21542              |21965         |0.9807420896881403   |\n",
            "|ZT�L�          |21542              |21965         |0.9807420896881403   |\n",
            "|CANALZ         |21542              |21965         |0.9807420896881403   |\n",
            "|RAPT           |17916              |18279         |0.9801411455768915   |\n",
            "|CANALD         |21437              |21875         |0.9799771428571429   |\n",
            "|ONEBMS         |18084              |18522         |0.9763524457402009   |\n",
            "|CANALVIE       |20780              |21309         |0.975174808766249    |\n",
            "|CVIE           |20780              |21309         |0.975174808766249    |\n",
            "|unis           |11630              |11998         |0.9693282213702283   |\n",
            "|CIVM           |11370              |11802         |0.9633960345704118   |\n",
            "|TV5            |10759              |11220         |0.9589126559714795   |\n",
            "|LEAF           |11526              |12034         |0.9577862722286854   |\n",
            "|VISION         |12946              |13621         |0.950444167094927    |\n",
            "|CJIL           |3904               |4213          |0.9266555898409684   |\n",
            "|CFRS           |15988              |17789         |0.8987576592276125   |\n",
            "|CFAP           |15880              |17681         |0.8981392455177875   |\n",
            "|RURAL          |2220               |2550          |0.8705882352941177   |\n",
            "|CHNU           |4224               |4921          |0.8583621215200162   |\n",
            "|CIIT           |2942               |3596          |0.818131256952169    |\n",
            "|CFKM           |15976              |19582         |0.8158512920028598   |\n",
            "|CFKS           |15975              |19581         |0.8158418875440479   |\n",
            "|V              |15949              |19557         |0.8155136268343816   |\n",
            "|TQS            |15949              |19557         |0.8155136268343816   |\n",
            "|CFJP           |15925              |19533         |0.8152869502892541   |\n",
            "|CFTU           |3975               |7619          |0.5217220107625673   |\n",
            "|CHEK           |46287              |100372        |0.46115450524050533  |\n",
            "|VRAK           |15900              |38050         |0.4178712220762155   |\n",
            "|CANALF         |15900              |38050         |0.4178712220762155   |\n",
            "|CKVR           |40641              |105861        |0.3839090883328138   |\n",
            "|CHAU           |1080               |2880          |0.375                |\n",
            "|CHWI           |36996              |105816        |0.3496257654797006   |\n",
            "|CFPL           |36796              |105616        |0.348394182699591    |\n",
            "|CIVI           |36570              |105330        |0.34719453147251494  |\n",
            "|CESS           |35590              |105700        |0.33670766319772943  |\n",
            "|ACCESS         |35590              |105700        |0.33670766319772943  |\n",
            "|CFGS           |30000              |91500         |0.32786885245901637  |\n",
            "|CHRO           |35000              |107345        |0.32605151613955     |\n",
            "|CFVS           |29655              |91130         |0.3254142433885658   |\n",
            "|ASN            |34590              |106920        |0.3235129068462402   |\n",
            "|CHAT           |29415              |92665         |0.3174337667943668   |\n",
            "|CFTM           |30162              |105732        |0.2852684144818976   |\n",
            "|CJCB           |30440              |107990        |0.28187795166219093  |\n",
            "|CFTO           |30423              |108003        |0.2816866198161162   |\n",
            "|CKLT           |30410              |107990        |0.28160014816186685  |\n",
            "|CKCW           |30410              |107990        |0.28160014816186685  |\n",
            "|CJCH           |30365              |107930        |0.2813397572500695   |\n",
            "|CJOH           |30408              |108093        |0.2813133135355666   |\n",
            "|CHBX           |30352              |108007        |0.28101882285407426  |\n",
            "|CFCF           |30298              |107878        |0.28085429837408926  |\n",
            "|CKNY           |30327              |107982        |0.28085236428293603  |\n",
            "|CITO           |30317              |107972        |0.2807857592709221   |\n",
            "|CICI           |30321              |108036        |0.2806564478507164   |\n",
            "|CKY            |30089              |107669        |0.27945833991213814  |\n",
            "|CKCO           |30153              |107928        |0.2793806982432733   |\n",
            "|CKCK           |30125              |107856        |0.27930759531226823  |\n",
            "|CFQC           |30075              |107986        |0.2785083251532606   |\n",
            "|CFCM           |29364              |105894        |0.2772961640886169   |\n",
            "|CIPA           |29756              |107742        |0.27617827773755826  |\n",
            "|CHLT           |29156              |105686        |0.27587381488560453  |\n",
            "|CJPM           |29125              |105655        |0.27566135062230845  |\n",
            "|CHEM           |29096              |105626        |0.2754624808285839   |\n",
            "|CFER           |29026              |105556        |0.27498200007578916  |\n",
            "|CICC           |29305              |107731        |0.2720201241982345   |\n",
            "|CFTK           |24765              |91785         |0.26981532930217356  |\n",
            "|CIVT           |28851              |108232        |0.26656626506024095  |\n",
            "|CITY           |28987              |112061        |0.2586716163518084   |\n",
            "|CIHF           |27209              |108224        |0.25141373447664106  |\n",
            "|CIHF2          |27196              |108251        |0.25123093551098835  |\n",
            "|CHNB2          |27196              |108251        |0.25123093551098835  |\n",
            "|CFCNTV5        |27239              |108434        |0.2512034970581183   |\n",
            "|CFCNL          |27239              |108434        |0.2512034970581183   |\n",
            "|CFCN           |27199              |108424        |0.2508577436729875   |\n",
            "|CFRN6          |27275              |108740        |0.25082766231377596  |\n",
            "|CFRE           |27064              |108109        |0.2503399346955388   |\n",
            "|CFMT           |25645              |102688        |0.24973706762231224  |\n",
            "|CFRN           |27034              |108409        |0.24937043972363918  |\n",
            "|CKMI           |26917              |107956        |0.2493330616176961   |\n",
            "|CFSK           |26869              |108069        |0.24862819124818403  |\n",
            "|GLOBAL         |26802              |107812        |0.2485994137943828   |\n",
            "|CIII           |26802              |107812        |0.2485994137943828   |\n",
            "|DORAGI         |5736               |23126         |0.2480325175127562   |\n",
            "|ALLTV          |5736               |23126         |0.2480325175127562   |\n",
            "|GAME           |26155              |107889        |0.24242508504110707  |\n",
            "|CGTV           |26155              |107889        |0.24242508504110707  |\n",
            "|OUTDR          |26387              |109607        |0.2407419234173      |\n",
            "|OUTDOOR        |26387              |109607        |0.2407419234173      |\n",
            "|OLN            |26387              |109607        |0.2407419234173      |\n",
            "|CKND           |25651              |107971        |0.23757305202322845  |\n",
            "|CKVU           |26647              |113367        |0.23505076433177202  |\n",
            "|CHMI           |26627              |113305        |0.23500286836414985  |\n",
            "|CKEM           |26565              |113308        |0.23444946517456844  |\n",
            "|CKAL           |26548              |113368        |0.23417542869239996  |\n",
            "|CHBC           |25185              |108000        |0.23319444444444445  |\n",
            "|CJDC           |21270              |91470         |0.23253525746146278  |\n",
            "|DIY            |26147              |112587        |0.23223818025171644  |\n",
            "|CHAN           |25018              |107938        |0.23178120773036373  |\n",
            "|CJNT           |26130              |112904        |0.23143555587047404  |\n",
            "|WTN            |24576              |107500        |0.2286139534883721   |\n",
            "|W              |24576              |107500        |0.2286139534883721   |\n",
            "|COOK           |25161              |111561        |0.2255358055234356   |\n",
            "|WMOV           |25161              |111561        |0.2255358055234356   |\n",
            "|SEXTV          |25161              |111561        |0.2255358055234356   |\n",
            "|FASH           |24800              |111320        |0.22278117139777218  |\n",
            "|CHCH           |23795              |106997        |0.22238941278727442  |\n",
            "|WFNHD          |24600              |111498        |0.2206317602109455   |\n",
            "|WFN            |24600              |111498        |0.2206317602109455   |\n",
            "|FOOD           |24479              |111088        |0.22035683422151808  |\n",
            "|FYI            |24369              |110769        |0.21999837499661457  |\n",
            "|HEALTH         |24369              |110769        |0.21999837499661457  |\n",
            "|BBCCND         |24173              |110578        |0.21860587096890882  |\n",
            "|CFACL          |23696              |108521        |0.21835405128961216  |\n",
            "|CISA           |23696              |108521        |0.21835405128961216  |\n",
            "|CITV           |23542              |108442        |0.2170930082440383   |\n",
            "|PRIMETV        |24059              |110971        |0.21680439033621396  |\n",
            "|TVTROPLIS      |24059              |110971        |0.21680439033621396  |\n",
            "|DTOUR          |24059              |110971        |0.21680439033621396  |\n",
            "|PRIM           |24059              |110971        |0.21680439033621396  |\n",
            "|PRIME          |24059              |110971        |0.21680439033621396  |\n",
            "|CICT           |23484              |108398        |0.21664606358050886  |\n",
            "|CHEX2          |20596              |95654         |0.21531770757103727  |\n",
            "|CHX2           |20596              |95654         |0.21531770757103727  |\n",
            "|CHEX02         |20596              |95654         |0.21531770757103727  |\n",
            "|CHEX           |20842              |97329         |0.21413967060177336  |\n",
            "|DIVA           |23453              |109961        |0.21328471003355734  |\n",
            "|CAVE           |23410              |109990        |0.2128375306846077   |\n",
            "|MENTV          |23410              |109990        |0.2128375306846077   |\n",
            "|FXC            |23449              |110414        |0.21237343090550112  |\n",
            "|E!             |23255              |109745        |0.21190031436511914  |\n",
            "|STAR           |23255              |109745        |0.21190031436511914  |\n",
            "|STAR!          |23255              |109745        |0.21190031436511914  |\n",
            "|OWN            |23213              |109612        |0.21177425829288765  |\n",
            "|CLT            |23213              |109612        |0.21177425829288765  |\n",
            "|VIVA           |23213              |109612        |0.21177425829288765  |\n",
            "|BITE           |23315              |110196        |0.2115775527242368   |\n",
            "|MAKE           |23315              |110196        |0.2115775527242368   |\n",
            "|DISCOV         |23035              |109615        |0.21014459699858595  |\n",
            "|TDC            |23035              |109615        |0.21014459699858595  |\n",
            "|HGTV           |22970              |109420        |0.20992505940413086  |\n",
            "|TRV            |22995              |109713        |0.20959229990976458  |\n",
            "|TRAVEL         |22995              |109713        |0.20959229990976458  |\n",
            "|HIST           |22883              |109288        |0.20938254886172317  |\n",
            "|HISTO          |22883              |109288        |0.20938254886172317  |\n",
            "|HISTORY        |22883              |109288        |0.20938254886172317  |\n",
            "|COSMO          |22864              |109263        |0.20925656443626844  |\n",
            "|DEJA           |22865              |109325        |0.2091470386462383   |\n",
            "|ANIMAL         |22860              |109445        |0.20887203618255745  |\n",
            "|APL            |22860              |109445        |0.20887203618255745  |\n",
            "|SPARK          |22725              |109425        |0.20767649074708705  |\n",
            "|CASA           |22622              |109022        |0.2074994037900607   |\n",
            "|IDM            |22622              |109022        |0.2074994037900607   |\n",
            "|CI             |22567              |108982        |0.20707089244095356  |\n",
            "|13ST           |22567              |108982        |0.20707089244095356  |\n",
            "|CMT            |22542              |108942        |0.20691744230875145  |\n",
            "|HISTORIA       |22475              |109109        |0.20598667387658212  |\n",
            "|CHISTO         |22475              |109109        |0.20598667387658212  |\n",
            "|LIFE           |22411              |108901        |0.20579241696586809  |\n",
            "|SLICE          |22411              |108901        |0.20579241696586809  |\n",
            "|LIFENT         |22411              |108901        |0.20579241696586809  |\n",
            "|FXX            |22445              |109220        |0.20550265519135688  |\n",
            "|BRAVO          |22370              |108920        |0.20538009548292324  |\n",
            "|BRAVO!         |22370              |108920        |0.20538009548292324  |\n",
            "|ADIK           |22261              |108661        |0.2048665114438483   |\n",
            "|MYST           |22261              |108661        |0.2048665114438483   |\n",
            "|TVADIK         |22261              |108661        |0.2048665114438483   |\n",
            "|SERIEP         |22230              |108896        |0.20413972965030855  |\n",
            "|NGWILD         |22160              |108667        |0.2039257548289729   |\n",
            "|COMEDY         |22140              |108600        |0.20386740331491712  |\n",
            "|TCN            |22140              |108600        |0.20386740331491712  |\n",
            "|DISCIV         |22150              |108730        |0.20371562586222752  |\n",
            "|DISSCI         |22150              |108730        |0.20371562586222752  |\n",
            "|CIV            |22150              |108730        |0.20371562586222752  |\n",
            "|COURT          |22140              |108730        |0.2036236549250437   |\n",
            "|INVDIS         |22140              |108730        |0.2036236549250437   |\n",
            "|ARTV           |22059              |108519        |0.2032731595388826   |\n",
            "|DISVEL         |22040              |108645        |0.2028625339408164   |\n",
            "|DTHEA          |22040              |108645        |0.2028625339408164   |\n",
            "|SHOWCASE       |22027              |108662        |0.2027111593749425   |\n",
            "|SHOWC          |22027              |108662        |0.2027111593749425   |\n",
            "|SHOW           |22027              |108662        |0.2027111593749425   |\n",
            "|CONNECT        |21840              |108330        |0.20160620326779286  |\n",
            "|MTV            |21840              |108330        |0.20160620326779286  |\n",
            "|RAZER          |21840              |108330        |0.20160620326779286  |\n",
            "|CCAN           |21870              |108568        |0.20144057180753078  |\n",
            "|BOLD           |21870              |108568        |0.20144057180753078  |\n",
            "|COTT           |21870              |108568        |0.20144057180753078  |\n",
            "|COMGLD         |21645              |108135        |0.20016645859342488  |\n",
            "|TVLAND         |21645              |108135        |0.20016645859342488  |\n",
            "|EXP            |21521              |107951        |0.19935896842085762  |\n",
            "|MMM            |21445              |107935        |0.1986843933849076   |\n",
            "|GUS            |21445              |107935        |0.1986843933849076   |\n",
            "|MLLE           |21315              |107715        |0.19788330316111963  |\n",
            "|MOICIE         |21315              |107715        |0.19788330316111963  |\n",
            "|CFEM           |18650              |94580         |0.19718756608162402  |\n",
            "|SPACE          |21175              |107695        |0.19662008449788757  |\n",
            "|TALKTV         |21065              |107585        |0.19579867081842264  |\n",
            "|MTV1           |21065              |107585        |0.19579867081842264  |\n",
            "|ZEST           |21090              |107945        |0.19537727546435685  |\n",
            "|MUCH           |20930              |107510        |0.1946795646916566   |\n",
            "|MUCHM          |20930              |107510        |0.1946795646916566   |\n",
            "|MUCHMUSIC      |20930              |107510        |0.1946795646916566   |\n",
            "|CKWS           |18705              |96289         |0.19425894962041354  |\n",
            "|CKWS1          |18702              |96287         |0.19423182776491116  |\n",
            "|ATN3           |20745              |107267        |0.19339591859565383  |\n",
            "|CHOT           |18047              |94017         |0.19195464650010105  |\n",
            "|NGCE           |20390              |107031        |0.19050555446552866  |\n",
            "|CEVASI         |20415              |107180        |0.19047396902407165  |\n",
            "|LCE            |20415              |107180        |0.19047396902407165  |\n",
            "|NEWSW          |19592              |106082        |0.18468731735827001  |\n",
            "|RDI            |19500              |105900        |0.18413597733711048  |\n",
            "|BOOK           |19305              |105885        |0.18232044198895028  |\n",
            "|PRIS           |19145              |105545        |0.1813918233928656   |\n",
            "|CFJC           |17140              |95170         |0.180098770620994    |\n",
            "|FIGHT          |18745              |104229        |0.1798443811223364   |\n",
            "|CTVN1          |18910              |105310        |0.17956509353337766  |\n",
            "|CTVNC          |18910              |105310        |0.17956509353337766  |\n",
            "|NEWSNET        |18910              |105310        |0.17956509353337766  |\n",
            "|NEWS1          |18910              |105310        |0.17956509353337766  |\n",
            "|SCOPEM         |18866              |105447        |0.17891452578072398  |\n",
            "|SN360          |18866              |105447        |0.17891452578072398  |\n",
            "|SCORE          |18866              |105447        |0.17891452578072398  |\n",
            "|TSN5           |18506              |104996        |0.17625433349841899  |\n",
            "|TSN3           |18240              |104730        |0.17416213119450014  |\n",
            "|TRESR          |18355              |105394        |0.17415602406209083  |\n",
            "|HIFI           |18355              |105394        |0.17415602406209083  |\n",
            "|TSN            |17930              |104390        |0.17175974710221287  |\n",
            "|YTV            |17939              |104672        |0.17138298685417303  |\n",
            "|SPTVA2         |17732              |104132        |0.17028387047209312  |\n",
            "|SPRTVA         |17717              |104117        |0.17016433435462028  |\n",
            "|CKPG           |17020              |100070        |0.17008094333966223  |\n",
            "|BNN            |17702              |104162        |0.16994681361725006  |\n",
            "|ROBTV          |17702              |104162        |0.16994681361725006  |\n",
            "|SATV           |17772              |104877        |0.16945564804485255  |\n",
            "|ABORIH         |18000              |106223        |0.16945482616759083  |\n",
            "|TOON           |17691              |104466        |0.16934696456263282  |\n",
            "|TELETOON       |17691              |104466        |0.16934696456263282  |\n",
            "|DSNYXD         |17722              |104682        |0.16929367035402457  |\n",
            "|TSN1           |17569              |104059        |0.1688369098300003   |\n",
            "|TOONR          |17636              |104776        |0.1683209895395892   |\n",
            "|CARTN          |17636              |104776        |0.1683209895395892   |\n",
            "|ABORIW         |17771              |105846        |0.1678948661262589   |\n",
            "|ABORI          |17730              |105784        |0.16760568706042503  |\n",
            "|PULSE 24       |17395              |103860        |0.1674850760639322   |\n",
            "|CPTF           |17395              |103860        |0.1674850760639322   |\n",
            "|CP24           |17395              |103860        |0.1674850760639322   |\n",
            "|ABORIN         |17635              |105300        |0.1674738841405508   |\n",
            "|LCN            |17380              |103780        |0.16746964733089229  |\n",
            "|CANALN         |17380              |103780        |0.16746964733089229  |\n",
            "|CHSJ           |17349              |103809        |0.1671242377828512   |\n",
            "|CBAT           |17349              |103809        |0.1671242377828512   |\n",
            "|CBNT           |17349              |103809        |0.1671242377828512   |\n",
            "|CBHT           |17319              |103779        |0.16688347353510827  |\n",
            "|CBCT           |17319              |103779        |0.16688347353510827  |\n",
            "|CBUT           |17290              |103750        |0.16665060240963855  |\n",
            "|CBRT           |17290              |103750        |0.16665060240963855  |\n",
            "|CBXT           |17290              |103810        |0.1665542818610924   |\n",
            "|CBOT           |17272              |103732        |0.16650599622103113  |\n",
            "|CBLT           |17205              |103665        |0.16596729850962233  |\n",
            "|CBET           |17205              |103665        |0.16596729850962233  |\n",
            "|EQTR           |17235              |103894        |0.16589023427724411  |\n",
            "|EQHD           |17235              |103894        |0.16589023427724411  |\n",
            "|EQUAT          |17235              |103894        |0.16589023427724411  |\n",
            "|SMITH          |17235              |103894        |0.16589023427724411  |\n",
            "|CBMT           |17145              |103605        |0.1654842912986825   |\n",
            "|BLC            |17280              |104721        |0.16500988340447476  |\n",
            "|BBCEARTH       |17041              |103685        |0.16435357091189662  |\n",
            "|RADX           |17041              |103685        |0.16435357091189662  |\n",
            "|BBCEAR         |17041              |103685        |0.16435357091189662  |\n",
            "|RUSH           |17041              |103685        |0.16435357091189662  |\n",
            "|BBCE           |17041              |103685        |0.16435357091189662  |\n",
            "|CBKT           |16950              |103410        |0.16391064693936758  |\n",
            "|CKSA           |16877              |103387        |0.16324102643465813  |\n",
            "|TLTOON         |16890              |103498        |0.1631915592571837   |\n",
            "|TLTOO          |16890              |103498        |0.1631915592571837   |\n",
            "|CBWT           |16647              |103107        |0.16145363554365852  |\n",
            "|RDS            |16750              |103855        |0.16128255741177602  |\n",
            "|CFYK           |16645              |103285        |0.16115602459214795  |\n",
            "|SNWST          |16783              |104278        |0.16094478221676672  |\n",
            "|WILD           |17309              |107721        |0.16068361786466892  |\n",
            "|CSCN           |16468              |103091        |0.1597423635428893   |\n",
            "|DSNYEN         |16479              |103184        |0.15970499302217397  |\n",
            "|TSN2           |16407              |102987        |0.15931136939613738  |\n",
            "|RDSINF         |16380              |103200        |0.15872093023255815  |\n",
            "|RIS            |16380              |103200        |0.15872093023255815  |\n",
            "|SNPAC          |16538              |104258        |0.15862571697135952  |\n",
            "|S3             |16513              |104235        |0.15842087590540604  |\n",
            "|SNEST          |16513              |104235        |0.15842087590540604  |\n",
            "|CJEO           |16728              |105746        |0.15819038072362074  |\n",
            "|SNONT          |16467              |104235        |0.15797956540509425  |\n",
            "|CJCO           |16672              |106174        |0.15702526042157214  |\n",
            "|OMAB           |16672              |106174        |0.15702526042157214  |\n",
            "|RDS2           |16180              |103240        |0.1567222006974041   |\n",
            "|CJMT           |16408              |105811        |0.15506894368260388  |\n",
            "|OMNI.2         |16408              |105811        |0.15506894368260388  |\n",
            "|FNTSY          |15898              |102545        |0.15503437515237212  |\n",
            "|ATN1           |15859              |102442        |0.1548095507701919   |\n",
            "|CJON           |16030              |104555        |0.15331643632537897  |\n",
            "|AUX            |15660              |102166        |0.15327995614979542  |\n",
            "|ASIDE          |15660              |102166        |0.15327995614979542  |\n",
            "|OMON           |16079              |105457        |0.15246972699773367  |\n",
            "|DOCS           |15610              |102460        |0.15235213741948078  |\n",
            "|ESPN           |15445              |101965        |0.15147354484381895  |\n",
            "|CHNM           |16016              |105845        |0.15131560300439323  |\n",
            "|OMBC           |16016              |105845        |0.15131560300439323  |\n",
            "|CBVT           |14948              |101348        |0.14749181039586376  |\n",
            "|CBOFT          |14798              |101198        |0.14622818632779305  |\n",
            "|FAMCHA         |12540              |86400         |0.1451388888888889   |\n",
            "|ATN5           |14676              |101181        |0.1450469949891778   |\n",
            "|CBFT           |14648              |101048        |0.14496081070382394  |\n",
            "|OUTTV          |14195              |99859         |0.14215043210927408  |\n",
            "|PRIDE          |14195              |99859         |0.14215043210927408  |\n",
            "|NICK           |14290              |100935        |0.1415762619507604   |\n",
            "|CBLFT          |14228              |100658        |0.1413499175425699   |\n",
            "|CKTM           |14018              |100418        |0.13959648668565397  |\n",
            "|CKSH           |14018              |100418        |0.13959648668565397  |\n",
            "|CBKFTT         |14018              |100448        |0.13955479452054795  |\n",
            "|CBUFT          |14018              |100448        |0.13955479452054795  |\n",
            "|CBXFT          |14018              |100448        |0.13955479452054795  |\n",
            "|CBKFT          |14018              |100448        |0.13955479452054795  |\n",
            "|CBWFT          |14018              |100448        |0.13955479452054795  |\n",
            "|CJBRT          |13958              |100418        |0.13899898424585233  |\n",
            "|CKTV           |13838              |100418        |0.13780397936624908  |\n",
            "|CKRS           |13838              |100418        |0.13780397936624908  |\n",
            "|CBAFT          |13839              |100479        |0.13773027199713372  |\n",
            "|BC1            |13898              |100958        |0.13766120564987422  |\n",
            "|CHFD           |13435              |98125         |0.1369171974522293   |\n",
            "|CISF           |1960               |14439         |0.13574347253964955  |\n",
            "|TFO            |1960               |14439         |0.13574347253964955  |\n",
            "|CHLF           |1960               |14439         |0.13574347253964955  |\n",
            "|ATN9           |13312              |99792         |0.13339746673080005  |\n",
            "|CHMG           |12748              |96870         |0.1315990502735625   |\n",
            "|CKPR           |12165              |94965         |0.12809982625177696  |\n",
            "|ATN2           |12675              |99335         |0.12759853022600293  |\n",
            "|CFHD           |13103              |103223        |0.12693876364763668  |\n",
            "|OMQC           |13103              |103223        |0.12693876364763668  |\n",
            "|ATN10          |12397              |98866         |0.12539194465235773  |\n",
            "|CBCNW          |12275              |98735         |0.12432268192636856  |\n",
            "|CBC            |12275              |98735         |0.12432268192636856  |\n",
            "|SCSD04         |10600              |86400         |0.12268518518518519  |\n",
            "|CITS           |11940              |98727         |0.12093956060652102  |\n",
            "|DSNYRF         |11595              |98312         |0.11794084140288062  |\n",
            "|DSNYFR         |11595              |98312         |0.11794084140288062  |\n",
            "|TOONRF         |11595              |98312         |0.11794084140288062  |\n",
            "|FACHV2         |11040              |97848         |0.1128280598479274   |\n",
            "|ATN6           |10721              |97121         |0.110388072610455    |\n",
            "|CKCS           |10372              |97158         |0.10675394717882213  |\n",
            "|CKES           |10197              |97019         |0.10510312413032499  |\n",
            "|FTV            |9754               |94841         |0.10284581562826203  |\n",
            "|FFTV           |9754               |94841         |0.10284581562826203  |\n",
            "|FCTV           |9754               |94841         |0.10284581562826203  |\n",
            "|FACHTV         |9754               |94841         |0.10284581562826203  |\n",
            "|FACHV          |9754               |94841         |0.10284581562826203  |\n",
            "|SCSD01         |8872               |86400         |0.10268518518518518  |\n",
            "|SRC            |9248               |95648         |0.09668785547005687  |\n",
            "|TAC            |9461               |98293         |0.0962530393822551   |\n",
            "|AMITV          |9461               |98293         |0.0962530393822551   |\n",
            "|CITL           |9130               |95687         |0.09541526017118312  |\n",
            "|FPTV           |8799               |95285         |0.09234402056986935  |\n",
            "|AMIFR          |8837               |96120         |0.09193716188098211  |\n",
            "|ATN7           |8451               |94995         |0.08896257697773567  |\n",
            "|CKNO           |7926               |96123         |0.08245685215817235  |\n",
            "|CATHAY         |7588               |92687         |0.08186692847972207  |\n",
            "|TTV            |7588               |92687         |0.08186692847972207  |\n",
            "|TALENT         |7588               |92687         |0.08186692847972207  |\n",
            "|DXDCHA         |7808               |95431         |0.08181827707977492  |\n",
            "|CHRGD          |7808               |95431         |0.08181827707977492  |\n",
            "|SALT           |6852               |93541         |0.07325130156829626  |\n",
            "|YOOP           |6584               |92984         |0.07080788092575066  |\n",
            "|OASIS          |6125               |92847         |0.06596874427822116  |\n",
            "|NATUR          |6125               |92847         |0.06596874427822116  |\n",
            "|SN2            |6095               |92495         |0.06589545380831396  |\n",
            "|PHDCHA         |5438               |86400         |0.06293981481481481  |\n",
            "|FAMJR          |5438               |86400         |0.06293981481481481  |\n",
            "|THTV           |5478               |92253         |0.059380182758284286 |\n",
            "|TREEHOUSE      |5478               |92253         |0.059380182758284286 |\n",
            "|DSNYJR         |4917               |91602         |0.0536778672954739   |\n",
            "|SE04           |4431               |86400         |0.051284722222222225 |\n",
            "|MVOLA          |4320               |91851         |0.04703269425482575  |\n",
            "|TCC            |4281               |91081         |0.04700211899298427  |\n",
            "|NEOCRI         |4246               |90646         |0.0468415594731152   |\n",
            "|MAGINO         |4018               |91221         |0.04404687517128731  |\n",
            "|PHDF           |4018               |91221         |0.04404687517128731  |\n",
            "|SCSD03         |3740               |86400         |0.043287037037037034 |\n",
            "|BBCKID         |3689               |92104         |0.040052549292104576 |\n",
            "|SE03           |3453               |86400         |0.03996527777777778  |\n",
            "|TMN2           |3393               |86400         |0.03927083333333333  |\n",
            "|TMN4           |3386               |86400         |0.039189814814814816 |\n",
            "|SCSD02         |3279               |86400         |0.03795138888888889  |\n",
            "|TVO            |3383               |90140         |0.037530508098513424 |\n",
            "|CICA           |3383               |90140         |0.037530508098513424 |\n",
            "|ZEETV          |3345               |89971         |0.037178646452745885 |\n",
            "|TMN3           |3062               |86400         |0.03543981481481481  |\n",
            "|MPIX2          |2951               |86400         |0.03415509259259259  |\n",
            "|SLVSC          |3060               |89722         |0.034105347629343974 |\n",
            "|MOVIEP         |2798               |86400         |0.03238425925925926  |\n",
            "|MOVPIX         |2798               |86400         |0.03238425925925926  |\n",
            "|SE02           |2477               |86400         |0.028668981481481483 |\n",
            "|70SM           |2555               |89326         |0.028603094283859123 |\n",
            "|WARNER         |2555               |89326         |0.028603094283859123 |\n",
            "|2000SM         |2506               |89311         |0.02805925361937499  |\n",
            "|SMC            |2506               |89311         |0.02805925361937499  |\n",
            "|HFEST          |2506               |89311         |0.02805925361937499  |\n",
            "|TMN1           |2393               |86400         |0.027696759259259258 |\n",
            "|PREM CHOIX     |2278               |86400         |0.02636574074074074  |\n",
            "|PCTVEC         |2278               |86400         |0.02636574074074074  |\n",
            "|SE01           |2278               |86400         |0.02636574074074074  |\n",
            "|SUPER�CRAN     |2278               |86400         |0.02636574074074074  |\n",
            "|CPOP           |1777               |86400         |0.02056712962962963  |\n",
            "|ATN8           |1623               |88153         |0.01841117148593922  |\n",
            "|HSTORM         |1607               |88372         |0.018184492825781922 |\n",
            "|AXN            |1607               |88372         |0.018184492825781922 |\n",
            "|90SM           |1607               |88372         |0.018184492825781922 |\n",
            "|80SM           |1588               |88352         |0.017973560304237596 |\n",
            "|MGM            |1588               |88352         |0.017973560304237596 |\n",
            "|SAB            |616                |87207         |0.00706365314710975  |\n",
            "|IDNR           |297                |86530         |0.0034323356061481567|\n",
            "|OTN1           |240                |86730         |0.002767208578346593 |\n",
            "|CFTF           |0                  |1805          |0.0                  |\n",
            "|CFTV           |0                  |102           |0.0                  |\n",
            "|CKRT           |0                  |14400         |0.0                  |\n",
            "|ATN13          |0                  |86400         |0.0                  |\n",
            "|SKIN           |0                  |86400         |0.0                  |\n",
            "|SNONE          |0                  |1800          |0.0                  |\n",
            "|TIMESN         |0                  |86400         |0.0                  |\n",
            "|OTN3           |0                  |86400         |0.0                  |\n",
            "|PLAY           |0                  |86400         |0.0                  |\n",
            "|PENT           |0                  |86400         |0.0                  |\n",
            "|ATN11          |0                  |86400         |0.0                  |\n",
            "|ATN14          |0                  |86400         |0.0                  |\n",
            "|TENCH2         |0                  |86400         |0.0                  |\n",
            "|ZOOM           |0                  |86400         |0.0                  |\n",
            "|HARD           |0                  |86400         |0.0                  |\n",
            "|EURO           |0                  |NULL          |NULL                 |\n",
            "|NINOS          |0                  |NULL          |NULL                 |\n",
            "+---------------+-------------------+--------------+---------------------+\n",
            "\n"
          ]
        }
      ]
    },
    {
      "cell_type": "code",
      "source": [
        "full_log.show(5,False)"
      ],
      "metadata": {
        "colab": {
          "base_uri": "https://localhost:8080/"
        },
        "id": "cQEltGERjHhK",
        "outputId": "5701561b-cc2c-4d22-ea44-b136d7d7b7c5"
      },
      "execution_count": 61,
      "outputs": [
        {
          "output_type": "stream",
          "name": "stdout",
          "text": [
            "+--------------+----------+------------+----------+-------------------+----------------------+---------------+-----------------+----------------+---------------+------------------+--------------------+------------+----------------+----------------+------------+------------+------------------------------------------+----------------+--------+--------------------+------------------+----------------------+-------------+---------+---------+---------+---------+----------------+---------------+------------+---------+----------+------------------------------------------------+--------------+--------------------------------------+\n",
            "|programclassid|categoryid|logserviceid|logdate   |audiencetargetageid|audiencetargetethnicid|closedcaptionid|countryoforiginid|dubdramacreditid|ethnicprogramid|productionsourceid|filmclassificationid|exhibitionid|duration        |endtime         |logentrydate|productionno|programtitle                              |starttime       |subtitle|networkaffiliationid|specialattentionid|broadcastoriginpointid|compositionid|producer1|producer2|language1|language2|duration_seconds|LogIdentifierID|LogServiceID|PrimaryFG|CategoryCD|Category_Description                            |ProgramClassCD|ProgramClass_Description              |\n",
            "+--------------+----------+------------+----------+-------------------+----------------------+---------------+-----------------+----------------+---------------+------------------+--------------------+------------+----------------+----------------+------------+------------+------------------------------------------+----------------+--------+--------------------+------------------+----------------------+-------------+---------+---------+---------+---------+----------------+---------------+------------+---------+----------+------------------------------------------------+--------------+--------------------------------------+\n",
            "|19            |13        |3157        |2018-08-01|4                  |NULL                  |3              |3                |NULL            |NULL           |10                |NULL                |2           |02:00:00.0000000|08:00:00.0000000|2018-08-01  |A39082      |Newlywed and Dead                         |06:00:00.0000000|NULL    |NULL                |NULL              |NULL                  |NULL         |NULL     |NULL     |94       |NULL     |7200            |CI             |3157        |0        |07C       |SPECIALS,MINI-SERIES & MADE-FOR-TV FEATURE FILMS|PGR           |PROGRAM                               |\n",
            "|19            |13        |3157        |2018-08-01|4                  |NULL                  |3              |3                |NULL            |NULL           |10                |NULL                |2           |02:00:00.0000000|08:00:00.0000000|2018-08-01  |A39082      |Newlywed and Dead                         |06:00:00.0000000|NULL    |NULL                |NULL              |NULL                  |NULL         |NULL     |NULL     |94       |NULL     |7200            |13ST           |3157        |1        |07C       |SPECIALS,MINI-SERIES & MADE-FOR-TV FEATURE FILMS|PGR           |PROGRAM                               |\n",
            "|20            |NULL      |3157        |2018-08-01|NULL               |NULL                  |1              |NULL             |NULL            |NULL           |NULL              |NULL                |NULL        |00:00:30.0000000|06:13:45.0000000|2018-08-01  |NULL        |15-SPECIALTY CHANNELS-Canadian Generic    |06:13:15.0000000|NULL    |NULL                |NULL              |NULL                  |NULL         |NULL     |NULL     |NULL     |NULL     |30              |CI             |3157        |0        |NULL      |NULL                                            |PRC           |PROMOTION OF UPCOMING CANADIAN PROGRAM|\n",
            "|20            |NULL      |3157        |2018-08-01|NULL               |NULL                  |1              |NULL             |NULL            |NULL           |NULL              |NULL                |NULL        |00:00:30.0000000|06:13:45.0000000|2018-08-01  |NULL        |15-SPECIALTY CHANNELS-Canadian Generic    |06:13:15.0000000|NULL    |NULL                |NULL              |NULL                  |NULL         |NULL     |NULL     |NULL     |NULL     |30              |13ST           |3157        |1        |NULL      |NULL                                            |PRC           |PROMOTION OF UPCOMING CANADIAN PROGRAM|\n",
            "|3             |NULL      |3157        |2018-08-01|NULL               |NULL                  |1              |NULL             |NULL            |NULL           |NULL              |NULL                |NULL        |00:00:15.0000000|06:14:00.0000000|2018-08-01  |NULL        |3-PROCTER & GAMBLE INC-Anti-Perspirant 3rd|06:13:45.0000000|NULL    |NULL                |NULL              |NULL                  |NULL         |NULL     |NULL     |NULL     |NULL     |15              |CI             |3157        |0        |NULL      |NULL                                            |COM           |COMMERCIAL MESSAGE                    |\n",
            "+--------------+----------+------------+----------+-------------------+----------------------+---------------+-----------------+----------------+---------------+------------------+--------------------+------------+----------------+----------------+------------+------------+------------------------------------------+----------------+--------+--------------------+------------------+----------------------+-------------+---------+---------+---------+---------+----------------+---------------+------------+---------+----------+------------------------------------------------+--------------+--------------------------------------+\n",
            "only showing top 5 rows\n",
            "\n"
          ]
        }
      ]
    },
    {
      "cell_type": "code",
      "source": [
        "# Group the data by LogIdentifierID\n",
        "answer = (\n",
        "    full_log.groupby(\"LogIdentifierID\")\n",
        "    .agg(\n",
        "        # Calculate the total duration of commercial-related broadcasts\n",
        "        F.sum(\n",
        "            F.when(\n",
        "                F.trim(F.col(\"ProgramClassCD\")).isin(  # Check if ProgramClassCD is in the list of commercial codes\n",
        "                    [\"COM\", \"PRC\", \"PGI\", \"PRO\", \"LOC\", \"SPO\", \"MER\", \"SOL\"]\n",
        "                ),\n",
        "                F.col(\"duration_seconds\"),  # Include the duration_seconds if the condition is met\n",
        "            ).otherwise(0)  # Otherwise, include 0\n",
        "        ).alias(\"duration_commercial\"),  # Rename the resulting column to \"duration_commercial\"\n",
        "\n",
        "        # Calculate the total duration of all broadcasts\n",
        "        F.sum(\"duration_seconds\").alias(\"duration_total\")  # Sum up all durations and rename to \"duration_total\"\n",
        "    )\n",
        "    # Calculate the commercial ratio (commercial duration / total duration)\n",
        "    .withColumn(\n",
        "        \"commercial_ratio\",\n",
        "        F.col(\"duration_commercial\") / F.col(\"duration_total\")  # Divide commercial duration by total duration\n",
        "    )\n",
        ")\n",
        "\n",
        "# Sort the results by commercial_ratio in descending order and display the top 1000 rows\n",
        "answer.orderBy(\"commercial_ratio\", ascending=False).show(1000, False)"
      ],
      "metadata": {
        "colab": {
          "base_uri": "https://localhost:8080/"
        },
        "id": "RfdqP-4kjBgw",
        "outputId": "b8f9343d-8d9b-45a7-f762-5b26fd389323"
      },
      "execution_count": 60,
      "outputs": [
        {
          "output_type": "stream",
          "name": "stdout",
          "text": [
            "+---------------+-------------------+--------------+---------------------+\n",
            "|LogIdentifierID|duration_commercial|duration_total|commercial_ratio     |\n",
            "+---------------+-------------------+--------------+---------------------+\n",
            "|CIMT           |775                |775           |1.0                  |\n",
            "|TLNSP          |15480              |15480         |1.0                  |\n",
            "|TELENO         |17790              |17790         |1.0                  |\n",
            "|MSET           |2700               |2700          |1.0                  |\n",
            "|TRN            |13                 |13            |1.0                  |\n",
            "|HPITV          |13                 |13            |1.0                  |\n",
            "|TANG           |8125               |8125          |1.0                  |\n",
            "|MUSIMAX        |23333              |23582         |0.9894410991434145   |\n",
            "|MMAX           |23333              |23582         |0.9894410991434145   |\n",
            "|MUSIP          |20587              |20912         |0.9844586840091814   |\n",
            "|MPLU           |20587              |20912         |0.9844586840091814   |\n",
            "|MUSIQUE PL     |20587              |20912         |0.9844586840091814   |\n",
            "|INVST          |20094              |20470         |0.9816316560820714   |\n",
            "|CANZ           |21542              |21965         |0.9807420896881403   |\n",
            "|ZT�L�          |21542              |21965         |0.9807420896881403   |\n",
            "|CANALZ         |21542              |21965         |0.9807420896881403   |\n",
            "|RAPT           |17916              |18279         |0.9801411455768915   |\n",
            "|CANALD         |21437              |21875         |0.9799771428571429   |\n",
            "|ONEBMS         |18084              |18522         |0.9763524457402009   |\n",
            "|CANALVIE       |20780              |21309         |0.975174808766249    |\n",
            "|CVIE           |20780              |21309         |0.975174808766249    |\n",
            "|unis           |11630              |11998         |0.9693282213702283   |\n",
            "|CIVM           |11370              |11802         |0.9633960345704118   |\n",
            "|TV5            |10759              |11220         |0.9589126559714795   |\n",
            "|LEAF           |11526              |12034         |0.9577862722286854   |\n",
            "|VISION         |12946              |13621         |0.950444167094927    |\n",
            "|CJIL           |3904               |4213          |0.9266555898409684   |\n",
            "|CFRS           |15988              |17789         |0.8987576592276125   |\n",
            "|CFAP           |15880              |17681         |0.8981392455177875   |\n",
            "|RURAL          |2220               |2550          |0.8705882352941177   |\n",
            "|CHNU           |4224               |4921          |0.8583621215200162   |\n",
            "|CIIT           |2942               |3596          |0.818131256952169    |\n",
            "|CFKM           |15976              |19582         |0.8158512920028598   |\n",
            "|CFKS           |15975              |19581         |0.8158418875440479   |\n",
            "|V              |15949              |19557         |0.8155136268343816   |\n",
            "|TQS            |15949              |19557         |0.8155136268343816   |\n",
            "|CFJP           |15925              |19533         |0.8152869502892541   |\n",
            "|CFTU           |3975               |7619          |0.5217220107625673   |\n",
            "|CHEK           |46287              |100372        |0.46115450524050533  |\n",
            "|VRAK           |15900              |38050         |0.4178712220762155   |\n",
            "|CANALF         |15900              |38050         |0.4178712220762155   |\n",
            "|CKVR           |40641              |105861        |0.3839090883328138   |\n",
            "|CHAU           |1080               |2880          |0.375                |\n",
            "|CHWI           |36996              |105816        |0.3496257654797006   |\n",
            "|CFPL           |36796              |105616        |0.348394182699591    |\n",
            "|CIVI           |36570              |105330        |0.34719453147251494  |\n",
            "|CESS           |35590              |105700        |0.33670766319772943  |\n",
            "|ACCESS         |35590              |105700        |0.33670766319772943  |\n",
            "|CFGS           |30000              |91500         |0.32786885245901637  |\n",
            "|CHRO           |35000              |107345        |0.32605151613955     |\n",
            "|CFVS           |29655              |91130         |0.3254142433885658   |\n",
            "|ASN            |34590              |106920        |0.3235129068462402   |\n",
            "|CHAT           |29415              |92665         |0.3174337667943668   |\n",
            "|CFTM           |30162              |105732        |0.2852684144818976   |\n",
            "|CJCB           |30440              |107990        |0.28187795166219093  |\n",
            "|CFTO           |30423              |108003        |0.2816866198161162   |\n",
            "|CKLT           |30410              |107990        |0.28160014816186685  |\n",
            "|CKCW           |30410              |107990        |0.28160014816186685  |\n",
            "|CJCH           |30365              |107930        |0.2813397572500695   |\n",
            "|CJOH           |30408              |108093        |0.2813133135355666   |\n",
            "|CHBX           |30352              |108007        |0.28101882285407426  |\n",
            "|CFCF           |30298              |107878        |0.28085429837408926  |\n",
            "|CKNY           |30327              |107982        |0.28085236428293603  |\n",
            "|CITO           |30317              |107972        |0.2807857592709221   |\n",
            "|CICI           |30321              |108036        |0.2806564478507164   |\n",
            "|CKY            |30089              |107669        |0.27945833991213814  |\n",
            "|CKCO           |30153              |107928        |0.2793806982432733   |\n",
            "|CKCK           |30125              |107856        |0.27930759531226823  |\n",
            "|CFQC           |30075              |107986        |0.2785083251532606   |\n",
            "|CFCM           |29364              |105894        |0.2772961640886169   |\n",
            "|CIPA           |29756              |107742        |0.27617827773755826  |\n",
            "|CHLT           |29156              |105686        |0.27587381488560453  |\n",
            "|CJPM           |29125              |105655        |0.27566135062230845  |\n",
            "|CHEM           |29096              |105626        |0.2754624808285839   |\n",
            "|CFER           |29026              |105556        |0.27498200007578916  |\n",
            "|CICC           |29305              |107731        |0.2720201241982345   |\n",
            "|CFTK           |24765              |91785         |0.26981532930217356  |\n",
            "|CIVT           |28851              |108232        |0.26656626506024095  |\n",
            "|CITY           |28987              |112061        |0.2586716163518084   |\n",
            "|CIHF           |27209              |108224        |0.25141373447664106  |\n",
            "|CIHF2          |27196              |108251        |0.25123093551098835  |\n",
            "|CHNB2          |27196              |108251        |0.25123093551098835  |\n",
            "|CFCNTV5        |27239              |108434        |0.2512034970581183   |\n",
            "|CFCNL          |27239              |108434        |0.2512034970581183   |\n",
            "|CFCN           |27199              |108424        |0.2508577436729875   |\n",
            "|CFRN6          |27275              |108740        |0.25082766231377596  |\n",
            "|CFRE           |27064              |108109        |0.2503399346955388   |\n",
            "|CFMT           |25645              |102688        |0.24973706762231224  |\n",
            "|CFRN           |27034              |108409        |0.24937043972363918  |\n",
            "|CKMI           |26917              |107956        |0.2493330616176961   |\n",
            "|CFSK           |26869              |108069        |0.24862819124818403  |\n",
            "|GLOBAL         |26802              |107812        |0.2485994137943828   |\n",
            "|CIII           |26802              |107812        |0.2485994137943828   |\n",
            "|DORAGI         |5736               |23126         |0.2480325175127562   |\n",
            "|ALLTV          |5736               |23126         |0.2480325175127562   |\n",
            "|GAME           |26155              |107889        |0.24242508504110707  |\n",
            "|CGTV           |26155              |107889        |0.24242508504110707  |\n",
            "|OUTDR          |26387              |109607        |0.2407419234173      |\n",
            "|OUTDOOR        |26387              |109607        |0.2407419234173      |\n",
            "|OLN            |26387              |109607        |0.2407419234173      |\n",
            "|CKND           |25651              |107971        |0.23757305202322845  |\n",
            "|CKVU           |26647              |113367        |0.23505076433177202  |\n",
            "|CHMI           |26627              |113305        |0.23500286836414985  |\n",
            "|CKEM           |26565              |113308        |0.23444946517456844  |\n",
            "|CKAL           |26548              |113368        |0.23417542869239996  |\n",
            "|CHBC           |25185              |108000        |0.23319444444444445  |\n",
            "|CJDC           |21270              |91470         |0.23253525746146278  |\n",
            "|DIY            |26147              |112587        |0.23223818025171644  |\n",
            "|CHAN           |25018              |107938        |0.23178120773036373  |\n",
            "|CJNT           |26130              |112904        |0.23143555587047404  |\n",
            "|WTN            |24576              |107500        |0.2286139534883721   |\n",
            "|W              |24576              |107500        |0.2286139534883721   |\n",
            "|COOK           |25161              |111561        |0.2255358055234356   |\n",
            "|WMOV           |25161              |111561        |0.2255358055234356   |\n",
            "|SEXTV          |25161              |111561        |0.2255358055234356   |\n",
            "|FASH           |24800              |111320        |0.22278117139777218  |\n",
            "|CHCH           |23795              |106997        |0.22238941278727442  |\n",
            "|WFNHD          |24600              |111498        |0.2206317602109455   |\n",
            "|WFN            |24600              |111498        |0.2206317602109455   |\n",
            "|FOOD           |24479              |111088        |0.22035683422151808  |\n",
            "|FYI            |24369              |110769        |0.21999837499661457  |\n",
            "|HEALTH         |24369              |110769        |0.21999837499661457  |\n",
            "|BBCCND         |24173              |110578        |0.21860587096890882  |\n",
            "|CFACL          |23696              |108521        |0.21835405128961216  |\n",
            "|CISA           |23696              |108521        |0.21835405128961216  |\n",
            "|CITV           |23542              |108442        |0.2170930082440383   |\n",
            "|PRIMETV        |24059              |110971        |0.21680439033621396  |\n",
            "|TVTROPLIS      |24059              |110971        |0.21680439033621396  |\n",
            "|DTOUR          |24059              |110971        |0.21680439033621396  |\n",
            "|PRIM           |24059              |110971        |0.21680439033621396  |\n",
            "|PRIME          |24059              |110971        |0.21680439033621396  |\n",
            "|CICT           |23484              |108398        |0.21664606358050886  |\n",
            "|CHEX2          |20596              |95654         |0.21531770757103727  |\n",
            "|CHX2           |20596              |95654         |0.21531770757103727  |\n",
            "|CHEX02         |20596              |95654         |0.21531770757103727  |\n",
            "|CHEX           |20842              |97329         |0.21413967060177336  |\n",
            "|DIVA           |23453              |109961        |0.21328471003355734  |\n",
            "|CAVE           |23410              |109990        |0.2128375306846077   |\n",
            "|MENTV          |23410              |109990        |0.2128375306846077   |\n",
            "|FXC            |23449              |110414        |0.21237343090550112  |\n",
            "|E!             |23255              |109745        |0.21190031436511914  |\n",
            "|STAR           |23255              |109745        |0.21190031436511914  |\n",
            "|STAR!          |23255              |109745        |0.21190031436511914  |\n",
            "|OWN            |23213              |109612        |0.21177425829288765  |\n",
            "|CLT            |23213              |109612        |0.21177425829288765  |\n",
            "|VIVA           |23213              |109612        |0.21177425829288765  |\n",
            "|BITE           |23315              |110196        |0.2115775527242368   |\n",
            "|MAKE           |23315              |110196        |0.2115775527242368   |\n",
            "|DISCOV         |23035              |109615        |0.21014459699858595  |\n",
            "|TDC            |23035              |109615        |0.21014459699858595  |\n",
            "|HGTV           |22970              |109420        |0.20992505940413086  |\n",
            "|TRV            |22995              |109713        |0.20959229990976458  |\n",
            "|TRAVEL         |22995              |109713        |0.20959229990976458  |\n",
            "|HIST           |22883              |109288        |0.20938254886172317  |\n",
            "|HISTO          |22883              |109288        |0.20938254886172317  |\n",
            "|HISTORY        |22883              |109288        |0.20938254886172317  |\n",
            "|COSMO          |22864              |109263        |0.20925656443626844  |\n",
            "|DEJA           |22865              |109325        |0.2091470386462383   |\n",
            "|ANIMAL         |22860              |109445        |0.20887203618255745  |\n",
            "|APL            |22860              |109445        |0.20887203618255745  |\n",
            "|SPARK          |22725              |109425        |0.20767649074708705  |\n",
            "|CASA           |22622              |109022        |0.2074994037900607   |\n",
            "|IDM            |22622              |109022        |0.2074994037900607   |\n",
            "|CI             |22567              |108982        |0.20707089244095356  |\n",
            "|13ST           |22567              |108982        |0.20707089244095356  |\n",
            "|CMT            |22542              |108942        |0.20691744230875145  |\n",
            "|HISTORIA       |22475              |109109        |0.20598667387658212  |\n",
            "|CHISTO         |22475              |109109        |0.20598667387658212  |\n",
            "|LIFE           |22411              |108901        |0.20579241696586809  |\n",
            "|SLICE          |22411              |108901        |0.20579241696586809  |\n",
            "|LIFENT         |22411              |108901        |0.20579241696586809  |\n",
            "|FXX            |22445              |109220        |0.20550265519135688  |\n",
            "|BRAVO          |22370              |108920        |0.20538009548292324  |\n",
            "|BRAVO!         |22370              |108920        |0.20538009548292324  |\n",
            "|ADIK           |22261              |108661        |0.2048665114438483   |\n",
            "|MYST           |22261              |108661        |0.2048665114438483   |\n",
            "|TVADIK         |22261              |108661        |0.2048665114438483   |\n",
            "|SERIEP         |22230              |108896        |0.20413972965030855  |\n",
            "|NGWILD         |22160              |108667        |0.2039257548289729   |\n",
            "|COMEDY         |22140              |108600        |0.20386740331491712  |\n",
            "|TCN            |22140              |108600        |0.20386740331491712  |\n",
            "|DISCIV         |22150              |108730        |0.20371562586222752  |\n",
            "|DISSCI         |22150              |108730        |0.20371562586222752  |\n",
            "|CIV            |22150              |108730        |0.20371562586222752  |\n",
            "|COURT          |22140              |108730        |0.2036236549250437   |\n",
            "|INVDIS         |22140              |108730        |0.2036236549250437   |\n",
            "|ARTV           |22059              |108519        |0.2032731595388826   |\n",
            "|DISVEL         |22040              |108645        |0.2028625339408164   |\n",
            "|DTHEA          |22040              |108645        |0.2028625339408164   |\n",
            "|SHOWCASE       |22027              |108662        |0.2027111593749425   |\n",
            "|SHOWC          |22027              |108662        |0.2027111593749425   |\n",
            "|SHOW           |22027              |108662        |0.2027111593749425   |\n",
            "|CONNECT        |21840              |108330        |0.20160620326779286  |\n",
            "|MTV            |21840              |108330        |0.20160620326779286  |\n",
            "|RAZER          |21840              |108330        |0.20160620326779286  |\n",
            "|CCAN           |21870              |108568        |0.20144057180753078  |\n",
            "|BOLD           |21870              |108568        |0.20144057180753078  |\n",
            "|COTT           |21870              |108568        |0.20144057180753078  |\n",
            "|COMGLD         |21645              |108135        |0.20016645859342488  |\n",
            "|TVLAND         |21645              |108135        |0.20016645859342488  |\n",
            "|EXP            |21521              |107951        |0.19935896842085762  |\n",
            "|MMM            |21445              |107935        |0.1986843933849076   |\n",
            "|GUS            |21445              |107935        |0.1986843933849076   |\n",
            "|MLLE           |21315              |107715        |0.19788330316111963  |\n",
            "|MOICIE         |21315              |107715        |0.19788330316111963  |\n",
            "|CFEM           |18650              |94580         |0.19718756608162402  |\n",
            "|SPACE          |21175              |107695        |0.19662008449788757  |\n",
            "|TALKTV         |21065              |107585        |0.19579867081842264  |\n",
            "|MTV1           |21065              |107585        |0.19579867081842264  |\n",
            "|ZEST           |21090              |107945        |0.19537727546435685  |\n",
            "|MUCH           |20930              |107510        |0.1946795646916566   |\n",
            "|MUCHM          |20930              |107510        |0.1946795646916566   |\n",
            "|MUCHMUSIC      |20930              |107510        |0.1946795646916566   |\n",
            "|CKWS           |18705              |96289         |0.19425894962041354  |\n",
            "|CKWS1          |18702              |96287         |0.19423182776491116  |\n",
            "|ATN3           |20745              |107267        |0.19339591859565383  |\n",
            "|CHOT           |18047              |94017         |0.19195464650010105  |\n",
            "|NGCE           |20390              |107031        |0.19050555446552866  |\n",
            "|CEVASI         |20415              |107180        |0.19047396902407165  |\n",
            "|LCE            |20415              |107180        |0.19047396902407165  |\n",
            "|NEWSW          |19592              |106082        |0.18468731735827001  |\n",
            "|RDI            |19500              |105900        |0.18413597733711048  |\n",
            "|BOOK           |19305              |105885        |0.18232044198895028  |\n",
            "|PRIS           |19145              |105545        |0.1813918233928656   |\n",
            "|CFJC           |17140              |95170         |0.180098770620994    |\n",
            "|FIGHT          |18745              |104229        |0.1798443811223364   |\n",
            "|CTVN1          |18910              |105310        |0.17956509353337766  |\n",
            "|CTVNC          |18910              |105310        |0.17956509353337766  |\n",
            "|NEWSNET        |18910              |105310        |0.17956509353337766  |\n",
            "|NEWS1          |18910              |105310        |0.17956509353337766  |\n",
            "|SCOPEM         |18866              |105447        |0.17891452578072398  |\n",
            "|SN360          |18866              |105447        |0.17891452578072398  |\n",
            "|SCORE          |18866              |105447        |0.17891452578072398  |\n",
            "|TSN5           |18506              |104996        |0.17625433349841899  |\n",
            "|TSN3           |18240              |104730        |0.17416213119450014  |\n",
            "|TRESR          |18355              |105394        |0.17415602406209083  |\n",
            "|HIFI           |18355              |105394        |0.17415602406209083  |\n",
            "|TSN            |17930              |104390        |0.17175974710221287  |\n",
            "|YTV            |17939              |104672        |0.17138298685417303  |\n",
            "|SPTVA2         |17732              |104132        |0.17028387047209312  |\n",
            "|SPRTVA         |17717              |104117        |0.17016433435462028  |\n",
            "|CKPG           |17020              |100070        |0.17008094333966223  |\n",
            "|BNN            |17702              |104162        |0.16994681361725006  |\n",
            "|ROBTV          |17702              |104162        |0.16994681361725006  |\n",
            "|SATV           |17772              |104877        |0.16945564804485255  |\n",
            "|ABORIH         |18000              |106223        |0.16945482616759083  |\n",
            "|TOON           |17691              |104466        |0.16934696456263282  |\n",
            "|TELETOON       |17691              |104466        |0.16934696456263282  |\n",
            "|DSNYXD         |17722              |104682        |0.16929367035402457  |\n",
            "|TSN1           |17569              |104059        |0.1688369098300003   |\n",
            "|TOONR          |17636              |104776        |0.1683209895395892   |\n",
            "|CARTN          |17636              |104776        |0.1683209895395892   |\n",
            "|ABORIW         |17771              |105846        |0.1678948661262589   |\n",
            "|ABORI          |17730              |105784        |0.16760568706042503  |\n",
            "|PULSE 24       |17395              |103860        |0.1674850760639322   |\n",
            "|CPTF           |17395              |103860        |0.1674850760639322   |\n",
            "|CP24           |17395              |103860        |0.1674850760639322   |\n",
            "|ABORIN         |17635              |105300        |0.1674738841405508   |\n",
            "|LCN            |17380              |103780        |0.16746964733089229  |\n",
            "|CANALN         |17380              |103780        |0.16746964733089229  |\n",
            "|CHSJ           |17349              |103809        |0.1671242377828512   |\n",
            "|CBAT           |17349              |103809        |0.1671242377828512   |\n",
            "|CBNT           |17349              |103809        |0.1671242377828512   |\n",
            "|CBHT           |17319              |103779        |0.16688347353510827  |\n",
            "|CBCT           |17319              |103779        |0.16688347353510827  |\n",
            "|CBUT           |17290              |103750        |0.16665060240963855  |\n",
            "|CBRT           |17290              |103750        |0.16665060240963855  |\n",
            "|CBXT           |17290              |103810        |0.1665542818610924   |\n",
            "|CBOT           |17272              |103732        |0.16650599622103113  |\n",
            "|CBLT           |17205              |103665        |0.16596729850962233  |\n",
            "|CBET           |17205              |103665        |0.16596729850962233  |\n",
            "|EQTR           |17235              |103894        |0.16589023427724411  |\n",
            "|EQHD           |17235              |103894        |0.16589023427724411  |\n",
            "|EQUAT          |17235              |103894        |0.16589023427724411  |\n",
            "|SMITH          |17235              |103894        |0.16589023427724411  |\n",
            "|CBMT           |17145              |103605        |0.1654842912986825   |\n",
            "|BLC            |17280              |104721        |0.16500988340447476  |\n",
            "|BBCEARTH       |17041              |103685        |0.16435357091189662  |\n",
            "|RADX           |17041              |103685        |0.16435357091189662  |\n",
            "|BBCEAR         |17041              |103685        |0.16435357091189662  |\n",
            "|RUSH           |17041              |103685        |0.16435357091189662  |\n",
            "|BBCE           |17041              |103685        |0.16435357091189662  |\n",
            "|CBKT           |16950              |103410        |0.16391064693936758  |\n",
            "|CKSA           |16877              |103387        |0.16324102643465813  |\n",
            "|TLTOON         |16890              |103498        |0.1631915592571837   |\n",
            "|TLTOO          |16890              |103498        |0.1631915592571837   |\n",
            "|CBWT           |16647              |103107        |0.16145363554365852  |\n",
            "|RDS            |16750              |103855        |0.16128255741177602  |\n",
            "|CFYK           |16645              |103285        |0.16115602459214795  |\n",
            "|SNWST          |16783              |104278        |0.16094478221676672  |\n",
            "|WILD           |17309              |107721        |0.16068361786466892  |\n",
            "|CSCN           |16468              |103091        |0.1597423635428893   |\n",
            "|DSNYEN         |16479              |103184        |0.15970499302217397  |\n",
            "|TSN2           |16407              |102987        |0.15931136939613738  |\n",
            "|RDSINF         |16380              |103200        |0.15872093023255815  |\n",
            "|RIS            |16380              |103200        |0.15872093023255815  |\n",
            "|SNPAC          |16538              |104258        |0.15862571697135952  |\n",
            "|S3             |16513              |104235        |0.15842087590540604  |\n",
            "|SNEST          |16513              |104235        |0.15842087590540604  |\n",
            "|CJEO           |16728              |105746        |0.15819038072362074  |\n",
            "|SNONT          |16467              |104235        |0.15797956540509425  |\n",
            "|CJCO           |16672              |106174        |0.15702526042157214  |\n",
            "|OMAB           |16672              |106174        |0.15702526042157214  |\n",
            "|RDS2           |16180              |103240        |0.1567222006974041   |\n",
            "|CJMT           |16408              |105811        |0.15506894368260388  |\n",
            "|OMNI.2         |16408              |105811        |0.15506894368260388  |\n",
            "|FNTSY          |15898              |102545        |0.15503437515237212  |\n",
            "|ATN1           |15859              |102442        |0.1548095507701919   |\n",
            "|CJON           |16030              |104555        |0.15331643632537897  |\n",
            "|AUX            |15660              |102166        |0.15327995614979542  |\n",
            "|ASIDE          |15660              |102166        |0.15327995614979542  |\n",
            "|OMON           |16079              |105457        |0.15246972699773367  |\n",
            "|DOCS           |15610              |102460        |0.15235213741948078  |\n",
            "|ESPN           |15445              |101965        |0.15147354484381895  |\n",
            "|CHNM           |16016              |105845        |0.15131560300439323  |\n",
            "|OMBC           |16016              |105845        |0.15131560300439323  |\n",
            "|CBVT           |14948              |101348        |0.14749181039586376  |\n",
            "|CBOFT          |14798              |101198        |0.14622818632779305  |\n",
            "|FAMCHA         |12540              |86400         |0.1451388888888889   |\n",
            "|ATN5           |14676              |101181        |0.1450469949891778   |\n",
            "|CBFT           |14648              |101048        |0.14496081070382394  |\n",
            "|OUTTV          |14195              |99859         |0.14215043210927408  |\n",
            "|PRIDE          |14195              |99859         |0.14215043210927408  |\n",
            "|NICK           |14290              |100935        |0.1415762619507604   |\n",
            "|CBLFT          |14228              |100658        |0.1413499175425699   |\n",
            "|CKTM           |14018              |100418        |0.13959648668565397  |\n",
            "|CKSH           |14018              |100418        |0.13959648668565397  |\n",
            "|CBKFTT         |14018              |100448        |0.13955479452054795  |\n",
            "|CBUFT          |14018              |100448        |0.13955479452054795  |\n",
            "|CBXFT          |14018              |100448        |0.13955479452054795  |\n",
            "|CBKFT          |14018              |100448        |0.13955479452054795  |\n",
            "|CBWFT          |14018              |100448        |0.13955479452054795  |\n",
            "|CJBRT          |13958              |100418        |0.13899898424585233  |\n",
            "|CKTV           |13838              |100418        |0.13780397936624908  |\n",
            "|CKRS           |13838              |100418        |0.13780397936624908  |\n",
            "|CBAFT          |13839              |100479        |0.13773027199713372  |\n",
            "|BC1            |13898              |100958        |0.13766120564987422  |\n",
            "|CHFD           |13435              |98125         |0.1369171974522293   |\n",
            "|CISF           |1960               |14439         |0.13574347253964955  |\n",
            "|TFO            |1960               |14439         |0.13574347253964955  |\n",
            "|CHLF           |1960               |14439         |0.13574347253964955  |\n",
            "|ATN9           |13312              |99792         |0.13339746673080005  |\n",
            "|CHMG           |12748              |96870         |0.1315990502735625   |\n",
            "|CKPR           |12165              |94965         |0.12809982625177696  |\n",
            "|ATN2           |12675              |99335         |0.12759853022600293  |\n",
            "|CFHD           |13103              |103223        |0.12693876364763668  |\n",
            "|OMQC           |13103              |103223        |0.12693876364763668  |\n",
            "|ATN10          |12397              |98866         |0.12539194465235773  |\n",
            "|CBCNW          |12275              |98735         |0.12432268192636856  |\n",
            "|CBC            |12275              |98735         |0.12432268192636856  |\n",
            "|SCSD04         |10600              |86400         |0.12268518518518519  |\n",
            "|CITS           |11940              |98727         |0.12093956060652102  |\n",
            "|DSNYRF         |11595              |98312         |0.11794084140288062  |\n",
            "|DSNYFR         |11595              |98312         |0.11794084140288062  |\n",
            "|TOONRF         |11595              |98312         |0.11794084140288062  |\n",
            "|FACHV2         |11040              |97848         |0.1128280598479274   |\n",
            "|ATN6           |10721              |97121         |0.110388072610455    |\n",
            "|CKCS           |10372              |97158         |0.10675394717882213  |\n",
            "|CKES           |10197              |97019         |0.10510312413032499  |\n",
            "|FTV            |9754               |94841         |0.10284581562826203  |\n",
            "|FFTV           |9754               |94841         |0.10284581562826203  |\n",
            "|FCTV           |9754               |94841         |0.10284581562826203  |\n",
            "|FACHTV         |9754               |94841         |0.10284581562826203  |\n",
            "|FACHV          |9754               |94841         |0.10284581562826203  |\n",
            "|SCSD01         |8872               |86400         |0.10268518518518518  |\n",
            "|SRC            |9248               |95648         |0.09668785547005687  |\n",
            "|TAC            |9461               |98293         |0.0962530393822551   |\n",
            "|AMITV          |9461               |98293         |0.0962530393822551   |\n",
            "|CITL           |9130               |95687         |0.09541526017118312  |\n",
            "|FPTV           |8799               |95285         |0.09234402056986935  |\n",
            "|AMIFR          |8837               |96120         |0.09193716188098211  |\n",
            "|ATN7           |8451               |94995         |0.08896257697773567  |\n",
            "|CKNO           |7926               |96123         |0.08245685215817235  |\n",
            "|CATHAY         |7588               |92687         |0.08186692847972207  |\n",
            "|TTV            |7588               |92687         |0.08186692847972207  |\n",
            "|TALENT         |7588               |92687         |0.08186692847972207  |\n",
            "|DXDCHA         |7808               |95431         |0.08181827707977492  |\n",
            "|CHRGD          |7808               |95431         |0.08181827707977492  |\n",
            "|SALT           |6852               |93541         |0.07325130156829626  |\n",
            "|YOOP           |6584               |92984         |0.07080788092575066  |\n",
            "|OASIS          |6125               |92847         |0.06596874427822116  |\n",
            "|NATUR          |6125               |92847         |0.06596874427822116  |\n",
            "|SN2            |6095               |92495         |0.06589545380831396  |\n",
            "|PHDCHA         |5438               |86400         |0.06293981481481481  |\n",
            "|FAMJR          |5438               |86400         |0.06293981481481481  |\n",
            "|THTV           |5478               |92253         |0.059380182758284286 |\n",
            "|TREEHOUSE      |5478               |92253         |0.059380182758284286 |\n",
            "|DSNYJR         |4917               |91602         |0.0536778672954739   |\n",
            "|SE04           |4431               |86400         |0.051284722222222225 |\n",
            "|MVOLA          |4320               |91851         |0.04703269425482575  |\n",
            "|TCC            |4281               |91081         |0.04700211899298427  |\n",
            "|NEOCRI         |4246               |90646         |0.0468415594731152   |\n",
            "|MAGINO         |4018               |91221         |0.04404687517128731  |\n",
            "|PHDF           |4018               |91221         |0.04404687517128731  |\n",
            "|SCSD03         |3740               |86400         |0.043287037037037034 |\n",
            "|BBCKID         |3689               |92104         |0.040052549292104576 |\n",
            "|SE03           |3453               |86400         |0.03996527777777778  |\n",
            "|TMN2           |3393               |86400         |0.03927083333333333  |\n",
            "|TMN4           |3386               |86400         |0.039189814814814816 |\n",
            "|SCSD02         |3279               |86400         |0.03795138888888889  |\n",
            "|TVO            |3383               |90140         |0.037530508098513424 |\n",
            "|CICA           |3383               |90140         |0.037530508098513424 |\n",
            "|ZEETV          |3345               |89971         |0.037178646452745885 |\n",
            "|TMN3           |3062               |86400         |0.03543981481481481  |\n",
            "|MPIX2          |2951               |86400         |0.03415509259259259  |\n",
            "|SLVSC          |3060               |89722         |0.034105347629343974 |\n",
            "|MOVIEP         |2798               |86400         |0.03238425925925926  |\n",
            "|MOVPIX         |2798               |86400         |0.03238425925925926  |\n",
            "|SE02           |2477               |86400         |0.028668981481481483 |\n",
            "|70SM           |2555               |89326         |0.028603094283859123 |\n",
            "|WARNER         |2555               |89326         |0.028603094283859123 |\n",
            "|2000SM         |2506               |89311         |0.02805925361937499  |\n",
            "|SMC            |2506               |89311         |0.02805925361937499  |\n",
            "|HFEST          |2506               |89311         |0.02805925361937499  |\n",
            "|TMN1           |2393               |86400         |0.027696759259259258 |\n",
            "|PREM CHOIX     |2278               |86400         |0.02636574074074074  |\n",
            "|PCTVEC         |2278               |86400         |0.02636574074074074  |\n",
            "|SE01           |2278               |86400         |0.02636574074074074  |\n",
            "|SUPER�CRAN     |2278               |86400         |0.02636574074074074  |\n",
            "|CPOP           |1777               |86400         |0.02056712962962963  |\n",
            "|ATN8           |1623               |88153         |0.01841117148593922  |\n",
            "|HSTORM         |1607               |88372         |0.018184492825781922 |\n",
            "|AXN            |1607               |88372         |0.018184492825781922 |\n",
            "|90SM           |1607               |88372         |0.018184492825781922 |\n",
            "|80SM           |1588               |88352         |0.017973560304237596 |\n",
            "|MGM            |1588               |88352         |0.017973560304237596 |\n",
            "|SAB            |616                |87207         |0.00706365314710975  |\n",
            "|IDNR           |297                |86530         |0.0034323356061481567|\n",
            "|OTN1           |240                |86730         |0.002767208578346593 |\n",
            "|CFTF           |0                  |1805          |0.0                  |\n",
            "|CFTV           |0                  |102           |0.0                  |\n",
            "|CKRT           |0                  |14400         |0.0                  |\n",
            "|ATN13          |0                  |86400         |0.0                  |\n",
            "|SKIN           |0                  |86400         |0.0                  |\n",
            "|SNONE          |0                  |1800          |0.0                  |\n",
            "|TIMESN         |0                  |86400         |0.0                  |\n",
            "|OTN3           |0                  |86400         |0.0                  |\n",
            "|PLAY           |0                  |86400         |0.0                  |\n",
            "|PENT           |0                  |86400         |0.0                  |\n",
            "|ATN11          |0                  |86400         |0.0                  |\n",
            "|ATN14          |0                  |86400         |0.0                  |\n",
            "|TENCH2         |0                  |86400         |0.0                  |\n",
            "|ZOOM           |0                  |86400         |0.0                  |\n",
            "|HARD           |0                  |86400         |0.0                  |\n",
            "|EURO           |0                  |NULL          |NULL                 |\n",
            "|NINOS          |0                  |NULL          |NULL                 |\n",
            "+---------------+-------------------+--------------+---------------------+\n",
            "\n"
          ]
        }
      ]
    },
    {
      "cell_type": "code",
      "source": [
        "answer_no_null = answer.dropna(subset=[\"commercial_ratio\"])"
      ],
      "metadata": {
        "id": "QaYqJqvdjhkJ"
      },
      "execution_count": 62,
      "outputs": []
    },
    {
      "cell_type": "code",
      "source": [
        "answer_no_null.orderBy(\n",
        "    \"commercial_ratio\", ascending=False).show(1000, False)"
      ],
      "metadata": {
        "colab": {
          "base_uri": "https://localhost:8080/"
        },
        "id": "EzEfAaOqjhOm",
        "outputId": "41a26e28-d882-4c5d-e9ff-f67f1e627f11"
      },
      "execution_count": 63,
      "outputs": [
        {
          "output_type": "stream",
          "name": "stdout",
          "text": [
            "+---------------+-------------------+--------------+---------------------+\n",
            "|LogIdentifierID|duration_commercial|duration_total|commercial_ratio     |\n",
            "+---------------+-------------------+--------------+---------------------+\n",
            "|CIMT           |775                |775           |1.0                  |\n",
            "|TLNSP          |15480              |15480         |1.0                  |\n",
            "|TELENO         |17790              |17790         |1.0                  |\n",
            "|MSET           |2700               |2700          |1.0                  |\n",
            "|TRN            |13                 |13            |1.0                  |\n",
            "|HPITV          |13                 |13            |1.0                  |\n",
            "|TANG           |8125               |8125          |1.0                  |\n",
            "|MUSIMAX        |23333              |23582         |0.9894410991434145   |\n",
            "|MMAX           |23333              |23582         |0.9894410991434145   |\n",
            "|MUSIP          |20587              |20912         |0.9844586840091814   |\n",
            "|MPLU           |20587              |20912         |0.9844586840091814   |\n",
            "|MUSIQUE PL     |20587              |20912         |0.9844586840091814   |\n",
            "|INVST          |20094              |20470         |0.9816316560820714   |\n",
            "|CANZ           |21542              |21965         |0.9807420896881403   |\n",
            "|ZT�L�          |21542              |21965         |0.9807420896881403   |\n",
            "|CANALZ         |21542              |21965         |0.9807420896881403   |\n",
            "|RAPT           |17916              |18279         |0.9801411455768915   |\n",
            "|CANALD         |21437              |21875         |0.9799771428571429   |\n",
            "|ONEBMS         |18084              |18522         |0.9763524457402009   |\n",
            "|CANALVIE       |20780              |21309         |0.975174808766249    |\n",
            "|CVIE           |20780              |21309         |0.975174808766249    |\n",
            "|unis           |11630              |11998         |0.9693282213702283   |\n",
            "|CIVM           |11370              |11802         |0.9633960345704118   |\n",
            "|TV5            |10759              |11220         |0.9589126559714795   |\n",
            "|LEAF           |11526              |12034         |0.9577862722286854   |\n",
            "|VISION         |12946              |13621         |0.950444167094927    |\n",
            "|CJIL           |3904               |4213          |0.9266555898409684   |\n",
            "|CFRS           |15988              |17789         |0.8987576592276125   |\n",
            "|CFAP           |15880              |17681         |0.8981392455177875   |\n",
            "|RURAL          |2220               |2550          |0.8705882352941177   |\n",
            "|CHNU           |4224               |4921          |0.8583621215200162   |\n",
            "|CIIT           |2942               |3596          |0.818131256952169    |\n",
            "|CFKM           |15976              |19582         |0.8158512920028598   |\n",
            "|CFKS           |15975              |19581         |0.8158418875440479   |\n",
            "|V              |15949              |19557         |0.8155136268343816   |\n",
            "|TQS            |15949              |19557         |0.8155136268343816   |\n",
            "|CFJP           |15925              |19533         |0.8152869502892541   |\n",
            "|CFTU           |3975               |7619          |0.5217220107625673   |\n",
            "|CHEK           |46287              |100372        |0.46115450524050533  |\n",
            "|VRAK           |15900              |38050         |0.4178712220762155   |\n",
            "|CANALF         |15900              |38050         |0.4178712220762155   |\n",
            "|CKVR           |40641              |105861        |0.3839090883328138   |\n",
            "|CHAU           |1080               |2880          |0.375                |\n",
            "|CHWI           |36996              |105816        |0.3496257654797006   |\n",
            "|CFPL           |36796              |105616        |0.348394182699591    |\n",
            "|CIVI           |36570              |105330        |0.34719453147251494  |\n",
            "|CESS           |35590              |105700        |0.33670766319772943  |\n",
            "|ACCESS         |35590              |105700        |0.33670766319772943  |\n",
            "|CFGS           |30000              |91500         |0.32786885245901637  |\n",
            "|CHRO           |35000              |107345        |0.32605151613955     |\n",
            "|CFVS           |29655              |91130         |0.3254142433885658   |\n",
            "|ASN            |34590              |106920        |0.3235129068462402   |\n",
            "|CHAT           |29415              |92665         |0.3174337667943668   |\n",
            "|CFTM           |30162              |105732        |0.2852684144818976   |\n",
            "|CJCB           |30440              |107990        |0.28187795166219093  |\n",
            "|CFTO           |30423              |108003        |0.2816866198161162   |\n",
            "|CKLT           |30410              |107990        |0.28160014816186685  |\n",
            "|CKCW           |30410              |107990        |0.28160014816186685  |\n",
            "|CJCH           |30365              |107930        |0.2813397572500695   |\n",
            "|CJOH           |30408              |108093        |0.2813133135355666   |\n",
            "|CHBX           |30352              |108007        |0.28101882285407426  |\n",
            "|CFCF           |30298              |107878        |0.28085429837408926  |\n",
            "|CKNY           |30327              |107982        |0.28085236428293603  |\n",
            "|CITO           |30317              |107972        |0.2807857592709221   |\n",
            "|CICI           |30321              |108036        |0.2806564478507164   |\n",
            "|CKY            |30089              |107669        |0.27945833991213814  |\n",
            "|CKCO           |30153              |107928        |0.2793806982432733   |\n",
            "|CKCK           |30125              |107856        |0.27930759531226823  |\n",
            "|CFQC           |30075              |107986        |0.2785083251532606   |\n",
            "|CFCM           |29364              |105894        |0.2772961640886169   |\n",
            "|CIPA           |29756              |107742        |0.27617827773755826  |\n",
            "|CHLT           |29156              |105686        |0.27587381488560453  |\n",
            "|CJPM           |29125              |105655        |0.27566135062230845  |\n",
            "|CHEM           |29096              |105626        |0.2754624808285839   |\n",
            "|CFER           |29026              |105556        |0.27498200007578916  |\n",
            "|CICC           |29305              |107731        |0.2720201241982345   |\n",
            "|CFTK           |24765              |91785         |0.26981532930217356  |\n",
            "|CIVT           |28851              |108232        |0.26656626506024095  |\n",
            "|CITY           |28987              |112061        |0.2586716163518084   |\n",
            "|CIHF           |27209              |108224        |0.25141373447664106  |\n",
            "|CIHF2          |27196              |108251        |0.25123093551098835  |\n",
            "|CHNB2          |27196              |108251        |0.25123093551098835  |\n",
            "|CFCNTV5        |27239              |108434        |0.2512034970581183   |\n",
            "|CFCNL          |27239              |108434        |0.2512034970581183   |\n",
            "|CFCN           |27199              |108424        |0.2508577436729875   |\n",
            "|CFRN6          |27275              |108740        |0.25082766231377596  |\n",
            "|CFRE           |27064              |108109        |0.2503399346955388   |\n",
            "|CFMT           |25645              |102688        |0.24973706762231224  |\n",
            "|CFRN           |27034              |108409        |0.24937043972363918  |\n",
            "|CKMI           |26917              |107956        |0.2493330616176961   |\n",
            "|CFSK           |26869              |108069        |0.24862819124818403  |\n",
            "|GLOBAL         |26802              |107812        |0.2485994137943828   |\n",
            "|CIII           |26802              |107812        |0.2485994137943828   |\n",
            "|DORAGI         |5736               |23126         |0.2480325175127562   |\n",
            "|ALLTV          |5736               |23126         |0.2480325175127562   |\n",
            "|GAME           |26155              |107889        |0.24242508504110707  |\n",
            "|CGTV           |26155              |107889        |0.24242508504110707  |\n",
            "|OUTDR          |26387              |109607        |0.2407419234173      |\n",
            "|OUTDOOR        |26387              |109607        |0.2407419234173      |\n",
            "|OLN            |26387              |109607        |0.2407419234173      |\n",
            "|CKND           |25651              |107971        |0.23757305202322845  |\n",
            "|CKVU           |26647              |113367        |0.23505076433177202  |\n",
            "|CHMI           |26627              |113305        |0.23500286836414985  |\n",
            "|CKEM           |26565              |113308        |0.23444946517456844  |\n",
            "|CKAL           |26548              |113368        |0.23417542869239996  |\n",
            "|CHBC           |25185              |108000        |0.23319444444444445  |\n",
            "|CJDC           |21270              |91470         |0.23253525746146278  |\n",
            "|DIY            |26147              |112587        |0.23223818025171644  |\n",
            "|CHAN           |25018              |107938        |0.23178120773036373  |\n",
            "|CJNT           |26130              |112904        |0.23143555587047404  |\n",
            "|WTN            |24576              |107500        |0.2286139534883721   |\n",
            "|W              |24576              |107500        |0.2286139534883721   |\n",
            "|COOK           |25161              |111561        |0.2255358055234356   |\n",
            "|WMOV           |25161              |111561        |0.2255358055234356   |\n",
            "|SEXTV          |25161              |111561        |0.2255358055234356   |\n",
            "|FASH           |24800              |111320        |0.22278117139777218  |\n",
            "|CHCH           |23795              |106997        |0.22238941278727442  |\n",
            "|WFNHD          |24600              |111498        |0.2206317602109455   |\n",
            "|WFN            |24600              |111498        |0.2206317602109455   |\n",
            "|FOOD           |24479              |111088        |0.22035683422151808  |\n",
            "|FYI            |24369              |110769        |0.21999837499661457  |\n",
            "|HEALTH         |24369              |110769        |0.21999837499661457  |\n",
            "|BBCCND         |24173              |110578        |0.21860587096890882  |\n",
            "|CFACL          |23696              |108521        |0.21835405128961216  |\n",
            "|CISA           |23696              |108521        |0.21835405128961216  |\n",
            "|CITV           |23542              |108442        |0.2170930082440383   |\n",
            "|PRIMETV        |24059              |110971        |0.21680439033621396  |\n",
            "|TVTROPLIS      |24059              |110971        |0.21680439033621396  |\n",
            "|DTOUR          |24059              |110971        |0.21680439033621396  |\n",
            "|PRIM           |24059              |110971        |0.21680439033621396  |\n",
            "|PRIME          |24059              |110971        |0.21680439033621396  |\n",
            "|CICT           |23484              |108398        |0.21664606358050886  |\n",
            "|CHEX2          |20596              |95654         |0.21531770757103727  |\n",
            "|CHX2           |20596              |95654         |0.21531770757103727  |\n",
            "|CHEX02         |20596              |95654         |0.21531770757103727  |\n",
            "|CHEX           |20842              |97329         |0.21413967060177336  |\n",
            "|DIVA           |23453              |109961        |0.21328471003355734  |\n",
            "|CAVE           |23410              |109990        |0.2128375306846077   |\n",
            "|MENTV          |23410              |109990        |0.2128375306846077   |\n",
            "|FXC            |23449              |110414        |0.21237343090550112  |\n",
            "|E!             |23255              |109745        |0.21190031436511914  |\n",
            "|STAR           |23255              |109745        |0.21190031436511914  |\n",
            "|STAR!          |23255              |109745        |0.21190031436511914  |\n",
            "|OWN            |23213              |109612        |0.21177425829288765  |\n",
            "|CLT            |23213              |109612        |0.21177425829288765  |\n",
            "|VIVA           |23213              |109612        |0.21177425829288765  |\n",
            "|BITE           |23315              |110196        |0.2115775527242368   |\n",
            "|MAKE           |23315              |110196        |0.2115775527242368   |\n",
            "|DISCOV         |23035              |109615        |0.21014459699858595  |\n",
            "|TDC            |23035              |109615        |0.21014459699858595  |\n",
            "|HGTV           |22970              |109420        |0.20992505940413086  |\n",
            "|TRV            |22995              |109713        |0.20959229990976458  |\n",
            "|TRAVEL         |22995              |109713        |0.20959229990976458  |\n",
            "|HIST           |22883              |109288        |0.20938254886172317  |\n",
            "|HISTO          |22883              |109288        |0.20938254886172317  |\n",
            "|HISTORY        |22883              |109288        |0.20938254886172317  |\n",
            "|COSMO          |22864              |109263        |0.20925656443626844  |\n",
            "|DEJA           |22865              |109325        |0.2091470386462383   |\n",
            "|ANIMAL         |22860              |109445        |0.20887203618255745  |\n",
            "|APL            |22860              |109445        |0.20887203618255745  |\n",
            "|SPARK          |22725              |109425        |0.20767649074708705  |\n",
            "|CASA           |22622              |109022        |0.2074994037900607   |\n",
            "|IDM            |22622              |109022        |0.2074994037900607   |\n",
            "|CI             |22567              |108982        |0.20707089244095356  |\n",
            "|13ST           |22567              |108982        |0.20707089244095356  |\n",
            "|CMT            |22542              |108942        |0.20691744230875145  |\n",
            "|HISTORIA       |22475              |109109        |0.20598667387658212  |\n",
            "|CHISTO         |22475              |109109        |0.20598667387658212  |\n",
            "|LIFE           |22411              |108901        |0.20579241696586809  |\n",
            "|SLICE          |22411              |108901        |0.20579241696586809  |\n",
            "|LIFENT         |22411              |108901        |0.20579241696586809  |\n",
            "|FXX            |22445              |109220        |0.20550265519135688  |\n",
            "|BRAVO          |22370              |108920        |0.20538009548292324  |\n",
            "|BRAVO!         |22370              |108920        |0.20538009548292324  |\n",
            "|ADIK           |22261              |108661        |0.2048665114438483   |\n",
            "|MYST           |22261              |108661        |0.2048665114438483   |\n",
            "|TVADIK         |22261              |108661        |0.2048665114438483   |\n",
            "|SERIEP         |22230              |108896        |0.20413972965030855  |\n",
            "|NGWILD         |22160              |108667        |0.2039257548289729   |\n",
            "|COMEDY         |22140              |108600        |0.20386740331491712  |\n",
            "|TCN            |22140              |108600        |0.20386740331491712  |\n",
            "|DISCIV         |22150              |108730        |0.20371562586222752  |\n",
            "|DISSCI         |22150              |108730        |0.20371562586222752  |\n",
            "|CIV            |22150              |108730        |0.20371562586222752  |\n",
            "|COURT          |22140              |108730        |0.2036236549250437   |\n",
            "|INVDIS         |22140              |108730        |0.2036236549250437   |\n",
            "|ARTV           |22059              |108519        |0.2032731595388826   |\n",
            "|DISVEL         |22040              |108645        |0.2028625339408164   |\n",
            "|DTHEA          |22040              |108645        |0.2028625339408164   |\n",
            "|SHOWCASE       |22027              |108662        |0.2027111593749425   |\n",
            "|SHOWC          |22027              |108662        |0.2027111593749425   |\n",
            "|SHOW           |22027              |108662        |0.2027111593749425   |\n",
            "|CONNECT        |21840              |108330        |0.20160620326779286  |\n",
            "|MTV            |21840              |108330        |0.20160620326779286  |\n",
            "|RAZER          |21840              |108330        |0.20160620326779286  |\n",
            "|CCAN           |21870              |108568        |0.20144057180753078  |\n",
            "|BOLD           |21870              |108568        |0.20144057180753078  |\n",
            "|COTT           |21870              |108568        |0.20144057180753078  |\n",
            "|COMGLD         |21645              |108135        |0.20016645859342488  |\n",
            "|TVLAND         |21645              |108135        |0.20016645859342488  |\n",
            "|EXP            |21521              |107951        |0.19935896842085762  |\n",
            "|MMM            |21445              |107935        |0.1986843933849076   |\n",
            "|GUS            |21445              |107935        |0.1986843933849076   |\n",
            "|MLLE           |21315              |107715        |0.19788330316111963  |\n",
            "|MOICIE         |21315              |107715        |0.19788330316111963  |\n",
            "|CFEM           |18650              |94580         |0.19718756608162402  |\n",
            "|SPACE          |21175              |107695        |0.19662008449788757  |\n",
            "|TALKTV         |21065              |107585        |0.19579867081842264  |\n",
            "|MTV1           |21065              |107585        |0.19579867081842264  |\n",
            "|ZEST           |21090              |107945        |0.19537727546435685  |\n",
            "|MUCH           |20930              |107510        |0.1946795646916566   |\n",
            "|MUCHM          |20930              |107510        |0.1946795646916566   |\n",
            "|MUCHMUSIC      |20930              |107510        |0.1946795646916566   |\n",
            "|CKWS           |18705              |96289         |0.19425894962041354  |\n",
            "|CKWS1          |18702              |96287         |0.19423182776491116  |\n",
            "|ATN3           |20745              |107267        |0.19339591859565383  |\n",
            "|CHOT           |18047              |94017         |0.19195464650010105  |\n",
            "|NGCE           |20390              |107031        |0.19050555446552866  |\n",
            "|CEVASI         |20415              |107180        |0.19047396902407165  |\n",
            "|LCE            |20415              |107180        |0.19047396902407165  |\n",
            "|NEWSW          |19592              |106082        |0.18468731735827001  |\n",
            "|RDI            |19500              |105900        |0.18413597733711048  |\n",
            "|BOOK           |19305              |105885        |0.18232044198895028  |\n",
            "|PRIS           |19145              |105545        |0.1813918233928656   |\n",
            "|CFJC           |17140              |95170         |0.180098770620994    |\n",
            "|FIGHT          |18745              |104229        |0.1798443811223364   |\n",
            "|CTVN1          |18910              |105310        |0.17956509353337766  |\n",
            "|CTVNC          |18910              |105310        |0.17956509353337766  |\n",
            "|NEWSNET        |18910              |105310        |0.17956509353337766  |\n",
            "|NEWS1          |18910              |105310        |0.17956509353337766  |\n",
            "|SCOPEM         |18866              |105447        |0.17891452578072398  |\n",
            "|SN360          |18866              |105447        |0.17891452578072398  |\n",
            "|SCORE          |18866              |105447        |0.17891452578072398  |\n",
            "|TSN5           |18506              |104996        |0.17625433349841899  |\n",
            "|TSN3           |18240              |104730        |0.17416213119450014  |\n",
            "|TRESR          |18355              |105394        |0.17415602406209083  |\n",
            "|HIFI           |18355              |105394        |0.17415602406209083  |\n",
            "|TSN            |17930              |104390        |0.17175974710221287  |\n",
            "|YTV            |17939              |104672        |0.17138298685417303  |\n",
            "|SPTVA2         |17732              |104132        |0.17028387047209312  |\n",
            "|SPRTVA         |17717              |104117        |0.17016433435462028  |\n",
            "|CKPG           |17020              |100070        |0.17008094333966223  |\n",
            "|BNN            |17702              |104162        |0.16994681361725006  |\n",
            "|ROBTV          |17702              |104162        |0.16994681361725006  |\n",
            "|SATV           |17772              |104877        |0.16945564804485255  |\n",
            "|ABORIH         |18000              |106223        |0.16945482616759083  |\n",
            "|TOON           |17691              |104466        |0.16934696456263282  |\n",
            "|TELETOON       |17691              |104466        |0.16934696456263282  |\n",
            "|DSNYXD         |17722              |104682        |0.16929367035402457  |\n",
            "|TSN1           |17569              |104059        |0.1688369098300003   |\n",
            "|TOONR          |17636              |104776        |0.1683209895395892   |\n",
            "|CARTN          |17636              |104776        |0.1683209895395892   |\n",
            "|ABORIW         |17771              |105846        |0.1678948661262589   |\n",
            "|ABORI          |17730              |105784        |0.16760568706042503  |\n",
            "|PULSE 24       |17395              |103860        |0.1674850760639322   |\n",
            "|CPTF           |17395              |103860        |0.1674850760639322   |\n",
            "|CP24           |17395              |103860        |0.1674850760639322   |\n",
            "|ABORIN         |17635              |105300        |0.1674738841405508   |\n",
            "|LCN            |17380              |103780        |0.16746964733089229  |\n",
            "|CANALN         |17380              |103780        |0.16746964733089229  |\n",
            "|CHSJ           |17349              |103809        |0.1671242377828512   |\n",
            "|CBAT           |17349              |103809        |0.1671242377828512   |\n",
            "|CBNT           |17349              |103809        |0.1671242377828512   |\n",
            "|CBHT           |17319              |103779        |0.16688347353510827  |\n",
            "|CBCT           |17319              |103779        |0.16688347353510827  |\n",
            "|CBUT           |17290              |103750        |0.16665060240963855  |\n",
            "|CBRT           |17290              |103750        |0.16665060240963855  |\n",
            "|CBXT           |17290              |103810        |0.1665542818610924   |\n",
            "|CBOT           |17272              |103732        |0.16650599622103113  |\n",
            "|CBLT           |17205              |103665        |0.16596729850962233  |\n",
            "|CBET           |17205              |103665        |0.16596729850962233  |\n",
            "|EQTR           |17235              |103894        |0.16589023427724411  |\n",
            "|EQHD           |17235              |103894        |0.16589023427724411  |\n",
            "|EQUAT          |17235              |103894        |0.16589023427724411  |\n",
            "|SMITH          |17235              |103894        |0.16589023427724411  |\n",
            "|CBMT           |17145              |103605        |0.1654842912986825   |\n",
            "|BLC            |17280              |104721        |0.16500988340447476  |\n",
            "|BBCEARTH       |17041              |103685        |0.16435357091189662  |\n",
            "|RADX           |17041              |103685        |0.16435357091189662  |\n",
            "|BBCEAR         |17041              |103685        |0.16435357091189662  |\n",
            "|RUSH           |17041              |103685        |0.16435357091189662  |\n",
            "|BBCE           |17041              |103685        |0.16435357091189662  |\n",
            "|CBKT           |16950              |103410        |0.16391064693936758  |\n",
            "|CKSA           |16877              |103387        |0.16324102643465813  |\n",
            "|TLTOON         |16890              |103498        |0.1631915592571837   |\n",
            "|TLTOO          |16890              |103498        |0.1631915592571837   |\n",
            "|CBWT           |16647              |103107        |0.16145363554365852  |\n",
            "|RDS            |16750              |103855        |0.16128255741177602  |\n",
            "|CFYK           |16645              |103285        |0.16115602459214795  |\n",
            "|SNWST          |16783              |104278        |0.16094478221676672  |\n",
            "|WILD           |17309              |107721        |0.16068361786466892  |\n",
            "|CSCN           |16468              |103091        |0.1597423635428893   |\n",
            "|DSNYEN         |16479              |103184        |0.15970499302217397  |\n",
            "|TSN2           |16407              |102987        |0.15931136939613738  |\n",
            "|RDSINF         |16380              |103200        |0.15872093023255815  |\n",
            "|RIS            |16380              |103200        |0.15872093023255815  |\n",
            "|SNPAC          |16538              |104258        |0.15862571697135952  |\n",
            "|S3             |16513              |104235        |0.15842087590540604  |\n",
            "|SNEST          |16513              |104235        |0.15842087590540604  |\n",
            "|CJEO           |16728              |105746        |0.15819038072362074  |\n",
            "|SNONT          |16467              |104235        |0.15797956540509425  |\n",
            "|CJCO           |16672              |106174        |0.15702526042157214  |\n",
            "|OMAB           |16672              |106174        |0.15702526042157214  |\n",
            "|RDS2           |16180              |103240        |0.1567222006974041   |\n",
            "|CJMT           |16408              |105811        |0.15506894368260388  |\n",
            "|OMNI.2         |16408              |105811        |0.15506894368260388  |\n",
            "|FNTSY          |15898              |102545        |0.15503437515237212  |\n",
            "|ATN1           |15859              |102442        |0.1548095507701919   |\n",
            "|CJON           |16030              |104555        |0.15331643632537897  |\n",
            "|AUX            |15660              |102166        |0.15327995614979542  |\n",
            "|ASIDE          |15660              |102166        |0.15327995614979542  |\n",
            "|OMON           |16079              |105457        |0.15246972699773367  |\n",
            "|DOCS           |15610              |102460        |0.15235213741948078  |\n",
            "|ESPN           |15445              |101965        |0.15147354484381895  |\n",
            "|CHNM           |16016              |105845        |0.15131560300439323  |\n",
            "|OMBC           |16016              |105845        |0.15131560300439323  |\n",
            "|CBVT           |14948              |101348        |0.14749181039586376  |\n",
            "|CBOFT          |14798              |101198        |0.14622818632779305  |\n",
            "|FAMCHA         |12540              |86400         |0.1451388888888889   |\n",
            "|ATN5           |14676              |101181        |0.1450469949891778   |\n",
            "|CBFT           |14648              |101048        |0.14496081070382394  |\n",
            "|OUTTV          |14195              |99859         |0.14215043210927408  |\n",
            "|PRIDE          |14195              |99859         |0.14215043210927408  |\n",
            "|NICK           |14290              |100935        |0.1415762619507604   |\n",
            "|CBLFT          |14228              |100658        |0.1413499175425699   |\n",
            "|CKTM           |14018              |100418        |0.13959648668565397  |\n",
            "|CKSH           |14018              |100418        |0.13959648668565397  |\n",
            "|CBKFTT         |14018              |100448        |0.13955479452054795  |\n",
            "|CBUFT          |14018              |100448        |0.13955479452054795  |\n",
            "|CBXFT          |14018              |100448        |0.13955479452054795  |\n",
            "|CBKFT          |14018              |100448        |0.13955479452054795  |\n",
            "|CBWFT          |14018              |100448        |0.13955479452054795  |\n",
            "|CJBRT          |13958              |100418        |0.13899898424585233  |\n",
            "|CKTV           |13838              |100418        |0.13780397936624908  |\n",
            "|CKRS           |13838              |100418        |0.13780397936624908  |\n",
            "|CBAFT          |13839              |100479        |0.13773027199713372  |\n",
            "|BC1            |13898              |100958        |0.13766120564987422  |\n",
            "|CHFD           |13435              |98125         |0.1369171974522293   |\n",
            "|CISF           |1960               |14439         |0.13574347253964955  |\n",
            "|TFO            |1960               |14439         |0.13574347253964955  |\n",
            "|CHLF           |1960               |14439         |0.13574347253964955  |\n",
            "|ATN9           |13312              |99792         |0.13339746673080005  |\n",
            "|CHMG           |12748              |96870         |0.1315990502735625   |\n",
            "|CKPR           |12165              |94965         |0.12809982625177696  |\n",
            "|ATN2           |12675              |99335         |0.12759853022600293  |\n",
            "|CFHD           |13103              |103223        |0.12693876364763668  |\n",
            "|OMQC           |13103              |103223        |0.12693876364763668  |\n",
            "|ATN10          |12397              |98866         |0.12539194465235773  |\n",
            "|CBCNW          |12275              |98735         |0.12432268192636856  |\n",
            "|CBC            |12275              |98735         |0.12432268192636856  |\n",
            "|SCSD04         |10600              |86400         |0.12268518518518519  |\n",
            "|CITS           |11940              |98727         |0.12093956060652102  |\n",
            "|DSNYRF         |11595              |98312         |0.11794084140288062  |\n",
            "|DSNYFR         |11595              |98312         |0.11794084140288062  |\n",
            "|TOONRF         |11595              |98312         |0.11794084140288062  |\n",
            "|FACHV2         |11040              |97848         |0.1128280598479274   |\n",
            "|ATN6           |10721              |97121         |0.110388072610455    |\n",
            "|CKCS           |10372              |97158         |0.10675394717882213  |\n",
            "|CKES           |10197              |97019         |0.10510312413032499  |\n",
            "|FTV            |9754               |94841         |0.10284581562826203  |\n",
            "|FFTV           |9754               |94841         |0.10284581562826203  |\n",
            "|FCTV           |9754               |94841         |0.10284581562826203  |\n",
            "|FACHTV         |9754               |94841         |0.10284581562826203  |\n",
            "|FACHV          |9754               |94841         |0.10284581562826203  |\n",
            "|SCSD01         |8872               |86400         |0.10268518518518518  |\n",
            "|SRC            |9248               |95648         |0.09668785547005687  |\n",
            "|TAC            |9461               |98293         |0.0962530393822551   |\n",
            "|AMITV          |9461               |98293         |0.0962530393822551   |\n",
            "|CITL           |9130               |95687         |0.09541526017118312  |\n",
            "|FPTV           |8799               |95285         |0.09234402056986935  |\n",
            "|AMIFR          |8837               |96120         |0.09193716188098211  |\n",
            "|ATN7           |8451               |94995         |0.08896257697773567  |\n",
            "|CKNO           |7926               |96123         |0.08245685215817235  |\n",
            "|CATHAY         |7588               |92687         |0.08186692847972207  |\n",
            "|TTV            |7588               |92687         |0.08186692847972207  |\n",
            "|TALENT         |7588               |92687         |0.08186692847972207  |\n",
            "|DXDCHA         |7808               |95431         |0.08181827707977492  |\n",
            "|CHRGD          |7808               |95431         |0.08181827707977492  |\n",
            "|SALT           |6852               |93541         |0.07325130156829626  |\n",
            "|YOOP           |6584               |92984         |0.07080788092575066  |\n",
            "|OASIS          |6125               |92847         |0.06596874427822116  |\n",
            "|NATUR          |6125               |92847         |0.06596874427822116  |\n",
            "|SN2            |6095               |92495         |0.06589545380831396  |\n",
            "|PHDCHA         |5438               |86400         |0.06293981481481481  |\n",
            "|FAMJR          |5438               |86400         |0.06293981481481481  |\n",
            "|THTV           |5478               |92253         |0.059380182758284286 |\n",
            "|TREEHOUSE      |5478               |92253         |0.059380182758284286 |\n",
            "|DSNYJR         |4917               |91602         |0.0536778672954739   |\n",
            "|SE04           |4431               |86400         |0.051284722222222225 |\n",
            "|MVOLA          |4320               |91851         |0.04703269425482575  |\n",
            "|TCC            |4281               |91081         |0.04700211899298427  |\n",
            "|NEOCRI         |4246               |90646         |0.0468415594731152   |\n",
            "|MAGINO         |4018               |91221         |0.04404687517128731  |\n",
            "|PHDF           |4018               |91221         |0.04404687517128731  |\n",
            "|SCSD03         |3740               |86400         |0.043287037037037034 |\n",
            "|BBCKID         |3689               |92104         |0.040052549292104576 |\n",
            "|SE03           |3453               |86400         |0.03996527777777778  |\n",
            "|TMN2           |3393               |86400         |0.03927083333333333  |\n",
            "|TMN4           |3386               |86400         |0.039189814814814816 |\n",
            "|SCSD02         |3279               |86400         |0.03795138888888889  |\n",
            "|TVO            |3383               |90140         |0.037530508098513424 |\n",
            "|CICA           |3383               |90140         |0.037530508098513424 |\n",
            "|ZEETV          |3345               |89971         |0.037178646452745885 |\n",
            "|TMN3           |3062               |86400         |0.03543981481481481  |\n",
            "|MPIX2          |2951               |86400         |0.03415509259259259  |\n",
            "|SLVSC          |3060               |89722         |0.034105347629343974 |\n",
            "|MOVIEP         |2798               |86400         |0.03238425925925926  |\n",
            "|MOVPIX         |2798               |86400         |0.03238425925925926  |\n",
            "|SE02           |2477               |86400         |0.028668981481481483 |\n",
            "|70SM           |2555               |89326         |0.028603094283859123 |\n",
            "|WARNER         |2555               |89326         |0.028603094283859123 |\n",
            "|2000SM         |2506               |89311         |0.02805925361937499  |\n",
            "|SMC            |2506               |89311         |0.02805925361937499  |\n",
            "|HFEST          |2506               |89311         |0.02805925361937499  |\n",
            "|TMN1           |2393               |86400         |0.027696759259259258 |\n",
            "|PREM CHOIX     |2278               |86400         |0.02636574074074074  |\n",
            "|PCTVEC         |2278               |86400         |0.02636574074074074  |\n",
            "|SE01           |2278               |86400         |0.02636574074074074  |\n",
            "|SUPER�CRAN     |2278               |86400         |0.02636574074074074  |\n",
            "|CPOP           |1777               |86400         |0.02056712962962963  |\n",
            "|ATN8           |1623               |88153         |0.01841117148593922  |\n",
            "|HSTORM         |1607               |88372         |0.018184492825781922 |\n",
            "|AXN            |1607               |88372         |0.018184492825781922 |\n",
            "|90SM           |1607               |88372         |0.018184492825781922 |\n",
            "|80SM           |1588               |88352         |0.017973560304237596 |\n",
            "|MGM            |1588               |88352         |0.017973560304237596 |\n",
            "|SAB            |616                |87207         |0.00706365314710975  |\n",
            "|IDNR           |297                |86530         |0.0034323356061481567|\n",
            "|OTN1           |240                |86730         |0.002767208578346593 |\n",
            "|CFTF           |0                  |1805          |0.0                  |\n",
            "|CFTV           |0                  |102           |0.0                  |\n",
            "|CKRT           |0                  |14400         |0.0                  |\n",
            "|ATN13          |0                  |86400         |0.0                  |\n",
            "|SKIN           |0                  |86400         |0.0                  |\n",
            "|SNONE          |0                  |1800          |0.0                  |\n",
            "|TIMESN         |0                  |86400         |0.0                  |\n",
            "|OTN3           |0                  |86400         |0.0                  |\n",
            "|PLAY           |0                  |86400         |0.0                  |\n",
            "|PENT           |0                  |86400         |0.0                  |\n",
            "|ATN11          |0                  |86400         |0.0                  |\n",
            "|ATN14          |0                  |86400         |0.0                  |\n",
            "|TENCH2         |0                  |86400         |0.0                  |\n",
            "|ZOOM           |0                  |86400         |0.0                  |\n",
            "|HARD           |0                  |86400         |0.0                  |\n",
            "+---------------+-------------------+--------------+---------------------+\n",
            "\n"
          ]
        }
      ]
    },
    {
      "cell_type": "code",
      "source": [
        "# Replace null values in the DataFrame with 0\n",
        "answer_no_null = answer.fillna(0)\n",
        "\n",
        "# Sort the results by commercial_ratio in descending order and display the top 1000 rows\n",
        "answer_no_null.orderBy(\n",
        "    \"commercial_ratio\", ascending=False\n",
        ").show(1000, False)"
      ],
      "metadata": {
        "colab": {
          "base_uri": "https://localhost:8080/"
        },
        "id": "wNbqo_NdjnH3",
        "outputId": "84b2ed20-1d13-4824-ee73-68e885d2f3b8"
      },
      "execution_count": 64,
      "outputs": [
        {
          "output_type": "stream",
          "name": "stdout",
          "text": [
            "+---------------+-------------------+--------------+---------------------+\n",
            "|LogIdentifierID|duration_commercial|duration_total|commercial_ratio     |\n",
            "+---------------+-------------------+--------------+---------------------+\n",
            "|CIMT           |775                |775           |1.0                  |\n",
            "|TLNSP          |15480              |15480         |1.0                  |\n",
            "|TELENO         |17790              |17790         |1.0                  |\n",
            "|MSET           |2700               |2700          |1.0                  |\n",
            "|TRN            |13                 |13            |1.0                  |\n",
            "|HPITV          |13                 |13            |1.0                  |\n",
            "|TANG           |8125               |8125          |1.0                  |\n",
            "|MUSIMAX        |23333              |23582         |0.9894410991434145   |\n",
            "|MMAX           |23333              |23582         |0.9894410991434145   |\n",
            "|MUSIP          |20587              |20912         |0.9844586840091814   |\n",
            "|MPLU           |20587              |20912         |0.9844586840091814   |\n",
            "|MUSIQUE PL     |20587              |20912         |0.9844586840091814   |\n",
            "|INVST          |20094              |20470         |0.9816316560820714   |\n",
            "|CANZ           |21542              |21965         |0.9807420896881403   |\n",
            "|ZT�L�          |21542              |21965         |0.9807420896881403   |\n",
            "|CANALZ         |21542              |21965         |0.9807420896881403   |\n",
            "|RAPT           |17916              |18279         |0.9801411455768915   |\n",
            "|CANALD         |21437              |21875         |0.9799771428571429   |\n",
            "|ONEBMS         |18084              |18522         |0.9763524457402009   |\n",
            "|CANALVIE       |20780              |21309         |0.975174808766249    |\n",
            "|CVIE           |20780              |21309         |0.975174808766249    |\n",
            "|unis           |11630              |11998         |0.9693282213702283   |\n",
            "|CIVM           |11370              |11802         |0.9633960345704118   |\n",
            "|TV5            |10759              |11220         |0.9589126559714795   |\n",
            "|LEAF           |11526              |12034         |0.9577862722286854   |\n",
            "|VISION         |12946              |13621         |0.950444167094927    |\n",
            "|CJIL           |3904               |4213          |0.9266555898409684   |\n",
            "|CFRS           |15988              |17789         |0.8987576592276125   |\n",
            "|CFAP           |15880              |17681         |0.8981392455177875   |\n",
            "|RURAL          |2220               |2550          |0.8705882352941177   |\n",
            "|CHNU           |4224               |4921          |0.8583621215200162   |\n",
            "|CIIT           |2942               |3596          |0.818131256952169    |\n",
            "|CFKM           |15976              |19582         |0.8158512920028598   |\n",
            "|CFKS           |15975              |19581         |0.8158418875440479   |\n",
            "|V              |15949              |19557         |0.8155136268343816   |\n",
            "|TQS            |15949              |19557         |0.8155136268343816   |\n",
            "|CFJP           |15925              |19533         |0.8152869502892541   |\n",
            "|CFTU           |3975               |7619          |0.5217220107625673   |\n",
            "|CHEK           |46287              |100372        |0.46115450524050533  |\n",
            "|VRAK           |15900              |38050         |0.4178712220762155   |\n",
            "|CANALF         |15900              |38050         |0.4178712220762155   |\n",
            "|CKVR           |40641              |105861        |0.3839090883328138   |\n",
            "|CHAU           |1080               |2880          |0.375                |\n",
            "|CHWI           |36996              |105816        |0.3496257654797006   |\n",
            "|CFPL           |36796              |105616        |0.348394182699591    |\n",
            "|CIVI           |36570              |105330        |0.34719453147251494  |\n",
            "|CESS           |35590              |105700        |0.33670766319772943  |\n",
            "|ACCESS         |35590              |105700        |0.33670766319772943  |\n",
            "|CFGS           |30000              |91500         |0.32786885245901637  |\n",
            "|CHRO           |35000              |107345        |0.32605151613955     |\n",
            "|CFVS           |29655              |91130         |0.3254142433885658   |\n",
            "|ASN            |34590              |106920        |0.3235129068462402   |\n",
            "|CHAT           |29415              |92665         |0.3174337667943668   |\n",
            "|CFTM           |30162              |105732        |0.2852684144818976   |\n",
            "|CJCB           |30440              |107990        |0.28187795166219093  |\n",
            "|CFTO           |30423              |108003        |0.2816866198161162   |\n",
            "|CKLT           |30410              |107990        |0.28160014816186685  |\n",
            "|CKCW           |30410              |107990        |0.28160014816186685  |\n",
            "|CJCH           |30365              |107930        |0.2813397572500695   |\n",
            "|CJOH           |30408              |108093        |0.2813133135355666   |\n",
            "|CHBX           |30352              |108007        |0.28101882285407426  |\n",
            "|CFCF           |30298              |107878        |0.28085429837408926  |\n",
            "|CKNY           |30327              |107982        |0.28085236428293603  |\n",
            "|CITO           |30317              |107972        |0.2807857592709221   |\n",
            "|CICI           |30321              |108036        |0.2806564478507164   |\n",
            "|CKY            |30089              |107669        |0.27945833991213814  |\n",
            "|CKCO           |30153              |107928        |0.2793806982432733   |\n",
            "|CKCK           |30125              |107856        |0.27930759531226823  |\n",
            "|CFQC           |30075              |107986        |0.2785083251532606   |\n",
            "|CFCM           |29364              |105894        |0.2772961640886169   |\n",
            "|CIPA           |29756              |107742        |0.27617827773755826  |\n",
            "|CHLT           |29156              |105686        |0.27587381488560453  |\n",
            "|CJPM           |29125              |105655        |0.27566135062230845  |\n",
            "|CHEM           |29096              |105626        |0.2754624808285839   |\n",
            "|CFER           |29026              |105556        |0.27498200007578916  |\n",
            "|CICC           |29305              |107731        |0.2720201241982345   |\n",
            "|CFTK           |24765              |91785         |0.26981532930217356  |\n",
            "|CIVT           |28851              |108232        |0.26656626506024095  |\n",
            "|CITY           |28987              |112061        |0.2586716163518084   |\n",
            "|CIHF           |27209              |108224        |0.25141373447664106  |\n",
            "|CIHF2          |27196              |108251        |0.25123093551098835  |\n",
            "|CHNB2          |27196              |108251        |0.25123093551098835  |\n",
            "|CFCNTV5        |27239              |108434        |0.2512034970581183   |\n",
            "|CFCNL          |27239              |108434        |0.2512034970581183   |\n",
            "|CFCN           |27199              |108424        |0.2508577436729875   |\n",
            "|CFRN6          |27275              |108740        |0.25082766231377596  |\n",
            "|CFRE           |27064              |108109        |0.2503399346955388   |\n",
            "|CFMT           |25645              |102688        |0.24973706762231224  |\n",
            "|CFRN           |27034              |108409        |0.24937043972363918  |\n",
            "|CKMI           |26917              |107956        |0.2493330616176961   |\n",
            "|CFSK           |26869              |108069        |0.24862819124818403  |\n",
            "|GLOBAL         |26802              |107812        |0.2485994137943828   |\n",
            "|CIII           |26802              |107812        |0.2485994137943828   |\n",
            "|DORAGI         |5736               |23126         |0.2480325175127562   |\n",
            "|ALLTV          |5736               |23126         |0.2480325175127562   |\n",
            "|GAME           |26155              |107889        |0.24242508504110707  |\n",
            "|CGTV           |26155              |107889        |0.24242508504110707  |\n",
            "|OUTDR          |26387              |109607        |0.2407419234173      |\n",
            "|OUTDOOR        |26387              |109607        |0.2407419234173      |\n",
            "|OLN            |26387              |109607        |0.2407419234173      |\n",
            "|CKND           |25651              |107971        |0.23757305202322845  |\n",
            "|CKVU           |26647              |113367        |0.23505076433177202  |\n",
            "|CHMI           |26627              |113305        |0.23500286836414985  |\n",
            "|CKEM           |26565              |113308        |0.23444946517456844  |\n",
            "|CKAL           |26548              |113368        |0.23417542869239996  |\n",
            "|CHBC           |25185              |108000        |0.23319444444444445  |\n",
            "|CJDC           |21270              |91470         |0.23253525746146278  |\n",
            "|DIY            |26147              |112587        |0.23223818025171644  |\n",
            "|CHAN           |25018              |107938        |0.23178120773036373  |\n",
            "|CJNT           |26130              |112904        |0.23143555587047404  |\n",
            "|WTN            |24576              |107500        |0.2286139534883721   |\n",
            "|W              |24576              |107500        |0.2286139534883721   |\n",
            "|COOK           |25161              |111561        |0.2255358055234356   |\n",
            "|WMOV           |25161              |111561        |0.2255358055234356   |\n",
            "|SEXTV          |25161              |111561        |0.2255358055234356   |\n",
            "|FASH           |24800              |111320        |0.22278117139777218  |\n",
            "|CHCH           |23795              |106997        |0.22238941278727442  |\n",
            "|WFNHD          |24600              |111498        |0.2206317602109455   |\n",
            "|WFN            |24600              |111498        |0.2206317602109455   |\n",
            "|FOOD           |24479              |111088        |0.22035683422151808  |\n",
            "|FYI            |24369              |110769        |0.21999837499661457  |\n",
            "|HEALTH         |24369              |110769        |0.21999837499661457  |\n",
            "|BBCCND         |24173              |110578        |0.21860587096890882  |\n",
            "|CFACL          |23696              |108521        |0.21835405128961216  |\n",
            "|CISA           |23696              |108521        |0.21835405128961216  |\n",
            "|CITV           |23542              |108442        |0.2170930082440383   |\n",
            "|PRIMETV        |24059              |110971        |0.21680439033621396  |\n",
            "|TVTROPLIS      |24059              |110971        |0.21680439033621396  |\n",
            "|DTOUR          |24059              |110971        |0.21680439033621396  |\n",
            "|PRIM           |24059              |110971        |0.21680439033621396  |\n",
            "|PRIME          |24059              |110971        |0.21680439033621396  |\n",
            "|CICT           |23484              |108398        |0.21664606358050886  |\n",
            "|CHEX2          |20596              |95654         |0.21531770757103727  |\n",
            "|CHX2           |20596              |95654         |0.21531770757103727  |\n",
            "|CHEX02         |20596              |95654         |0.21531770757103727  |\n",
            "|CHEX           |20842              |97329         |0.21413967060177336  |\n",
            "|DIVA           |23453              |109961        |0.21328471003355734  |\n",
            "|CAVE           |23410              |109990        |0.2128375306846077   |\n",
            "|MENTV          |23410              |109990        |0.2128375306846077   |\n",
            "|FXC            |23449              |110414        |0.21237343090550112  |\n",
            "|E!             |23255              |109745        |0.21190031436511914  |\n",
            "|STAR           |23255              |109745        |0.21190031436511914  |\n",
            "|STAR!          |23255              |109745        |0.21190031436511914  |\n",
            "|OWN            |23213              |109612        |0.21177425829288765  |\n",
            "|CLT            |23213              |109612        |0.21177425829288765  |\n",
            "|VIVA           |23213              |109612        |0.21177425829288765  |\n",
            "|BITE           |23315              |110196        |0.2115775527242368   |\n",
            "|MAKE           |23315              |110196        |0.2115775527242368   |\n",
            "|DISCOV         |23035              |109615        |0.21014459699858595  |\n",
            "|TDC            |23035              |109615        |0.21014459699858595  |\n",
            "|HGTV           |22970              |109420        |0.20992505940413086  |\n",
            "|TRV            |22995              |109713        |0.20959229990976458  |\n",
            "|TRAVEL         |22995              |109713        |0.20959229990976458  |\n",
            "|HIST           |22883              |109288        |0.20938254886172317  |\n",
            "|HISTO          |22883              |109288        |0.20938254886172317  |\n",
            "|HISTORY        |22883              |109288        |0.20938254886172317  |\n",
            "|COSMO          |22864              |109263        |0.20925656443626844  |\n",
            "|DEJA           |22865              |109325        |0.2091470386462383   |\n",
            "|ANIMAL         |22860              |109445        |0.20887203618255745  |\n",
            "|APL            |22860              |109445        |0.20887203618255745  |\n",
            "|SPARK          |22725              |109425        |0.20767649074708705  |\n",
            "|CASA           |22622              |109022        |0.2074994037900607   |\n",
            "|IDM            |22622              |109022        |0.2074994037900607   |\n",
            "|CI             |22567              |108982        |0.20707089244095356  |\n",
            "|13ST           |22567              |108982        |0.20707089244095356  |\n",
            "|CMT            |22542              |108942        |0.20691744230875145  |\n",
            "|HISTORIA       |22475              |109109        |0.20598667387658212  |\n",
            "|CHISTO         |22475              |109109        |0.20598667387658212  |\n",
            "|LIFE           |22411              |108901        |0.20579241696586809  |\n",
            "|SLICE          |22411              |108901        |0.20579241696586809  |\n",
            "|LIFENT         |22411              |108901        |0.20579241696586809  |\n",
            "|FXX            |22445              |109220        |0.20550265519135688  |\n",
            "|BRAVO          |22370              |108920        |0.20538009548292324  |\n",
            "|BRAVO!         |22370              |108920        |0.20538009548292324  |\n",
            "|ADIK           |22261              |108661        |0.2048665114438483   |\n",
            "|MYST           |22261              |108661        |0.2048665114438483   |\n",
            "|TVADIK         |22261              |108661        |0.2048665114438483   |\n",
            "|SERIEP         |22230              |108896        |0.20413972965030855  |\n",
            "|NGWILD         |22160              |108667        |0.2039257548289729   |\n",
            "|COMEDY         |22140              |108600        |0.20386740331491712  |\n",
            "|TCN            |22140              |108600        |0.20386740331491712  |\n",
            "|DISCIV         |22150              |108730        |0.20371562586222752  |\n",
            "|DISSCI         |22150              |108730        |0.20371562586222752  |\n",
            "|CIV            |22150              |108730        |0.20371562586222752  |\n",
            "|COURT          |22140              |108730        |0.2036236549250437   |\n",
            "|INVDIS         |22140              |108730        |0.2036236549250437   |\n",
            "|ARTV           |22059              |108519        |0.2032731595388826   |\n",
            "|DISVEL         |22040              |108645        |0.2028625339408164   |\n",
            "|DTHEA          |22040              |108645        |0.2028625339408164   |\n",
            "|SHOWCASE       |22027              |108662        |0.2027111593749425   |\n",
            "|SHOWC          |22027              |108662        |0.2027111593749425   |\n",
            "|SHOW           |22027              |108662        |0.2027111593749425   |\n",
            "|CONNECT        |21840              |108330        |0.20160620326779286  |\n",
            "|MTV            |21840              |108330        |0.20160620326779286  |\n",
            "|RAZER          |21840              |108330        |0.20160620326779286  |\n",
            "|CCAN           |21870              |108568        |0.20144057180753078  |\n",
            "|BOLD           |21870              |108568        |0.20144057180753078  |\n",
            "|COTT           |21870              |108568        |0.20144057180753078  |\n",
            "|COMGLD         |21645              |108135        |0.20016645859342488  |\n",
            "|TVLAND         |21645              |108135        |0.20016645859342488  |\n",
            "|EXP            |21521              |107951        |0.19935896842085762  |\n",
            "|MMM            |21445              |107935        |0.1986843933849076   |\n",
            "|GUS            |21445              |107935        |0.1986843933849076   |\n",
            "|MLLE           |21315              |107715        |0.19788330316111963  |\n",
            "|MOICIE         |21315              |107715        |0.19788330316111963  |\n",
            "|CFEM           |18650              |94580         |0.19718756608162402  |\n",
            "|SPACE          |21175              |107695        |0.19662008449788757  |\n",
            "|TALKTV         |21065              |107585        |0.19579867081842264  |\n",
            "|MTV1           |21065              |107585        |0.19579867081842264  |\n",
            "|ZEST           |21090              |107945        |0.19537727546435685  |\n",
            "|MUCH           |20930              |107510        |0.1946795646916566   |\n",
            "|MUCHM          |20930              |107510        |0.1946795646916566   |\n",
            "|MUCHMUSIC      |20930              |107510        |0.1946795646916566   |\n",
            "|CKWS           |18705              |96289         |0.19425894962041354  |\n",
            "|CKWS1          |18702              |96287         |0.19423182776491116  |\n",
            "|ATN3           |20745              |107267        |0.19339591859565383  |\n",
            "|CHOT           |18047              |94017         |0.19195464650010105  |\n",
            "|NGCE           |20390              |107031        |0.19050555446552866  |\n",
            "|CEVASI         |20415              |107180        |0.19047396902407165  |\n",
            "|LCE            |20415              |107180        |0.19047396902407165  |\n",
            "|NEWSW          |19592              |106082        |0.18468731735827001  |\n",
            "|RDI            |19500              |105900        |0.18413597733711048  |\n",
            "|BOOK           |19305              |105885        |0.18232044198895028  |\n",
            "|PRIS           |19145              |105545        |0.1813918233928656   |\n",
            "|CFJC           |17140              |95170         |0.180098770620994    |\n",
            "|FIGHT          |18745              |104229        |0.1798443811223364   |\n",
            "|CTVN1          |18910              |105310        |0.17956509353337766  |\n",
            "|CTVNC          |18910              |105310        |0.17956509353337766  |\n",
            "|NEWSNET        |18910              |105310        |0.17956509353337766  |\n",
            "|NEWS1          |18910              |105310        |0.17956509353337766  |\n",
            "|SCOPEM         |18866              |105447        |0.17891452578072398  |\n",
            "|SN360          |18866              |105447        |0.17891452578072398  |\n",
            "|SCORE          |18866              |105447        |0.17891452578072398  |\n",
            "|TSN5           |18506              |104996        |0.17625433349841899  |\n",
            "|TSN3           |18240              |104730        |0.17416213119450014  |\n",
            "|TRESR          |18355              |105394        |0.17415602406209083  |\n",
            "|HIFI           |18355              |105394        |0.17415602406209083  |\n",
            "|TSN            |17930              |104390        |0.17175974710221287  |\n",
            "|YTV            |17939              |104672        |0.17138298685417303  |\n",
            "|SPTVA2         |17732              |104132        |0.17028387047209312  |\n",
            "|SPRTVA         |17717              |104117        |0.17016433435462028  |\n",
            "|CKPG           |17020              |100070        |0.17008094333966223  |\n",
            "|BNN            |17702              |104162        |0.16994681361725006  |\n",
            "|ROBTV          |17702              |104162        |0.16994681361725006  |\n",
            "|SATV           |17772              |104877        |0.16945564804485255  |\n",
            "|ABORIH         |18000              |106223        |0.16945482616759083  |\n",
            "|TOON           |17691              |104466        |0.16934696456263282  |\n",
            "|TELETOON       |17691              |104466        |0.16934696456263282  |\n",
            "|DSNYXD         |17722              |104682        |0.16929367035402457  |\n",
            "|TSN1           |17569              |104059        |0.1688369098300003   |\n",
            "|TOONR          |17636              |104776        |0.1683209895395892   |\n",
            "|CARTN          |17636              |104776        |0.1683209895395892   |\n",
            "|ABORIW         |17771              |105846        |0.1678948661262589   |\n",
            "|ABORI          |17730              |105784        |0.16760568706042503  |\n",
            "|PULSE 24       |17395              |103860        |0.1674850760639322   |\n",
            "|CPTF           |17395              |103860        |0.1674850760639322   |\n",
            "|CP24           |17395              |103860        |0.1674850760639322   |\n",
            "|ABORIN         |17635              |105300        |0.1674738841405508   |\n",
            "|LCN            |17380              |103780        |0.16746964733089229  |\n",
            "|CANALN         |17380              |103780        |0.16746964733089229  |\n",
            "|CHSJ           |17349              |103809        |0.1671242377828512   |\n",
            "|CBAT           |17349              |103809        |0.1671242377828512   |\n",
            "|CBNT           |17349              |103809        |0.1671242377828512   |\n",
            "|CBHT           |17319              |103779        |0.16688347353510827  |\n",
            "|CBCT           |17319              |103779        |0.16688347353510827  |\n",
            "|CBUT           |17290              |103750        |0.16665060240963855  |\n",
            "|CBRT           |17290              |103750        |0.16665060240963855  |\n",
            "|CBXT           |17290              |103810        |0.1665542818610924   |\n",
            "|CBOT           |17272              |103732        |0.16650599622103113  |\n",
            "|CBLT           |17205              |103665        |0.16596729850962233  |\n",
            "|CBET           |17205              |103665        |0.16596729850962233  |\n",
            "|EQTR           |17235              |103894        |0.16589023427724411  |\n",
            "|EQHD           |17235              |103894        |0.16589023427724411  |\n",
            "|EQUAT          |17235              |103894        |0.16589023427724411  |\n",
            "|SMITH          |17235              |103894        |0.16589023427724411  |\n",
            "|CBMT           |17145              |103605        |0.1654842912986825   |\n",
            "|BLC            |17280              |104721        |0.16500988340447476  |\n",
            "|BBCEARTH       |17041              |103685        |0.16435357091189662  |\n",
            "|RADX           |17041              |103685        |0.16435357091189662  |\n",
            "|BBCEAR         |17041              |103685        |0.16435357091189662  |\n",
            "|RUSH           |17041              |103685        |0.16435357091189662  |\n",
            "|BBCE           |17041              |103685        |0.16435357091189662  |\n",
            "|CBKT           |16950              |103410        |0.16391064693936758  |\n",
            "|CKSA           |16877              |103387        |0.16324102643465813  |\n",
            "|TLTOON         |16890              |103498        |0.1631915592571837   |\n",
            "|TLTOO          |16890              |103498        |0.1631915592571837   |\n",
            "|CBWT           |16647              |103107        |0.16145363554365852  |\n",
            "|RDS            |16750              |103855        |0.16128255741177602  |\n",
            "|CFYK           |16645              |103285        |0.16115602459214795  |\n",
            "|SNWST          |16783              |104278        |0.16094478221676672  |\n",
            "|WILD           |17309              |107721        |0.16068361786466892  |\n",
            "|CSCN           |16468              |103091        |0.1597423635428893   |\n",
            "|DSNYEN         |16479              |103184        |0.15970499302217397  |\n",
            "|TSN2           |16407              |102987        |0.15931136939613738  |\n",
            "|RDSINF         |16380              |103200        |0.15872093023255815  |\n",
            "|RIS            |16380              |103200        |0.15872093023255815  |\n",
            "|SNPAC          |16538              |104258        |0.15862571697135952  |\n",
            "|S3             |16513              |104235        |0.15842087590540604  |\n",
            "|SNEST          |16513              |104235        |0.15842087590540604  |\n",
            "|CJEO           |16728              |105746        |0.15819038072362074  |\n",
            "|SNONT          |16467              |104235        |0.15797956540509425  |\n",
            "|CJCO           |16672              |106174        |0.15702526042157214  |\n",
            "|OMAB           |16672              |106174        |0.15702526042157214  |\n",
            "|RDS2           |16180              |103240        |0.1567222006974041   |\n",
            "|CJMT           |16408              |105811        |0.15506894368260388  |\n",
            "|OMNI.2         |16408              |105811        |0.15506894368260388  |\n",
            "|FNTSY          |15898              |102545        |0.15503437515237212  |\n",
            "|ATN1           |15859              |102442        |0.1548095507701919   |\n",
            "|CJON           |16030              |104555        |0.15331643632537897  |\n",
            "|AUX            |15660              |102166        |0.15327995614979542  |\n",
            "|ASIDE          |15660              |102166        |0.15327995614979542  |\n",
            "|OMON           |16079              |105457        |0.15246972699773367  |\n",
            "|DOCS           |15610              |102460        |0.15235213741948078  |\n",
            "|ESPN           |15445              |101965        |0.15147354484381895  |\n",
            "|CHNM           |16016              |105845        |0.15131560300439323  |\n",
            "|OMBC           |16016              |105845        |0.15131560300439323  |\n",
            "|CBVT           |14948              |101348        |0.14749181039586376  |\n",
            "|CBOFT          |14798              |101198        |0.14622818632779305  |\n",
            "|FAMCHA         |12540              |86400         |0.1451388888888889   |\n",
            "|ATN5           |14676              |101181        |0.1450469949891778   |\n",
            "|CBFT           |14648              |101048        |0.14496081070382394  |\n",
            "|OUTTV          |14195              |99859         |0.14215043210927408  |\n",
            "|PRIDE          |14195              |99859         |0.14215043210927408  |\n",
            "|NICK           |14290              |100935        |0.1415762619507604   |\n",
            "|CBLFT          |14228              |100658        |0.1413499175425699   |\n",
            "|CKTM           |14018              |100418        |0.13959648668565397  |\n",
            "|CKSH           |14018              |100418        |0.13959648668565397  |\n",
            "|CBKFTT         |14018              |100448        |0.13955479452054795  |\n",
            "|CBUFT          |14018              |100448        |0.13955479452054795  |\n",
            "|CBXFT          |14018              |100448        |0.13955479452054795  |\n",
            "|CBKFT          |14018              |100448        |0.13955479452054795  |\n",
            "|CBWFT          |14018              |100448        |0.13955479452054795  |\n",
            "|CJBRT          |13958              |100418        |0.13899898424585233  |\n",
            "|CKTV           |13838              |100418        |0.13780397936624908  |\n",
            "|CKRS           |13838              |100418        |0.13780397936624908  |\n",
            "|CBAFT          |13839              |100479        |0.13773027199713372  |\n",
            "|BC1            |13898              |100958        |0.13766120564987422  |\n",
            "|CHFD           |13435              |98125         |0.1369171974522293   |\n",
            "|CISF           |1960               |14439         |0.13574347253964955  |\n",
            "|TFO            |1960               |14439         |0.13574347253964955  |\n",
            "|CHLF           |1960               |14439         |0.13574347253964955  |\n",
            "|ATN9           |13312              |99792         |0.13339746673080005  |\n",
            "|CHMG           |12748              |96870         |0.1315990502735625   |\n",
            "|CKPR           |12165              |94965         |0.12809982625177696  |\n",
            "|ATN2           |12675              |99335         |0.12759853022600293  |\n",
            "|CFHD           |13103              |103223        |0.12693876364763668  |\n",
            "|OMQC           |13103              |103223        |0.12693876364763668  |\n",
            "|ATN10          |12397              |98866         |0.12539194465235773  |\n",
            "|CBCNW          |12275              |98735         |0.12432268192636856  |\n",
            "|CBC            |12275              |98735         |0.12432268192636856  |\n",
            "|SCSD04         |10600              |86400         |0.12268518518518519  |\n",
            "|CITS           |11940              |98727         |0.12093956060652102  |\n",
            "|DSNYRF         |11595              |98312         |0.11794084140288062  |\n",
            "|DSNYFR         |11595              |98312         |0.11794084140288062  |\n",
            "|TOONRF         |11595              |98312         |0.11794084140288062  |\n",
            "|FACHV2         |11040              |97848         |0.1128280598479274   |\n",
            "|ATN6           |10721              |97121         |0.110388072610455    |\n",
            "|CKCS           |10372              |97158         |0.10675394717882213  |\n",
            "|CKES           |10197              |97019         |0.10510312413032499  |\n",
            "|FTV            |9754               |94841         |0.10284581562826203  |\n",
            "|FFTV           |9754               |94841         |0.10284581562826203  |\n",
            "|FCTV           |9754               |94841         |0.10284581562826203  |\n",
            "|FACHTV         |9754               |94841         |0.10284581562826203  |\n",
            "|FACHV          |9754               |94841         |0.10284581562826203  |\n",
            "|SCSD01         |8872               |86400         |0.10268518518518518  |\n",
            "|SRC            |9248               |95648         |0.09668785547005687  |\n",
            "|TAC            |9461               |98293         |0.0962530393822551   |\n",
            "|AMITV          |9461               |98293         |0.0962530393822551   |\n",
            "|CITL           |9130               |95687         |0.09541526017118312  |\n",
            "|FPTV           |8799               |95285         |0.09234402056986935  |\n",
            "|AMIFR          |8837               |96120         |0.09193716188098211  |\n",
            "|ATN7           |8451               |94995         |0.08896257697773567  |\n",
            "|CKNO           |7926               |96123         |0.08245685215817235  |\n",
            "|CATHAY         |7588               |92687         |0.08186692847972207  |\n",
            "|TTV            |7588               |92687         |0.08186692847972207  |\n",
            "|TALENT         |7588               |92687         |0.08186692847972207  |\n",
            "|DXDCHA         |7808               |95431         |0.08181827707977492  |\n",
            "|CHRGD          |7808               |95431         |0.08181827707977492  |\n",
            "|SALT           |6852               |93541         |0.07325130156829626  |\n",
            "|YOOP           |6584               |92984         |0.07080788092575066  |\n",
            "|OASIS          |6125               |92847         |0.06596874427822116  |\n",
            "|NATUR          |6125               |92847         |0.06596874427822116  |\n",
            "|SN2            |6095               |92495         |0.06589545380831396  |\n",
            "|PHDCHA         |5438               |86400         |0.06293981481481481  |\n",
            "|FAMJR          |5438               |86400         |0.06293981481481481  |\n",
            "|THTV           |5478               |92253         |0.059380182758284286 |\n",
            "|TREEHOUSE      |5478               |92253         |0.059380182758284286 |\n",
            "|DSNYJR         |4917               |91602         |0.0536778672954739   |\n",
            "|SE04           |4431               |86400         |0.051284722222222225 |\n",
            "|MVOLA          |4320               |91851         |0.04703269425482575  |\n",
            "|TCC            |4281               |91081         |0.04700211899298427  |\n",
            "|NEOCRI         |4246               |90646         |0.0468415594731152   |\n",
            "|MAGINO         |4018               |91221         |0.04404687517128731  |\n",
            "|PHDF           |4018               |91221         |0.04404687517128731  |\n",
            "|SCSD03         |3740               |86400         |0.043287037037037034 |\n",
            "|BBCKID         |3689               |92104         |0.040052549292104576 |\n",
            "|SE03           |3453               |86400         |0.03996527777777778  |\n",
            "|TMN2           |3393               |86400         |0.03927083333333333  |\n",
            "|TMN4           |3386               |86400         |0.039189814814814816 |\n",
            "|SCSD02         |3279               |86400         |0.03795138888888889  |\n",
            "|TVO            |3383               |90140         |0.037530508098513424 |\n",
            "|CICA           |3383               |90140         |0.037530508098513424 |\n",
            "|ZEETV          |3345               |89971         |0.037178646452745885 |\n",
            "|TMN3           |3062               |86400         |0.03543981481481481  |\n",
            "|MPIX2          |2951               |86400         |0.03415509259259259  |\n",
            "|SLVSC          |3060               |89722         |0.034105347629343974 |\n",
            "|MOVIEP         |2798               |86400         |0.03238425925925926  |\n",
            "|MOVPIX         |2798               |86400         |0.03238425925925926  |\n",
            "|SE02           |2477               |86400         |0.028668981481481483 |\n",
            "|70SM           |2555               |89326         |0.028603094283859123 |\n",
            "|WARNER         |2555               |89326         |0.028603094283859123 |\n",
            "|2000SM         |2506               |89311         |0.02805925361937499  |\n",
            "|SMC            |2506               |89311         |0.02805925361937499  |\n",
            "|HFEST          |2506               |89311         |0.02805925361937499  |\n",
            "|TMN1           |2393               |86400         |0.027696759259259258 |\n",
            "|PREM CHOIX     |2278               |86400         |0.02636574074074074  |\n",
            "|PCTVEC         |2278               |86400         |0.02636574074074074  |\n",
            "|SE01           |2278               |86400         |0.02636574074074074  |\n",
            "|SUPER�CRAN     |2278               |86400         |0.02636574074074074  |\n",
            "|CPOP           |1777               |86400         |0.02056712962962963  |\n",
            "|ATN8           |1623               |88153         |0.01841117148593922  |\n",
            "|HSTORM         |1607               |88372         |0.018184492825781922 |\n",
            "|AXN            |1607               |88372         |0.018184492825781922 |\n",
            "|90SM           |1607               |88372         |0.018184492825781922 |\n",
            "|80SM           |1588               |88352         |0.017973560304237596 |\n",
            "|MGM            |1588               |88352         |0.017973560304237596 |\n",
            "|SAB            |616                |87207         |0.00706365314710975  |\n",
            "|IDNR           |297                |86530         |0.0034323356061481567|\n",
            "|OTN1           |240                |86730         |0.002767208578346593 |\n",
            "|CFTF           |0                  |1805          |0.0                  |\n",
            "|CFTV           |0                  |102           |0.0                  |\n",
            "|CKRT           |0                  |14400         |0.0                  |\n",
            "|ATN13          |0                  |86400         |0.0                  |\n",
            "|SKIN           |0                  |86400         |0.0                  |\n",
            "|SNONE          |0                  |1800          |0.0                  |\n",
            "|TIMESN         |0                  |86400         |0.0                  |\n",
            "|OTN3           |0                  |86400         |0.0                  |\n",
            "|PLAY           |0                  |86400         |0.0                  |\n",
            "|PENT           |0                  |86400         |0.0                  |\n",
            "|ATN11          |0                  |86400         |0.0                  |\n",
            "|EURO           |0                  |0             |0.0                  |\n",
            "|NINOS          |0                  |0             |0.0                  |\n",
            "|ATN14          |0                  |86400         |0.0                  |\n",
            "|TENCH2         |0                  |86400         |0.0                  |\n",
            "|ZOOM           |0                  |86400         |0.0                  |\n",
            "|HARD           |0                  |86400         |0.0                  |\n",
            "+---------------+-------------------+--------------+---------------------+\n",
            "\n"
          ]
        }
      ]
    },
    {
      "cell_type": "code",
      "source": [],
      "metadata": {
        "id": "QPRvwB0kjnSD"
      },
      "execution_count": null,
      "outputs": []
    },
    {
      "cell_type": "code",
      "source": [],
      "metadata": {
        "id": "VJOwhlrojnaZ"
      },
      "execution_count": null,
      "outputs": []
    },
    {
      "cell_type": "code",
      "source": [],
      "metadata": {
        "id": "o-FFfX7Ujng1"
      },
      "execution_count": null,
      "outputs": []
    },
    {
      "cell_type": "code",
      "source": [
        "# # Import necessary libraries\n",
        "# import os\n",
        "# from pyspark.sql import SparkSession\n",
        "# import pyspark.sql.functions as F\n",
        "\n",
        "# # Initialize Spark session\n",
        "# # Note: The appName describes the purpose of this Spark job.\n",
        "# spark = SparkSession.builder.appName(\n",
        "#     \"Compute Commercial Ratios for TV Channels\"\n",
        "# ).getOrCreate()\n",
        "\n",
        "# # Set log level to WARN to reduce unnecessary output\n",
        "# spark.sparkContext.setLogLevel(\"WARN\")\n",
        "\n",
        "# # Define the directory where the data is stored\n",
        "# DIRECTORY = \"/content/drive/MyDrive/cde_data/broadcast_logs\"\n",
        "\n",
        "# # Load broadcast logs dataset\n",
        "# # Note: sep=\"|\" specifies the delimiter, header=True indicates the first row contains column names.\n",
        "# logs = spark.read.csv(\n",
        "#     os.path.join(DIRECTORY, \"BroadcastLogs_2018_Q3_M8_sample.CSV\"),\n",
        "#     sep=\"|\",\n",
        "#     header=True,\n",
        "#     inferSchema=True,\n",
        "# )\n",
        "\n",
        "# # Drop unnecessary columns from the logs DataFrame\n",
        "# # Note: Dropping \"BroadcastLogID\" and \"SequenceNO\" simplifies the dataset.\n",
        "# logs = logs.drop(\"BroadcastLogID\", \"SequenceNO\")\n",
        "\n",
        "# # Convert Duration from HH:MM:SS format to seconds\n",
        "# # Note: substr() extracts parts of the string, and cast() converts them to integers.\n",
        "# logs = logs.withColumn(\n",
        "#     \"duration_seconds\",\n",
        "#     (\n",
        "#         F.col(\"Duration\").substr(1, 2).cast(\"int\") * 60 * 60  # Hours to seconds\n",
        "#         + F.col(\"Duration\").substr(4, 2).cast(\"int\") * 60     # Minutes to seconds\n",
        "#         + F.col(\"Duration\").substr(7, 2).cast(\"int\")          # Seconds\n",
        "#     ),\n",
        "# )\n",
        "\n"
      ],
      "metadata": {
        "id": "0TlPRUC3PJ28"
      },
      "execution_count": 105,
      "outputs": []
    },
    {
      "cell_type": "code",
      "source": [
        "# # Load log identifier dataset\n",
        "# # Note: Filtering PrimaryFG == 1 ensures we only use primary logs.\n",
        "# log_identifier = spark.read.csv(\n",
        "#     os.path.join(DIRECTORY, \"ReferenceTables/LogIdentifier.csv\"),\n",
        "#     sep=\"|\",\n",
        "#     header=True,\n",
        "#     inferSchema=True,\n",
        "# ).where(F.col(\"PrimaryFG\") == 1)\n",
        "\n",
        "# log_identifier.printSchema()"
      ],
      "metadata": {
        "id": "1gQor_3rR9S_"
      },
      "execution_count": 106,
      "outputs": []
    },
    {
      "cell_type": "code",
      "source": [
        "\n",
        "\n"
      ],
      "metadata": {
        "colab": {
          "base_uri": "https://localhost:8080/"
        },
        "id": "7j8m2YtYPKLC",
        "outputId": "1b6cb69c-8dd7-404b-e8c1-2e8435b428c8"
      },
      "execution_count": 65,
      "outputs": [
        {
          "output_type": "stream",
          "name": "stdout",
          "text": [
            "+---------------+-------------------+--------------+----------------+\n",
            "|LogIdentifierID|duration_commercial|duration_total|commercial_ratio|\n",
            "+---------------+-------------------+--------------+----------------+\n",
            "|           CJCO|                  0|          NULL|             0.0|\n",
            "|          BRAVO|                  0|          NULL|             0.0|\n",
            "|           CFTF|                  0|          NULL|             0.0|\n",
            "|           CKCS|                  0|          NULL|             0.0|\n",
            "|           CJNT|                  0|          NULL|             0.0|\n",
            "|           CKES|                  0|          NULL|             0.0|\n",
            "|           CHBX|                  0|          NULL|             0.0|\n",
            "|         BBCKID|                  0|          NULL|             0.0|\n",
            "|           BOOK|                  0|          NULL|             0.0|\n",
            "|           CHAN|                  0|          NULL|             0.0|\n",
            "|         CEVASI|                  0|          NULL|             0.0|\n",
            "|            CMT|                  0|          NULL|             0.0|\n",
            "|           CIII|                  0|          NULL|             0.0|\n",
            "|           CFMT|                  0|          NULL|             0.0|\n",
            "|           CFGS|                  0|          NULL|             0.0|\n",
            "|           CBKT|                  0|          NULL|             0.0|\n",
            "|           CHEK|                  0|          NULL|             0.0|\n",
            "|           CFCF|                  0|          NULL|             0.0|\n",
            "|           CBXT|                  0|          NULL|             0.0|\n",
            "|           CIVM|                  0|          NULL|             0.0|\n",
            "+---------------+-------------------+--------------+----------------+\n",
            "only showing top 20 rows\n",
            "\n"
          ]
        }
      ]
    },
    {
      "cell_type": "code",
      "source": [],
      "metadata": {
        "colab": {
          "base_uri": "https://localhost:8080/"
        },
        "id": "MjOkCc_7TuKv",
        "outputId": "2416b23a-1e2e-4b9b-c233-31680daa33fe"
      },
      "execution_count": 67,
      "outputs": [
        {
          "output_type": "stream",
          "name": "stdout",
          "text": [
            "+---------------+-------------------+--------------+----------------+\n",
            "|LogIdentifierID|duration_commercial|duration_total|commercial_ratio|\n",
            "+---------------+-------------------+--------------+----------------+\n",
            "|CJCO           |0                  |NULL          |0.0             |\n",
            "|BRAVO          |0                  |NULL          |0.0             |\n",
            "|CFTF           |0                  |NULL          |0.0             |\n",
            "|CKCS           |0                  |NULL          |0.0             |\n",
            "|CJNT           |0                  |NULL          |0.0             |\n",
            "|CKES           |0                  |NULL          |0.0             |\n",
            "|CHBX           |0                  |NULL          |0.0             |\n",
            "|BBCKID         |0                  |NULL          |0.0             |\n",
            "|BOOK           |0                  |NULL          |0.0             |\n",
            "|CHAN           |0                  |NULL          |0.0             |\n",
            "|CEVASI         |0                  |NULL          |0.0             |\n",
            "|CMT            |0                  |NULL          |0.0             |\n",
            "|CIII           |0                  |NULL          |0.0             |\n",
            "|CFMT           |0                  |NULL          |0.0             |\n",
            "|CFGS           |0                  |NULL          |0.0             |\n",
            "|CBKT           |0                  |NULL          |0.0             |\n",
            "|CHEK           |0                  |NULL          |0.0             |\n",
            "|CFCF           |0                  |NULL          |0.0             |\n",
            "|CBXT           |0                  |NULL          |0.0             |\n",
            "|CIVM           |0                  |NULL          |0.0             |\n",
            "|CESS           |0                  |NULL          |0.0             |\n",
            "|CBHT           |0                  |NULL          |0.0             |\n",
            "|CICC           |0                  |NULL          |0.0             |\n",
            "|CFTM           |0                  |NULL          |0.0             |\n",
            "|CJOH           |0                  |NULL          |0.0             |\n",
            "|CBAFT          |0                  |NULL          |0.0             |\n",
            "|CFTV           |0                  |NULL          |0.0             |\n",
            "|CFCM           |0                  |NULL          |0.0             |\n",
            "|CKPG           |0                  |NULL          |0.0             |\n",
            "|CKVU           |0                  |NULL          |0.0             |\n",
            "|ATN9           |0                  |NULL          |0.0             |\n",
            "|CJPM           |0                  |NULL          |0.0             |\n",
            "|CKWS1          |0                  |NULL          |0.0             |\n",
            "|CFTU           |0                  |NULL          |0.0             |\n",
            "|CICA           |0                  |NULL          |0.0             |\n",
            "|MAKE           |0                  |NULL          |0.0             |\n",
            "|CITY           |0                  |NULL          |0.0             |\n",
            "|CFRS           |0                  |NULL          |0.0             |\n",
            "|CKY            |0                  |NULL          |0.0             |\n",
            "|13ST           |0                  |NULL          |0.0             |\n",
            "|CFRE           |0                  |NULL          |0.0             |\n",
            "|CJMT           |0                  |NULL          |0.0             |\n",
            "|BBCCND         |0                  |NULL          |0.0             |\n",
            "|CFKS           |0                  |NULL          |0.0             |\n",
            "|CJDC           |0                  |NULL          |0.0             |\n",
            "|CKVR           |0                  |NULL          |0.0             |\n",
            "|CKCK           |0                  |NULL          |0.0             |\n",
            "|CFPL           |0                  |NULL          |0.0             |\n",
            "|CJCB           |0                  |NULL          |0.0             |\n",
            "|OWN            |0                  |NULL          |0.0             |\n",
            "|CFTK           |0                  |NULL          |0.0             |\n",
            "|CITV           |0                  |NULL          |0.0             |\n",
            "|ANIMAL         |0                  |NULL          |0.0             |\n",
            "|ASN            |0                  |NULL          |0.0             |\n",
            "|CBMT           |0                  |NULL          |0.0             |\n",
            "|CKAL           |0                  |NULL          |0.0             |\n",
            "|CBUFT          |0                  |NULL          |0.0             |\n",
            "|CKND           |0                  |NULL          |0.0             |\n",
            "|ATN3           |0                  |NULL          |0.0             |\n",
            "|CFJP           |0                  |NULL          |0.0             |\n",
            "|VRAK           |0                  |NULL          |0.0             |\n",
            "|CBXFT          |0                  |NULL          |0.0             |\n",
            "|CFQC           |0                  |NULL          |0.0             |\n",
            "|CFKM           |0                  |NULL          |0.0             |\n",
            "|CBWT           |0                  |NULL          |0.0             |\n",
            "|CIMT           |0                  |NULL          |0.0             |\n",
            "|CIPA           |0                  |NULL          |0.0             |\n",
            "|CIHF           |0                  |NULL          |0.0             |\n",
            "|CFCN           |0                  |NULL          |0.0             |\n",
            "|CHFD           |0                  |NULL          |0.0             |\n",
            "|CBVT           |0                  |NULL          |0.0             |\n",
            "|CHMG           |0                  |NULL          |0.0             |\n",
            "|ARTV           |0                  |NULL          |0.0             |\n",
            "|CANALD         |0                  |NULL          |0.0             |\n",
            "|CKRT           |0                  |NULL          |0.0             |\n",
            "|CFER           |0                  |NULL          |0.0             |\n",
            "|GAME           |0                  |NULL          |0.0             |\n",
            "|ZT�L�          |0                  |NULL          |0.0             |\n",
            "|CBC            |0                  |NULL          |0.0             |\n",
            "|CITS           |0                  |NULL          |0.0             |\n",
            "|CBAT           |0                  |NULL          |0.0             |\n",
            "|CKLT           |0                  |NULL          |0.0             |\n",
            "|CIVI           |0                  |NULL          |0.0             |\n",
            "|COSMO          |0                  |NULL          |0.0             |\n",
            "|CKEM           |0                  |NULL          |0.0             |\n",
            "|ATN8           |0                  |NULL          |0.0             |\n",
            "|CKWS           |0                  |NULL          |0.0             |\n",
            "|CBNT           |0                  |NULL          |0.0             |\n",
            "|CHAT           |0                  |NULL          |0.0             |\n",
            "|CBUT           |0                  |NULL          |0.0             |\n",
            "|ABORIN         |0                  |NULL          |0.0             |\n",
            "|CKNO           |0                  |NULL          |0.0             |\n",
            "|ALLTV          |0                  |NULL          |0.0             |\n",
            "|CHMI           |0                  |NULL          |0.0             |\n",
            "|CJEO           |0                  |NULL          |0.0             |\n",
            "|CITO           |0                  |NULL          |0.0             |\n",
            "|BC1            |0                  |NULL          |0.0             |\n",
            "|CBLT           |0                  |NULL          |0.0             |\n",
            "|CFYK           |0                  |NULL          |0.0             |\n",
            "|CANALVIE       |0                  |NULL          |0.0             |\n",
            "+---------------+-------------------+--------------+----------------+\n",
            "only showing top 100 rows\n",
            "\n",
            "+---------------+-------------------+--------------+----------------+\n",
            "|LogIdentifierID|duration_commercial|duration_total|commercial_ratio|\n",
            "+---------------+-------------------+--------------+----------------+\n",
            "|           CJCO|                  0|          NULL|             0.0|\n",
            "|          BRAVO|                  0|          NULL|             0.0|\n",
            "|           CFTF|                  0|          NULL|             0.0|\n",
            "|           CKCS|                  0|          NULL|             0.0|\n",
            "|           CJNT|                  0|          NULL|             0.0|\n",
            "|           CKES|                  0|          NULL|             0.0|\n",
            "|           CHBX|                  0|          NULL|             0.0|\n",
            "|         BBCKID|                  0|          NULL|             0.0|\n",
            "|           BOOK|                  0|          NULL|             0.0|\n",
            "|           CHAN|                  0|          NULL|             0.0|\n",
            "|         CEVASI|                  0|          NULL|             0.0|\n",
            "|            CMT|                  0|          NULL|             0.0|\n",
            "|           CIII|                  0|          NULL|             0.0|\n",
            "|           CFMT|                  0|          NULL|             0.0|\n",
            "|           CFGS|                  0|          NULL|             0.0|\n",
            "|           CBKT|                  0|          NULL|             0.0|\n",
            "|           CHEK|                  0|          NULL|             0.0|\n",
            "|           CFCF|                  0|          NULL|             0.0|\n",
            "|           CBXT|                  0|          NULL|             0.0|\n",
            "|           CIVM|                  0|          NULL|             0.0|\n",
            "+---------------+-------------------+--------------+----------------+\n",
            "only showing top 20 rows\n",
            "\n"
          ]
        }
      ]
    }
  ]
}