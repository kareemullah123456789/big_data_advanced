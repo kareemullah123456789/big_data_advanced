{
  "nbformat": 4,
  "nbformat_minor": 0,
  "metadata": {
    "colab": {
      "provenance": [],
      "authorship_tag": "ABX9TyMArKFTnVazm3exu8TOg45I",
      "include_colab_link": true
    },
    "kernelspec": {
      "name": "python3",
      "display_name": "Python 3"
    },
    "language_info": {
      "name": "python"
    }
  },
  "cells": [
    {
      "cell_type": "markdown",
      "metadata": {
        "id": "view-in-github",
        "colab_type": "text"
      },
      "source": [
        "<a href=\"https://colab.research.google.com/github/kareemullah123456789/big_data_advanced/blob/main/persisit_unpersisit.ipynb\" target=\"_parent\"><img src=\"https://colab.research.google.com/assets/colab-badge.svg\" alt=\"Open In Colab\"/></a>"
      ]
    },
    {
      "cell_type": "code",
      "source": [
        "spark.stop()"
      ],
      "metadata": {
        "id": "BvAj2qaWxFDN"
      },
      "execution_count": 13,
      "outputs": []
    },
    {
      "cell_type": "code",
      "execution_count": 1,
      "metadata": {
        "colab": {
          "base_uri": "https://localhost:8080/"
        },
        "id": "9IDi7jf_k0fn",
        "outputId": "7b5fadad-94cc-429f-bbe3-a67abacf0270"
      },
      "outputs": [
        {
          "output_type": "stream",
          "name": "stdout",
          "text": [
            "Requirement already satisfied: pyspark in /usr/local/lib/python3.11/dist-packages (3.5.1)\n",
            "Collecting pyngrok\n",
            "  Downloading pyngrok-7.2.12-py3-none-any.whl.metadata (9.4 kB)\n",
            "Requirement already satisfied: py4j==0.10.9.7 in /usr/local/lib/python3.11/dist-packages (from pyspark) (0.10.9.7)\n",
            "Requirement already satisfied: PyYAML>=5.1 in /usr/local/lib/python3.11/dist-packages (from pyngrok) (6.0.2)\n",
            "Downloading pyngrok-7.2.12-py3-none-any.whl (26 kB)\n",
            "Installing collected packages: pyngrok\n",
            "Successfully installed pyngrok-7.2.12\n"
          ]
        }
      ],
      "source": [
        "# Install required packages\n",
        "!pip install pyspark pyngrok\n"
      ]
    },
    {
      "cell_type": "code",
      "source": [
        "\n",
        "import time\n",
        "import matplotlib.pyplot as plt\n",
        "from pyspark.sql import SparkSession\n",
        "from pyspark import StorageLevel\n",
        "from pyngrok import ngrok\n",
        "import threading\n",
        "import webbrowser\n"
      ],
      "metadata": {
        "id": "MyH7JOGzv67w"
      },
      "execution_count": 2,
      "outputs": []
    },
    {
      "cell_type": "code",
      "source": [
        "\n",
        "# Set ngrok auth token\n",
        "ngrok.set_auth_token(\"2ztIY0fitbVIqJKlPqMVRwwWEkb_MZko6P65dpqoxfAo4rSD\")\n",
        "\n",
        "# Initialize Spark with UI enabled\n",
        "spark = SparkSession.builder \\\n",
        "    .appName(\"PersistDemo\") \\\n",
        "    .config(\"spark.ui.enabled\", \"true\") \\\n",
        "    .config(\"spark.ui.port\", \"4040\") \\\n",
        "    .config(\"spark.sql.adaptive.enabled\", \"false\") \\\n",
        "    .getOrCreate()\n",
        "\n",
        "# Start ngrok tunnel for Spark UI\n",
        "public_url = ngrok.connect(4040)\n",
        "print(f\"🚀 Spark UI available at: {public_url}\")\n",
        "print(\"Click the link above to see DAG visualization!\")\n"
      ],
      "metadata": {
        "colab": {
          "base_uri": "https://localhost:8080/"
        },
        "id": "OSItv8nMwILR",
        "outputId": "9d1d8f2a-145a-40c4-f581-da89c9f398f9"
      },
      "execution_count": 6,
      "outputs": [
        {
          "output_type": "stream",
          "name": "stderr",
          "text": [
            "WARNING:pyngrok.process.ngrok:t=2025-07-15T01:52:19+0000 lvl=warn msg=\"can't bind default web address, trying alternatives\" obj=web addr=127.0.0.1:4040\n"
          ]
        },
        {
          "output_type": "stream",
          "name": "stdout",
          "text": [
            "🚀 Spark UI available at: NgrokTunnel: \"https://6b0a6e5b2b1f.ngrok-free.app\" -> \"http://localhost:4040\"\n",
            "Click the link above to see DAG visualization!\n"
          ]
        }
      ]
    },
    {
      "cell_type": "code",
      "source": [
        "!ngrok start --all"
      ],
      "metadata": {
        "colab": {
          "base_uri": "https://localhost:8080/"
        },
        "id": "DuFPWoMhxznd",
        "outputId": "33f54063-f93f-45bc-958d-b3dc87701b54"
      },
      "execution_count": 5,
      "outputs": [
        {
          "output_type": "stream",
          "name": "stdout",
          "text": [
            "ERROR:  Your configuration file must define at least one tunnel when using --all. To intentionally start no tunnels, use `ngrok start --none.`\n"
          ]
        }
      ]
    },
    {
      "cell_type": "code",
      "source": [
        "\n",
        "# Create sample dataset\n",
        "print(\"\\n📊 Creating sample dataset...\")\n",
        "data = [(i, f\"user_{i%1000}\", i * 10, i % 5) for i in range(1, 100001)]  # 100K records\n",
        "df = spark.createDataFrame(data, [\"id\", \"name\", \"amount\", \"category\"])\n",
        "\n",
        "print(f\"✅ Created DataFrame with {df.count():,} records\")\n",
        "\n"
      ],
      "metadata": {
        "colab": {
          "base_uri": "https://localhost:8080/"
        },
        "id": "nK8NOkn6wZcM",
        "outputId": "a047ef7e-1494-446a-d9bb-2b87af634d5f"
      },
      "execution_count": 7,
      "outputs": [
        {
          "output_type": "stream",
          "name": "stdout",
          "text": [
            "\n",
            "📊 Creating sample dataset...\n",
            "✅ Created DataFrame with 100,000 records\n"
          ]
        }
      ]
    },
    {
      "cell_type": "code",
      "source": [],
      "metadata": {
        "id": "0-VVQC5wy20W"
      },
      "execution_count": null,
      "outputs": []
    },
    {
      "cell_type": "code",
      "source": [
        "\n",
        "\n",
        "def measure_time(operation_name, func):\n",
        "    \"\"\"Measure execution time of operation\"\"\"\n",
        "    print(f\"\\n⏱️  Executing: {operation_name}\")\n",
        "    start = time.time()\n",
        "    result = func()\n",
        "    end = time.time()\n",
        "    duration = end - start\n",
        "    print(f\"   ✓ Completed in {duration:.3f} seconds\")\n",
        "    return result, duration\n",
        "\n",
        "def demo_without_persist():\n",
        "    \"\"\"Demo without persist - shows recomputation in DAG\"\"\"\n",
        "    print(\"\\n\" + \"=\"*50)\n",
        "    print(\"🔴 DEMO 1: WITHOUT PERSIST\")\n",
        "    print(\"=\"*50)\n",
        "\n",
        "    times = []\n",
        "\n",
        "    # Operation 1: Count\n",
        "    _, t1 = measure_time(\"Count operation #1\", lambda: df.count())\n",
        "    times.append(t1)\n",
        "\n",
        "    # Operation 2: Same count (will recompute)\n",
        "    _, t2 = measure_time(\"Count operation #2 (recomputes)\", lambda: df.count())\n",
        "    times.append(t2)\n",
        "\n",
        "    # Operation 3: Filter + Count (recomputes from start)\n",
        "    _, t3 = measure_time(\"Filter + Count (recomputes)\",\n",
        "                        lambda: df.filter(df.amount > 50000).count())\n",
        "    times.append(t3)\n",
        "\n",
        "    # Operation 4: Aggregation (recomputes again)\n",
        "    _, t4 = measure_time(\"Group by + Sum (recomputes)\",\n",
        "                        lambda: df.groupBy(\"category\").sum(\"amount\").count())\n",
        "    times.append(t4)\n",
        "\n",
        "    total_time = sum(times)\n",
        "    print(f\"\\n📈 Total time without persist: {total_time:.3f} seconds\")\n",
        "    print(\"👀 Check Spark UI - each operation shows full DAG execution\")\n",
        "\n",
        "    return times, total_time\n"
      ],
      "metadata": {
        "id": "wzeA9LKoytaH"
      },
      "execution_count": 8,
      "outputs": []
    },
    {
      "cell_type": "code",
      "source": [
        "\n",
        "def demo_with_persist():\n",
        "    \"\"\"Demo with persist - shows cached data usage in DAG\"\"\"\n",
        "    print(\"\\n\" + \"=\"*50)\n",
        "    print(\"🟢 DEMO 2: WITH PERSIST\")\n",
        "    print(\"=\"*50)\n",
        "\n",
        "    times = []\n",
        "\n",
        "    # Persist the DataFrame\n",
        "    print(\"💾 Persisting DataFrame with MEMORY_AND_DISK...\")\n",
        "    df.persist(StorageLevel.MEMORY_AND_DISK)\n",
        "\n",
        "    # Operation 1: Count (will cache data)\n",
        "    _, t1 = measure_time(\"Count operation #1 (caches data)\", lambda: df.count())\n",
        "    times.append(t1)\n",
        "\n",
        "    # Operation 2: Same count (uses cache)\n",
        "    _, t2 = measure_time(\"Count operation #2 (uses cache)\", lambda: df.count())\n",
        "    times.append(t2)\n",
        "\n",
        "    # Operation 3: Filter + Count (uses cache)\n",
        "    _, t3 = measure_time(\"Filter + Count (uses cache)\",\n",
        "                        lambda: df.filter(df.amount > 50000).count())\n",
        "    times.append(t3)\n",
        "\n",
        "    # Operation 4: Aggregation (uses cache)\n",
        "    _, t4 = measure_time(\"Group by + Sum (uses cache)\",\n",
        "                        lambda: df.groupBy(\"category\").sum(\"amount\").count())\n",
        "    times.append(t4)\n",
        "\n",
        "    total_time = sum(times)\n",
        "    print(f\"\\n📈 Total time with persist: {total_time:.3f} seconds\")\n",
        "    print(\"👀 Check Spark UI - operations show 'InMemoryTableScan' in DAG\")\n",
        "\n",
        "    # Show storage info\n",
        "    print(f\"\\n💾 Storage Level: {df.storageLevel}\")\n",
        "    print(f\"🔄 Is Cached: {df.is_cached}\")\n",
        "\n",
        "    # Unpersist\n",
        "    print(\"\\n🧹 Unpersisting DataFrame...\")\n",
        "    df.unpersist()\n",
        "    print(f\"🔄 Is Cached after unpersist: {df.is_cached}\")\n",
        "\n",
        "    return times, total_time\n"
      ],
      "metadata": {
        "id": "DZ5D92yVyl8s"
      },
      "execution_count": 9,
      "outputs": []
    },
    {
      "cell_type": "code",
      "source": [
        "\n",
        "def visualize_results(times_without, total_without, times_with, total_with):\n",
        "    \"\"\"Create performance comparison visualization\"\"\"\n",
        "    fig, (ax1, ax2) = plt.subplots(1, 2, figsize=(15, 6))\n",
        "\n",
        "    # Individual operation times\n",
        "    operations = ['Count #1', 'Count #2', 'Filter+Count', 'GroupBy+Sum']\n",
        "    x = range(len(operations))\n",
        "\n",
        "    ax1.bar([i-0.2 for i in x], times_without, 0.4, label='Without Persist', color='red', alpha=0.7)\n",
        "    ax1.bar([i+0.2 for i in x], times_with, 0.4, label='With Persist', color='green', alpha=0.7)\n",
        "    ax1.set_xlabel('Operations')\n",
        "    ax1.set_ylabel('Time (seconds)')\n",
        "    ax1.set_title('Individual Operation Times')\n",
        "    ax1.set_xticks(x)\n",
        "    ax1.set_xticklabels(operations, rotation=45)\n",
        "    ax1.legend()\n",
        "    ax1.grid(True, alpha=0.3)\n",
        "\n",
        "    # Total time comparison\n",
        "    methods = ['Without Persist', 'With Persist']\n",
        "    totals = [total_without, total_with]\n",
        "    colors = ['red', 'green']\n",
        "\n",
        "    bars = ax2.bar(methods, totals, color=colors, alpha=0.7)\n",
        "    ax2.set_ylabel('Total Time (seconds)')\n",
        "    ax2.set_title('Total Execution Time Comparison')\n",
        "    ax2.grid(True, alpha=0.3)\n",
        "\n",
        "    # Add value labels on bars\n",
        "    for bar, total in zip(bars, totals):\n",
        "        height = bar.get_height()\n",
        "        ax2.text(bar.get_x() + bar.get_width()/2., height + 0.01,\n",
        "                f'{total:.3f}s', ha='center', va='bottom')\n",
        "\n",
        "    # Calculate and show improvement\n",
        "    improvement = ((total_without - total_with) / total_without) * 100\n",
        "    plt.figtext(0.5, 0.02, f'Performance Improvement: {improvement:.1f}%',\n",
        "                ha='center', fontsize=12, weight='bold')\n",
        "\n",
        "    plt.tight_layout()\n",
        "    plt.show()\n"
      ],
      "metadata": {
        "id": "Eu_mXtTE0Zsk"
      },
      "execution_count": 12,
      "outputs": []
    },
    {
      "cell_type": "code",
      "source": [
        "\n",
        "def explain_storage_levels():\n",
        "    \"\"\"Explain different storage levels with examples\"\"\"\n",
        "    print(\"\\n\" + \"=\"*60)\n",
        "    print(\"📚 STORAGE LEVELS EXPLAINED\")\n",
        "    print(\"=\"*60)\n",
        "\n",
        "    storage_levels = {\n",
        "        \"MEMORY_ONLY\": \"Store in JVM heap (fastest, limited by memory)\",\n",
        "        \"MEMORY_AND_DISK\": \"Memory first, spill to disk if needed (balanced)\",\n",
        "        \"DISK_ONLY\": \"Store only on disk (slowest, unlimited space)\",\n",
        "        \"MEMORY_ONLY_SER\": \"Serialized objects in memory (memory efficient)\",\n",
        "        \"MEMORY_AND_DISK_SER\": \"Serialized with disk fallback\"\n",
        "    }\n",
        "\n",
        "    for level, description in storage_levels.items():\n",
        "        print(f\"🔸 {level:20}: {description}\")\n",
        "\n",
        "    print(\"\\n💡 When to use each:\")\n",
        "    print(\"   • MEMORY_ONLY: Small datasets, plenty of memory\")\n",
        "    print(\"   • MEMORY_AND_DISK: Most common choice (recommended)\")\n",
        "    print(\"   • DISK_ONLY: Very limited memory, large datasets\")\n",
        "    print(\"   • *_SER versions: When memory is at premium\")\n",
        "\n",
        "def demonstrate_dag_differences():\n",
        "    \"\"\"Show how DAG looks different with/without persist\"\"\"\n",
        "    print(\"\\n\" + \"=\"*60)\n",
        "    print(\"🎯 DAG VISUALIZATION GUIDE\")\n",
        "    print(\"=\"*60)\n",
        "\n",
        "    print(\"\"\"\n",
        "🔴 WITHOUT PERSIST - What you'll see in DAG:\n",
        "   1. Each operation starts from data source\n",
        "   2. Full lineage shown every time\n",
        "   3. WholeStageCodegen stages repeated\n",
        "   4. No cache indicators\n",
        "\n",
        "🟢 WITH PERSIST - What you'll see in DAG:\n",
        "   1. First operation: normal DAG + caching\n",
        "   2. Subsequent operations: start with 'InMemoryTableScan'\n",
        "   3. Shorter DAG (cache hit)\n",
        "   4. Green cache indicators in UI\n",
        "\n",
        "💡 Key DAG Elements to Look For:\n",
        "   • InMemoryTableScan: Indicates cache hit\n",
        "   • Exchange/Shuffle operations: Data movement\n",
        "   • WholeStageCodegen: Optimized execution\n",
        "   • Storage Level in cache tab\n",
        "    \"\"\")\n"
      ],
      "metadata": {
        "id": "gvm9n8J80cKu"
      },
      "execution_count": 13,
      "outputs": []
    },
    {
      "cell_type": "code",
      "source": [
        "\n",
        "# Run the complete demo\n",
        "print(\"🎬 Starting Spark Persist/Unpersist Demo\")\n",
        "print(f\"🌐 Monitor DAG execution at: {public_url}\")\n",
        "\n",
        "# Explain storage levels first\n",
        "explain_storage_levels()\n",
        "\n",
        "# Show what to look for in DAG\n",
        "demonstrate_dag_differences()\n",
        "\n",
        "# Run demos\n",
        "times_without, total_without = demo_without_persist()\n",
        "time.sleep(2)  # Brief pause to see DAG clearly\n",
        "times_with, total_with = demo_with_persist()\n",
        "\n",
        "# Show performance comparison\n",
        "print(\"\\n\" + \"=\"*50)\n",
        "print(\"📊 PERFORMANCE ANALYSIS\")\n",
        "print(\"=\"*50)\n",
        "\n",
        "visualize_results(times_without, total_without, times_with, total_with)\n",
        "\n",
        "improvement = ((total_without - total_with) / total_without) * 100\n",
        "print(f\"\\n🎉 Results Summary:\")\n",
        "print(f\"   • Without persist: {total_without:.3f} seconds\")\n",
        "print(f\"   • With persist:    {total_with:.3f} seconds\")\n",
        "print(f\"   • Improvement:     {improvement:.1f}% faster\")\n",
        "\n",
        "print(f\"\\n🔗 Keep monitoring the Spark UI at: {public_url}\")\n",
        "print(\"   • Go to 'Storage' tab to see cached RDDs\")\n",
        "print(\"   • Check 'SQL' tab for query execution plans\")\n",
        "print(\"   • 'Jobs' tab shows individual job performance\")\n",
        "\n",
        "# Keep the session alive for UI monitoring\n",
        "print(\"\\n⚠️  Keeping Spark session alive for UI monitoring...\")\n",
        "print(\"   Run spark.stop() when done to clean up\")"
      ],
      "metadata": {
        "colab": {
          "base_uri": "https://localhost:8080/",
          "height": 1000
        },
        "id": "3ldhujMv0iNb",
        "outputId": "cafd2db9-8ab1-4514-abc0-f31118e1fa99"
      },
      "execution_count": 14,
      "outputs": [
        {
          "output_type": "stream",
          "name": "stdout",
          "text": [
            "🎬 Starting Spark Persist/Unpersist Demo\n",
            "🌐 Monitor DAG execution at: NgrokTunnel: \"https://6b0a6e5b2b1f.ngrok-free.app\" -> \"http://localhost:4040\"\n",
            "\n",
            "============================================================\n",
            "📚 STORAGE LEVELS EXPLAINED\n",
            "============================================================\n",
            "🔸 MEMORY_ONLY         : Store in JVM heap (fastest, limited by memory)\n",
            "🔸 MEMORY_AND_DISK     : Memory first, spill to disk if needed (balanced)\n",
            "🔸 DISK_ONLY           : Store only on disk (slowest, unlimited space)\n",
            "🔸 MEMORY_ONLY_SER     : Serialized objects in memory (memory efficient)\n",
            "🔸 MEMORY_AND_DISK_SER : Serialized with disk fallback\n",
            "\n",
            "💡 When to use each:\n",
            "   • MEMORY_ONLY: Small datasets, plenty of memory\n",
            "   • MEMORY_AND_DISK: Most common choice (recommended)\n",
            "   • DISK_ONLY: Very limited memory, large datasets\n",
            "   • *_SER versions: When memory is at premium\n",
            "\n",
            "============================================================\n",
            "🎯 DAG VISUALIZATION GUIDE\n",
            "============================================================\n",
            "\n",
            "🔴 WITHOUT PERSIST - What you'll see in DAG:\n",
            "   1. Each operation starts from data source\n",
            "   2. Full lineage shown every time\n",
            "   3. WholeStageCodegen stages repeated\n",
            "   4. No cache indicators\n",
            "\n",
            "🟢 WITH PERSIST - What you'll see in DAG:\n",
            "   1. First operation: normal DAG + caching\n",
            "   2. Subsequent operations: start with 'InMemoryTableScan'\n",
            "   3. Shorter DAG (cache hit)\n",
            "   4. Green cache indicators in UI\n",
            "   \n",
            "💡 Key DAG Elements to Look For:\n",
            "   • InMemoryTableScan: Indicates cache hit\n",
            "   • Exchange/Shuffle operations: Data movement\n",
            "   • WholeStageCodegen: Optimized execution\n",
            "   • Storage Level in cache tab\n",
            "    \n",
            "\n",
            "==================================================\n",
            "🔴 DEMO 1: WITHOUT PERSIST\n",
            "==================================================\n",
            "\n",
            "⏱️  Executing: Count operation #1\n",
            "   ✓ Completed in 1.125 seconds\n",
            "\n",
            "⏱️  Executing: Count operation #2 (recomputes)\n",
            "   ✓ Completed in 1.532 seconds\n",
            "\n",
            "⏱️  Executing: Filter + Count (recomputes)\n",
            "   ✓ Completed in 1.782 seconds\n",
            "\n",
            "⏱️  Executing: Group by + Sum (recomputes)\n",
            "   ✓ Completed in 7.656 seconds\n",
            "\n",
            "📈 Total time without persist: 12.095 seconds\n",
            "👀 Check Spark UI - each operation shows full DAG execution\n",
            "\n",
            "==================================================\n",
            "🟢 DEMO 2: WITH PERSIST\n",
            "==================================================\n",
            "💾 Persisting DataFrame with MEMORY_AND_DISK...\n",
            "\n",
            "⏱️  Executing: Count operation #1 (caches data)\n",
            "   ✓ Completed in 3.337 seconds\n",
            "\n",
            "⏱️  Executing: Count operation #2 (uses cache)\n",
            "   ✓ Completed in 0.316 seconds\n",
            "\n",
            "⏱️  Executing: Filter + Count (uses cache)\n",
            "   ✓ Completed in 0.817 seconds\n",
            "\n",
            "⏱️  Executing: Group by + Sum (uses cache)\n",
            "   ✓ Completed in 4.633 seconds\n",
            "\n",
            "📈 Total time with persist: 9.103 seconds\n",
            "👀 Check Spark UI - operations show 'InMemoryTableScan' in DAG\n",
            "\n",
            "💾 Storage Level: Disk Memory Serialized 1x Replicated\n",
            "🔄 Is Cached: True\n",
            "\n",
            "🧹 Unpersisting DataFrame...\n",
            "🔄 Is Cached after unpersist: False\n",
            "\n",
            "==================================================\n",
            "📊 PERFORMANCE ANALYSIS\n",
            "==================================================\n"
          ]
        },
        {
          "output_type": "display_data",
          "data": {
            "text/plain": [
              "<Figure size 1500x600 with 2 Axes>"
            ],
            "image/png": "[encoded data removed]"
          },
          "metadata": {}
        },
        {
          "output_type": "stream",
          "name": "stdout",
          "text": [
            "\n",
            "🎉 Results Summary:\n",
            "   • Without persist: 12.095 seconds\n",
            "   • With persist:    9.103 seconds\n",
            "   • Improvement:     24.7% faster\n",
            "\n",
            "🔗 Keep monitoring the Spark UI at: NgrokTunnel: \"https://6b0a6e5b2b1f.ngrok-free.app\" -> \"http://localhost:4040\"\n",
            "   • Go to 'Storage' tab to see cached RDDs\n",
            "   • Check 'SQL' tab for query execution plans\n",
            "   • 'Jobs' tab shows individual job performance\n",
            "\n",
            "⚠️  Keeping Spark session alive for UI monitoring...\n",
            "   Run spark.stop() when done to clean up\n"
          ]
        }
      ]
    },
    {
      "cell_type": "code",
      "source": [],
      "metadata": {
        "id": "nidcXeOWmLCp"
      },
      "execution_count": null,
      "outputs": []
    },
    {
      "cell_type": "markdown",
      "source": [
        "jobs >> stages >>>tasks"
      ],
      "metadata": {
        "id": "zDdkc7bArM4a"
      }
    },
    {
      "cell_type": "code",
      "source": [
        "# Example showing Job → Stage → Task breakdown\n",
        "\n",
        "# Your original DataFrame\n",
        "df = spark.createDataFrame(data, [\"id\", \"name\", \"amount\", \"category\"])\n",
        "\n",
        "# 🔴 SIMPLE OPERATION (1 Job, 1 Stage, Multiple Tasks)\n",
        "result1 = df.count()\n",
        "\"\"\"\n",
        "Job 1: count()\n",
        "├── Stage 1: Scan + Count\n",
        "    ├── Task 1: Count partition 1\n",
        "    ├── Task 2: Count partition 2\n",
        "    ├── Task 3: Count partition 3\n",
        "    └── Task 4: Count partition 4\n",
        "\"\"\"\n",
        "\n",
        "# 🟡 FILTER OPERATION (1 Job, 1 Stage, Multiple Tasks)\n",
        "result2 = df.filter(df.amount > 50000).count()\n",
        "\"\"\"\n",
        "Job 2: filter().count()\n",
        "├── Stage 1: Scan + Filter + Count\n",
        "    ├── Task 1: Filter & count partition 1\n",
        "    ├── Task 2: Filter & count partition 2\n",
        "    ├── Task 3: Filter & count partition 3\n",
        "    └── Task 4: Filter & count partition 4\n",
        "\"\"\"\n",
        "\n",
        "# 🔴 COMPLEX OPERATION (1 Job, 2 Stages, Multiple Tasks)\n",
        "result3 = df.groupBy(\"category\").sum(\"amount\").count()\n",
        "\"\"\"\n",
        "Job 3: groupBy().sum().count()\n",
        "├── Stage 1: Scan + Partial Aggregation\n",
        "│   ├── Task 1: Scan & partial agg partition 1\n",
        "│   ├── Task 2: Scan & partial agg partition 2\n",
        "│   ├── Task 3: Scan & partial agg partition 3\n",
        "│   └── Task 4: Scan & partial agg partition 4\n",
        "│           ↓ SHUFFLE (data exchange)\n",
        "├── Stage 2: Final Aggregation + Count\n",
        "    ├── Task 1: Final agg for category group 1\n",
        "    ├── Task 2: Final agg for category group 2\n",
        "    └── Task 3: Count final result\n",
        "\"\"\"\n",
        "\n",
        "# 🟢 WITH PERSIST - CACHE IMPACT\n",
        "df.persist()\n",
        "result4 = df.groupBy(\"category\").sum(\"amount\").count()\n",
        "\"\"\"\n",
        "Job 4: groupBy().sum().count() WITH CACHE\n",
        "├── Stage 1: InMemoryTableScan + Partial Aggregation\n",
        "│   ├── Task 1: Read cache & partial agg partition 1\n",
        "│   ├── Task 2: Read cache & partial agg partition 2\n",
        "│   ├── Task 3: Read cache & partial agg partition 3\n",
        "│   └── Task 4: Read cache & partial agg partition 4\n",
        "│           ↓ SHUFFLE (reduced data)\n",
        "├── Stage 2: Final Aggregation + Count\n",
        "    ├── Task 1: Final agg for category group 1\n",
        "    ├── Task 2: Final agg for category group 2\n",
        "    └── Task 3: Count final result\n",
        "\"\"\"\n",
        "\n",
        "print(\"🎯 Key Differences with Persist:\")\n",
        "print(\"• Stage 1 tasks read from cache (faster)\")\n",
        "print(\"• Less data to shuffle between stages\")\n",
        "print(\"• Overall job completion time reduced\")"
      ],
      "metadata": {
        "colab": {
          "base_uri": "https://localhost:8080/"
        },
        "id": "AVi_W_twrPpq",
        "outputId": "c699c47f-0d91-4952-8272-88f825d4c4ed"
      },
      "execution_count": 4,
      "outputs": [
        {
          "output_type": "stream",
          "name": "stdout",
          "text": [
            "🎯 Key Differences with Persist:\n",
            "• Stage 1 tasks read from cache (faster)\n",
            "• Less data to shuffle between stages\n",
            "• Overall job completion time reduced\n"
          ]
        }
      ]
    },
    {
      "cell_type": "code",
      "source": [],
      "metadata": {
        "id": "x2ZTCknRrQf1"
      },
      "execution_count": null,
      "outputs": []
    }
  ]
}